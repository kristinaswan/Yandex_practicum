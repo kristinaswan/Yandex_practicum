{
 "cells": [
  {
   "cell_type": "markdown",
   "id": "f1a86004",
   "metadata": {},
   "source": [
    "# Определение перспективного тарифа для телеком-компании"
   ]
  },
  {
   "cell_type": "markdown",
   "id": "dd59c57d",
   "metadata": {},
   "source": [
    "**Описание проекта**\n",
    "\n",
    "Компания «Мегалайн» — федеральный оператор сотовой связи. Клиентам предлагается два тарифных плана: «Смарт» и «Ультра». Чтобы скорректировать рекламный бюджет, необходимо понять, какой тариф приносит больше денег. В рамках исследования необходимо сделать предварительный анализ тарифов на небольшой выборке клиентов. В нашем распоряжении данные 500 пользователей «Мегалайна»: кто они, откуда, каким тарифом пользуются, сколько звонков и сообщений каждый отправил за 2018 год. Нужно проанализировать поведение клиентов и сделать вывод — какой тариф лучше.\n",
    "\n",
    "**Описание тарифов**\n",
    "\n",
    "**Тариф «Смарт»**\n",
    "\n",
    "1. Ежемесячная плата: 550 рублей\n",
    "2. Включено 500 минут разговора, 50 сообщений и 15 Гб интернет-трафика\n",
    "3. Стоимость услуг сверх тарифного пакета: 1. минута разговора: 3 рубля («Мегалайн» всегда округляет вверх значения минут и мегабайтов. Если пользователь проговорил всего 1 секунду, в тарифе засчитывается целая минута); 2. сообщение: 3 рубля; 3. 1 Гб интернет-трафика: 200 рублей.\n",
    "\n",
    "**Тариф «Ультра»**\n",
    "\n",
    "1. Ежемесячная плата: 1950 рублей\n",
    "2. Включено 3000 минут разговора, 1000 сообщений и 30 Гб интернет-трафика\n",
    "3. Стоимость услуг сверх тарифного пакета: 1. минута разговора: 1 рубль; 2. сообщение: 1 рубль; 3. 1 Гб интернет-трафика: 150 рублей.\n",
    "\n",
    "**Примечание:**\n",
    "\n",
    "«Мегалайн» всегда округляет секунды до минут, а мегабайты — до гигабайт. Каждый звонок округляется отдельно: даже если он длился всего 1 секунду, будет засчитан как 1 минута. Для веб-трафика отдельные сессии не считаются. Вместо этого общая сумма за месяц округляется в бо́льшую сторону. Если абонент использует 1025 мегабайт в этом месяце, с него возьмут плату за 2 гигабайта."
   ]
  },
  {
   "cell_type": "markdown",
   "id": "78cc0a04",
   "metadata": {},
   "source": [
    "##  Этап 1. Изучение и обработка данных из файлов"
   ]
  },
  {
   "cell_type": "markdown",
   "id": "2053fd2c",
   "metadata": {},
   "source": [
    "### Описание данных"
   ]
  },
  {
   "cell_type": "markdown",
   "id": "4fe201c3",
   "metadata": {},
   "source": [
    "**Таблица users (информация о пользователях):**\n",
    "\n",
    "* user_id — уникальный идентификатор пользователя\n",
    "* first_name — имя пользователя\n",
    "* last_name — фамилия пользователя\n",
    "* age — возраст пользователя (годы)\n",
    "* reg_date — дата подключения тарифа (день, месяц, год)\n",
    "* churn_date — дата прекращения пользования тарифом (если значение пропущено, то тариф ещё действовал на момент выгрузки данных)\n",
    "* city — город проживания пользователя\n",
    "* tarif — название тарифного плана\n",
    "\n",
    "**Таблица calls (информация о звонках):**\n",
    "\n",
    "* id — уникальный номер звонка\n",
    "* call_date — дата звонка\n",
    "* duration — длительность звонка в минутах\n",
    "* user_id — идентификатор пользователя, сделавшего звонок\n",
    "\n",
    "\n",
    "**Таблица messages (информация о сообщениях):**\n",
    "\n",
    "* id — уникальный номер сообщения\n",
    "* message_date — дата сообщения\n",
    "* user_id — идентификатор пользователя, отправившего сообщение\n",
    "\n",
    "**Таблица internet (информация об интернет-сессиях):**\n",
    "\n",
    "* id — уникальный номер сессии\n",
    "* mb_used — объём потраченного за сессию интернет-трафика (в мегабайтах)\n",
    "* session_date — дата интернет-сессии\n",
    "* user_id — идентификатор пользователя\n",
    "\n",
    "**Таблица tariffs (информация о тарифах):**\n",
    "\n",
    "* tariff_name — название тарифа\n",
    "* rub_monthly_fee — ежемесячная абонентская плата в рублях\n",
    "* minutes_included — количество минут разговора в месяц, включённых в абонентскую плату\n",
    "* messages_included — количество сообщений в месяц, включённых в абонентскую плату\n",
    "* mb_per_month_included — объём интернет-трафика, включённого в абонентскую плату (в мегабайтах)\n",
    "* rub_per_minute — стоимость минуты разговора сверх тарифного пакета (например, если в тарифе 100 минут разговора в месяц, то со 101 минуты будет взиматься плата)\n",
    "* rub_per_message — стоимость отправки сообщения сверх тарифного пакета\n",
    "* rub_per_gb — стоимость дополнительного гигабайта интернет-трафика сверх тарифного пакета (1 гигабайт = 1024 мегабайта)"
   ]
  },
  {
   "cell_type": "markdown",
   "id": "1ba9b242",
   "metadata": {},
   "source": [
    "### Загрузка и осмотр датасетов"
   ]
  },
  {
   "cell_type": "code",
   "execution_count": 1,
   "id": "c3cfc1ab",
   "metadata": {},
   "outputs": [],
   "source": [
    "# Импорт библиотек\n",
    "import pandas as pd\n",
    "import numpy as np\n",
    "from scipy import stats as st\n",
    "import math\n",
    "\n",
    "from datetime import datetime\n",
    "\n",
    "import matplotlib.pyplot as plt\n",
    "import seaborn as sns\n",
    "\n",
    "import inspect"
   ]
  },
  {
   "cell_type": "code",
   "execution_count": 2,
   "id": "62cdc715",
   "metadata": {},
   "outputs": [],
   "source": [
    "# Сформируем датасеты\n",
    "calls = pd.read_csv(r\"C:\\Users\\calls.csv\")\n",
    "internet = pd.read_csv(r\"C:\\Users\\internet.csv\")\n",
    "messages = pd.read_csv(r\"C:\\Users\\messages.csv\")\n",
    "tariffs = pd.read_csv(r\"C:\\Users\\tariffs.csv\")\n",
    "users = pd.read_csv(r\"C:\\Users\\users.csv\")"
   ]
  },
  {
   "cell_type": "markdown",
   "id": "5acf4242",
   "metadata": {},
   "source": [
    "#### Изучим датасет с пользователями"
   ]
  },
  {
   "cell_type": "code",
   "execution_count": 3,
   "id": "c6895fd7",
   "metadata": {},
   "outputs": [
    {
     "name": "stdout",
     "output_type": "stream",
     "text": [
      "<class 'pandas.core.frame.DataFrame'>\n",
      "RangeIndex: 500 entries, 0 to 499\n",
      "Data columns (total 8 columns):\n",
      " #   Column      Non-Null Count  Dtype \n",
      "---  ------      --------------  ----- \n",
      " 0   user_id     500 non-null    int64 \n",
      " 1   age         500 non-null    int64 \n",
      " 2   churn_date  38 non-null     object\n",
      " 3   city        500 non-null    object\n",
      " 4   first_name  500 non-null    object\n",
      " 5   last_name   500 non-null    object\n",
      " 6   reg_date    500 non-null    object\n",
      " 7   tariff      500 non-null    object\n",
      "dtypes: int64(2), object(6)\n",
      "memory usage: 31.4+ KB\n"
     ]
    }
   ],
   "source": [
    "users.info()"
   ]
  },
  {
   "cell_type": "code",
   "execution_count": 4,
   "id": "222a3472",
   "metadata": {},
   "outputs": [
    {
     "data": {
      "text/html": [
       "<div>\n",
       "<style scoped>\n",
       "    .dataframe tbody tr th:only-of-type {\n",
       "        vertical-align: middle;\n",
       "    }\n",
       "\n",
       "    .dataframe tbody tr th {\n",
       "        vertical-align: top;\n",
       "    }\n",
       "\n",
       "    .dataframe thead th {\n",
       "        text-align: right;\n",
       "    }\n",
       "</style>\n",
       "<table border=\"1\" class=\"dataframe\">\n",
       "  <thead>\n",
       "    <tr style=\"text-align: right;\">\n",
       "      <th></th>\n",
       "      <th>user_id</th>\n",
       "      <th>age</th>\n",
       "    </tr>\n",
       "  </thead>\n",
       "  <tbody>\n",
       "    <tr>\n",
       "      <th>count</th>\n",
       "      <td>500.000000</td>\n",
       "      <td>500.00000</td>\n",
       "    </tr>\n",
       "    <tr>\n",
       "      <th>mean</th>\n",
       "      <td>1249.500000</td>\n",
       "      <td>46.58800</td>\n",
       "    </tr>\n",
       "    <tr>\n",
       "      <th>std</th>\n",
       "      <td>144.481833</td>\n",
       "      <td>16.66763</td>\n",
       "    </tr>\n",
       "    <tr>\n",
       "      <th>min</th>\n",
       "      <td>1000.000000</td>\n",
       "      <td>18.00000</td>\n",
       "    </tr>\n",
       "    <tr>\n",
       "      <th>25%</th>\n",
       "      <td>1124.750000</td>\n",
       "      <td>32.00000</td>\n",
       "    </tr>\n",
       "    <tr>\n",
       "      <th>50%</th>\n",
       "      <td>1249.500000</td>\n",
       "      <td>46.00000</td>\n",
       "    </tr>\n",
       "    <tr>\n",
       "      <th>75%</th>\n",
       "      <td>1374.250000</td>\n",
       "      <td>62.00000</td>\n",
       "    </tr>\n",
       "    <tr>\n",
       "      <th>max</th>\n",
       "      <td>1499.000000</td>\n",
       "      <td>75.00000</td>\n",
       "    </tr>\n",
       "  </tbody>\n",
       "</table>\n",
       "</div>"
      ],
      "text/plain": [
       "           user_id        age\n",
       "count   500.000000  500.00000\n",
       "mean   1249.500000   46.58800\n",
       "std     144.481833   16.66763\n",
       "min    1000.000000   18.00000\n",
       "25%    1124.750000   32.00000\n",
       "50%    1249.500000   46.00000\n",
       "75%    1374.250000   62.00000\n",
       "max    1499.000000   75.00000"
      ]
     },
     "execution_count": 4,
     "metadata": {},
     "output_type": "execute_result"
    }
   ],
   "source": [
    "users.describe()"
   ]
  },
  {
   "cell_type": "code",
   "execution_count": 5,
   "id": "b7cef8dd",
   "metadata": {},
   "outputs": [
    {
     "data": {
      "text/html": [
       "<div>\n",
       "<style scoped>\n",
       "    .dataframe tbody tr th:only-of-type {\n",
       "        vertical-align: middle;\n",
       "    }\n",
       "\n",
       "    .dataframe tbody tr th {\n",
       "        vertical-align: top;\n",
       "    }\n",
       "\n",
       "    .dataframe thead th {\n",
       "        text-align: right;\n",
       "    }\n",
       "</style>\n",
       "<table border=\"1\" class=\"dataframe\">\n",
       "  <thead>\n",
       "    <tr style=\"text-align: right;\">\n",
       "      <th></th>\n",
       "      <th>user_id</th>\n",
       "      <th>age</th>\n",
       "      <th>churn_date</th>\n",
       "      <th>city</th>\n",
       "      <th>first_name</th>\n",
       "      <th>last_name</th>\n",
       "      <th>reg_date</th>\n",
       "      <th>tariff</th>\n",
       "    </tr>\n",
       "  </thead>\n",
       "  <tbody>\n",
       "    <tr>\n",
       "      <th>251</th>\n",
       "      <td>1251</td>\n",
       "      <td>48</td>\n",
       "      <td>NaN</td>\n",
       "      <td>Пермь</td>\n",
       "      <td>Роксана</td>\n",
       "      <td>Тетерина</td>\n",
       "      <td>2018-02-13</td>\n",
       "      <td>smart</td>\n",
       "    </tr>\n",
       "    <tr>\n",
       "      <th>309</th>\n",
       "      <td>1309</td>\n",
       "      <td>28</td>\n",
       "      <td>NaN</td>\n",
       "      <td>Казань</td>\n",
       "      <td>Юлия</td>\n",
       "      <td>Касьянова</td>\n",
       "      <td>2018-10-05</td>\n",
       "      <td>ultra</td>\n",
       "    </tr>\n",
       "    <tr>\n",
       "      <th>284</th>\n",
       "      <td>1284</td>\n",
       "      <td>62</td>\n",
       "      <td>NaN</td>\n",
       "      <td>Волгоград</td>\n",
       "      <td>Евфросинья</td>\n",
       "      <td>Петухова</td>\n",
       "      <td>2018-03-16</td>\n",
       "      <td>smart</td>\n",
       "    </tr>\n",
       "    <tr>\n",
       "      <th>273</th>\n",
       "      <td>1273</td>\n",
       "      <td>46</td>\n",
       "      <td>NaN</td>\n",
       "      <td>Курган</td>\n",
       "      <td>Рэм</td>\n",
       "      <td>Корнилов</td>\n",
       "      <td>2018-05-15</td>\n",
       "      <td>ultra</td>\n",
       "    </tr>\n",
       "    <tr>\n",
       "      <th>269</th>\n",
       "      <td>1269</td>\n",
       "      <td>31</td>\n",
       "      <td>NaN</td>\n",
       "      <td>Омск</td>\n",
       "      <td>Аким</td>\n",
       "      <td>Ахмадулин</td>\n",
       "      <td>2018-07-17</td>\n",
       "      <td>smart</td>\n",
       "    </tr>\n",
       "  </tbody>\n",
       "</table>\n",
       "</div>"
      ],
      "text/plain": [
       "     user_id  age churn_date       city  first_name  last_name    reg_date  \\\n",
       "251     1251   48        NaN      Пермь     Роксана   Тетерина  2018-02-13   \n",
       "309     1309   28        NaN     Казань        Юлия  Касьянова  2018-10-05   \n",
       "284     1284   62        NaN  Волгоград  Евфросинья   Петухова  2018-03-16   \n",
       "273     1273   46        NaN     Курган         Рэм   Корнилов  2018-05-15   \n",
       "269     1269   31        NaN       Омск        Аким  Ахмадулин  2018-07-17   \n",
       "\n",
       "    tariff  \n",
       "251  smart  \n",
       "309  ultra  \n",
       "284  smart  \n",
       "273  ultra  \n",
       "269  smart  "
      ]
     },
     "execution_count": 5,
     "metadata": {},
     "output_type": "execute_result"
    }
   ],
   "source": [
    "users.sample(n=5, random_state=None)"
   ]
  },
  {
   "cell_type": "markdown",
   "id": "44f1b8b5",
   "metadata": {},
   "source": [
    "Есть пропущенные значения в столбце с датой прекращения пользования тарифом 'churn_date'.\\\n",
    "Согласно условиям, если значение пропущено, то тариф ещё действовал на момент выгрузки данных."
   ]
  },
  {
   "cell_type": "markdown",
   "id": "c24f20c8",
   "metadata": {},
   "source": [
    "#### Изучим датасет со звонками"
   ]
  },
  {
   "cell_type": "code",
   "execution_count": 6,
   "id": "f2502a45",
   "metadata": {},
   "outputs": [
    {
     "name": "stdout",
     "output_type": "stream",
     "text": [
      "<class 'pandas.core.frame.DataFrame'>\n",
      "RangeIndex: 202607 entries, 0 to 202606\n",
      "Data columns (total 4 columns):\n",
      " #   Column     Non-Null Count   Dtype  \n",
      "---  ------     --------------   -----  \n",
      " 0   id         202607 non-null  object \n",
      " 1   call_date  202607 non-null  object \n",
      " 2   duration   202607 non-null  float64\n",
      " 3   user_id    202607 non-null  int64  \n",
      "dtypes: float64(1), int64(1), object(2)\n",
      "memory usage: 6.2+ MB\n"
     ]
    }
   ],
   "source": [
    "calls.info()"
   ]
  },
  {
   "cell_type": "code",
   "execution_count": 7,
   "id": "2ee42065",
   "metadata": {},
   "outputs": [
    {
     "data": {
      "text/html": [
       "<div>\n",
       "<style scoped>\n",
       "    .dataframe tbody tr th:only-of-type {\n",
       "        vertical-align: middle;\n",
       "    }\n",
       "\n",
       "    .dataframe tbody tr th {\n",
       "        vertical-align: top;\n",
       "    }\n",
       "\n",
       "    .dataframe thead th {\n",
       "        text-align: right;\n",
       "    }\n",
       "</style>\n",
       "<table border=\"1\" class=\"dataframe\">\n",
       "  <thead>\n",
       "    <tr style=\"text-align: right;\">\n",
       "      <th></th>\n",
       "      <th>duration</th>\n",
       "      <th>user_id</th>\n",
       "    </tr>\n",
       "  </thead>\n",
       "  <tbody>\n",
       "    <tr>\n",
       "      <th>count</th>\n",
       "      <td>202607.000000</td>\n",
       "      <td>202607.000000</td>\n",
       "    </tr>\n",
       "    <tr>\n",
       "      <th>mean</th>\n",
       "      <td>6.755887</td>\n",
       "      <td>1253.940619</td>\n",
       "    </tr>\n",
       "    <tr>\n",
       "      <th>std</th>\n",
       "      <td>5.843365</td>\n",
       "      <td>144.722751</td>\n",
       "    </tr>\n",
       "    <tr>\n",
       "      <th>min</th>\n",
       "      <td>0.000000</td>\n",
       "      <td>1000.000000</td>\n",
       "    </tr>\n",
       "    <tr>\n",
       "      <th>25%</th>\n",
       "      <td>1.300000</td>\n",
       "      <td>1126.000000</td>\n",
       "    </tr>\n",
       "    <tr>\n",
       "      <th>50%</th>\n",
       "      <td>6.000000</td>\n",
       "      <td>1260.000000</td>\n",
       "    </tr>\n",
       "    <tr>\n",
       "      <th>75%</th>\n",
       "      <td>10.700000</td>\n",
       "      <td>1379.000000</td>\n",
       "    </tr>\n",
       "    <tr>\n",
       "      <th>max</th>\n",
       "      <td>38.000000</td>\n",
       "      <td>1499.000000</td>\n",
       "    </tr>\n",
       "  </tbody>\n",
       "</table>\n",
       "</div>"
      ],
      "text/plain": [
       "            duration        user_id\n",
       "count  202607.000000  202607.000000\n",
       "mean        6.755887    1253.940619\n",
       "std         5.843365     144.722751\n",
       "min         0.000000    1000.000000\n",
       "25%         1.300000    1126.000000\n",
       "50%         6.000000    1260.000000\n",
       "75%        10.700000    1379.000000\n",
       "max        38.000000    1499.000000"
      ]
     },
     "execution_count": 7,
     "metadata": {},
     "output_type": "execute_result"
    }
   ],
   "source": [
    "calls.describe()"
   ]
  },
  {
   "cell_type": "code",
   "execution_count": 8,
   "id": "afe913ab",
   "metadata": {},
   "outputs": [
    {
     "data": {
      "text/html": [
       "<div>\n",
       "<style scoped>\n",
       "    .dataframe tbody tr th:only-of-type {\n",
       "        vertical-align: middle;\n",
       "    }\n",
       "\n",
       "    .dataframe tbody tr th {\n",
       "        vertical-align: top;\n",
       "    }\n",
       "\n",
       "    .dataframe thead th {\n",
       "        text-align: right;\n",
       "    }\n",
       "</style>\n",
       "<table border=\"1\" class=\"dataframe\">\n",
       "  <thead>\n",
       "    <tr style=\"text-align: right;\">\n",
       "      <th></th>\n",
       "      <th>id</th>\n",
       "      <th>call_date</th>\n",
       "      <th>duration</th>\n",
       "      <th>user_id</th>\n",
       "    </tr>\n",
       "  </thead>\n",
       "  <tbody>\n",
       "    <tr>\n",
       "      <th>76230</th>\n",
       "      <td>1189_898</td>\n",
       "      <td>2018-08-17</td>\n",
       "      <td>0.00</td>\n",
       "      <td>1189</td>\n",
       "    </tr>\n",
       "    <tr>\n",
       "      <th>139631</th>\n",
       "      <td>1356_615</td>\n",
       "      <td>2018-07-11</td>\n",
       "      <td>12.02</td>\n",
       "      <td>1356</td>\n",
       "    </tr>\n",
       "    <tr>\n",
       "      <th>110553</th>\n",
       "      <td>1284_151</td>\n",
       "      <td>2018-03-19</td>\n",
       "      <td>20.24</td>\n",
       "      <td>1284</td>\n",
       "    </tr>\n",
       "    <tr>\n",
       "      <th>108717</th>\n",
       "      <td>1281_150</td>\n",
       "      <td>2018-09-08</td>\n",
       "      <td>0.00</td>\n",
       "      <td>1281</td>\n",
       "    </tr>\n",
       "    <tr>\n",
       "      <th>135394</th>\n",
       "      <td>1345_203</td>\n",
       "      <td>2018-09-30</td>\n",
       "      <td>0.00</td>\n",
       "      <td>1345</td>\n",
       "    </tr>\n",
       "  </tbody>\n",
       "</table>\n",
       "</div>"
      ],
      "text/plain": [
       "              id   call_date  duration  user_id\n",
       "76230   1189_898  2018-08-17      0.00     1189\n",
       "139631  1356_615  2018-07-11     12.02     1356\n",
       "110553  1284_151  2018-03-19     20.24     1284\n",
       "108717  1281_150  2018-09-08      0.00     1281\n",
       "135394  1345_203  2018-09-30      0.00     1345"
      ]
     },
     "execution_count": 8,
     "metadata": {},
     "output_type": "execute_result"
    }
   ],
   "source": [
    "calls.sample(n=5, random_state=None)"
   ]
  },
  {
   "cell_type": "markdown",
   "id": "2e24e136",
   "metadata": {},
   "source": [
    "Звонки с нулевой продолжительностью не ошибка — нулями обозначены пропущенные звонки, поэтому их не нужно удалять. \\\n",
    "Нужно поменять тип на DataTime в столбце с датой звонка 'call_date'."
   ]
  },
  {
   "cell_type": "markdown",
   "id": "00649eb0",
   "metadata": {},
   "source": [
    "#### Изучим датасет о сообщениях"
   ]
  },
  {
   "cell_type": "code",
   "execution_count": 9,
   "id": "a3e42b91",
   "metadata": {},
   "outputs": [
    {
     "name": "stdout",
     "output_type": "stream",
     "text": [
      "<class 'pandas.core.frame.DataFrame'>\n",
      "RangeIndex: 123036 entries, 0 to 123035\n",
      "Data columns (total 3 columns):\n",
      " #   Column        Non-Null Count   Dtype \n",
      "---  ------        --------------   ----- \n",
      " 0   id            123036 non-null  object\n",
      " 1   message_date  123036 non-null  object\n",
      " 2   user_id       123036 non-null  int64 \n",
      "dtypes: int64(1), object(2)\n",
      "memory usage: 2.8+ MB\n"
     ]
    }
   ],
   "source": [
    "messages.info()"
   ]
  },
  {
   "cell_type": "code",
   "execution_count": 10,
   "id": "2faf8ecc",
   "metadata": {},
   "outputs": [
    {
     "data": {
      "text/html": [
       "<div>\n",
       "<style scoped>\n",
       "    .dataframe tbody tr th:only-of-type {\n",
       "        vertical-align: middle;\n",
       "    }\n",
       "\n",
       "    .dataframe tbody tr th {\n",
       "        vertical-align: top;\n",
       "    }\n",
       "\n",
       "    .dataframe thead th {\n",
       "        text-align: right;\n",
       "    }\n",
       "</style>\n",
       "<table border=\"1\" class=\"dataframe\">\n",
       "  <thead>\n",
       "    <tr style=\"text-align: right;\">\n",
       "      <th></th>\n",
       "      <th>user_id</th>\n",
       "    </tr>\n",
       "  </thead>\n",
       "  <tbody>\n",
       "    <tr>\n",
       "      <th>count</th>\n",
       "      <td>123036.000000</td>\n",
       "    </tr>\n",
       "    <tr>\n",
       "      <th>mean</th>\n",
       "      <td>1256.989410</td>\n",
       "    </tr>\n",
       "    <tr>\n",
       "      <th>std</th>\n",
       "      <td>143.523967</td>\n",
       "    </tr>\n",
       "    <tr>\n",
       "      <th>min</th>\n",
       "      <td>1000.000000</td>\n",
       "    </tr>\n",
       "    <tr>\n",
       "      <th>25%</th>\n",
       "      <td>1134.000000</td>\n",
       "    </tr>\n",
       "    <tr>\n",
       "      <th>50%</th>\n",
       "      <td>1271.000000</td>\n",
       "    </tr>\n",
       "    <tr>\n",
       "      <th>75%</th>\n",
       "      <td>1381.000000</td>\n",
       "    </tr>\n",
       "    <tr>\n",
       "      <th>max</th>\n",
       "      <td>1499.000000</td>\n",
       "    </tr>\n",
       "  </tbody>\n",
       "</table>\n",
       "</div>"
      ],
      "text/plain": [
       "             user_id\n",
       "count  123036.000000\n",
       "mean     1256.989410\n",
       "std       143.523967\n",
       "min      1000.000000\n",
       "25%      1134.000000\n",
       "50%      1271.000000\n",
       "75%      1381.000000\n",
       "max      1499.000000"
      ]
     },
     "execution_count": 10,
     "metadata": {},
     "output_type": "execute_result"
    }
   ],
   "source": [
    "messages.describe()"
   ]
  },
  {
   "cell_type": "code",
   "execution_count": 11,
   "id": "8ce9f7a2",
   "metadata": {},
   "outputs": [
    {
     "data": {
      "text/html": [
       "<div>\n",
       "<style scoped>\n",
       "    .dataframe tbody tr th:only-of-type {\n",
       "        vertical-align: middle;\n",
       "    }\n",
       "\n",
       "    .dataframe tbody tr th {\n",
       "        vertical-align: top;\n",
       "    }\n",
       "\n",
       "    .dataframe thead th {\n",
       "        text-align: right;\n",
       "    }\n",
       "</style>\n",
       "<table border=\"1\" class=\"dataframe\">\n",
       "  <thead>\n",
       "    <tr style=\"text-align: right;\">\n",
       "      <th></th>\n",
       "      <th>id</th>\n",
       "      <th>message_date</th>\n",
       "      <th>user_id</th>\n",
       "    </tr>\n",
       "  </thead>\n",
       "  <tbody>\n",
       "    <tr>\n",
       "      <th>64794</th>\n",
       "      <td>1278_8</td>\n",
       "      <td>2018-12-23</td>\n",
       "      <td>1278</td>\n",
       "    </tr>\n",
       "    <tr>\n",
       "      <th>76235</th>\n",
       "      <td>1323_238</td>\n",
       "      <td>2018-08-13</td>\n",
       "      <td>1323</td>\n",
       "    </tr>\n",
       "    <tr>\n",
       "      <th>53232</th>\n",
       "      <td>1235_110</td>\n",
       "      <td>2018-11-12</td>\n",
       "      <td>1235</td>\n",
       "    </tr>\n",
       "    <tr>\n",
       "      <th>84838</th>\n",
       "      <td>1354_290</td>\n",
       "      <td>2018-12-05</td>\n",
       "      <td>1354</td>\n",
       "    </tr>\n",
       "    <tr>\n",
       "      <th>32878</th>\n",
       "      <td>1145_531</td>\n",
       "      <td>2018-06-25</td>\n",
       "      <td>1145</td>\n",
       "    </tr>\n",
       "  </tbody>\n",
       "</table>\n",
       "</div>"
      ],
      "text/plain": [
       "             id message_date  user_id\n",
       "64794    1278_8   2018-12-23     1278\n",
       "76235  1323_238   2018-08-13     1323\n",
       "53232  1235_110   2018-11-12     1235\n",
       "84838  1354_290   2018-12-05     1354\n",
       "32878  1145_531   2018-06-25     1145"
      ]
     },
     "execution_count": 11,
     "metadata": {},
     "output_type": "execute_result"
    }
   ],
   "source": [
    "messages.sample(n=5, random_state=None)"
   ]
  },
  {
   "cell_type": "markdown",
   "id": "e2ffab1c",
   "metadata": {},
   "source": [
    "Нужно поменять тип на DataTime в столбце с датой сообщения 'message_date'."
   ]
  },
  {
   "cell_type": "markdown",
   "id": "743b207f",
   "metadata": {},
   "source": [
    "#### Изучим датасет об интернет-сессиях"
   ]
  },
  {
   "cell_type": "code",
   "execution_count": 12,
   "id": "c6601f17",
   "metadata": {},
   "outputs": [
    {
     "name": "stdout",
     "output_type": "stream",
     "text": [
      "<class 'pandas.core.frame.DataFrame'>\n",
      "RangeIndex: 149396 entries, 0 to 149395\n",
      "Data columns (total 5 columns):\n",
      " #   Column        Non-Null Count   Dtype  \n",
      "---  ------        --------------   -----  \n",
      " 0   Unnamed: 0    149396 non-null  int64  \n",
      " 1   id            149396 non-null  object \n",
      " 2   mb_used       149396 non-null  float64\n",
      " 3   session_date  149396 non-null  object \n",
      " 4   user_id       149396 non-null  int64  \n",
      "dtypes: float64(1), int64(2), object(2)\n",
      "memory usage: 5.7+ MB\n"
     ]
    }
   ],
   "source": [
    "internet.info()"
   ]
  },
  {
   "cell_type": "code",
   "execution_count": 13,
   "id": "6ecc0d42",
   "metadata": {},
   "outputs": [
    {
     "data": {
      "text/html": [
       "<div>\n",
       "<style scoped>\n",
       "    .dataframe tbody tr th:only-of-type {\n",
       "        vertical-align: middle;\n",
       "    }\n",
       "\n",
       "    .dataframe tbody tr th {\n",
       "        vertical-align: top;\n",
       "    }\n",
       "\n",
       "    .dataframe thead th {\n",
       "        text-align: right;\n",
       "    }\n",
       "</style>\n",
       "<table border=\"1\" class=\"dataframe\">\n",
       "  <thead>\n",
       "    <tr style=\"text-align: right;\">\n",
       "      <th></th>\n",
       "      <th>Unnamed: 0</th>\n",
       "      <th>mb_used</th>\n",
       "      <th>user_id</th>\n",
       "    </tr>\n",
       "  </thead>\n",
       "  <tbody>\n",
       "    <tr>\n",
       "      <th>count</th>\n",
       "      <td>149396.000000</td>\n",
       "      <td>149396.000000</td>\n",
       "      <td>149396.000000</td>\n",
       "    </tr>\n",
       "    <tr>\n",
       "      <th>mean</th>\n",
       "      <td>74697.500000</td>\n",
       "      <td>370.192426</td>\n",
       "      <td>1252.099842</td>\n",
       "    </tr>\n",
       "    <tr>\n",
       "      <th>std</th>\n",
       "      <td>43127.054745</td>\n",
       "      <td>278.300951</td>\n",
       "      <td>144.050823</td>\n",
       "    </tr>\n",
       "    <tr>\n",
       "      <th>min</th>\n",
       "      <td>0.000000</td>\n",
       "      <td>0.000000</td>\n",
       "      <td>1000.000000</td>\n",
       "    </tr>\n",
       "    <tr>\n",
       "      <th>25%</th>\n",
       "      <td>37348.750000</td>\n",
       "      <td>138.187500</td>\n",
       "      <td>1130.000000</td>\n",
       "    </tr>\n",
       "    <tr>\n",
       "      <th>50%</th>\n",
       "      <td>74697.500000</td>\n",
       "      <td>348.015000</td>\n",
       "      <td>1251.000000</td>\n",
       "    </tr>\n",
       "    <tr>\n",
       "      <th>75%</th>\n",
       "      <td>112046.250000</td>\n",
       "      <td>559.552500</td>\n",
       "      <td>1380.000000</td>\n",
       "    </tr>\n",
       "    <tr>\n",
       "      <th>max</th>\n",
       "      <td>149395.000000</td>\n",
       "      <td>1724.830000</td>\n",
       "      <td>1499.000000</td>\n",
       "    </tr>\n",
       "  </tbody>\n",
       "</table>\n",
       "</div>"
      ],
      "text/plain": [
       "          Unnamed: 0        mb_used        user_id\n",
       "count  149396.000000  149396.000000  149396.000000\n",
       "mean    74697.500000     370.192426    1252.099842\n",
       "std     43127.054745     278.300951     144.050823\n",
       "min         0.000000       0.000000    1000.000000\n",
       "25%     37348.750000     138.187500    1130.000000\n",
       "50%     74697.500000     348.015000    1251.000000\n",
       "75%    112046.250000     559.552500    1380.000000\n",
       "max    149395.000000    1724.830000    1499.000000"
      ]
     },
     "execution_count": 13,
     "metadata": {},
     "output_type": "execute_result"
    }
   ],
   "source": [
    "internet.describe()"
   ]
  },
  {
   "cell_type": "code",
   "execution_count": 14,
   "id": "70e3dd96",
   "metadata": {},
   "outputs": [
    {
     "data": {
      "text/html": [
       "<div>\n",
       "<style scoped>\n",
       "    .dataframe tbody tr th:only-of-type {\n",
       "        vertical-align: middle;\n",
       "    }\n",
       "\n",
       "    .dataframe tbody tr th {\n",
       "        vertical-align: top;\n",
       "    }\n",
       "\n",
       "    .dataframe thead th {\n",
       "        text-align: right;\n",
       "    }\n",
       "</style>\n",
       "<table border=\"1\" class=\"dataframe\">\n",
       "  <thead>\n",
       "    <tr style=\"text-align: right;\">\n",
       "      <th></th>\n",
       "      <th>Unnamed: 0</th>\n",
       "      <th>id</th>\n",
       "      <th>mb_used</th>\n",
       "      <th>session_date</th>\n",
       "      <th>user_id</th>\n",
       "    </tr>\n",
       "  </thead>\n",
       "  <tbody>\n",
       "    <tr>\n",
       "      <th>48001</th>\n",
       "      <td>48001</td>\n",
       "      <td>1165_187</td>\n",
       "      <td>0.00</td>\n",
       "      <td>2018-11-02</td>\n",
       "      <td>1165</td>\n",
       "    </tr>\n",
       "    <tr>\n",
       "      <th>29321</th>\n",
       "      <td>29321</td>\n",
       "      <td>1102_195</td>\n",
       "      <td>0.00</td>\n",
       "      <td>2018-10-18</td>\n",
       "      <td>1102</td>\n",
       "    </tr>\n",
       "    <tr>\n",
       "      <th>7906</th>\n",
       "      <td>7906</td>\n",
       "      <td>1027_233</td>\n",
       "      <td>0.00</td>\n",
       "      <td>2018-10-24</td>\n",
       "      <td>1027</td>\n",
       "    </tr>\n",
       "    <tr>\n",
       "      <th>87687</th>\n",
       "      <td>87687</td>\n",
       "      <td>1297_28</td>\n",
       "      <td>782.38</td>\n",
       "      <td>2018-12-10</td>\n",
       "      <td>1297</td>\n",
       "    </tr>\n",
       "    <tr>\n",
       "      <th>70487</th>\n",
       "      <td>70487</td>\n",
       "      <td>1240_155</td>\n",
       "      <td>493.58</td>\n",
       "      <td>2018-04-21</td>\n",
       "      <td>1240</td>\n",
       "    </tr>\n",
       "  </tbody>\n",
       "</table>\n",
       "</div>"
      ],
      "text/plain": [
       "       Unnamed: 0        id  mb_used session_date  user_id\n",
       "48001       48001  1165_187     0.00   2018-11-02     1165\n",
       "29321       29321  1102_195     0.00   2018-10-18     1102\n",
       "7906         7906  1027_233     0.00   2018-10-24     1027\n",
       "87687       87687   1297_28   782.38   2018-12-10     1297\n",
       "70487       70487  1240_155   493.58   2018-04-21     1240"
      ]
     },
     "execution_count": 14,
     "metadata": {},
     "output_type": "execute_result"
    }
   ],
   "source": [
    "internet.sample(n=5, random_state=None)"
   ]
  },
  {
   "cell_type": "markdown",
   "id": "16cbfd71",
   "metadata": {},
   "source": [
    "Нужно поменять тип на DataTime в столбце с датой интернет-сессии 'session_date'. Есть абоненты, которые не пользуются интернетом. \\\n",
    "Столбец 'Unnamed: 0' содержит дублирующие данные (индексы). Удалим этот столбец."
   ]
  },
  {
   "cell_type": "markdown",
   "id": "4312d25e",
   "metadata": {},
   "source": [
    "#### Изучим датасет о тарифах"
   ]
  },
  {
   "cell_type": "code",
   "execution_count": 15,
   "id": "ad37b607",
   "metadata": {},
   "outputs": [
    {
     "name": "stdout",
     "output_type": "stream",
     "text": [
      "<class 'pandas.core.frame.DataFrame'>\n",
      "RangeIndex: 2 entries, 0 to 1\n",
      "Data columns (total 8 columns):\n",
      " #   Column                 Non-Null Count  Dtype \n",
      "---  ------                 --------------  ----- \n",
      " 0   messages_included      2 non-null      int64 \n",
      " 1   mb_per_month_included  2 non-null      int64 \n",
      " 2   minutes_included       2 non-null      int64 \n",
      " 3   rub_monthly_fee        2 non-null      int64 \n",
      " 4   rub_per_gb             2 non-null      int64 \n",
      " 5   rub_per_message        2 non-null      int64 \n",
      " 6   rub_per_minute         2 non-null      int64 \n",
      " 7   tariff_name            2 non-null      object\n",
      "dtypes: int64(7), object(1)\n",
      "memory usage: 256.0+ bytes\n"
     ]
    }
   ],
   "source": [
    "tariffs.info()"
   ]
  },
  {
   "cell_type": "code",
   "execution_count": 16,
   "id": "b9274c11",
   "metadata": {},
   "outputs": [
    {
     "data": {
      "text/html": [
       "<div>\n",
       "<style scoped>\n",
       "    .dataframe tbody tr th:only-of-type {\n",
       "        vertical-align: middle;\n",
       "    }\n",
       "\n",
       "    .dataframe tbody tr th {\n",
       "        vertical-align: top;\n",
       "    }\n",
       "\n",
       "    .dataframe thead th {\n",
       "        text-align: right;\n",
       "    }\n",
       "</style>\n",
       "<table border=\"1\" class=\"dataframe\">\n",
       "  <thead>\n",
       "    <tr style=\"text-align: right;\">\n",
       "      <th></th>\n",
       "      <th>messages_included</th>\n",
       "      <th>mb_per_month_included</th>\n",
       "      <th>minutes_included</th>\n",
       "      <th>rub_monthly_fee</th>\n",
       "      <th>rub_per_gb</th>\n",
       "      <th>rub_per_message</th>\n",
       "      <th>rub_per_minute</th>\n",
       "    </tr>\n",
       "  </thead>\n",
       "  <tbody>\n",
       "    <tr>\n",
       "      <th>count</th>\n",
       "      <td>2.000000</td>\n",
       "      <td>2.000000</td>\n",
       "      <td>2.000000</td>\n",
       "      <td>2.000000</td>\n",
       "      <td>2.000000</td>\n",
       "      <td>2.000000</td>\n",
       "      <td>2.000000</td>\n",
       "    </tr>\n",
       "    <tr>\n",
       "      <th>mean</th>\n",
       "      <td>525.000000</td>\n",
       "      <td>23040.000000</td>\n",
       "      <td>1750.000000</td>\n",
       "      <td>1250.000000</td>\n",
       "      <td>175.000000</td>\n",
       "      <td>2.000000</td>\n",
       "      <td>2.000000</td>\n",
       "    </tr>\n",
       "    <tr>\n",
       "      <th>std</th>\n",
       "      <td>671.751442</td>\n",
       "      <td>10861.160159</td>\n",
       "      <td>1767.766953</td>\n",
       "      <td>989.949494</td>\n",
       "      <td>35.355339</td>\n",
       "      <td>1.414214</td>\n",
       "      <td>1.414214</td>\n",
       "    </tr>\n",
       "    <tr>\n",
       "      <th>min</th>\n",
       "      <td>50.000000</td>\n",
       "      <td>15360.000000</td>\n",
       "      <td>500.000000</td>\n",
       "      <td>550.000000</td>\n",
       "      <td>150.000000</td>\n",
       "      <td>1.000000</td>\n",
       "      <td>1.000000</td>\n",
       "    </tr>\n",
       "    <tr>\n",
       "      <th>25%</th>\n",
       "      <td>287.500000</td>\n",
       "      <td>19200.000000</td>\n",
       "      <td>1125.000000</td>\n",
       "      <td>900.000000</td>\n",
       "      <td>162.500000</td>\n",
       "      <td>1.500000</td>\n",
       "      <td>1.500000</td>\n",
       "    </tr>\n",
       "    <tr>\n",
       "      <th>50%</th>\n",
       "      <td>525.000000</td>\n",
       "      <td>23040.000000</td>\n",
       "      <td>1750.000000</td>\n",
       "      <td>1250.000000</td>\n",
       "      <td>175.000000</td>\n",
       "      <td>2.000000</td>\n",
       "      <td>2.000000</td>\n",
       "    </tr>\n",
       "    <tr>\n",
       "      <th>75%</th>\n",
       "      <td>762.500000</td>\n",
       "      <td>26880.000000</td>\n",
       "      <td>2375.000000</td>\n",
       "      <td>1600.000000</td>\n",
       "      <td>187.500000</td>\n",
       "      <td>2.500000</td>\n",
       "      <td>2.500000</td>\n",
       "    </tr>\n",
       "    <tr>\n",
       "      <th>max</th>\n",
       "      <td>1000.000000</td>\n",
       "      <td>30720.000000</td>\n",
       "      <td>3000.000000</td>\n",
       "      <td>1950.000000</td>\n",
       "      <td>200.000000</td>\n",
       "      <td>3.000000</td>\n",
       "      <td>3.000000</td>\n",
       "    </tr>\n",
       "  </tbody>\n",
       "</table>\n",
       "</div>"
      ],
      "text/plain": [
       "       messages_included  mb_per_month_included  minutes_included  \\\n",
       "count           2.000000               2.000000          2.000000   \n",
       "mean          525.000000           23040.000000       1750.000000   \n",
       "std           671.751442           10861.160159       1767.766953   \n",
       "min            50.000000           15360.000000        500.000000   \n",
       "25%           287.500000           19200.000000       1125.000000   \n",
       "50%           525.000000           23040.000000       1750.000000   \n",
       "75%           762.500000           26880.000000       2375.000000   \n",
       "max          1000.000000           30720.000000       3000.000000   \n",
       "\n",
       "       rub_monthly_fee  rub_per_gb  rub_per_message  rub_per_minute  \n",
       "count         2.000000    2.000000         2.000000        2.000000  \n",
       "mean       1250.000000  175.000000         2.000000        2.000000  \n",
       "std         989.949494   35.355339         1.414214        1.414214  \n",
       "min         550.000000  150.000000         1.000000        1.000000  \n",
       "25%         900.000000  162.500000         1.500000        1.500000  \n",
       "50%        1250.000000  175.000000         2.000000        2.000000  \n",
       "75%        1600.000000  187.500000         2.500000        2.500000  \n",
       "max        1950.000000  200.000000         3.000000        3.000000  "
      ]
     },
     "execution_count": 16,
     "metadata": {},
     "output_type": "execute_result"
    }
   ],
   "source": [
    "tariffs.describe()"
   ]
  },
  {
   "cell_type": "code",
   "execution_count": 17,
   "id": "4493bc2f",
   "metadata": {},
   "outputs": [
    {
     "data": {
      "text/html": [
       "<div>\n",
       "<style scoped>\n",
       "    .dataframe tbody tr th:only-of-type {\n",
       "        vertical-align: middle;\n",
       "    }\n",
       "\n",
       "    .dataframe tbody tr th {\n",
       "        vertical-align: top;\n",
       "    }\n",
       "\n",
       "    .dataframe thead th {\n",
       "        text-align: right;\n",
       "    }\n",
       "</style>\n",
       "<table border=\"1\" class=\"dataframe\">\n",
       "  <thead>\n",
       "    <tr style=\"text-align: right;\">\n",
       "      <th></th>\n",
       "      <th>messages_included</th>\n",
       "      <th>mb_per_month_included</th>\n",
       "      <th>minutes_included</th>\n",
       "      <th>rub_monthly_fee</th>\n",
       "      <th>rub_per_gb</th>\n",
       "      <th>rub_per_message</th>\n",
       "      <th>rub_per_minute</th>\n",
       "      <th>tariff_name</th>\n",
       "    </tr>\n",
       "  </thead>\n",
       "  <tbody>\n",
       "    <tr>\n",
       "      <th>0</th>\n",
       "      <td>50</td>\n",
       "      <td>15360</td>\n",
       "      <td>500</td>\n",
       "      <td>550</td>\n",
       "      <td>200</td>\n",
       "      <td>3</td>\n",
       "      <td>3</td>\n",
       "      <td>smart</td>\n",
       "    </tr>\n",
       "    <tr>\n",
       "      <th>1</th>\n",
       "      <td>1000</td>\n",
       "      <td>30720</td>\n",
       "      <td>3000</td>\n",
       "      <td>1950</td>\n",
       "      <td>150</td>\n",
       "      <td>1</td>\n",
       "      <td>1</td>\n",
       "      <td>ultra</td>\n",
       "    </tr>\n",
       "  </tbody>\n",
       "</table>\n",
       "</div>"
      ],
      "text/plain": [
       "   messages_included  mb_per_month_included  minutes_included  \\\n",
       "0                 50                  15360               500   \n",
       "1               1000                  30720              3000   \n",
       "\n",
       "   rub_monthly_fee  rub_per_gb  rub_per_message  rub_per_minute tariff_name  \n",
       "0              550         200                3               3       smart  \n",
       "1             1950         150                1               1       ultra  "
      ]
     },
     "execution_count": 17,
     "metadata": {},
     "output_type": "execute_result"
    }
   ],
   "source": [
    "tariffs"
   ]
  },
  {
   "cell_type": "markdown",
   "id": "eff08733",
   "metadata": {},
   "source": [
    "#### Вывод"
   ]
  },
  {
   "cell_type": "markdown",
   "id": "8f33a6ef",
   "metadata": {},
   "source": [
    "Далее:\n",
    "* Исправим неверный формат даты в таблицах.\n",
    "* Округлим время звонков и мегабайты трафика в большую сторону в соответствии с условиями тарифов."
   ]
  },
  {
   "cell_type": "markdown",
   "id": "8c443b67",
   "metadata": {},
   "source": [
    "## Этап 2. Предобработка данных"
   ]
  },
  {
   "cell_type": "markdown",
   "id": "7e705936",
   "metadata": {},
   "source": [
    "### Приведение данных к нужным типам"
   ]
  },
  {
   "cell_type": "markdown",
   "id": "7dcff36d",
   "metadata": {},
   "source": [
    "Во всех столбцах с датой, поменяем тип на date_time и зададим нужный формат."
   ]
  },
  {
   "cell_type": "code",
   "execution_count": 18,
   "id": "18dea47b",
   "metadata": {},
   "outputs": [],
   "source": [
    "# Датасет с пользователями\n",
    "users['churn_date'] = pd.to_datetime(users['churn_date'], format='%Y-%m-%d')\n",
    "users['reg_date'] = pd.to_datetime(users['reg_date'], format='%Y-%m-%d')"
   ]
  },
  {
   "cell_type": "code",
   "execution_count": 19,
   "id": "0f7a4f55",
   "metadata": {},
   "outputs": [],
   "source": [
    "# Датасет со звонками\n",
    "calls['call_date'] = pd.to_datetime(calls['call_date'], format='%Y-%m-%d')"
   ]
  },
  {
   "cell_type": "code",
   "execution_count": 20,
   "id": "fd9cd69b",
   "metadata": {},
   "outputs": [],
   "source": [
    "# Датасет с сообщениями\n",
    "messages['message_date'] = pd.to_datetime(messages['message_date'], format='%Y-%m-%d')"
   ]
  },
  {
   "cell_type": "code",
   "execution_count": 21,
   "id": "c7b64266",
   "metadata": {},
   "outputs": [],
   "source": [
    "# Датасет об интернет-сессиях\n",
    "internet['session_date'] = pd.to_datetime(internet['session_date'], format='%Y-%m-%d')"
   ]
  },
  {
   "cell_type": "markdown",
   "id": "4cb2331d",
   "metadata": {},
   "source": [
    "### Обработка и исправление ошибок в данных"
   ]
  },
  {
   "cell_type": "code",
   "execution_count": 22,
   "id": "41496fba",
   "metadata": {},
   "outputs": [
    {
     "name": "stdout",
     "output_type": "stream",
     "text": [
      "\n",
      "Обнаружено дубликатов: 0\n",
      "\n",
      "Обнаружено дубликатов: 0\n",
      "\n",
      "Обнаружено дубликатов: 0\n",
      "\n",
      "Обнаружено дубликатов: 0\n",
      "\n",
      "Обнаружено дубликатов: 0\n"
     ]
    }
   ],
   "source": [
    "def dataset_duplicated(name_dataset):\n",
    "    print('Обнаружено дубликатов:', name_dataset.duplicated().sum())\n",
    "\n",
    "for ds in [users, calls, messages, internet, tariffs]:\n",
    "    print()\n",
    "    dataset_duplicated(ds)"
   ]
  },
  {
   "cell_type": "code",
   "execution_count": 23,
   "id": "195e32b4",
   "metadata": {},
   "outputs": [
    {
     "data": {
      "text/plain": [
       "1024    1\n",
       "1353    1\n",
       "1366    1\n",
       "1365    1\n",
       "1364    1\n",
       "       ..\n",
       "1185    1\n",
       "1184    1\n",
       "1183    1\n",
       "1182    1\n",
       "1023    1\n",
       "Name: user_id, Length: 500, dtype: int64"
      ]
     },
     "execution_count": 23,
     "metadata": {},
     "output_type": "execute_result"
    }
   ],
   "source": [
    "# Проверим уникальность id в датасете users\n",
    "users['user_id'].value_counts()"
   ]
  },
  {
   "cell_type": "markdown",
   "id": "5844d4ce",
   "metadata": {},
   "source": [
    "«Мегалайн» всегда округляет секунды до минут, а мегабайты — до гигабайт.\\\n",
    "Каждый звонок округляется отдельно — даже если он длился всего 1 секунду, будет засчитан как 1 минута.\n",
    "\n",
    "Для веб-трафика отдельные сессии не считаются.\\\n",
    "Вместо этого общая сумма за месяц округляется в бо́льшую сторону. Если абонент использует 1025 мегабайт в этом месяце, с него возьмут плату за 2 гигабайта."
   ]
  },
  {
   "cell_type": "code",
   "execution_count": 24,
   "id": "0c53509d",
   "metadata": {},
   "outputs": [],
   "source": [
    "# Округлим продолжительность звонков\n",
    "calls['duration'] = np.ceil(calls['duration']).astype('Int64')"
   ]
  },
  {
   "cell_type": "code",
   "execution_count": 25,
   "id": "f6d8dbb8",
   "metadata": {},
   "outputs": [
    {
     "data": {
      "text/html": [
       "<div>\n",
       "<style scoped>\n",
       "    .dataframe tbody tr th:only-of-type {\n",
       "        vertical-align: middle;\n",
       "    }\n",
       "\n",
       "    .dataframe tbody tr th {\n",
       "        vertical-align: top;\n",
       "    }\n",
       "\n",
       "    .dataframe thead th {\n",
       "        text-align: right;\n",
       "    }\n",
       "</style>\n",
       "<table border=\"1\" class=\"dataframe\">\n",
       "  <thead>\n",
       "    <tr style=\"text-align: right;\">\n",
       "      <th></th>\n",
       "      <th>Unnamed: 0</th>\n",
       "      <th>id</th>\n",
       "      <th>mb_used</th>\n",
       "      <th>session_date</th>\n",
       "      <th>user_id</th>\n",
       "    </tr>\n",
       "  </thead>\n",
       "  <tbody>\n",
       "    <tr>\n",
       "      <th>0</th>\n",
       "      <td>0</td>\n",
       "      <td>1000_0</td>\n",
       "      <td>112.95</td>\n",
       "      <td>2018-11-25</td>\n",
       "      <td>1000</td>\n",
       "    </tr>\n",
       "    <tr>\n",
       "      <th>1</th>\n",
       "      <td>1</td>\n",
       "      <td>1000_1</td>\n",
       "      <td>1052.81</td>\n",
       "      <td>2018-09-07</td>\n",
       "      <td>1000</td>\n",
       "    </tr>\n",
       "    <tr>\n",
       "      <th>2</th>\n",
       "      <td>2</td>\n",
       "      <td>1000_2</td>\n",
       "      <td>1197.26</td>\n",
       "      <td>2018-06-25</td>\n",
       "      <td>1000</td>\n",
       "    </tr>\n",
       "    <tr>\n",
       "      <th>3</th>\n",
       "      <td>3</td>\n",
       "      <td>1000_3</td>\n",
       "      <td>550.27</td>\n",
       "      <td>2018-08-22</td>\n",
       "      <td>1000</td>\n",
       "    </tr>\n",
       "    <tr>\n",
       "      <th>4</th>\n",
       "      <td>4</td>\n",
       "      <td>1000_4</td>\n",
       "      <td>302.56</td>\n",
       "      <td>2018-09-24</td>\n",
       "      <td>1000</td>\n",
       "    </tr>\n",
       "  </tbody>\n",
       "</table>\n",
       "</div>"
      ],
      "text/plain": [
       "   Unnamed: 0      id  mb_used session_date  user_id\n",
       "0           0  1000_0   112.95   2018-11-25     1000\n",
       "1           1  1000_1  1052.81   2018-09-07     1000\n",
       "2           2  1000_2  1197.26   2018-06-25     1000\n",
       "3           3  1000_3   550.27   2018-08-22     1000\n",
       "4           4  1000_4   302.56   2018-09-24     1000"
      ]
     },
     "execution_count": 25,
     "metadata": {},
     "output_type": "execute_result"
    }
   ],
   "source": [
    "internet.head(5)"
   ]
  },
  {
   "cell_type": "code",
   "execution_count": 26,
   "id": "091330d4",
   "metadata": {},
   "outputs": [],
   "source": [
    "# Столбец 'Unnamed: 0' содержит дублирующие данные (индексы). Удалим этот столбец\n",
    "internet.drop('Unnamed: 0', axis=1, inplace=True)"
   ]
  },
  {
   "cell_type": "code",
   "execution_count": 27,
   "id": "912861aa",
   "metadata": {},
   "outputs": [
    {
     "data": {
      "text/html": [
       "<div>\n",
       "<style scoped>\n",
       "    .dataframe tbody tr th:only-of-type {\n",
       "        vertical-align: middle;\n",
       "    }\n",
       "\n",
       "    .dataframe tbody tr th {\n",
       "        vertical-align: top;\n",
       "    }\n",
       "\n",
       "    .dataframe thead th {\n",
       "        text-align: right;\n",
       "    }\n",
       "</style>\n",
       "<table border=\"1\" class=\"dataframe\">\n",
       "  <thead>\n",
       "    <tr style=\"text-align: right;\">\n",
       "      <th></th>\n",
       "      <th>id</th>\n",
       "      <th>mb_used</th>\n",
       "      <th>session_date</th>\n",
       "      <th>user_id</th>\n",
       "    </tr>\n",
       "  </thead>\n",
       "  <tbody>\n",
       "    <tr>\n",
       "      <th>119502</th>\n",
       "      <td>1403_57</td>\n",
       "      <td>718.76</td>\n",
       "      <td>2018-07-19</td>\n",
       "      <td>1403</td>\n",
       "    </tr>\n",
       "    <tr>\n",
       "      <th>13864</th>\n",
       "      <td>1047_110</td>\n",
       "      <td>316.71</td>\n",
       "      <td>2018-12-19</td>\n",
       "      <td>1047</td>\n",
       "    </tr>\n",
       "    <tr>\n",
       "      <th>126280</th>\n",
       "      <td>1424_141</td>\n",
       "      <td>500.93</td>\n",
       "      <td>2018-09-22</td>\n",
       "      <td>1424</td>\n",
       "    </tr>\n",
       "    <tr>\n",
       "      <th>17014</th>\n",
       "      <td>1059_20</td>\n",
       "      <td>297.56</td>\n",
       "      <td>2018-05-12</td>\n",
       "      <td>1059</td>\n",
       "    </tr>\n",
       "    <tr>\n",
       "      <th>40117</th>\n",
       "      <td>1142_198</td>\n",
       "      <td>211.22</td>\n",
       "      <td>2018-11-16</td>\n",
       "      <td>1142</td>\n",
       "    </tr>\n",
       "  </tbody>\n",
       "</table>\n",
       "</div>"
      ],
      "text/plain": [
       "              id  mb_used session_date  user_id\n",
       "119502   1403_57   718.76   2018-07-19     1403\n",
       "13864   1047_110   316.71   2018-12-19     1047\n",
       "126280  1424_141   500.93   2018-09-22     1424\n",
       "17014    1059_20   297.56   2018-05-12     1059\n",
       "40117   1142_198   211.22   2018-11-16     1142"
      ]
     },
     "execution_count": 27,
     "metadata": {},
     "output_type": "execute_result"
    }
   ],
   "source": [
    "# Проверим, как прошло удаление\n",
    "internet.sample(n=5, random_state=None)"
   ]
  },
  {
   "cell_type": "markdown",
   "id": "acab85d2",
   "metadata": {},
   "source": [
    "Данные в исходных таблицах скорректированы, далее приступим к рассчётам."
   ]
  },
  {
   "cell_type": "markdown",
   "id": "6e7becc4",
   "metadata": {},
   "source": [
    "### Расчёты и добавление результатов в таблицу"
   ]
  },
  {
   "cell_type": "markdown",
   "id": "cea60b72",
   "metadata": {},
   "source": [
    "Посчитаем для каждого пользователя:\n",
    "\n",
    "* количество сделанных звонков и израсходованных минут разговора по месяцам;\n",
    "* количество отправленных сообщений по месяцам;\n",
    "* объем израсходованного интернет-трафика по месяцам."
   ]
  },
  {
   "cell_type": "code",
   "execution_count": 28,
   "id": "a0cc08ae",
   "metadata": {},
   "outputs": [],
   "source": [
    "# Добавим в датасеты колонки с месяцем 'month'\n",
    "calls['month'] = pd.to_datetime(calls['call_date']).dt.month\n",
    "messages['month'] = pd.to_datetime(messages['message_date']).dt.month\n",
    "internet['month'] = pd.to_datetime(internet['session_date']).dt.month"
   ]
  },
  {
   "cell_type": "code",
   "execution_count": 29,
   "id": "44bac046",
   "metadata": {},
   "outputs": [
    {
     "data": {
      "text/html": [
       "<div>\n",
       "<style scoped>\n",
       "    .dataframe tbody tr th:only-of-type {\n",
       "        vertical-align: middle;\n",
       "    }\n",
       "\n",
       "    .dataframe tbody tr th {\n",
       "        vertical-align: top;\n",
       "    }\n",
       "\n",
       "    .dataframe thead th {\n",
       "        text-align: right;\n",
       "    }\n",
       "</style>\n",
       "<table border=\"1\" class=\"dataframe\">\n",
       "  <thead>\n",
       "    <tr style=\"text-align: right;\">\n",
       "      <th></th>\n",
       "      <th>user_id</th>\n",
       "      <th>month</th>\n",
       "      <th>calls_total_in_month</th>\n",
       "      <th>month_calls_duration</th>\n",
       "    </tr>\n",
       "  </thead>\n",
       "  <tbody>\n",
       "    <tr>\n",
       "      <th>0</th>\n",
       "      <td>1000</td>\n",
       "      <td>5</td>\n",
       "      <td>22</td>\n",
       "      <td>159</td>\n",
       "    </tr>\n",
       "    <tr>\n",
       "      <th>1</th>\n",
       "      <td>1000</td>\n",
       "      <td>6</td>\n",
       "      <td>43</td>\n",
       "      <td>172</td>\n",
       "    </tr>\n",
       "    <tr>\n",
       "      <th>2</th>\n",
       "      <td>1000</td>\n",
       "      <td>7</td>\n",
       "      <td>47</td>\n",
       "      <td>340</td>\n",
       "    </tr>\n",
       "    <tr>\n",
       "      <th>3</th>\n",
       "      <td>1000</td>\n",
       "      <td>8</td>\n",
       "      <td>52</td>\n",
       "      <td>408</td>\n",
       "    </tr>\n",
       "    <tr>\n",
       "      <th>4</th>\n",
       "      <td>1000</td>\n",
       "      <td>9</td>\n",
       "      <td>58</td>\n",
       "      <td>466</td>\n",
       "    </tr>\n",
       "  </tbody>\n",
       "</table>\n",
       "</div>"
      ],
      "text/plain": [
       "   user_id  month  calls_total_in_month  month_calls_duration\n",
       "0     1000      5                    22                   159\n",
       "1     1000      6                    43                   172\n",
       "2     1000      7                    47                   340\n",
       "3     1000      8                    52                   408\n",
       "4     1000      9                    58                   466"
      ]
     },
     "execution_count": 29,
     "metadata": {},
     "output_type": "execute_result"
    }
   ],
   "source": [
    "# Посчитаем количество сделанных звонков и израсходованных минут разговора по месяцам\n",
    "user_calls = calls.groupby(['user_id', 'month']).\\\n",
    "                agg({'id':'count', 'duration':'sum'}).\\\n",
    "                reset_index().\\\n",
    "                rename(columns={'id':'calls_total_in_month', 'duration':'month_calls_duration'})\n",
    "user_calls.head()"
   ]
  },
  {
   "cell_type": "code",
   "execution_count": 30,
   "id": "a58db716",
   "metadata": {},
   "outputs": [
    {
     "data": {
      "text/plain": [
       "user_id                 0\n",
       "month                   0\n",
       "calls_total_in_month    0\n",
       "month_calls_duration    0\n",
       "dtype: int64"
      ]
     },
     "execution_count": 30,
     "metadata": {},
     "output_type": "execute_result"
    }
   ],
   "source": [
    "user_calls.isna().sum()"
   ]
  },
  {
   "cell_type": "code",
   "execution_count": 31,
   "id": "34eca5c4",
   "metadata": {},
   "outputs": [
    {
     "data": {
      "text/html": [
       "<div>\n",
       "<style scoped>\n",
       "    .dataframe tbody tr th:only-of-type {\n",
       "        vertical-align: middle;\n",
       "    }\n",
       "\n",
       "    .dataframe tbody tr th {\n",
       "        vertical-align: top;\n",
       "    }\n",
       "\n",
       "    .dataframe thead th {\n",
       "        text-align: right;\n",
       "    }\n",
       "</style>\n",
       "<table border=\"1\" class=\"dataframe\">\n",
       "  <thead>\n",
       "    <tr style=\"text-align: right;\">\n",
       "      <th></th>\n",
       "      <th>user_id</th>\n",
       "      <th>month</th>\n",
       "      <th>sms_total_in_month</th>\n",
       "    </tr>\n",
       "  </thead>\n",
       "  <tbody>\n",
       "    <tr>\n",
       "      <th>0</th>\n",
       "      <td>1000</td>\n",
       "      <td>5</td>\n",
       "      <td>22</td>\n",
       "    </tr>\n",
       "    <tr>\n",
       "      <th>1</th>\n",
       "      <td>1000</td>\n",
       "      <td>6</td>\n",
       "      <td>60</td>\n",
       "    </tr>\n",
       "    <tr>\n",
       "      <th>2</th>\n",
       "      <td>1000</td>\n",
       "      <td>7</td>\n",
       "      <td>75</td>\n",
       "    </tr>\n",
       "    <tr>\n",
       "      <th>3</th>\n",
       "      <td>1000</td>\n",
       "      <td>8</td>\n",
       "      <td>81</td>\n",
       "    </tr>\n",
       "    <tr>\n",
       "      <th>4</th>\n",
       "      <td>1000</td>\n",
       "      <td>9</td>\n",
       "      <td>57</td>\n",
       "    </tr>\n",
       "  </tbody>\n",
       "</table>\n",
       "</div>"
      ],
      "text/plain": [
       "   user_id  month  sms_total_in_month\n",
       "0     1000      5                  22\n",
       "1     1000      6                  60\n",
       "2     1000      7                  75\n",
       "3     1000      8                  81\n",
       "4     1000      9                  57"
      ]
     },
     "execution_count": 31,
     "metadata": {},
     "output_type": "execute_result"
    }
   ],
   "source": [
    "# Посчитаем количество отправленных сообщений по месяцам\n",
    "user_messages = messages.groupby(['user_id', 'month']).\\\n",
    "                    agg({'message_date':'count'}).\\\n",
    "                    reset_index().\\\n",
    "                    rename(columns={'message_date':'sms_total_in_month'})\n",
    "user_messages.head()"
   ]
  },
  {
   "cell_type": "code",
   "execution_count": 32,
   "id": "9ca78de2",
   "metadata": {},
   "outputs": [
    {
     "data": {
      "text/plain": [
       "user_id               0\n",
       "month                 0\n",
       "sms_total_in_month    0\n",
       "dtype: int64"
      ]
     },
     "execution_count": 32,
     "metadata": {},
     "output_type": "execute_result"
    }
   ],
   "source": [
    "user_messages.isna().sum()"
   ]
  },
  {
   "cell_type": "code",
   "execution_count": 33,
   "id": "c459e4cf",
   "metadata": {},
   "outputs": [
    {
     "data": {
      "text/html": [
       "<div>\n",
       "<style scoped>\n",
       "    .dataframe tbody tr th:only-of-type {\n",
       "        vertical-align: middle;\n",
       "    }\n",
       "\n",
       "    .dataframe tbody tr th {\n",
       "        vertical-align: top;\n",
       "    }\n",
       "\n",
       "    .dataframe thead th {\n",
       "        text-align: right;\n",
       "    }\n",
       "</style>\n",
       "<table border=\"1\" class=\"dataframe\">\n",
       "  <thead>\n",
       "    <tr style=\"text-align: right;\">\n",
       "      <th></th>\n",
       "      <th>user_id</th>\n",
       "      <th>month</th>\n",
       "      <th>mb_total_in_month</th>\n",
       "    </tr>\n",
       "  </thead>\n",
       "  <tbody>\n",
       "    <tr>\n",
       "      <th>0</th>\n",
       "      <td>1000</td>\n",
       "      <td>5</td>\n",
       "      <td>2253.49</td>\n",
       "    </tr>\n",
       "    <tr>\n",
       "      <th>1</th>\n",
       "      <td>1000</td>\n",
       "      <td>6</td>\n",
       "      <td>23233.77</td>\n",
       "    </tr>\n",
       "    <tr>\n",
       "      <th>2</th>\n",
       "      <td>1000</td>\n",
       "      <td>7</td>\n",
       "      <td>14003.64</td>\n",
       "    </tr>\n",
       "    <tr>\n",
       "      <th>3</th>\n",
       "      <td>1000</td>\n",
       "      <td>8</td>\n",
       "      <td>14055.93</td>\n",
       "    </tr>\n",
       "    <tr>\n",
       "      <th>4</th>\n",
       "      <td>1000</td>\n",
       "      <td>9</td>\n",
       "      <td>14568.91</td>\n",
       "    </tr>\n",
       "  </tbody>\n",
       "</table>\n",
       "</div>"
      ],
      "text/plain": [
       "   user_id  month  mb_total_in_month\n",
       "0     1000      5            2253.49\n",
       "1     1000      6           23233.77\n",
       "2     1000      7           14003.64\n",
       "3     1000      8           14055.93\n",
       "4     1000      9           14568.91"
      ]
     },
     "execution_count": 33,
     "metadata": {},
     "output_type": "execute_result"
    }
   ],
   "source": [
    "# Посчитаем объем израсходованного интернет-трафика по месяцам\n",
    "user_internet = internet.groupby(['user_id', 'month']).\\\n",
    "                    agg({'mb_used':'sum'}).\\\n",
    "                    reset_index().\\\n",
    "                    rename(columns={'mb_used':'mb_total_in_month'})\n",
    "user_internet.head()"
   ]
  },
  {
   "cell_type": "code",
   "execution_count": 34,
   "id": "624c3d2a",
   "metadata": {},
   "outputs": [
    {
     "data": {
      "text/plain": [
       "user_id              0\n",
       "month                0\n",
       "mb_total_in_month    0\n",
       "dtype: int64"
      ]
     },
     "execution_count": 34,
     "metadata": {},
     "output_type": "execute_result"
    }
   ],
   "source": [
    "user_internet.isna().sum()"
   ]
  },
  {
   "cell_type": "markdown",
   "id": "18442ec8",
   "metadata": {},
   "source": [
    "**Посчитаем для каждого пользователя помесячную выручку с каждого пользователя.**\n",
    "\n",
    "Вычтем бесплатный лимит из суммарного количества звонков, сообщений и интернет-трафика; остаток умножим на значение из тарифного плана; прибавим абонентскую плату, соответствующую тарифному плану."
   ]
  },
  {
   "cell_type": "code",
   "execution_count": 35,
   "id": "2f84bdd5",
   "metadata": {},
   "outputs": [
    {
     "data": {
      "text/html": [
       "<div>\n",
       "<style scoped>\n",
       "    .dataframe tbody tr th:only-of-type {\n",
       "        vertical-align: middle;\n",
       "    }\n",
       "\n",
       "    .dataframe tbody tr th {\n",
       "        vertical-align: top;\n",
       "    }\n",
       "\n",
       "    .dataframe thead th {\n",
       "        text-align: right;\n",
       "    }\n",
       "</style>\n",
       "<table border=\"1\" class=\"dataframe\">\n",
       "  <thead>\n",
       "    <tr style=\"text-align: right;\">\n",
       "      <th></th>\n",
       "      <th>user_id</th>\n",
       "      <th>month</th>\n",
       "      <th>calls_total_in_month</th>\n",
       "      <th>month_calls_duration</th>\n",
       "      <th>sms_total_in_month</th>\n",
       "    </tr>\n",
       "  </thead>\n",
       "  <tbody>\n",
       "    <tr>\n",
       "      <th>0</th>\n",
       "      <td>1000</td>\n",
       "      <td>5</td>\n",
       "      <td>22.0</td>\n",
       "      <td>159</td>\n",
       "      <td>22.0</td>\n",
       "    </tr>\n",
       "    <tr>\n",
       "      <th>1</th>\n",
       "      <td>1000</td>\n",
       "      <td>6</td>\n",
       "      <td>43.0</td>\n",
       "      <td>172</td>\n",
       "      <td>60.0</td>\n",
       "    </tr>\n",
       "    <tr>\n",
       "      <th>2</th>\n",
       "      <td>1000</td>\n",
       "      <td>7</td>\n",
       "      <td>47.0</td>\n",
       "      <td>340</td>\n",
       "      <td>75.0</td>\n",
       "    </tr>\n",
       "    <tr>\n",
       "      <th>3</th>\n",
       "      <td>1000</td>\n",
       "      <td>8</td>\n",
       "      <td>52.0</td>\n",
       "      <td>408</td>\n",
       "      <td>81.0</td>\n",
       "    </tr>\n",
       "    <tr>\n",
       "      <th>4</th>\n",
       "      <td>1000</td>\n",
       "      <td>9</td>\n",
       "      <td>58.0</td>\n",
       "      <td>466</td>\n",
       "      <td>57.0</td>\n",
       "    </tr>\n",
       "  </tbody>\n",
       "</table>\n",
       "</div>"
      ],
      "text/plain": [
       "   user_id  month  calls_total_in_month  month_calls_duration  \\\n",
       "0     1000      5                  22.0                   159   \n",
       "1     1000      6                  43.0                   172   \n",
       "2     1000      7                  47.0                   340   \n",
       "3     1000      8                  52.0                   408   \n",
       "4     1000      9                  58.0                   466   \n",
       "\n",
       "   sms_total_in_month  \n",
       "0                22.0  \n",
       "1                60.0  \n",
       "2                75.0  \n",
       "3                81.0  \n",
       "4                57.0  "
      ]
     },
     "execution_count": 35,
     "metadata": {},
     "output_type": "execute_result"
    }
   ],
   "source": [
    "# Сформируем общую таблицу использования минут, смс и интернета для каждого id (помесячно)\n",
    "df = user_calls.merge(user_messages, on=['user_id', 'month'], how='outer')\n",
    "df.head()"
   ]
  },
  {
   "cell_type": "code",
   "execution_count": 36,
   "id": "7f3dcbc2",
   "metadata": {},
   "outputs": [
    {
     "data": {
      "text/html": [
       "<div>\n",
       "<style scoped>\n",
       "    .dataframe tbody tr th:only-of-type {\n",
       "        vertical-align: middle;\n",
       "    }\n",
       "\n",
       "    .dataframe tbody tr th {\n",
       "        vertical-align: top;\n",
       "    }\n",
       "\n",
       "    .dataframe thead th {\n",
       "        text-align: right;\n",
       "    }\n",
       "</style>\n",
       "<table border=\"1\" class=\"dataframe\">\n",
       "  <thead>\n",
       "    <tr style=\"text-align: right;\">\n",
       "      <th></th>\n",
       "      <th>user_id</th>\n",
       "      <th>month</th>\n",
       "      <th>calls_total_in_month</th>\n",
       "      <th>month_calls_duration</th>\n",
       "      <th>sms_total_in_month</th>\n",
       "    </tr>\n",
       "  </thead>\n",
       "  <tbody>\n",
       "  </tbody>\n",
       "</table>\n",
       "</div>"
      ],
      "text/plain": [
       "Empty DataFrame\n",
       "Columns: [user_id, month, calls_total_in_month, month_calls_duration, sms_total_in_month]\n",
       "Index: []"
      ]
     },
     "execution_count": 36,
     "metadata": {},
     "output_type": "execute_result"
    }
   ],
   "source": [
    "df[df['month'].isna()]"
   ]
  },
  {
   "cell_type": "code",
   "execution_count": 37,
   "id": "9a99349e",
   "metadata": {},
   "outputs": [
    {
     "data": {
      "text/html": [
       "<div>\n",
       "<style scoped>\n",
       "    .dataframe tbody tr th:only-of-type {\n",
       "        vertical-align: middle;\n",
       "    }\n",
       "\n",
       "    .dataframe tbody tr th {\n",
       "        vertical-align: top;\n",
       "    }\n",
       "\n",
       "    .dataframe thead th {\n",
       "        text-align: right;\n",
       "    }\n",
       "</style>\n",
       "<table border=\"1\" class=\"dataframe\">\n",
       "  <thead>\n",
       "    <tr style=\"text-align: right;\">\n",
       "      <th></th>\n",
       "      <th>user_id</th>\n",
       "      <th>month</th>\n",
       "      <th>calls_total_in_month</th>\n",
       "      <th>month_calls_duration</th>\n",
       "      <th>sms_total_in_month</th>\n",
       "      <th>mb_total_in_month</th>\n",
       "    </tr>\n",
       "  </thead>\n",
       "  <tbody>\n",
       "    <tr>\n",
       "      <th>0</th>\n",
       "      <td>1000</td>\n",
       "      <td>5</td>\n",
       "      <td>22.0</td>\n",
       "      <td>159</td>\n",
       "      <td>22.0</td>\n",
       "      <td>2253.49</td>\n",
       "    </tr>\n",
       "    <tr>\n",
       "      <th>1</th>\n",
       "      <td>1000</td>\n",
       "      <td>6</td>\n",
       "      <td>43.0</td>\n",
       "      <td>172</td>\n",
       "      <td>60.0</td>\n",
       "      <td>23233.77</td>\n",
       "    </tr>\n",
       "    <tr>\n",
       "      <th>2</th>\n",
       "      <td>1000</td>\n",
       "      <td>7</td>\n",
       "      <td>47.0</td>\n",
       "      <td>340</td>\n",
       "      <td>75.0</td>\n",
       "      <td>14003.64</td>\n",
       "    </tr>\n",
       "    <tr>\n",
       "      <th>3</th>\n",
       "      <td>1000</td>\n",
       "      <td>8</td>\n",
       "      <td>52.0</td>\n",
       "      <td>408</td>\n",
       "      <td>81.0</td>\n",
       "      <td>14055.93</td>\n",
       "    </tr>\n",
       "    <tr>\n",
       "      <th>4</th>\n",
       "      <td>1000</td>\n",
       "      <td>9</td>\n",
       "      <td>58.0</td>\n",
       "      <td>466</td>\n",
       "      <td>57.0</td>\n",
       "      <td>14568.91</td>\n",
       "    </tr>\n",
       "  </tbody>\n",
       "</table>\n",
       "</div>"
      ],
      "text/plain": [
       "   user_id  month  calls_total_in_month  month_calls_duration  \\\n",
       "0     1000      5                  22.0                   159   \n",
       "1     1000      6                  43.0                   172   \n",
       "2     1000      7                  47.0                   340   \n",
       "3     1000      8                  52.0                   408   \n",
       "4     1000      9                  58.0                   466   \n",
       "\n",
       "   sms_total_in_month  mb_total_in_month  \n",
       "0                22.0            2253.49  \n",
       "1                60.0           23233.77  \n",
       "2                75.0           14003.64  \n",
       "3                81.0           14055.93  \n",
       "4                57.0           14568.91  "
      ]
     },
     "execution_count": 37,
     "metadata": {},
     "output_type": "execute_result"
    }
   ],
   "source": [
    "df = df.merge(user_internet, on=['user_id', 'month'], how='outer')\n",
    "df.head()"
   ]
  },
  {
   "cell_type": "code",
   "execution_count": 38,
   "id": "41ff723e",
   "metadata": {},
   "outputs": [
    {
     "data": {
      "text/html": [
       "<div>\n",
       "<style scoped>\n",
       "    .dataframe tbody tr th:only-of-type {\n",
       "        vertical-align: middle;\n",
       "    }\n",
       "\n",
       "    .dataframe tbody tr th {\n",
       "        vertical-align: top;\n",
       "    }\n",
       "\n",
       "    .dataframe thead th {\n",
       "        text-align: right;\n",
       "    }\n",
       "</style>\n",
       "<table border=\"1\" class=\"dataframe\">\n",
       "  <thead>\n",
       "    <tr style=\"text-align: right;\">\n",
       "      <th></th>\n",
       "      <th>user_id</th>\n",
       "      <th>month</th>\n",
       "      <th>calls_total_in_month</th>\n",
       "      <th>month_calls_duration</th>\n",
       "      <th>sms_total_in_month</th>\n",
       "      <th>mb_total_in_month</th>\n",
       "    </tr>\n",
       "  </thead>\n",
       "  <tbody>\n",
       "  </tbody>\n",
       "</table>\n",
       "</div>"
      ],
      "text/plain": [
       "Empty DataFrame\n",
       "Columns: [user_id, month, calls_total_in_month, month_calls_duration, sms_total_in_month, mb_total_in_month]\n",
       "Index: []"
      ]
     },
     "execution_count": 38,
     "metadata": {},
     "output_type": "execute_result"
    }
   ],
   "source": [
    "df[df['month'].isna()]"
   ]
  },
  {
   "cell_type": "code",
   "execution_count": 39,
   "id": "b66db98c",
   "metadata": {},
   "outputs": [],
   "source": [
    "tariffs = tariffs.rename(columns={'tariff_name':'tariff'})"
   ]
  },
  {
   "cell_type": "code",
   "execution_count": 40,
   "id": "1d712131",
   "metadata": {},
   "outputs": [
    {
     "data": {
      "text/html": [
       "<div>\n",
       "<style scoped>\n",
       "    .dataframe tbody tr th:only-of-type {\n",
       "        vertical-align: middle;\n",
       "    }\n",
       "\n",
       "    .dataframe tbody tr th {\n",
       "        vertical-align: top;\n",
       "    }\n",
       "\n",
       "    .dataframe thead th {\n",
       "        text-align: right;\n",
       "    }\n",
       "</style>\n",
       "<table border=\"1\" class=\"dataframe\">\n",
       "  <thead>\n",
       "    <tr style=\"text-align: right;\">\n",
       "      <th></th>\n",
       "      <th>user_id</th>\n",
       "      <th>month</th>\n",
       "      <th>calls_total_in_month</th>\n",
       "      <th>month_calls_duration</th>\n",
       "      <th>sms_total_in_month</th>\n",
       "      <th>mb_total_in_month</th>\n",
       "      <th>age</th>\n",
       "      <th>churn_date</th>\n",
       "      <th>city</th>\n",
       "      <th>first_name</th>\n",
       "      <th>last_name</th>\n",
       "      <th>reg_date</th>\n",
       "      <th>tariff</th>\n",
       "    </tr>\n",
       "  </thead>\n",
       "  <tbody>\n",
       "    <tr>\n",
       "      <th>0</th>\n",
       "      <td>1000</td>\n",
       "      <td>5</td>\n",
       "      <td>22.0</td>\n",
       "      <td>159</td>\n",
       "      <td>22.0</td>\n",
       "      <td>2253.49</td>\n",
       "      <td>52</td>\n",
       "      <td>NaT</td>\n",
       "      <td>Краснодар</td>\n",
       "      <td>Рафаил</td>\n",
       "      <td>Верещагин</td>\n",
       "      <td>2018-05-25</td>\n",
       "      <td>ultra</td>\n",
       "    </tr>\n",
       "    <tr>\n",
       "      <th>1</th>\n",
       "      <td>1000</td>\n",
       "      <td>6</td>\n",
       "      <td>43.0</td>\n",
       "      <td>172</td>\n",
       "      <td>60.0</td>\n",
       "      <td>23233.77</td>\n",
       "      <td>52</td>\n",
       "      <td>NaT</td>\n",
       "      <td>Краснодар</td>\n",
       "      <td>Рафаил</td>\n",
       "      <td>Верещагин</td>\n",
       "      <td>2018-05-25</td>\n",
       "      <td>ultra</td>\n",
       "    </tr>\n",
       "    <tr>\n",
       "      <th>2</th>\n",
       "      <td>1000</td>\n",
       "      <td>7</td>\n",
       "      <td>47.0</td>\n",
       "      <td>340</td>\n",
       "      <td>75.0</td>\n",
       "      <td>14003.64</td>\n",
       "      <td>52</td>\n",
       "      <td>NaT</td>\n",
       "      <td>Краснодар</td>\n",
       "      <td>Рафаил</td>\n",
       "      <td>Верещагин</td>\n",
       "      <td>2018-05-25</td>\n",
       "      <td>ultra</td>\n",
       "    </tr>\n",
       "    <tr>\n",
       "      <th>3</th>\n",
       "      <td>1000</td>\n",
       "      <td>8</td>\n",
       "      <td>52.0</td>\n",
       "      <td>408</td>\n",
       "      <td>81.0</td>\n",
       "      <td>14055.93</td>\n",
       "      <td>52</td>\n",
       "      <td>NaT</td>\n",
       "      <td>Краснодар</td>\n",
       "      <td>Рафаил</td>\n",
       "      <td>Верещагин</td>\n",
       "      <td>2018-05-25</td>\n",
       "      <td>ultra</td>\n",
       "    </tr>\n",
       "    <tr>\n",
       "      <th>4</th>\n",
       "      <td>1000</td>\n",
       "      <td>9</td>\n",
       "      <td>58.0</td>\n",
       "      <td>466</td>\n",
       "      <td>57.0</td>\n",
       "      <td>14568.91</td>\n",
       "      <td>52</td>\n",
       "      <td>NaT</td>\n",
       "      <td>Краснодар</td>\n",
       "      <td>Рафаил</td>\n",
       "      <td>Верещагин</td>\n",
       "      <td>2018-05-25</td>\n",
       "      <td>ultra</td>\n",
       "    </tr>\n",
       "  </tbody>\n",
       "</table>\n",
       "</div>"
      ],
      "text/plain": [
       "   user_id  month  calls_total_in_month  month_calls_duration  \\\n",
       "0     1000      5                  22.0                   159   \n",
       "1     1000      6                  43.0                   172   \n",
       "2     1000      7                  47.0                   340   \n",
       "3     1000      8                  52.0                   408   \n",
       "4     1000      9                  58.0                   466   \n",
       "\n",
       "   sms_total_in_month  mb_total_in_month  age churn_date       city  \\\n",
       "0                22.0            2253.49   52        NaT  Краснодар   \n",
       "1                60.0           23233.77   52        NaT  Краснодар   \n",
       "2                75.0           14003.64   52        NaT  Краснодар   \n",
       "3                81.0           14055.93   52        NaT  Краснодар   \n",
       "4                57.0           14568.91   52        NaT  Краснодар   \n",
       "\n",
       "  first_name  last_name   reg_date tariff  \n",
       "0     Рафаил  Верещагин 2018-05-25  ultra  \n",
       "1     Рафаил  Верещагин 2018-05-25  ultra  \n",
       "2     Рафаил  Верещагин 2018-05-25  ultra  \n",
       "3     Рафаил  Верещагин 2018-05-25  ultra  \n",
       "4     Рафаил  Верещагин 2018-05-25  ultra  "
      ]
     },
     "execution_count": 40,
     "metadata": {},
     "output_type": "execute_result"
    }
   ],
   "source": [
    "# Добавим данные из таблиц о пользователях 'users' и тарифах 'tariffs'\n",
    "df = df.merge(users, on='user_id', how='left')\n",
    "df.head()"
   ]
  },
  {
   "cell_type": "code",
   "execution_count": 41,
   "id": "27d6d8e3",
   "metadata": {},
   "outputs": [
    {
     "data": {
      "text/html": [
       "<div>\n",
       "<style scoped>\n",
       "    .dataframe tbody tr th:only-of-type {\n",
       "        vertical-align: middle;\n",
       "    }\n",
       "\n",
       "    .dataframe tbody tr th {\n",
       "        vertical-align: top;\n",
       "    }\n",
       "\n",
       "    .dataframe thead th {\n",
       "        text-align: right;\n",
       "    }\n",
       "</style>\n",
       "<table border=\"1\" class=\"dataframe\">\n",
       "  <thead>\n",
       "    <tr style=\"text-align: right;\">\n",
       "      <th></th>\n",
       "      <th>user_id</th>\n",
       "      <th>month</th>\n",
       "      <th>calls_total_in_month</th>\n",
       "      <th>month_calls_duration</th>\n",
       "      <th>sms_total_in_month</th>\n",
       "      <th>mb_total_in_month</th>\n",
       "      <th>age</th>\n",
       "      <th>churn_date</th>\n",
       "      <th>city</th>\n",
       "      <th>first_name</th>\n",
       "      <th>last_name</th>\n",
       "      <th>reg_date</th>\n",
       "      <th>tariff</th>\n",
       "    </tr>\n",
       "  </thead>\n",
       "  <tbody>\n",
       "  </tbody>\n",
       "</table>\n",
       "</div>"
      ],
      "text/plain": [
       "Empty DataFrame\n",
       "Columns: [user_id, month, calls_total_in_month, month_calls_duration, sms_total_in_month, mb_total_in_month, age, churn_date, city, first_name, last_name, reg_date, tariff]\n",
       "Index: []"
      ]
     },
     "execution_count": 41,
     "metadata": {},
     "output_type": "execute_result"
    }
   ],
   "source": [
    "df[df['month'].isna()]"
   ]
  },
  {
   "cell_type": "code",
   "execution_count": 42,
   "id": "60e4ff39",
   "metadata": {},
   "outputs": [
    {
     "data": {
      "text/html": [
       "<div>\n",
       "<style scoped>\n",
       "    .dataframe tbody tr th:only-of-type {\n",
       "        vertical-align: middle;\n",
       "    }\n",
       "\n",
       "    .dataframe tbody tr th {\n",
       "        vertical-align: top;\n",
       "    }\n",
       "\n",
       "    .dataframe thead th {\n",
       "        text-align: right;\n",
       "    }\n",
       "</style>\n",
       "<table border=\"1\" class=\"dataframe\">\n",
       "  <thead>\n",
       "    <tr style=\"text-align: right;\">\n",
       "      <th></th>\n",
       "      <th>user_id</th>\n",
       "      <th>month</th>\n",
       "      <th>calls_total_in_month</th>\n",
       "      <th>month_calls_duration</th>\n",
       "      <th>sms_total_in_month</th>\n",
       "      <th>mb_total_in_month</th>\n",
       "      <th>age</th>\n",
       "      <th>churn_date</th>\n",
       "      <th>city</th>\n",
       "      <th>first_name</th>\n",
       "      <th>last_name</th>\n",
       "      <th>reg_date</th>\n",
       "      <th>tariff</th>\n",
       "      <th>messages_included</th>\n",
       "      <th>mb_per_month_included</th>\n",
       "      <th>minutes_included</th>\n",
       "      <th>rub_monthly_fee</th>\n",
       "      <th>rub_per_gb</th>\n",
       "      <th>rub_per_message</th>\n",
       "      <th>rub_per_minute</th>\n",
       "    </tr>\n",
       "  </thead>\n",
       "  <tbody>\n",
       "    <tr>\n",
       "      <th>0</th>\n",
       "      <td>1000</td>\n",
       "      <td>5</td>\n",
       "      <td>22.0</td>\n",
       "      <td>159</td>\n",
       "      <td>22.0</td>\n",
       "      <td>2253.49</td>\n",
       "      <td>52</td>\n",
       "      <td>NaT</td>\n",
       "      <td>Краснодар</td>\n",
       "      <td>Рафаил</td>\n",
       "      <td>Верещагин</td>\n",
       "      <td>2018-05-25</td>\n",
       "      <td>ultra</td>\n",
       "      <td>1000</td>\n",
       "      <td>30720</td>\n",
       "      <td>3000</td>\n",
       "      <td>1950</td>\n",
       "      <td>150</td>\n",
       "      <td>1</td>\n",
       "      <td>1</td>\n",
       "    </tr>\n",
       "    <tr>\n",
       "      <th>1</th>\n",
       "      <td>1000</td>\n",
       "      <td>6</td>\n",
       "      <td>43.0</td>\n",
       "      <td>172</td>\n",
       "      <td>60.0</td>\n",
       "      <td>23233.77</td>\n",
       "      <td>52</td>\n",
       "      <td>NaT</td>\n",
       "      <td>Краснодар</td>\n",
       "      <td>Рафаил</td>\n",
       "      <td>Верещагин</td>\n",
       "      <td>2018-05-25</td>\n",
       "      <td>ultra</td>\n",
       "      <td>1000</td>\n",
       "      <td>30720</td>\n",
       "      <td>3000</td>\n",
       "      <td>1950</td>\n",
       "      <td>150</td>\n",
       "      <td>1</td>\n",
       "      <td>1</td>\n",
       "    </tr>\n",
       "    <tr>\n",
       "      <th>2</th>\n",
       "      <td>1000</td>\n",
       "      <td>7</td>\n",
       "      <td>47.0</td>\n",
       "      <td>340</td>\n",
       "      <td>75.0</td>\n",
       "      <td>14003.64</td>\n",
       "      <td>52</td>\n",
       "      <td>NaT</td>\n",
       "      <td>Краснодар</td>\n",
       "      <td>Рафаил</td>\n",
       "      <td>Верещагин</td>\n",
       "      <td>2018-05-25</td>\n",
       "      <td>ultra</td>\n",
       "      <td>1000</td>\n",
       "      <td>30720</td>\n",
       "      <td>3000</td>\n",
       "      <td>1950</td>\n",
       "      <td>150</td>\n",
       "      <td>1</td>\n",
       "      <td>1</td>\n",
       "    </tr>\n",
       "    <tr>\n",
       "      <th>3</th>\n",
       "      <td>1000</td>\n",
       "      <td>8</td>\n",
       "      <td>52.0</td>\n",
       "      <td>408</td>\n",
       "      <td>81.0</td>\n",
       "      <td>14055.93</td>\n",
       "      <td>52</td>\n",
       "      <td>NaT</td>\n",
       "      <td>Краснодар</td>\n",
       "      <td>Рафаил</td>\n",
       "      <td>Верещагин</td>\n",
       "      <td>2018-05-25</td>\n",
       "      <td>ultra</td>\n",
       "      <td>1000</td>\n",
       "      <td>30720</td>\n",
       "      <td>3000</td>\n",
       "      <td>1950</td>\n",
       "      <td>150</td>\n",
       "      <td>1</td>\n",
       "      <td>1</td>\n",
       "    </tr>\n",
       "    <tr>\n",
       "      <th>4</th>\n",
       "      <td>1000</td>\n",
       "      <td>9</td>\n",
       "      <td>58.0</td>\n",
       "      <td>466</td>\n",
       "      <td>57.0</td>\n",
       "      <td>14568.91</td>\n",
       "      <td>52</td>\n",
       "      <td>NaT</td>\n",
       "      <td>Краснодар</td>\n",
       "      <td>Рафаил</td>\n",
       "      <td>Верещагин</td>\n",
       "      <td>2018-05-25</td>\n",
       "      <td>ultra</td>\n",
       "      <td>1000</td>\n",
       "      <td>30720</td>\n",
       "      <td>3000</td>\n",
       "      <td>1950</td>\n",
       "      <td>150</td>\n",
       "      <td>1</td>\n",
       "      <td>1</td>\n",
       "    </tr>\n",
       "  </tbody>\n",
       "</table>\n",
       "</div>"
      ],
      "text/plain": [
       "   user_id  month  calls_total_in_month  month_calls_duration  \\\n",
       "0     1000      5                  22.0                   159   \n",
       "1     1000      6                  43.0                   172   \n",
       "2     1000      7                  47.0                   340   \n",
       "3     1000      8                  52.0                   408   \n",
       "4     1000      9                  58.0                   466   \n",
       "\n",
       "   sms_total_in_month  mb_total_in_month  age churn_date       city  \\\n",
       "0                22.0            2253.49   52        NaT  Краснодар   \n",
       "1                60.0           23233.77   52        NaT  Краснодар   \n",
       "2                75.0           14003.64   52        NaT  Краснодар   \n",
       "3                81.0           14055.93   52        NaT  Краснодар   \n",
       "4                57.0           14568.91   52        NaT  Краснодар   \n",
       "\n",
       "  first_name  last_name   reg_date tariff  messages_included  \\\n",
       "0     Рафаил  Верещагин 2018-05-25  ultra               1000   \n",
       "1     Рафаил  Верещагин 2018-05-25  ultra               1000   \n",
       "2     Рафаил  Верещагин 2018-05-25  ultra               1000   \n",
       "3     Рафаил  Верещагин 2018-05-25  ultra               1000   \n",
       "4     Рафаил  Верещагин 2018-05-25  ultra               1000   \n",
       "\n",
       "   mb_per_month_included  minutes_included  rub_monthly_fee  rub_per_gb  \\\n",
       "0                  30720              3000             1950         150   \n",
       "1                  30720              3000             1950         150   \n",
       "2                  30720              3000             1950         150   \n",
       "3                  30720              3000             1950         150   \n",
       "4                  30720              3000             1950         150   \n",
       "\n",
       "   rub_per_message  rub_per_minute  \n",
       "0                1               1  \n",
       "1                1               1  \n",
       "2                1               1  \n",
       "3                1               1  \n",
       "4                1               1  "
      ]
     },
     "execution_count": 42,
     "metadata": {},
     "output_type": "execute_result"
    }
   ],
   "source": [
    "df = df.merge(tariffs, on='tariff', how='outer')\n",
    "df.head()"
   ]
  },
  {
   "cell_type": "code",
   "execution_count": 43,
   "id": "e70055ec",
   "metadata": {},
   "outputs": [
    {
     "data": {
      "text/html": [
       "<div>\n",
       "<style scoped>\n",
       "    .dataframe tbody tr th:only-of-type {\n",
       "        vertical-align: middle;\n",
       "    }\n",
       "\n",
       "    .dataframe tbody tr th {\n",
       "        vertical-align: top;\n",
       "    }\n",
       "\n",
       "    .dataframe thead th {\n",
       "        text-align: right;\n",
       "    }\n",
       "</style>\n",
       "<table border=\"1\" class=\"dataframe\">\n",
       "  <thead>\n",
       "    <tr style=\"text-align: right;\">\n",
       "      <th></th>\n",
       "      <th>user_id</th>\n",
       "      <th>month</th>\n",
       "      <th>calls_total_in_month</th>\n",
       "      <th>month_calls_duration</th>\n",
       "      <th>sms_total_in_month</th>\n",
       "      <th>mb_total_in_month</th>\n",
       "      <th>age</th>\n",
       "      <th>churn_date</th>\n",
       "      <th>city</th>\n",
       "      <th>first_name</th>\n",
       "      <th>last_name</th>\n",
       "      <th>reg_date</th>\n",
       "      <th>tariff</th>\n",
       "      <th>messages_included</th>\n",
       "      <th>mb_per_month_included</th>\n",
       "      <th>minutes_included</th>\n",
       "      <th>rub_monthly_fee</th>\n",
       "      <th>rub_per_gb</th>\n",
       "      <th>rub_per_message</th>\n",
       "      <th>rub_per_minute</th>\n",
       "    </tr>\n",
       "  </thead>\n",
       "  <tbody>\n",
       "  </tbody>\n",
       "</table>\n",
       "</div>"
      ],
      "text/plain": [
       "Empty DataFrame\n",
       "Columns: [user_id, month, calls_total_in_month, month_calls_duration, sms_total_in_month, mb_total_in_month, age, churn_date, city, first_name, last_name, reg_date, tariff, messages_included, mb_per_month_included, minutes_included, rub_monthly_fee, rub_per_gb, rub_per_message, rub_per_minute]\n",
       "Index: []"
      ]
     },
     "execution_count": 43,
     "metadata": {},
     "output_type": "execute_result"
    }
   ],
   "source": [
    "df[df['month'].isna()]"
   ]
  },
  {
   "cell_type": "markdown",
   "id": "34c2b82a",
   "metadata": {},
   "source": [
    "Исправим значения NaN на 0, это допустимо, так как пользователи с NaN по факту использовали в своём тарифе 0 минут, 0 смс, о Гб. \n",
    "\n",
    "Посмотрим, сколько у нас таких абонентов с 0 значениями."
   ]
  },
  {
   "cell_type": "code",
   "execution_count": 44,
   "id": "738c55e9",
   "metadata": {},
   "outputs": [
    {
     "data": {
      "text/plain": [
       "user_id                     0\n",
       "month                       0\n",
       "calls_total_in_month       40\n",
       "month_calls_duration       40\n",
       "sms_total_in_month        497\n",
       "mb_total_in_month          11\n",
       "age                         0\n",
       "churn_date               3027\n",
       "city                        0\n",
       "first_name                  0\n",
       "last_name                   0\n",
       "reg_date                    0\n",
       "tariff                      0\n",
       "messages_included           0\n",
       "mb_per_month_included       0\n",
       "minutes_included            0\n",
       "rub_monthly_fee             0\n",
       "rub_per_gb                  0\n",
       "rub_per_message             0\n",
       "rub_per_minute              0\n",
       "dtype: int64"
      ]
     },
     "execution_count": 44,
     "metadata": {},
     "output_type": "execute_result"
    }
   ],
   "source": [
    "df.isna().sum()"
   ]
  },
  {
   "cell_type": "code",
   "execution_count": 45,
   "id": "cb788eb8",
   "metadata": {},
   "outputs": [],
   "source": [
    "df[['sms_total_in_month', 'mb_total_in_month', 'month_calls_duration', 'calls_total_in_month']] = \\\n",
    "        df[['sms_total_in_month', 'mb_total_in_month', 'month_calls_duration', 'calls_total_in_month']].fillna(0)"
   ]
  },
  {
   "cell_type": "code",
   "execution_count": 46,
   "id": "4757e069",
   "metadata": {},
   "outputs": [
    {
     "data": {
      "text/plain": [
       "user_id                     0\n",
       "month                       0\n",
       "calls_total_in_month        0\n",
       "month_calls_duration        0\n",
       "sms_total_in_month          0\n",
       "mb_total_in_month           0\n",
       "age                         0\n",
       "churn_date               3027\n",
       "city                        0\n",
       "first_name                  0\n",
       "last_name                   0\n",
       "reg_date                    0\n",
       "tariff                      0\n",
       "messages_included           0\n",
       "mb_per_month_included       0\n",
       "minutes_included            0\n",
       "rub_monthly_fee             0\n",
       "rub_per_gb                  0\n",
       "rub_per_message             0\n",
       "rub_per_minute              0\n",
       "dtype: int64"
      ]
     },
     "execution_count": 46,
     "metadata": {},
     "output_type": "execute_result"
    }
   ],
   "source": [
    "df.isna().sum()"
   ]
  },
  {
   "cell_type": "code",
   "execution_count": 47,
   "id": "665a47ce",
   "metadata": {},
   "outputs": [
    {
     "data": {
      "text/plain": [
       "0"
      ]
     },
     "execution_count": 47,
     "metadata": {},
     "output_type": "execute_result"
    }
   ],
   "source": [
    "df.duplicated().sum()"
   ]
  },
  {
   "cell_type": "code",
   "execution_count": 48,
   "id": "fa6ecfb1",
   "metadata": {},
   "outputs": [
    {
     "name": "stdout",
     "output_type": "stream",
     "text": [
      "<class 'pandas.core.frame.DataFrame'>\n",
      "Int64Index: 3214 entries, 0 to 3213\n",
      "Data columns (total 20 columns):\n",
      " #   Column                 Non-Null Count  Dtype         \n",
      "---  ------                 --------------  -----         \n",
      " 0   user_id                3214 non-null   int64         \n",
      " 1   month                  3214 non-null   int64         \n",
      " 2   calls_total_in_month   3214 non-null   float64       \n",
      " 3   month_calls_duration   3214 non-null   Int64         \n",
      " 4   sms_total_in_month     3214 non-null   float64       \n",
      " 5   mb_total_in_month      3214 non-null   float64       \n",
      " 6   age                    3214 non-null   int64         \n",
      " 7   churn_date             187 non-null    datetime64[ns]\n",
      " 8   city                   3214 non-null   object        \n",
      " 9   first_name             3214 non-null   object        \n",
      " 10  last_name              3214 non-null   object        \n",
      " 11  reg_date               3214 non-null   datetime64[ns]\n",
      " 12  tariff                 3214 non-null   object        \n",
      " 13  messages_included      3214 non-null   int64         \n",
      " 14  mb_per_month_included  3214 non-null   int64         \n",
      " 15  minutes_included       3214 non-null   int64         \n",
      " 16  rub_monthly_fee        3214 non-null   int64         \n",
      " 17  rub_per_gb             3214 non-null   int64         \n",
      " 18  rub_per_message        3214 non-null   int64         \n",
      " 19  rub_per_minute         3214 non-null   int64         \n",
      "dtypes: Int64(1), datetime64[ns](2), float64(3), int64(10), object(4)\n",
      "memory usage: 530.4+ KB\n"
     ]
    }
   ],
   "source": [
    "df.info()"
   ]
  },
  {
   "cell_type": "code",
   "execution_count": 49,
   "id": "0a8d49df",
   "metadata": {},
   "outputs": [
    {
     "data": {
      "text/html": [
       "<div>\n",
       "<style scoped>\n",
       "    .dataframe tbody tr th:only-of-type {\n",
       "        vertical-align: middle;\n",
       "    }\n",
       "\n",
       "    .dataframe tbody tr th {\n",
       "        vertical-align: top;\n",
       "    }\n",
       "\n",
       "    .dataframe thead th {\n",
       "        text-align: right;\n",
       "    }\n",
       "</style>\n",
       "<table border=\"1\" class=\"dataframe\">\n",
       "  <thead>\n",
       "    <tr style=\"text-align: right;\">\n",
       "      <th></th>\n",
       "      <th>user_id</th>\n",
       "      <th>month</th>\n",
       "      <th>calls_total_in_month</th>\n",
       "      <th>month_calls_duration</th>\n",
       "      <th>sms_total_in_month</th>\n",
       "      <th>mb_total_in_month</th>\n",
       "      <th>age</th>\n",
       "      <th>churn_date</th>\n",
       "      <th>city</th>\n",
       "      <th>first_name</th>\n",
       "      <th>last_name</th>\n",
       "      <th>reg_date</th>\n",
       "      <th>tariff</th>\n",
       "      <th>messages_included</th>\n",
       "      <th>mb_per_month_included</th>\n",
       "      <th>minutes_included</th>\n",
       "      <th>rub_monthly_fee</th>\n",
       "      <th>rub_per_gb</th>\n",
       "      <th>rub_per_message</th>\n",
       "      <th>rub_per_minute</th>\n",
       "    </tr>\n",
       "  </thead>\n",
       "  <tbody>\n",
       "    <tr>\n",
       "      <th>0</th>\n",
       "      <td>1000</td>\n",
       "      <td>5</td>\n",
       "      <td>22.0</td>\n",
       "      <td>159</td>\n",
       "      <td>22.0</td>\n",
       "      <td>2253.49</td>\n",
       "      <td>52</td>\n",
       "      <td>NaT</td>\n",
       "      <td>Краснодар</td>\n",
       "      <td>Рафаил</td>\n",
       "      <td>Верещагин</td>\n",
       "      <td>2018-05-25</td>\n",
       "      <td>ultra</td>\n",
       "      <td>1000</td>\n",
       "      <td>30720</td>\n",
       "      <td>3000</td>\n",
       "      <td>1950</td>\n",
       "      <td>150</td>\n",
       "      <td>1</td>\n",
       "      <td>1</td>\n",
       "    </tr>\n",
       "    <tr>\n",
       "      <th>1</th>\n",
       "      <td>1000</td>\n",
       "      <td>6</td>\n",
       "      <td>43.0</td>\n",
       "      <td>172</td>\n",
       "      <td>60.0</td>\n",
       "      <td>23233.77</td>\n",
       "      <td>52</td>\n",
       "      <td>NaT</td>\n",
       "      <td>Краснодар</td>\n",
       "      <td>Рафаил</td>\n",
       "      <td>Верещагин</td>\n",
       "      <td>2018-05-25</td>\n",
       "      <td>ultra</td>\n",
       "      <td>1000</td>\n",
       "      <td>30720</td>\n",
       "      <td>3000</td>\n",
       "      <td>1950</td>\n",
       "      <td>150</td>\n",
       "      <td>1</td>\n",
       "      <td>1</td>\n",
       "    </tr>\n",
       "    <tr>\n",
       "      <th>2</th>\n",
       "      <td>1000</td>\n",
       "      <td>7</td>\n",
       "      <td>47.0</td>\n",
       "      <td>340</td>\n",
       "      <td>75.0</td>\n",
       "      <td>14003.64</td>\n",
       "      <td>52</td>\n",
       "      <td>NaT</td>\n",
       "      <td>Краснодар</td>\n",
       "      <td>Рафаил</td>\n",
       "      <td>Верещагин</td>\n",
       "      <td>2018-05-25</td>\n",
       "      <td>ultra</td>\n",
       "      <td>1000</td>\n",
       "      <td>30720</td>\n",
       "      <td>3000</td>\n",
       "      <td>1950</td>\n",
       "      <td>150</td>\n",
       "      <td>1</td>\n",
       "      <td>1</td>\n",
       "    </tr>\n",
       "    <tr>\n",
       "      <th>3</th>\n",
       "      <td>1000</td>\n",
       "      <td>8</td>\n",
       "      <td>52.0</td>\n",
       "      <td>408</td>\n",
       "      <td>81.0</td>\n",
       "      <td>14055.93</td>\n",
       "      <td>52</td>\n",
       "      <td>NaT</td>\n",
       "      <td>Краснодар</td>\n",
       "      <td>Рафаил</td>\n",
       "      <td>Верещагин</td>\n",
       "      <td>2018-05-25</td>\n",
       "      <td>ultra</td>\n",
       "      <td>1000</td>\n",
       "      <td>30720</td>\n",
       "      <td>3000</td>\n",
       "      <td>1950</td>\n",
       "      <td>150</td>\n",
       "      <td>1</td>\n",
       "      <td>1</td>\n",
       "    </tr>\n",
       "    <tr>\n",
       "      <th>4</th>\n",
       "      <td>1000</td>\n",
       "      <td>9</td>\n",
       "      <td>58.0</td>\n",
       "      <td>466</td>\n",
       "      <td>57.0</td>\n",
       "      <td>14568.91</td>\n",
       "      <td>52</td>\n",
       "      <td>NaT</td>\n",
       "      <td>Краснодар</td>\n",
       "      <td>Рафаил</td>\n",
       "      <td>Верещагин</td>\n",
       "      <td>2018-05-25</td>\n",
       "      <td>ultra</td>\n",
       "      <td>1000</td>\n",
       "      <td>30720</td>\n",
       "      <td>3000</td>\n",
       "      <td>1950</td>\n",
       "      <td>150</td>\n",
       "      <td>1</td>\n",
       "      <td>1</td>\n",
       "    </tr>\n",
       "  </tbody>\n",
       "</table>\n",
       "</div>"
      ],
      "text/plain": [
       "   user_id  month  calls_total_in_month  month_calls_duration  \\\n",
       "0     1000      5                  22.0                   159   \n",
       "1     1000      6                  43.0                   172   \n",
       "2     1000      7                  47.0                   340   \n",
       "3     1000      8                  52.0                   408   \n",
       "4     1000      9                  58.0                   466   \n",
       "\n",
       "   sms_total_in_month  mb_total_in_month  age churn_date       city  \\\n",
       "0                22.0            2253.49   52        NaT  Краснодар   \n",
       "1                60.0           23233.77   52        NaT  Краснодар   \n",
       "2                75.0           14003.64   52        NaT  Краснодар   \n",
       "3                81.0           14055.93   52        NaT  Краснодар   \n",
       "4                57.0           14568.91   52        NaT  Краснодар   \n",
       "\n",
       "  first_name  last_name   reg_date tariff  messages_included  \\\n",
       "0     Рафаил  Верещагин 2018-05-25  ultra               1000   \n",
       "1     Рафаил  Верещагин 2018-05-25  ultra               1000   \n",
       "2     Рафаил  Верещагин 2018-05-25  ultra               1000   \n",
       "3     Рафаил  Верещагин 2018-05-25  ultra               1000   \n",
       "4     Рафаил  Верещагин 2018-05-25  ultra               1000   \n",
       "\n",
       "   mb_per_month_included  minutes_included  rub_monthly_fee  rub_per_gb  \\\n",
       "0                  30720              3000             1950         150   \n",
       "1                  30720              3000             1950         150   \n",
       "2                  30720              3000             1950         150   \n",
       "3                  30720              3000             1950         150   \n",
       "4                  30720              3000             1950         150   \n",
       "\n",
       "   rub_per_message  rub_per_minute  \n",
       "0                1               1  \n",
       "1                1               1  \n",
       "2                1               1  \n",
       "3                1               1  \n",
       "4                1               1  "
      ]
     },
     "execution_count": 49,
     "metadata": {},
     "output_type": "execute_result"
    }
   ],
   "source": [
    "df.head()"
   ]
  },
  {
   "cell_type": "code",
   "execution_count": 50,
   "id": "a2c5c743",
   "metadata": {},
   "outputs": [],
   "source": [
    "# Часть столбцов скрывается. Настроим принудительное отображение\n",
    "pd.set_option('display.max_columns', None)"
   ]
  },
  {
   "cell_type": "code",
   "execution_count": 51,
   "id": "12fa5555",
   "metadata": {},
   "outputs": [
    {
     "data": {
      "text/html": [
       "<div>\n",
       "<style scoped>\n",
       "    .dataframe tbody tr th:only-of-type {\n",
       "        vertical-align: middle;\n",
       "    }\n",
       "\n",
       "    .dataframe tbody tr th {\n",
       "        vertical-align: top;\n",
       "    }\n",
       "\n",
       "    .dataframe thead th {\n",
       "        text-align: right;\n",
       "    }\n",
       "</style>\n",
       "<table border=\"1\" class=\"dataframe\">\n",
       "  <thead>\n",
       "    <tr style=\"text-align: right;\">\n",
       "      <th></th>\n",
       "      <th>user_id</th>\n",
       "      <th>month</th>\n",
       "      <th>calls_total_in_month</th>\n",
       "      <th>month_calls_duration</th>\n",
       "      <th>sms_total_in_month</th>\n",
       "      <th>mb_total_in_month</th>\n",
       "      <th>age</th>\n",
       "      <th>churn_date</th>\n",
       "      <th>city</th>\n",
       "      <th>first_name</th>\n",
       "      <th>last_name</th>\n",
       "      <th>reg_date</th>\n",
       "      <th>tariff</th>\n",
       "      <th>messages_included</th>\n",
       "      <th>mb_per_month_included</th>\n",
       "      <th>minutes_included</th>\n",
       "      <th>rub_monthly_fee</th>\n",
       "      <th>rub_per_gb</th>\n",
       "      <th>rub_per_message</th>\n",
       "      <th>rub_per_minute</th>\n",
       "    </tr>\n",
       "  </thead>\n",
       "  <tbody>\n",
       "    <tr>\n",
       "      <th>0</th>\n",
       "      <td>1000</td>\n",
       "      <td>5</td>\n",
       "      <td>22.0</td>\n",
       "      <td>159</td>\n",
       "      <td>22.0</td>\n",
       "      <td>2253.49</td>\n",
       "      <td>52</td>\n",
       "      <td>NaT</td>\n",
       "      <td>Краснодар</td>\n",
       "      <td>Рафаил</td>\n",
       "      <td>Верещагин</td>\n",
       "      <td>2018-05-25</td>\n",
       "      <td>ultra</td>\n",
       "      <td>1000</td>\n",
       "      <td>30720</td>\n",
       "      <td>3000</td>\n",
       "      <td>1950</td>\n",
       "      <td>150</td>\n",
       "      <td>1</td>\n",
       "      <td>1</td>\n",
       "    </tr>\n",
       "    <tr>\n",
       "      <th>1</th>\n",
       "      <td>1000</td>\n",
       "      <td>6</td>\n",
       "      <td>43.0</td>\n",
       "      <td>172</td>\n",
       "      <td>60.0</td>\n",
       "      <td>23233.77</td>\n",
       "      <td>52</td>\n",
       "      <td>NaT</td>\n",
       "      <td>Краснодар</td>\n",
       "      <td>Рафаил</td>\n",
       "      <td>Верещагин</td>\n",
       "      <td>2018-05-25</td>\n",
       "      <td>ultra</td>\n",
       "      <td>1000</td>\n",
       "      <td>30720</td>\n",
       "      <td>3000</td>\n",
       "      <td>1950</td>\n",
       "      <td>150</td>\n",
       "      <td>1</td>\n",
       "      <td>1</td>\n",
       "    </tr>\n",
       "    <tr>\n",
       "      <th>2</th>\n",
       "      <td>1000</td>\n",
       "      <td>7</td>\n",
       "      <td>47.0</td>\n",
       "      <td>340</td>\n",
       "      <td>75.0</td>\n",
       "      <td>14003.64</td>\n",
       "      <td>52</td>\n",
       "      <td>NaT</td>\n",
       "      <td>Краснодар</td>\n",
       "      <td>Рафаил</td>\n",
       "      <td>Верещагин</td>\n",
       "      <td>2018-05-25</td>\n",
       "      <td>ultra</td>\n",
       "      <td>1000</td>\n",
       "      <td>30720</td>\n",
       "      <td>3000</td>\n",
       "      <td>1950</td>\n",
       "      <td>150</td>\n",
       "      <td>1</td>\n",
       "      <td>1</td>\n",
       "    </tr>\n",
       "    <tr>\n",
       "      <th>3</th>\n",
       "      <td>1000</td>\n",
       "      <td>8</td>\n",
       "      <td>52.0</td>\n",
       "      <td>408</td>\n",
       "      <td>81.0</td>\n",
       "      <td>14055.93</td>\n",
       "      <td>52</td>\n",
       "      <td>NaT</td>\n",
       "      <td>Краснодар</td>\n",
       "      <td>Рафаил</td>\n",
       "      <td>Верещагин</td>\n",
       "      <td>2018-05-25</td>\n",
       "      <td>ultra</td>\n",
       "      <td>1000</td>\n",
       "      <td>30720</td>\n",
       "      <td>3000</td>\n",
       "      <td>1950</td>\n",
       "      <td>150</td>\n",
       "      <td>1</td>\n",
       "      <td>1</td>\n",
       "    </tr>\n",
       "    <tr>\n",
       "      <th>4</th>\n",
       "      <td>1000</td>\n",
       "      <td>9</td>\n",
       "      <td>58.0</td>\n",
       "      <td>466</td>\n",
       "      <td>57.0</td>\n",
       "      <td>14568.91</td>\n",
       "      <td>52</td>\n",
       "      <td>NaT</td>\n",
       "      <td>Краснодар</td>\n",
       "      <td>Рафаил</td>\n",
       "      <td>Верещагин</td>\n",
       "      <td>2018-05-25</td>\n",
       "      <td>ultra</td>\n",
       "      <td>1000</td>\n",
       "      <td>30720</td>\n",
       "      <td>3000</td>\n",
       "      <td>1950</td>\n",
       "      <td>150</td>\n",
       "      <td>1</td>\n",
       "      <td>1</td>\n",
       "    </tr>\n",
       "  </tbody>\n",
       "</table>\n",
       "</div>"
      ],
      "text/plain": [
       "   user_id  month  calls_total_in_month  month_calls_duration  \\\n",
       "0     1000      5                  22.0                   159   \n",
       "1     1000      6                  43.0                   172   \n",
       "2     1000      7                  47.0                   340   \n",
       "3     1000      8                  52.0                   408   \n",
       "4     1000      9                  58.0                   466   \n",
       "\n",
       "   sms_total_in_month  mb_total_in_month  age churn_date       city  \\\n",
       "0                22.0            2253.49   52        NaT  Краснодар   \n",
       "1                60.0           23233.77   52        NaT  Краснодар   \n",
       "2                75.0           14003.64   52        NaT  Краснодар   \n",
       "3                81.0           14055.93   52        NaT  Краснодар   \n",
       "4                57.0           14568.91   52        NaT  Краснодар   \n",
       "\n",
       "  first_name  last_name   reg_date tariff  messages_included  \\\n",
       "0     Рафаил  Верещагин 2018-05-25  ultra               1000   \n",
       "1     Рафаил  Верещагин 2018-05-25  ultra               1000   \n",
       "2     Рафаил  Верещагин 2018-05-25  ultra               1000   \n",
       "3     Рафаил  Верещагин 2018-05-25  ultra               1000   \n",
       "4     Рафаил  Верещагин 2018-05-25  ultra               1000   \n",
       "\n",
       "   mb_per_month_included  minutes_included  rub_monthly_fee  rub_per_gb  \\\n",
       "0                  30720              3000             1950         150   \n",
       "1                  30720              3000             1950         150   \n",
       "2                  30720              3000             1950         150   \n",
       "3                  30720              3000             1950         150   \n",
       "4                  30720              3000             1950         150   \n",
       "\n",
       "   rub_per_message  rub_per_minute  \n",
       "0                1               1  \n",
       "1                1               1  \n",
       "2                1               1  \n",
       "3                1               1  \n",
       "4                1               1  "
      ]
     },
     "execution_count": 51,
     "metadata": {},
     "output_type": "execute_result"
    }
   ],
   "source": [
    "df.head()"
   ]
  },
  {
   "cell_type": "markdown",
   "id": "57efb990",
   "metadata": {},
   "source": [
    "Так как перерасход начисляется за гигабайты, логичнее весь Интернет трафик перевести в ГБ и переименовать столбцы."
   ]
  },
  {
   "cell_type": "code",
   "execution_count": 52,
   "id": "972c3653",
   "metadata": {},
   "outputs": [],
   "source": [
    "df['mb_total_in_month'] = np.ceil(df['mb_total_in_month'] / 1024).astype(int)\n",
    "df['mb_per_month_included'] = np.ceil(df['mb_per_month_included'] / 1024).astype(int)"
   ]
  },
  {
   "cell_type": "code",
   "execution_count": 53,
   "id": "e705d682",
   "metadata": {},
   "outputs": [
    {
     "data": {
      "text/html": [
       "<div>\n",
       "<style scoped>\n",
       "    .dataframe tbody tr th:only-of-type {\n",
       "        vertical-align: middle;\n",
       "    }\n",
       "\n",
       "    .dataframe tbody tr th {\n",
       "        vertical-align: top;\n",
       "    }\n",
       "\n",
       "    .dataframe thead th {\n",
       "        text-align: right;\n",
       "    }\n",
       "</style>\n",
       "<table border=\"1\" class=\"dataframe\">\n",
       "  <thead>\n",
       "    <tr style=\"text-align: right;\">\n",
       "      <th></th>\n",
       "      <th>user_id</th>\n",
       "      <th>month</th>\n",
       "      <th>calls_total_in_month</th>\n",
       "      <th>month_calls_duration</th>\n",
       "      <th>sms_total_in_month</th>\n",
       "      <th>mb_total_in_month</th>\n",
       "      <th>age</th>\n",
       "      <th>churn_date</th>\n",
       "      <th>city</th>\n",
       "      <th>first_name</th>\n",
       "      <th>last_name</th>\n",
       "      <th>reg_date</th>\n",
       "      <th>tariff</th>\n",
       "      <th>messages_included</th>\n",
       "      <th>mb_per_month_included</th>\n",
       "      <th>minutes_included</th>\n",
       "      <th>rub_monthly_fee</th>\n",
       "      <th>rub_per_gb</th>\n",
       "      <th>rub_per_message</th>\n",
       "      <th>rub_per_minute</th>\n",
       "    </tr>\n",
       "  </thead>\n",
       "  <tbody>\n",
       "    <tr>\n",
       "      <th>1230</th>\n",
       "      <td>1054</td>\n",
       "      <td>3</td>\n",
       "      <td>30.0</td>\n",
       "      <td>237</td>\n",
       "      <td>28.0</td>\n",
       "      <td>11</td>\n",
       "      <td>33</td>\n",
       "      <td>NaT</td>\n",
       "      <td>Омск</td>\n",
       "      <td>Кристина</td>\n",
       "      <td>Платонова</td>\n",
       "      <td>2018-03-20</td>\n",
       "      <td>smart</td>\n",
       "      <td>50</td>\n",
       "      <td>15</td>\n",
       "      <td>500</td>\n",
       "      <td>550</td>\n",
       "      <td>200</td>\n",
       "      <td>3</td>\n",
       "      <td>3</td>\n",
       "    </tr>\n",
       "    <tr>\n",
       "      <th>115</th>\n",
       "      <td>1080</td>\n",
       "      <td>9</td>\n",
       "      <td>130.0</td>\n",
       "      <td>951</td>\n",
       "      <td>53.0</td>\n",
       "      <td>3</td>\n",
       "      <td>28</td>\n",
       "      <td>NaT</td>\n",
       "      <td>Москва</td>\n",
       "      <td>Всеволод</td>\n",
       "      <td>Игнатьев</td>\n",
       "      <td>2018-08-12</td>\n",
       "      <td>ultra</td>\n",
       "      <td>1000</td>\n",
       "      <td>30</td>\n",
       "      <td>3000</td>\n",
       "      <td>1950</td>\n",
       "      <td>150</td>\n",
       "      <td>1</td>\n",
       "      <td>1</td>\n",
       "    </tr>\n",
       "    <tr>\n",
       "      <th>704</th>\n",
       "      <td>1380</td>\n",
       "      <td>8</td>\n",
       "      <td>91.0</td>\n",
       "      <td>629</td>\n",
       "      <td>26.0</td>\n",
       "      <td>33</td>\n",
       "      <td>45</td>\n",
       "      <td>NaT</td>\n",
       "      <td>Ростов-на-Дону</td>\n",
       "      <td>Доминика</td>\n",
       "      <td>Карасева</td>\n",
       "      <td>2018-05-07</td>\n",
       "      <td>ultra</td>\n",
       "      <td>1000</td>\n",
       "      <td>30</td>\n",
       "      <td>3000</td>\n",
       "      <td>1950</td>\n",
       "      <td>150</td>\n",
       "      <td>1</td>\n",
       "      <td>1</td>\n",
       "    </tr>\n",
       "    <tr>\n",
       "      <th>1903</th>\n",
       "      <td>1194</td>\n",
       "      <td>12</td>\n",
       "      <td>55.0</td>\n",
       "      <td>403</td>\n",
       "      <td>54.0</td>\n",
       "      <td>14</td>\n",
       "      <td>70</td>\n",
       "      <td>NaT</td>\n",
       "      <td>Москва</td>\n",
       "      <td>Егор</td>\n",
       "      <td>Наумов</td>\n",
       "      <td>2018-12-03</td>\n",
       "      <td>smart</td>\n",
       "      <td>50</td>\n",
       "      <td>15</td>\n",
       "      <td>500</td>\n",
       "      <td>550</td>\n",
       "      <td>200</td>\n",
       "      <td>3</td>\n",
       "      <td>3</td>\n",
       "    </tr>\n",
       "    <tr>\n",
       "      <th>2923</th>\n",
       "      <td>1433</td>\n",
       "      <td>8</td>\n",
       "      <td>78.0</td>\n",
       "      <td>520</td>\n",
       "      <td>79.0</td>\n",
       "      <td>14</td>\n",
       "      <td>71</td>\n",
       "      <td>NaT</td>\n",
       "      <td>Подольск</td>\n",
       "      <td>Клариса</td>\n",
       "      <td>Алёшкова</td>\n",
       "      <td>2018-01-05</td>\n",
       "      <td>smart</td>\n",
       "      <td>50</td>\n",
       "      <td>15</td>\n",
       "      <td>500</td>\n",
       "      <td>550</td>\n",
       "      <td>200</td>\n",
       "      <td>3</td>\n",
       "      <td>3</td>\n",
       "    </tr>\n",
       "  </tbody>\n",
       "</table>\n",
       "</div>"
      ],
      "text/plain": [
       "      user_id  month  calls_total_in_month  month_calls_duration  \\\n",
       "1230     1054      3                  30.0                   237   \n",
       "115      1080      9                 130.0                   951   \n",
       "704      1380      8                  91.0                   629   \n",
       "1903     1194     12                  55.0                   403   \n",
       "2923     1433      8                  78.0                   520   \n",
       "\n",
       "      sms_total_in_month  mb_total_in_month  age churn_date            city  \\\n",
       "1230                28.0                 11   33        NaT            Омск   \n",
       "115                 53.0                  3   28        NaT          Москва   \n",
       "704                 26.0                 33   45        NaT  Ростов-на-Дону   \n",
       "1903                54.0                 14   70        NaT          Москва   \n",
       "2923                79.0                 14   71        NaT        Подольск   \n",
       "\n",
       "     first_name  last_name   reg_date tariff  messages_included  \\\n",
       "1230   Кристина  Платонова 2018-03-20  smart                 50   \n",
       "115    Всеволод   Игнатьев 2018-08-12  ultra               1000   \n",
       "704    Доминика   Карасева 2018-05-07  ultra               1000   \n",
       "1903       Егор     Наумов 2018-12-03  smart                 50   \n",
       "2923    Клариса   Алёшкова 2018-01-05  smart                 50   \n",
       "\n",
       "      mb_per_month_included  minutes_included  rub_monthly_fee  rub_per_gb  \\\n",
       "1230                     15               500              550         200   \n",
       "115                      30              3000             1950         150   \n",
       "704                      30              3000             1950         150   \n",
       "1903                     15               500              550         200   \n",
       "2923                     15               500              550         200   \n",
       "\n",
       "      rub_per_message  rub_per_minute  \n",
       "1230                3               3  \n",
       "115                 1               1  \n",
       "704                 1               1  \n",
       "1903                3               3  \n",
       "2923                3               3  "
      ]
     },
     "execution_count": 53,
     "metadata": {},
     "output_type": "execute_result"
    }
   ],
   "source": [
    "df.sample(n=5, random_state=None)"
   ]
  },
  {
   "cell_type": "code",
   "execution_count": 54,
   "id": "3b2ad78a",
   "metadata": {},
   "outputs": [],
   "source": [
    "df = df.rename(columns={'mb_total_in_month':'gb_total_in_month'})\n",
    "df = df.rename(columns={'mb_per_month_included':'gb_per_month_included'})"
   ]
  },
  {
   "cell_type": "code",
   "execution_count": 55,
   "id": "08081941",
   "metadata": {},
   "outputs": [
    {
     "data": {
      "text/html": [
       "<div>\n",
       "<style scoped>\n",
       "    .dataframe tbody tr th:only-of-type {\n",
       "        vertical-align: middle;\n",
       "    }\n",
       "\n",
       "    .dataframe tbody tr th {\n",
       "        vertical-align: top;\n",
       "    }\n",
       "\n",
       "    .dataframe thead th {\n",
       "        text-align: right;\n",
       "    }\n",
       "</style>\n",
       "<table border=\"1\" class=\"dataframe\">\n",
       "  <thead>\n",
       "    <tr style=\"text-align: right;\">\n",
       "      <th></th>\n",
       "      <th>user_id</th>\n",
       "      <th>month</th>\n",
       "      <th>calls_total_in_month</th>\n",
       "      <th>month_calls_duration</th>\n",
       "      <th>sms_total_in_month</th>\n",
       "      <th>gb_total_in_month</th>\n",
       "      <th>age</th>\n",
       "      <th>churn_date</th>\n",
       "      <th>city</th>\n",
       "      <th>first_name</th>\n",
       "      <th>last_name</th>\n",
       "      <th>reg_date</th>\n",
       "      <th>tariff</th>\n",
       "      <th>messages_included</th>\n",
       "      <th>gb_per_month_included</th>\n",
       "      <th>minutes_included</th>\n",
       "      <th>rub_monthly_fee</th>\n",
       "      <th>rub_per_gb</th>\n",
       "      <th>rub_per_message</th>\n",
       "      <th>rub_per_minute</th>\n",
       "    </tr>\n",
       "  </thead>\n",
       "  <tbody>\n",
       "    <tr>\n",
       "      <th>234</th>\n",
       "      <td>1143</td>\n",
       "      <td>12</td>\n",
       "      <td>97.0</td>\n",
       "      <td>813</td>\n",
       "      <td>0.0</td>\n",
       "      <td>23</td>\n",
       "      <td>64</td>\n",
       "      <td>NaT</td>\n",
       "      <td>Пермь</td>\n",
       "      <td>Арсен</td>\n",
       "      <td>Покровский</td>\n",
       "      <td>2018-04-27</td>\n",
       "      <td>ultra</td>\n",
       "      <td>1000</td>\n",
       "      <td>30</td>\n",
       "      <td>3000</td>\n",
       "      <td>1950</td>\n",
       "      <td>150</td>\n",
       "      <td>1</td>\n",
       "      <td>1</td>\n",
       "    </tr>\n",
       "    <tr>\n",
       "      <th>2159</th>\n",
       "      <td>1251</td>\n",
       "      <td>9</td>\n",
       "      <td>62.0</td>\n",
       "      <td>443</td>\n",
       "      <td>93.0</td>\n",
       "      <td>20</td>\n",
       "      <td>48</td>\n",
       "      <td>NaT</td>\n",
       "      <td>Пермь</td>\n",
       "      <td>Роксана</td>\n",
       "      <td>Тетерина</td>\n",
       "      <td>2018-02-13</td>\n",
       "      <td>smart</td>\n",
       "      <td>50</td>\n",
       "      <td>15</td>\n",
       "      <td>500</td>\n",
       "      <td>550</td>\n",
       "      <td>200</td>\n",
       "      <td>3</td>\n",
       "      <td>3</td>\n",
       "    </tr>\n",
       "    <tr>\n",
       "      <th>2418</th>\n",
       "      <td>1314</td>\n",
       "      <td>7</td>\n",
       "      <td>70.0</td>\n",
       "      <td>586</td>\n",
       "      <td>28.0</td>\n",
       "      <td>24</td>\n",
       "      <td>27</td>\n",
       "      <td>NaT</td>\n",
       "      <td>Киров</td>\n",
       "      <td>Максим</td>\n",
       "      <td>Амелишко</td>\n",
       "      <td>2018-03-04</td>\n",
       "      <td>smart</td>\n",
       "      <td>50</td>\n",
       "      <td>15</td>\n",
       "      <td>500</td>\n",
       "      <td>550</td>\n",
       "      <td>200</td>\n",
       "      <td>3</td>\n",
       "      <td>3</td>\n",
       "    </tr>\n",
       "    <tr>\n",
       "      <th>2420</th>\n",
       "      <td>1314</td>\n",
       "      <td>9</td>\n",
       "      <td>71.0</td>\n",
       "      <td>519</td>\n",
       "      <td>33.0</td>\n",
       "      <td>17</td>\n",
       "      <td>27</td>\n",
       "      <td>NaT</td>\n",
       "      <td>Киров</td>\n",
       "      <td>Максим</td>\n",
       "      <td>Амелишко</td>\n",
       "      <td>2018-03-04</td>\n",
       "      <td>smart</td>\n",
       "      <td>50</td>\n",
       "      <td>15</td>\n",
       "      <td>500</td>\n",
       "      <td>550</td>\n",
       "      <td>200</td>\n",
       "      <td>3</td>\n",
       "      <td>3</td>\n",
       "    </tr>\n",
       "    <tr>\n",
       "      <th>260</th>\n",
       "      <td>1152</td>\n",
       "      <td>9</td>\n",
       "      <td>42.0</td>\n",
       "      <td>288</td>\n",
       "      <td>0.0</td>\n",
       "      <td>21</td>\n",
       "      <td>44</td>\n",
       "      <td>NaT</td>\n",
       "      <td>Мурманск</td>\n",
       "      <td>Марина</td>\n",
       "      <td>Щербакова</td>\n",
       "      <td>2018-02-05</td>\n",
       "      <td>ultra</td>\n",
       "      <td>1000</td>\n",
       "      <td>30</td>\n",
       "      <td>3000</td>\n",
       "      <td>1950</td>\n",
       "      <td>150</td>\n",
       "      <td>1</td>\n",
       "      <td>1</td>\n",
       "    </tr>\n",
       "  </tbody>\n",
       "</table>\n",
       "</div>"
      ],
      "text/plain": [
       "      user_id  month  calls_total_in_month  month_calls_duration  \\\n",
       "234      1143     12                  97.0                   813   \n",
       "2159     1251      9                  62.0                   443   \n",
       "2418     1314      7                  70.0                   586   \n",
       "2420     1314      9                  71.0                   519   \n",
       "260      1152      9                  42.0                   288   \n",
       "\n",
       "      sms_total_in_month  gb_total_in_month  age churn_date      city  \\\n",
       "234                  0.0                 23   64        NaT     Пермь   \n",
       "2159                93.0                 20   48        NaT     Пермь   \n",
       "2418                28.0                 24   27        NaT     Киров   \n",
       "2420                33.0                 17   27        NaT     Киров   \n",
       "260                  0.0                 21   44        NaT  Мурманск   \n",
       "\n",
       "     first_name   last_name   reg_date tariff  messages_included  \\\n",
       "234       Арсен  Покровский 2018-04-27  ultra               1000   \n",
       "2159    Роксана    Тетерина 2018-02-13  smart                 50   \n",
       "2418     Максим    Амелишко 2018-03-04  smart                 50   \n",
       "2420     Максим    Амелишко 2018-03-04  smart                 50   \n",
       "260      Марина   Щербакова 2018-02-05  ultra               1000   \n",
       "\n",
       "      gb_per_month_included  minutes_included  rub_monthly_fee  rub_per_gb  \\\n",
       "234                      30              3000             1950         150   \n",
       "2159                     15               500              550         200   \n",
       "2418                     15               500              550         200   \n",
       "2420                     15               500              550         200   \n",
       "260                      30              3000             1950         150   \n",
       "\n",
       "      rub_per_message  rub_per_minute  \n",
       "234                 1               1  \n",
       "2159                3               3  \n",
       "2418                3               3  \n",
       "2420                3               3  \n",
       "260                 1               1  "
      ]
     },
     "execution_count": 55,
     "metadata": {},
     "output_type": "execute_result"
    }
   ],
   "source": [
    "df.sample(n=5, random_state=None)"
   ]
  },
  {
   "cell_type": "code",
   "execution_count": 56,
   "id": "f7d6be4b",
   "metadata": {},
   "outputs": [],
   "source": [
    "df['minutes_overrun'] = [max(x-y, 0) for x, y in zip(df['month_calls_duration'], df['minutes_included'])]\n",
    "df['messages_overrun'] = [max(x-y, 0) for x, y in zip(df['sms_total_in_month'], df['messages_included'])]\n",
    "df['gb_overrun'] = [max(x-y, 0) for x, y in zip(df['gb_total_in_month'], df['gb_per_month_included'])]"
   ]
  },
  {
   "cell_type": "code",
   "execution_count": 57,
   "id": "b374b97e",
   "metadata": {},
   "outputs": [
    {
     "data": {
      "text/html": [
       "<div>\n",
       "<style scoped>\n",
       "    .dataframe tbody tr th:only-of-type {\n",
       "        vertical-align: middle;\n",
       "    }\n",
       "\n",
       "    .dataframe tbody tr th {\n",
       "        vertical-align: top;\n",
       "    }\n",
       "\n",
       "    .dataframe thead th {\n",
       "        text-align: right;\n",
       "    }\n",
       "</style>\n",
       "<table border=\"1\" class=\"dataframe\">\n",
       "  <thead>\n",
       "    <tr style=\"text-align: right;\">\n",
       "      <th></th>\n",
       "      <th>user_id</th>\n",
       "      <th>month</th>\n",
       "      <th>calls_total_in_month</th>\n",
       "      <th>month_calls_duration</th>\n",
       "      <th>sms_total_in_month</th>\n",
       "      <th>gb_total_in_month</th>\n",
       "      <th>age</th>\n",
       "      <th>churn_date</th>\n",
       "      <th>city</th>\n",
       "      <th>first_name</th>\n",
       "      <th>last_name</th>\n",
       "      <th>reg_date</th>\n",
       "      <th>tariff</th>\n",
       "      <th>messages_included</th>\n",
       "      <th>gb_per_month_included</th>\n",
       "      <th>minutes_included</th>\n",
       "      <th>rub_monthly_fee</th>\n",
       "      <th>rub_per_gb</th>\n",
       "      <th>rub_per_message</th>\n",
       "      <th>rub_per_minute</th>\n",
       "      <th>minutes_overrun</th>\n",
       "      <th>messages_overrun</th>\n",
       "      <th>gb_overrun</th>\n",
       "    </tr>\n",
       "  </thead>\n",
       "  <tbody>\n",
       "    <tr>\n",
       "      <th>1509</th>\n",
       "      <td>1116</td>\n",
       "      <td>4</td>\n",
       "      <td>19.0</td>\n",
       "      <td>168</td>\n",
       "      <td>0.0</td>\n",
       "      <td>10</td>\n",
       "      <td>65</td>\n",
       "      <td>NaT</td>\n",
       "      <td>Петрозаводск</td>\n",
       "      <td>Альберта</td>\n",
       "      <td>Шевцова</td>\n",
       "      <td>2018-04-17</td>\n",
       "      <td>smart</td>\n",
       "      <td>50</td>\n",
       "      <td>15</td>\n",
       "      <td>500</td>\n",
       "      <td>550</td>\n",
       "      <td>200</td>\n",
       "      <td>3</td>\n",
       "      <td>3</td>\n",
       "      <td>0</td>\n",
       "      <td>0.0</td>\n",
       "      <td>0</td>\n",
       "    </tr>\n",
       "    <tr>\n",
       "      <th>610</th>\n",
       "      <td>1348</td>\n",
       "      <td>11</td>\n",
       "      <td>81.0</td>\n",
       "      <td>515</td>\n",
       "      <td>40.0</td>\n",
       "      <td>27</td>\n",
       "      <td>55</td>\n",
       "      <td>NaT</td>\n",
       "      <td>Москва</td>\n",
       "      <td>Вероника</td>\n",
       "      <td>Громова</td>\n",
       "      <td>2018-10-07</td>\n",
       "      <td>ultra</td>\n",
       "      <td>1000</td>\n",
       "      <td>30</td>\n",
       "      <td>3000</td>\n",
       "      <td>1950</td>\n",
       "      <td>150</td>\n",
       "      <td>1</td>\n",
       "      <td>1</td>\n",
       "      <td>0</td>\n",
       "      <td>0.0</td>\n",
       "      <td>0</td>\n",
       "    </tr>\n",
       "    <tr>\n",
       "      <th>1047</th>\n",
       "      <td>1011</td>\n",
       "      <td>8</td>\n",
       "      <td>74.0</td>\n",
       "      <td>515</td>\n",
       "      <td>15.0</td>\n",
       "      <td>21</td>\n",
       "      <td>44</td>\n",
       "      <td>NaT</td>\n",
       "      <td>Самара</td>\n",
       "      <td>Веселина</td>\n",
       "      <td>Алёшко</td>\n",
       "      <td>2018-03-19</td>\n",
       "      <td>smart</td>\n",
       "      <td>50</td>\n",
       "      <td>15</td>\n",
       "      <td>500</td>\n",
       "      <td>550</td>\n",
       "      <td>200</td>\n",
       "      <td>3</td>\n",
       "      <td>3</td>\n",
       "      <td>15</td>\n",
       "      <td>0.0</td>\n",
       "      <td>6</td>\n",
       "    </tr>\n",
       "    <tr>\n",
       "      <th>570</th>\n",
       "      <td>1333</td>\n",
       "      <td>9</td>\n",
       "      <td>7.0</td>\n",
       "      <td>50</td>\n",
       "      <td>16.0</td>\n",
       "      <td>4</td>\n",
       "      <td>58</td>\n",
       "      <td>NaT</td>\n",
       "      <td>Москва</td>\n",
       "      <td>Вера</td>\n",
       "      <td>Антонова</td>\n",
       "      <td>2018-09-28</td>\n",
       "      <td>ultra</td>\n",
       "      <td>1000</td>\n",
       "      <td>30</td>\n",
       "      <td>3000</td>\n",
       "      <td>1950</td>\n",
       "      <td>150</td>\n",
       "      <td>1</td>\n",
       "      <td>1</td>\n",
       "      <td>0</td>\n",
       "      <td>0.0</td>\n",
       "      <td>0</td>\n",
       "    </tr>\n",
       "    <tr>\n",
       "      <th>2435</th>\n",
       "      <td>1317</td>\n",
       "      <td>10</td>\n",
       "      <td>94.0</td>\n",
       "      <td>678</td>\n",
       "      <td>32.0</td>\n",
       "      <td>18</td>\n",
       "      <td>45</td>\n",
       "      <td>NaT</td>\n",
       "      <td>Москва</td>\n",
       "      <td>Всеволод</td>\n",
       "      <td>Зыков</td>\n",
       "      <td>2018-07-09</td>\n",
       "      <td>smart</td>\n",
       "      <td>50</td>\n",
       "      <td>15</td>\n",
       "      <td>500</td>\n",
       "      <td>550</td>\n",
       "      <td>200</td>\n",
       "      <td>3</td>\n",
       "      <td>3</td>\n",
       "      <td>178</td>\n",
       "      <td>0.0</td>\n",
       "      <td>3</td>\n",
       "    </tr>\n",
       "  </tbody>\n",
       "</table>\n",
       "</div>"
      ],
      "text/plain": [
       "      user_id  month  calls_total_in_month  month_calls_duration  \\\n",
       "1509     1116      4                  19.0                   168   \n",
       "610      1348     11                  81.0                   515   \n",
       "1047     1011      8                  74.0                   515   \n",
       "570      1333      9                   7.0                    50   \n",
       "2435     1317     10                  94.0                   678   \n",
       "\n",
       "      sms_total_in_month  gb_total_in_month  age churn_date          city  \\\n",
       "1509                 0.0                 10   65        NaT  Петрозаводск   \n",
       "610                 40.0                 27   55        NaT        Москва   \n",
       "1047                15.0                 21   44        NaT        Самара   \n",
       "570                 16.0                  4   58        NaT        Москва   \n",
       "2435                32.0                 18   45        NaT        Москва   \n",
       "\n",
       "     first_name last_name   reg_date tariff  messages_included  \\\n",
       "1509   Альберта   Шевцова 2018-04-17  smart                 50   \n",
       "610    Вероника   Громова 2018-10-07  ultra               1000   \n",
       "1047   Веселина    Алёшко 2018-03-19  smart                 50   \n",
       "570        Вера  Антонова 2018-09-28  ultra               1000   \n",
       "2435   Всеволод     Зыков 2018-07-09  smart                 50   \n",
       "\n",
       "      gb_per_month_included  minutes_included  rub_monthly_fee  rub_per_gb  \\\n",
       "1509                     15               500              550         200   \n",
       "610                      30              3000             1950         150   \n",
       "1047                     15               500              550         200   \n",
       "570                      30              3000             1950         150   \n",
       "2435                     15               500              550         200   \n",
       "\n",
       "      rub_per_message  rub_per_minute  minutes_overrun  messages_overrun  \\\n",
       "1509                3               3                0               0.0   \n",
       "610                 1               1                0               0.0   \n",
       "1047                3               3               15               0.0   \n",
       "570                 1               1                0               0.0   \n",
       "2435                3               3              178               0.0   \n",
       "\n",
       "      gb_overrun  \n",
       "1509           0  \n",
       "610            0  \n",
       "1047           6  \n",
       "570            0  \n",
       "2435           3  "
      ]
     },
     "execution_count": 57,
     "metadata": {},
     "output_type": "execute_result"
    }
   ],
   "source": [
    "df.sample(n=5, random_state=None)"
   ]
  },
  {
   "cell_type": "code",
   "execution_count": 58,
   "id": "840388ce",
   "metadata": {},
   "outputs": [
    {
     "data": {
      "text/html": [
       "<div>\n",
       "<style scoped>\n",
       "    .dataframe tbody tr th:only-of-type {\n",
       "        vertical-align: middle;\n",
       "    }\n",
       "\n",
       "    .dataframe tbody tr th {\n",
       "        vertical-align: top;\n",
       "    }\n",
       "\n",
       "    .dataframe thead th {\n",
       "        text-align: right;\n",
       "    }\n",
       "</style>\n",
       "<table border=\"1\" class=\"dataframe\">\n",
       "  <thead>\n",
       "    <tr style=\"text-align: right;\">\n",
       "      <th></th>\n",
       "      <th>user_id</th>\n",
       "      <th>month</th>\n",
       "      <th>calls_total_in_month</th>\n",
       "      <th>month_calls_duration</th>\n",
       "      <th>sms_total_in_month</th>\n",
       "      <th>gb_total_in_month</th>\n",
       "      <th>age</th>\n",
       "      <th>churn_date</th>\n",
       "      <th>city</th>\n",
       "      <th>first_name</th>\n",
       "      <th>last_name</th>\n",
       "      <th>reg_date</th>\n",
       "      <th>tariff</th>\n",
       "      <th>messages_included</th>\n",
       "      <th>gb_per_month_included</th>\n",
       "      <th>minutes_included</th>\n",
       "      <th>rub_monthly_fee</th>\n",
       "      <th>rub_per_gb</th>\n",
       "      <th>rub_per_message</th>\n",
       "      <th>rub_per_minute</th>\n",
       "      <th>minutes_overrun</th>\n",
       "      <th>messages_overrun</th>\n",
       "      <th>gb_overrun</th>\n",
       "    </tr>\n",
       "  </thead>\n",
       "  <tbody>\n",
       "    <tr>\n",
       "      <th>996</th>\n",
       "      <td>1005</td>\n",
       "      <td>3</td>\n",
       "      <td>77.0</td>\n",
       "      <td>606</td>\n",
       "      <td>56.0</td>\n",
       "      <td>11</td>\n",
       "      <td>67</td>\n",
       "      <td>NaT</td>\n",
       "      <td>Набережные Челны</td>\n",
       "      <td>Афанасий</td>\n",
       "      <td>Горлов</td>\n",
       "      <td>2018-01-25</td>\n",
       "      <td>smart</td>\n",
       "      <td>50</td>\n",
       "      <td>15</td>\n",
       "      <td>500</td>\n",
       "      <td>550</td>\n",
       "      <td>200</td>\n",
       "      <td>3</td>\n",
       "      <td>3</td>\n",
       "      <td>106</td>\n",
       "      <td>6.0</td>\n",
       "      <td>0</td>\n",
       "    </tr>\n",
       "    <tr>\n",
       "      <th>997</th>\n",
       "      <td>1005</td>\n",
       "      <td>4</td>\n",
       "      <td>101.0</td>\n",
       "      <td>712</td>\n",
       "      <td>41.0</td>\n",
       "      <td>10</td>\n",
       "      <td>67</td>\n",
       "      <td>NaT</td>\n",
       "      <td>Набережные Челны</td>\n",
       "      <td>Афанасий</td>\n",
       "      <td>Горлов</td>\n",
       "      <td>2018-01-25</td>\n",
       "      <td>smart</td>\n",
       "      <td>50</td>\n",
       "      <td>15</td>\n",
       "      <td>500</td>\n",
       "      <td>550</td>\n",
       "      <td>200</td>\n",
       "      <td>3</td>\n",
       "      <td>3</td>\n",
       "      <td>212</td>\n",
       "      <td>0.0</td>\n",
       "      <td>0</td>\n",
       "    </tr>\n",
       "    <tr>\n",
       "      <th>998</th>\n",
       "      <td>1005</td>\n",
       "      <td>5</td>\n",
       "      <td>73.0</td>\n",
       "      <td>595</td>\n",
       "      <td>42.0</td>\n",
       "      <td>8</td>\n",
       "      <td>67</td>\n",
       "      <td>NaT</td>\n",
       "      <td>Набережные Челны</td>\n",
       "      <td>Афанасий</td>\n",
       "      <td>Горлов</td>\n",
       "      <td>2018-01-25</td>\n",
       "      <td>smart</td>\n",
       "      <td>50</td>\n",
       "      <td>15</td>\n",
       "      <td>500</td>\n",
       "      <td>550</td>\n",
       "      <td>200</td>\n",
       "      <td>3</td>\n",
       "      <td>3</td>\n",
       "      <td>95</td>\n",
       "      <td>0.0</td>\n",
       "      <td>0</td>\n",
       "    </tr>\n",
       "    <tr>\n",
       "      <th>999</th>\n",
       "      <td>1005</td>\n",
       "      <td>6</td>\n",
       "      <td>80.0</td>\n",
       "      <td>612</td>\n",
       "      <td>47.0</td>\n",
       "      <td>10</td>\n",
       "      <td>67</td>\n",
       "      <td>NaT</td>\n",
       "      <td>Набережные Челны</td>\n",
       "      <td>Афанасий</td>\n",
       "      <td>Горлов</td>\n",
       "      <td>2018-01-25</td>\n",
       "      <td>smart</td>\n",
       "      <td>50</td>\n",
       "      <td>15</td>\n",
       "      <td>500</td>\n",
       "      <td>550</td>\n",
       "      <td>200</td>\n",
       "      <td>3</td>\n",
       "      <td>3</td>\n",
       "      <td>112</td>\n",
       "      <td>0.0</td>\n",
       "      <td>0</td>\n",
       "    </tr>\n",
       "    <tr>\n",
       "      <th>1000</th>\n",
       "      <td>1005</td>\n",
       "      <td>7</td>\n",
       "      <td>77.0</td>\n",
       "      <td>569</td>\n",
       "      <td>56.0</td>\n",
       "      <td>8</td>\n",
       "      <td>67</td>\n",
       "      <td>NaT</td>\n",
       "      <td>Набережные Челны</td>\n",
       "      <td>Афанасий</td>\n",
       "      <td>Горлов</td>\n",
       "      <td>2018-01-25</td>\n",
       "      <td>smart</td>\n",
       "      <td>50</td>\n",
       "      <td>15</td>\n",
       "      <td>500</td>\n",
       "      <td>550</td>\n",
       "      <td>200</td>\n",
       "      <td>3</td>\n",
       "      <td>3</td>\n",
       "      <td>69</td>\n",
       "      <td>6.0</td>\n",
       "      <td>0</td>\n",
       "    </tr>\n",
       "  </tbody>\n",
       "</table>\n",
       "</div>"
      ],
      "text/plain": [
       "      user_id  month  calls_total_in_month  month_calls_duration  \\\n",
       "996      1005      3                  77.0                   606   \n",
       "997      1005      4                 101.0                   712   \n",
       "998      1005      5                  73.0                   595   \n",
       "999      1005      6                  80.0                   612   \n",
       "1000     1005      7                  77.0                   569   \n",
       "\n",
       "      sms_total_in_month  gb_total_in_month  age churn_date              city  \\\n",
       "996                 56.0                 11   67        NaT  Набережные Челны   \n",
       "997                 41.0                 10   67        NaT  Набережные Челны   \n",
       "998                 42.0                  8   67        NaT  Набережные Челны   \n",
       "999                 47.0                 10   67        NaT  Набережные Челны   \n",
       "1000                56.0                  8   67        NaT  Набережные Челны   \n",
       "\n",
       "     first_name last_name   reg_date tariff  messages_included  \\\n",
       "996    Афанасий    Горлов 2018-01-25  smart                 50   \n",
       "997    Афанасий    Горлов 2018-01-25  smart                 50   \n",
       "998    Афанасий    Горлов 2018-01-25  smart                 50   \n",
       "999    Афанасий    Горлов 2018-01-25  smart                 50   \n",
       "1000   Афанасий    Горлов 2018-01-25  smart                 50   \n",
       "\n",
       "      gb_per_month_included  minutes_included  rub_monthly_fee  rub_per_gb  \\\n",
       "996                      15               500              550         200   \n",
       "997                      15               500              550         200   \n",
       "998                      15               500              550         200   \n",
       "999                      15               500              550         200   \n",
       "1000                     15               500              550         200   \n",
       "\n",
       "      rub_per_message  rub_per_minute  minutes_overrun  messages_overrun  \\\n",
       "996                 3               3              106               6.0   \n",
       "997                 3               3              212               0.0   \n",
       "998                 3               3               95               0.0   \n",
       "999                 3               3              112               0.0   \n",
       "1000                3               3               69               6.0   \n",
       "\n",
       "      gb_overrun  \n",
       "996            0  \n",
       "997            0  \n",
       "998            0  \n",
       "999            0  \n",
       "1000           0  "
      ]
     },
     "execution_count": 58,
     "metadata": {},
     "output_type": "execute_result"
    }
   ],
   "source": [
    "df.query(\"minutes_overrun != 0\").head(5)"
   ]
  },
  {
   "cell_type": "code",
   "execution_count": 59,
   "id": "c8ffc89a",
   "metadata": {},
   "outputs": [],
   "source": [
    "# Напишем функцию, которая считет выручку исходя из тарифа и потребляемых услуг\n",
    "def get_revenue(row):\n",
    "    revenue_by_min = 0\n",
    "    revenue_by_messages = 0\n",
    "    revenue_gb = 0\n",
    "    \n",
    "    # Cтоимость минут потраченных сверх тарифа\n",
    "    if row['minutes_overrun'] > 0:\n",
    "        revenue_by_min = row['minutes_overrun'] * row['rub_per_minute']\n",
    "        \n",
    "    # Cтоимость сообщений потраченных сверх тарифа\n",
    "    if row['messages_overrun'] > 0:\n",
    "        revenue_by_messages = row['messages_overrun'] * row['rub_per_message']\n",
    "        \n",
    "    # Cтоимость Гб потраченных сверх тарифа\n",
    "    if row['gb_overrun'] > 0:\n",
    "        revenue_gb = row['gb_overrun'] * row['rub_per_gb']\n",
    "    \n",
    "    return revenue_by_min + revenue_by_messages + revenue_gb"
   ]
  },
  {
   "cell_type": "code",
   "execution_count": 60,
   "id": "8aa6d542",
   "metadata": {},
   "outputs": [],
   "source": [
    "df['revenue'] = df.apply(get_revenue, axis=1)"
   ]
  },
  {
   "cell_type": "code",
   "execution_count": 61,
   "id": "65844892",
   "metadata": {},
   "outputs": [
    {
     "data": {
      "text/html": [
       "<div>\n",
       "<style scoped>\n",
       "    .dataframe tbody tr th:only-of-type {\n",
       "        vertical-align: middle;\n",
       "    }\n",
       "\n",
       "    .dataframe tbody tr th {\n",
       "        vertical-align: top;\n",
       "    }\n",
       "\n",
       "    .dataframe thead th {\n",
       "        text-align: right;\n",
       "    }\n",
       "</style>\n",
       "<table border=\"1\" class=\"dataframe\">\n",
       "  <thead>\n",
       "    <tr style=\"text-align: right;\">\n",
       "      <th></th>\n",
       "      <th>user_id</th>\n",
       "      <th>month</th>\n",
       "      <th>calls_total_in_month</th>\n",
       "      <th>month_calls_duration</th>\n",
       "      <th>sms_total_in_month</th>\n",
       "      <th>gb_total_in_month</th>\n",
       "      <th>age</th>\n",
       "      <th>churn_date</th>\n",
       "      <th>city</th>\n",
       "      <th>first_name</th>\n",
       "      <th>last_name</th>\n",
       "      <th>reg_date</th>\n",
       "      <th>tariff</th>\n",
       "      <th>messages_included</th>\n",
       "      <th>gb_per_month_included</th>\n",
       "      <th>minutes_included</th>\n",
       "      <th>rub_monthly_fee</th>\n",
       "      <th>rub_per_gb</th>\n",
       "      <th>rub_per_message</th>\n",
       "      <th>rub_per_minute</th>\n",
       "      <th>minutes_overrun</th>\n",
       "      <th>messages_overrun</th>\n",
       "      <th>gb_overrun</th>\n",
       "      <th>revenue</th>\n",
       "    </tr>\n",
       "  </thead>\n",
       "  <tbody>\n",
       "    <tr>\n",
       "      <th>1228</th>\n",
       "      <td>1052</td>\n",
       "      <td>11</td>\n",
       "      <td>98.0</td>\n",
       "      <td>682</td>\n",
       "      <td>106.0</td>\n",
       "      <td>20</td>\n",
       "      <td>52</td>\n",
       "      <td>NaT</td>\n",
       "      <td>Санкт-Петербург</td>\n",
       "      <td>Павел</td>\n",
       "      <td>Панов</td>\n",
       "      <td>2018-07-27</td>\n",
       "      <td>smart</td>\n",
       "      <td>50</td>\n",
       "      <td>15</td>\n",
       "      <td>500</td>\n",
       "      <td>550</td>\n",
       "      <td>200</td>\n",
       "      <td>3</td>\n",
       "      <td>3</td>\n",
       "      <td>182</td>\n",
       "      <td>56.0</td>\n",
       "      <td>5</td>\n",
       "      <td>1714.0</td>\n",
       "    </tr>\n",
       "    <tr>\n",
       "      <th>251</th>\n",
       "      <td>1151</td>\n",
       "      <td>11</td>\n",
       "      <td>89.0</td>\n",
       "      <td>692</td>\n",
       "      <td>18.0</td>\n",
       "      <td>4</td>\n",
       "      <td>39</td>\n",
       "      <td>NaT</td>\n",
       "      <td>Пенза</td>\n",
       "      <td>Лариса</td>\n",
       "      <td>Молчанова</td>\n",
       "      <td>2018-09-15</td>\n",
       "      <td>ultra</td>\n",
       "      <td>1000</td>\n",
       "      <td>30</td>\n",
       "      <td>3000</td>\n",
       "      <td>1950</td>\n",
       "      <td>150</td>\n",
       "      <td>1</td>\n",
       "      <td>1</td>\n",
       "      <td>0</td>\n",
       "      <td>0.0</td>\n",
       "      <td>0</td>\n",
       "      <td>0.0</td>\n",
       "    </tr>\n",
       "    <tr>\n",
       "      <th>1988</th>\n",
       "      <td>1216</td>\n",
       "      <td>12</td>\n",
       "      <td>198.0</td>\n",
       "      <td>1435</td>\n",
       "      <td>64.0</td>\n",
       "      <td>20</td>\n",
       "      <td>74</td>\n",
       "      <td>NaT</td>\n",
       "      <td>Волгоград</td>\n",
       "      <td>Рустам</td>\n",
       "      <td>Малинин</td>\n",
       "      <td>2018-11-23</td>\n",
       "      <td>smart</td>\n",
       "      <td>50</td>\n",
       "      <td>15</td>\n",
       "      <td>500</td>\n",
       "      <td>550</td>\n",
       "      <td>200</td>\n",
       "      <td>3</td>\n",
       "      <td>3</td>\n",
       "      <td>935</td>\n",
       "      <td>14.0</td>\n",
       "      <td>5</td>\n",
       "      <td>3847.0</td>\n",
       "    </tr>\n",
       "    <tr>\n",
       "      <th>1966</th>\n",
       "      <td>1211</td>\n",
       "      <td>10</td>\n",
       "      <td>58.0</td>\n",
       "      <td>448</td>\n",
       "      <td>20.0</td>\n",
       "      <td>19</td>\n",
       "      <td>62</td>\n",
       "      <td>NaT</td>\n",
       "      <td>Калуга</td>\n",
       "      <td>Арина</td>\n",
       "      <td>Азимова</td>\n",
       "      <td>2018-06-20</td>\n",
       "      <td>smart</td>\n",
       "      <td>50</td>\n",
       "      <td>15</td>\n",
       "      <td>500</td>\n",
       "      <td>550</td>\n",
       "      <td>200</td>\n",
       "      <td>3</td>\n",
       "      <td>3</td>\n",
       "      <td>0</td>\n",
       "      <td>0.0</td>\n",
       "      <td>4</td>\n",
       "      <td>800.0</td>\n",
       "    </tr>\n",
       "    <tr>\n",
       "      <th>895</th>\n",
       "      <td>1466</td>\n",
       "      <td>3</td>\n",
       "      <td>68.0</td>\n",
       "      <td>402</td>\n",
       "      <td>0.0</td>\n",
       "      <td>21</td>\n",
       "      <td>37</td>\n",
       "      <td>NaT</td>\n",
       "      <td>Новосибирск</td>\n",
       "      <td>Рубен</td>\n",
       "      <td>Шевцов</td>\n",
       "      <td>2018-02-28</td>\n",
       "      <td>ultra</td>\n",
       "      <td>1000</td>\n",
       "      <td>30</td>\n",
       "      <td>3000</td>\n",
       "      <td>1950</td>\n",
       "      <td>150</td>\n",
       "      <td>1</td>\n",
       "      <td>1</td>\n",
       "      <td>0</td>\n",
       "      <td>0.0</td>\n",
       "      <td>0</td>\n",
       "      <td>0.0</td>\n",
       "    </tr>\n",
       "  </tbody>\n",
       "</table>\n",
       "</div>"
      ],
      "text/plain": [
       "      user_id  month  calls_total_in_month  month_calls_duration  \\\n",
       "1228     1052     11                  98.0                   682   \n",
       "251      1151     11                  89.0                   692   \n",
       "1988     1216     12                 198.0                  1435   \n",
       "1966     1211     10                  58.0                   448   \n",
       "895      1466      3                  68.0                   402   \n",
       "\n",
       "      sms_total_in_month  gb_total_in_month  age churn_date             city  \\\n",
       "1228               106.0                 20   52        NaT  Санкт-Петербург   \n",
       "251                 18.0                  4   39        NaT            Пенза   \n",
       "1988                64.0                 20   74        NaT        Волгоград   \n",
       "1966                20.0                 19   62        NaT           Калуга   \n",
       "895                  0.0                 21   37        NaT      Новосибирск   \n",
       "\n",
       "     first_name  last_name   reg_date tariff  messages_included  \\\n",
       "1228      Павел      Панов 2018-07-27  smart                 50   \n",
       "251      Лариса  Молчанова 2018-09-15  ultra               1000   \n",
       "1988     Рустам    Малинин 2018-11-23  smart                 50   \n",
       "1966      Арина    Азимова 2018-06-20  smart                 50   \n",
       "895       Рубен     Шевцов 2018-02-28  ultra               1000   \n",
       "\n",
       "      gb_per_month_included  minutes_included  rub_monthly_fee  rub_per_gb  \\\n",
       "1228                     15               500              550         200   \n",
       "251                      30              3000             1950         150   \n",
       "1988                     15               500              550         200   \n",
       "1966                     15               500              550         200   \n",
       "895                      30              3000             1950         150   \n",
       "\n",
       "      rub_per_message  rub_per_minute  minutes_overrun  messages_overrun  \\\n",
       "1228                3               3              182              56.0   \n",
       "251                 1               1                0               0.0   \n",
       "1988                3               3              935              14.0   \n",
       "1966                3               3                0               0.0   \n",
       "895                 1               1                0               0.0   \n",
       "\n",
       "      gb_overrun  revenue  \n",
       "1228           5   1714.0  \n",
       "251            0      0.0  \n",
       "1988           5   3847.0  \n",
       "1966           4    800.0  \n",
       "895            0      0.0  "
      ]
     },
     "execution_count": 61,
     "metadata": {},
     "output_type": "execute_result"
    }
   ],
   "source": [
    "df.sample(n=5, random_state=None)"
   ]
  },
  {
   "cell_type": "markdown",
   "id": "3291643c",
   "metadata": {},
   "source": [
    "Мы рассчитали переплату за превышение пакетных услуг для каждого пользователя, теперь найдём общую выручку, добавив стоимость абонентской платы за тариф к переплате."
   ]
  },
  {
   "cell_type": "code",
   "execution_count": 62,
   "id": "e12a4d10",
   "metadata": {},
   "outputs": [],
   "source": [
    "df['income'] = df['revenue'] + df['rub_monthly_fee']"
   ]
  },
  {
   "cell_type": "code",
   "execution_count": 63,
   "id": "fcf6858f",
   "metadata": {},
   "outputs": [
    {
     "data": {
      "text/html": [
       "<div>\n",
       "<style scoped>\n",
       "    .dataframe tbody tr th:only-of-type {\n",
       "        vertical-align: middle;\n",
       "    }\n",
       "\n",
       "    .dataframe tbody tr th {\n",
       "        vertical-align: top;\n",
       "    }\n",
       "\n",
       "    .dataframe thead th {\n",
       "        text-align: right;\n",
       "    }\n",
       "</style>\n",
       "<table border=\"1\" class=\"dataframe\">\n",
       "  <thead>\n",
       "    <tr style=\"text-align: right;\">\n",
       "      <th></th>\n",
       "      <th>user_id</th>\n",
       "      <th>month</th>\n",
       "      <th>calls_total_in_month</th>\n",
       "      <th>month_calls_duration</th>\n",
       "      <th>sms_total_in_month</th>\n",
       "      <th>gb_total_in_month</th>\n",
       "      <th>age</th>\n",
       "      <th>churn_date</th>\n",
       "      <th>city</th>\n",
       "      <th>first_name</th>\n",
       "      <th>last_name</th>\n",
       "      <th>reg_date</th>\n",
       "      <th>tariff</th>\n",
       "      <th>messages_included</th>\n",
       "      <th>gb_per_month_included</th>\n",
       "      <th>minutes_included</th>\n",
       "      <th>rub_monthly_fee</th>\n",
       "      <th>rub_per_gb</th>\n",
       "      <th>rub_per_message</th>\n",
       "      <th>rub_per_minute</th>\n",
       "      <th>minutes_overrun</th>\n",
       "      <th>messages_overrun</th>\n",
       "      <th>gb_overrun</th>\n",
       "      <th>revenue</th>\n",
       "      <th>income</th>\n",
       "    </tr>\n",
       "  </thead>\n",
       "  <tbody>\n",
       "    <tr>\n",
       "      <th>1332</th>\n",
       "      <td>1071</td>\n",
       "      <td>6</td>\n",
       "      <td>46.0</td>\n",
       "      <td>313</td>\n",
       "      <td>23.0</td>\n",
       "      <td>19</td>\n",
       "      <td>20</td>\n",
       "      <td>2018-08-31</td>\n",
       "      <td>Омск</td>\n",
       "      <td>Гектор</td>\n",
       "      <td>Чумаков</td>\n",
       "      <td>2018-01-09</td>\n",
       "      <td>smart</td>\n",
       "      <td>50</td>\n",
       "      <td>15</td>\n",
       "      <td>500</td>\n",
       "      <td>550</td>\n",
       "      <td>200</td>\n",
       "      <td>3</td>\n",
       "      <td>3</td>\n",
       "      <td>0</td>\n",
       "      <td>0.0</td>\n",
       "      <td>4</td>\n",
       "      <td>800.0</td>\n",
       "      <td>1350.0</td>\n",
       "    </tr>\n",
       "    <tr>\n",
       "      <th>114</th>\n",
       "      <td>1080</td>\n",
       "      <td>8</td>\n",
       "      <td>73.0</td>\n",
       "      <td>476</td>\n",
       "      <td>57.0</td>\n",
       "      <td>5</td>\n",
       "      <td>28</td>\n",
       "      <td>NaT</td>\n",
       "      <td>Москва</td>\n",
       "      <td>Всеволод</td>\n",
       "      <td>Игнатьев</td>\n",
       "      <td>2018-08-12</td>\n",
       "      <td>ultra</td>\n",
       "      <td>1000</td>\n",
       "      <td>30</td>\n",
       "      <td>3000</td>\n",
       "      <td>1950</td>\n",
       "      <td>150</td>\n",
       "      <td>1</td>\n",
       "      <td>1</td>\n",
       "      <td>0</td>\n",
       "      <td>0.0</td>\n",
       "      <td>0</td>\n",
       "      <td>0.0</td>\n",
       "      <td>1950.0</td>\n",
       "    </tr>\n",
       "    <tr>\n",
       "      <th>2934</th>\n",
       "      <td>1435</td>\n",
       "      <td>7</td>\n",
       "      <td>41.0</td>\n",
       "      <td>234</td>\n",
       "      <td>0.0</td>\n",
       "      <td>20</td>\n",
       "      <td>32</td>\n",
       "      <td>NaT</td>\n",
       "      <td>Москва</td>\n",
       "      <td>Евфросинья</td>\n",
       "      <td>Азимова</td>\n",
       "      <td>2018-02-17</td>\n",
       "      <td>smart</td>\n",
       "      <td>50</td>\n",
       "      <td>15</td>\n",
       "      <td>500</td>\n",
       "      <td>550</td>\n",
       "      <td>200</td>\n",
       "      <td>3</td>\n",
       "      <td>3</td>\n",
       "      <td>0</td>\n",
       "      <td>0.0</td>\n",
       "      <td>5</td>\n",
       "      <td>1000.0</td>\n",
       "      <td>1550.0</td>\n",
       "    </tr>\n",
       "    <tr>\n",
       "      <th>3008</th>\n",
       "      <td>1457</td>\n",
       "      <td>5</td>\n",
       "      <td>70.0</td>\n",
       "      <td>490</td>\n",
       "      <td>28.0</td>\n",
       "      <td>23</td>\n",
       "      <td>35</td>\n",
       "      <td>NaT</td>\n",
       "      <td>Саратов</td>\n",
       "      <td>Татьяна</td>\n",
       "      <td>Авчинникова</td>\n",
       "      <td>2018-03-14</td>\n",
       "      <td>smart</td>\n",
       "      <td>50</td>\n",
       "      <td>15</td>\n",
       "      <td>500</td>\n",
       "      <td>550</td>\n",
       "      <td>200</td>\n",
       "      <td>3</td>\n",
       "      <td>3</td>\n",
       "      <td>0</td>\n",
       "      <td>0.0</td>\n",
       "      <td>8</td>\n",
       "      <td>1600.0</td>\n",
       "      <td>2150.0</td>\n",
       "    </tr>\n",
       "    <tr>\n",
       "      <th>1041</th>\n",
       "      <td>1010</td>\n",
       "      <td>12</td>\n",
       "      <td>32.0</td>\n",
       "      <td>336</td>\n",
       "      <td>0.0</td>\n",
       "      <td>19</td>\n",
       "      <td>26</td>\n",
       "      <td>NaT</td>\n",
       "      <td>Тюмень</td>\n",
       "      <td>Эдуард</td>\n",
       "      <td>Кононов</td>\n",
       "      <td>2018-08-05</td>\n",
       "      <td>smart</td>\n",
       "      <td>50</td>\n",
       "      <td>15</td>\n",
       "      <td>500</td>\n",
       "      <td>550</td>\n",
       "      <td>200</td>\n",
       "      <td>3</td>\n",
       "      <td>3</td>\n",
       "      <td>0</td>\n",
       "      <td>0.0</td>\n",
       "      <td>4</td>\n",
       "      <td>800.0</td>\n",
       "      <td>1350.0</td>\n",
       "    </tr>\n",
       "  </tbody>\n",
       "</table>\n",
       "</div>"
      ],
      "text/plain": [
       "      user_id  month  calls_total_in_month  month_calls_duration  \\\n",
       "1332     1071      6                  46.0                   313   \n",
       "114      1080      8                  73.0                   476   \n",
       "2934     1435      7                  41.0                   234   \n",
       "3008     1457      5                  70.0                   490   \n",
       "1041     1010     12                  32.0                   336   \n",
       "\n",
       "      sms_total_in_month  gb_total_in_month  age churn_date     city  \\\n",
       "1332                23.0                 19   20 2018-08-31     Омск   \n",
       "114                 57.0                  5   28        NaT   Москва   \n",
       "2934                 0.0                 20   32        NaT   Москва   \n",
       "3008                28.0                 23   35        NaT  Саратов   \n",
       "1041                 0.0                 19   26        NaT   Тюмень   \n",
       "\n",
       "      first_name    last_name   reg_date tariff  messages_included  \\\n",
       "1332      Гектор      Чумаков 2018-01-09  smart                 50   \n",
       "114     Всеволод     Игнатьев 2018-08-12  ultra               1000   \n",
       "2934  Евфросинья      Азимова 2018-02-17  smart                 50   \n",
       "3008     Татьяна  Авчинникова 2018-03-14  smart                 50   \n",
       "1041      Эдуард      Кононов 2018-08-05  smart                 50   \n",
       "\n",
       "      gb_per_month_included  minutes_included  rub_monthly_fee  rub_per_gb  \\\n",
       "1332                     15               500              550         200   \n",
       "114                      30              3000             1950         150   \n",
       "2934                     15               500              550         200   \n",
       "3008                     15               500              550         200   \n",
       "1041                     15               500              550         200   \n",
       "\n",
       "      rub_per_message  rub_per_minute  minutes_overrun  messages_overrun  \\\n",
       "1332                3               3                0               0.0   \n",
       "114                 1               1                0               0.0   \n",
       "2934                3               3                0               0.0   \n",
       "3008                3               3                0               0.0   \n",
       "1041                3               3                0               0.0   \n",
       "\n",
       "      gb_overrun  revenue  income  \n",
       "1332           4    800.0  1350.0  \n",
       "114            0      0.0  1950.0  \n",
       "2934           5   1000.0  1550.0  \n",
       "3008           8   1600.0  2150.0  \n",
       "1041           4    800.0  1350.0  "
      ]
     },
     "execution_count": 63,
     "metadata": {},
     "output_type": "execute_result"
    }
   ],
   "source": [
    "df.sample(n=5, random_state=None)"
   ]
  },
  {
   "cell_type": "markdown",
   "id": "b1459361",
   "metadata": {},
   "source": [
    "### Вывод"
   ]
  },
  {
   "cell_type": "markdown",
   "id": "b9585cca",
   "metadata": {},
   "source": [
    "Мы привели исходные данные к нужным типам, обработали ошибки, объединили данные из нескольких таблиц в одну удобную и рассчитали новые столбцы. Нам удалось выяснить переплату каждого абонента за использование услуг сверх своего тарифного плана и общую сумму выручки с каждого абонента."
   ]
  },
  {
   "cell_type": "markdown",
   "id": "a8715001",
   "metadata": {},
   "source": [
    "## Этап 3. Анализ данных"
   ]
  },
  {
   "cell_type": "markdown",
   "id": "92a14916",
   "metadata": {},
   "source": [
    "Опишем поведение клиентов оператора, исходя из выборки.\n",
    "\n",
    "1. Сколько минут разговора, сколько сообщений и какой объём интернет-трафика требуется пользователям каждого тарифа в месяц.\n",
    "2. Посчитаем среднее количество, дисперсию и стандартное отклонение.\n",
    "3. Построим гистограммы.\n",
    "4. Опишем распределения."
   ]
  },
  {
   "cell_type": "code",
   "execution_count": 64,
   "id": "1fe079e3",
   "metadata": {},
   "outputs": [
    {
     "data": {
      "text/html": [
       "<div>\n",
       "<style scoped>\n",
       "    .dataframe tbody tr th:only-of-type {\n",
       "        vertical-align: middle;\n",
       "    }\n",
       "\n",
       "    .dataframe tbody tr th {\n",
       "        vertical-align: top;\n",
       "    }\n",
       "\n",
       "    .dataframe thead th {\n",
       "        text-align: right;\n",
       "    }\n",
       "</style>\n",
       "<table border=\"1\" class=\"dataframe\">\n",
       "  <thead>\n",
       "    <tr style=\"text-align: right;\">\n",
       "      <th></th>\n",
       "      <th>messages_included</th>\n",
       "      <th>mb_per_month_included</th>\n",
       "      <th>minutes_included</th>\n",
       "      <th>rub_monthly_fee</th>\n",
       "      <th>rub_per_gb</th>\n",
       "      <th>rub_per_message</th>\n",
       "      <th>rub_per_minute</th>\n",
       "      <th>tariff</th>\n",
       "    </tr>\n",
       "  </thead>\n",
       "  <tbody>\n",
       "    <tr>\n",
       "      <th>0</th>\n",
       "      <td>50</td>\n",
       "      <td>15360</td>\n",
       "      <td>500</td>\n",
       "      <td>550</td>\n",
       "      <td>200</td>\n",
       "      <td>3</td>\n",
       "      <td>3</td>\n",
       "      <td>smart</td>\n",
       "    </tr>\n",
       "    <tr>\n",
       "      <th>1</th>\n",
       "      <td>1000</td>\n",
       "      <td>30720</td>\n",
       "      <td>3000</td>\n",
       "      <td>1950</td>\n",
       "      <td>150</td>\n",
       "      <td>1</td>\n",
       "      <td>1</td>\n",
       "      <td>ultra</td>\n",
       "    </tr>\n",
       "  </tbody>\n",
       "</table>\n",
       "</div>"
      ],
      "text/plain": [
       "   messages_included  mb_per_month_included  minutes_included  \\\n",
       "0                 50                  15360               500   \n",
       "1               1000                  30720              3000   \n",
       "\n",
       "   rub_monthly_fee  rub_per_gb  rub_per_message  rub_per_minute tariff  \n",
       "0              550         200                3               3  smart  \n",
       "1             1950         150                1               1  ultra  "
      ]
     },
     "execution_count": 64,
     "metadata": {},
     "output_type": "execute_result"
    }
   ],
   "source": [
    "# Вспомним условия тарифов, чтобы сравнить с показателями describe\n",
    "tariffs"
   ]
  },
  {
   "cell_type": "markdown",
   "id": "07fb4080",
   "metadata": {},
   "source": [
    "Для удобства обращения к данным, разделим общую таблицу на две по используемую абонентом тарифу 'Smart' и 'Ultra'.\n",
    "Проанализируем каждую из этих таблиц."
   ]
  },
  {
   "cell_type": "code",
   "execution_count": 65,
   "id": "ac893f8a",
   "metadata": {},
   "outputs": [
    {
     "data": {
      "text/plain": [
       "smart    2229\n",
       "ultra     985\n",
       "Name: tariff, dtype: int64"
      ]
     },
     "execution_count": 65,
     "metadata": {},
     "output_type": "execute_result"
    }
   ],
   "source": [
    "# Посмотрим количество строк для каждого тарифа\n",
    "df['tariff'].value_counts()"
   ]
  },
  {
   "cell_type": "markdown",
   "id": "07ad3fbd",
   "metadata": {},
   "source": [
    "### Анализ тарифа 'Smart'"
   ]
  },
  {
   "cell_type": "code",
   "execution_count": 66,
   "id": "449ea740",
   "metadata": {},
   "outputs": [
    {
     "data": {
      "text/html": [
       "<div>\n",
       "<style scoped>\n",
       "    .dataframe tbody tr th:only-of-type {\n",
       "        vertical-align: middle;\n",
       "    }\n",
       "\n",
       "    .dataframe tbody tr th {\n",
       "        vertical-align: top;\n",
       "    }\n",
       "\n",
       "    .dataframe thead th {\n",
       "        text-align: right;\n",
       "    }\n",
       "</style>\n",
       "<table border=\"1\" class=\"dataframe\">\n",
       "  <thead>\n",
       "    <tr style=\"text-align: right;\">\n",
       "      <th></th>\n",
       "      <th>user_id</th>\n",
       "      <th>month</th>\n",
       "      <th>calls_total_in_month</th>\n",
       "      <th>month_calls_duration</th>\n",
       "      <th>sms_total_in_month</th>\n",
       "      <th>gb_total_in_month</th>\n",
       "      <th>age</th>\n",
       "      <th>messages_included</th>\n",
       "      <th>gb_per_month_included</th>\n",
       "      <th>minutes_included</th>\n",
       "      <th>rub_monthly_fee</th>\n",
       "      <th>rub_per_gb</th>\n",
       "      <th>rub_per_message</th>\n",
       "      <th>rub_per_minute</th>\n",
       "      <th>minutes_overrun</th>\n",
       "      <th>messages_overrun</th>\n",
       "      <th>gb_overrun</th>\n",
       "      <th>revenue</th>\n",
       "      <th>income</th>\n",
       "    </tr>\n",
       "  </thead>\n",
       "  <tbody>\n",
       "    <tr>\n",
       "      <th>count</th>\n",
       "      <td>2229.0</td>\n",
       "      <td>2229.0</td>\n",
       "      <td>2229.0</td>\n",
       "      <td>2229.0</td>\n",
       "      <td>2229.0</td>\n",
       "      <td>2229.0</td>\n",
       "      <td>2229.0</td>\n",
       "      <td>2229.0</td>\n",
       "      <td>2229.0</td>\n",
       "      <td>2229.0</td>\n",
       "      <td>2229.0</td>\n",
       "      <td>2229.0</td>\n",
       "      <td>2229.0</td>\n",
       "      <td>2229.0</td>\n",
       "      <td>2229.0</td>\n",
       "      <td>2229.0</td>\n",
       "      <td>2229.0</td>\n",
       "      <td>2229.0</td>\n",
       "      <td>2229.0</td>\n",
       "    </tr>\n",
       "    <tr>\n",
       "      <th>mean</th>\n",
       "      <td>1247.0</td>\n",
       "      <td>8.0</td>\n",
       "      <td>58.0</td>\n",
       "      <td>418.0</td>\n",
       "      <td>33.0</td>\n",
       "      <td>16.0</td>\n",
       "      <td>47.0</td>\n",
       "      <td>50.0</td>\n",
       "      <td>15.0</td>\n",
       "      <td>500.0</td>\n",
       "      <td>550.0</td>\n",
       "      <td>200.0</td>\n",
       "      <td>3.0</td>\n",
       "      <td>3.0</td>\n",
       "      <td>42.0</td>\n",
       "      <td>6.0</td>\n",
       "      <td>3.0</td>\n",
       "      <td>740.0</td>\n",
       "      <td>1290.0</td>\n",
       "    </tr>\n",
       "    <tr>\n",
       "      <th>std</th>\n",
       "      <td>146.0</td>\n",
       "      <td>3.0</td>\n",
       "      <td>26.0</td>\n",
       "      <td>190.0</td>\n",
       "      <td>28.0</td>\n",
       "      <td>6.0</td>\n",
       "      <td>16.0</td>\n",
       "      <td>0.0</td>\n",
       "      <td>0.0</td>\n",
       "      <td>0.0</td>\n",
       "      <td>0.0</td>\n",
       "      <td>0.0</td>\n",
       "      <td>0.0</td>\n",
       "      <td>0.0</td>\n",
       "      <td>85.0</td>\n",
       "      <td>13.0</td>\n",
       "      <td>4.0</td>\n",
       "      <td>818.0</td>\n",
       "      <td>818.0</td>\n",
       "    </tr>\n",
       "    <tr>\n",
       "      <th>min</th>\n",
       "      <td>1001.0</td>\n",
       "      <td>1.0</td>\n",
       "      <td>0.0</td>\n",
       "      <td>0.0</td>\n",
       "      <td>0.0</td>\n",
       "      <td>0.0</td>\n",
       "      <td>18.0</td>\n",
       "      <td>50.0</td>\n",
       "      <td>15.0</td>\n",
       "      <td>500.0</td>\n",
       "      <td>550.0</td>\n",
       "      <td>200.0</td>\n",
       "      <td>3.0</td>\n",
       "      <td>3.0</td>\n",
       "      <td>0.0</td>\n",
       "      <td>0.0</td>\n",
       "      <td>0.0</td>\n",
       "      <td>0.0</td>\n",
       "      <td>550.0</td>\n",
       "    </tr>\n",
       "    <tr>\n",
       "      <th>25%</th>\n",
       "      <td>1121.0</td>\n",
       "      <td>6.0</td>\n",
       "      <td>40.0</td>\n",
       "      <td>282.0</td>\n",
       "      <td>10.0</td>\n",
       "      <td>13.0</td>\n",
       "      <td>32.0</td>\n",
       "      <td>50.0</td>\n",
       "      <td>15.0</td>\n",
       "      <td>500.0</td>\n",
       "      <td>550.0</td>\n",
       "      <td>200.0</td>\n",
       "      <td>3.0</td>\n",
       "      <td>3.0</td>\n",
       "      <td>0.0</td>\n",
       "      <td>0.0</td>\n",
       "      <td>0.0</td>\n",
       "      <td>0.0</td>\n",
       "      <td>550.0</td>\n",
       "    </tr>\n",
       "    <tr>\n",
       "      <th>50%</th>\n",
       "      <td>1239.0</td>\n",
       "      <td>9.0</td>\n",
       "      <td>60.0</td>\n",
       "      <td>422.0</td>\n",
       "      <td>28.0</td>\n",
       "      <td>17.0</td>\n",
       "      <td>47.0</td>\n",
       "      <td>50.0</td>\n",
       "      <td>15.0</td>\n",
       "      <td>500.0</td>\n",
       "      <td>550.0</td>\n",
       "      <td>200.0</td>\n",
       "      <td>3.0</td>\n",
       "      <td>3.0</td>\n",
       "      <td>0.0</td>\n",
       "      <td>0.0</td>\n",
       "      <td>2.0</td>\n",
       "      <td>473.0</td>\n",
       "      <td>1023.0</td>\n",
       "    </tr>\n",
       "    <tr>\n",
       "      <th>75%</th>\n",
       "      <td>1376.0</td>\n",
       "      <td>11.0</td>\n",
       "      <td>76.0</td>\n",
       "      <td>545.0</td>\n",
       "      <td>51.0</td>\n",
       "      <td>20.0</td>\n",
       "      <td>62.0</td>\n",
       "      <td>50.0</td>\n",
       "      <td>15.0</td>\n",
       "      <td>500.0</td>\n",
       "      <td>550.0</td>\n",
       "      <td>200.0</td>\n",
       "      <td>3.0</td>\n",
       "      <td>3.0</td>\n",
       "      <td>45.0</td>\n",
       "      <td>1.0</td>\n",
       "      <td>5.0</td>\n",
       "      <td>1200.0</td>\n",
       "      <td>1750.0</td>\n",
       "    </tr>\n",
       "    <tr>\n",
       "      <th>max</th>\n",
       "      <td>1499.0</td>\n",
       "      <td>12.0</td>\n",
       "      <td>198.0</td>\n",
       "      <td>1435.0</td>\n",
       "      <td>143.0</td>\n",
       "      <td>38.0</td>\n",
       "      <td>75.0</td>\n",
       "      <td>50.0</td>\n",
       "      <td>15.0</td>\n",
       "      <td>500.0</td>\n",
       "      <td>550.0</td>\n",
       "      <td>200.0</td>\n",
       "      <td>3.0</td>\n",
       "      <td>3.0</td>\n",
       "      <td>935.0</td>\n",
       "      <td>93.0</td>\n",
       "      <td>23.0</td>\n",
       "      <td>6220.0</td>\n",
       "      <td>6770.0</td>\n",
       "    </tr>\n",
       "  </tbody>\n",
       "</table>\n",
       "</div>"
      ],
      "text/plain": [
       "       user_id   month  calls_total_in_month  month_calls_duration  \\\n",
       "count   2229.0  2229.0                2229.0                2229.0   \n",
       "mean    1247.0     8.0                  58.0                 418.0   \n",
       "std      146.0     3.0                  26.0                 190.0   \n",
       "min     1001.0     1.0                   0.0                   0.0   \n",
       "25%     1121.0     6.0                  40.0                 282.0   \n",
       "50%     1239.0     9.0                  60.0                 422.0   \n",
       "75%     1376.0    11.0                  76.0                 545.0   \n",
       "max     1499.0    12.0                 198.0                1435.0   \n",
       "\n",
       "       sms_total_in_month  gb_total_in_month     age  messages_included  \\\n",
       "count              2229.0             2229.0  2229.0             2229.0   \n",
       "mean                 33.0               16.0    47.0               50.0   \n",
       "std                  28.0                6.0    16.0                0.0   \n",
       "min                   0.0                0.0    18.0               50.0   \n",
       "25%                  10.0               13.0    32.0               50.0   \n",
       "50%                  28.0               17.0    47.0               50.0   \n",
       "75%                  51.0               20.0    62.0               50.0   \n",
       "max                 143.0               38.0    75.0               50.0   \n",
       "\n",
       "       gb_per_month_included  minutes_included  rub_monthly_fee  rub_per_gb  \\\n",
       "count                 2229.0            2229.0           2229.0      2229.0   \n",
       "mean                    15.0             500.0            550.0       200.0   \n",
       "std                      0.0               0.0              0.0         0.0   \n",
       "min                     15.0             500.0            550.0       200.0   \n",
       "25%                     15.0             500.0            550.0       200.0   \n",
       "50%                     15.0             500.0            550.0       200.0   \n",
       "75%                     15.0             500.0            550.0       200.0   \n",
       "max                     15.0             500.0            550.0       200.0   \n",
       "\n",
       "       rub_per_message  rub_per_minute  minutes_overrun  messages_overrun  \\\n",
       "count           2229.0          2229.0           2229.0            2229.0   \n",
       "mean               3.0             3.0             42.0               6.0   \n",
       "std                0.0             0.0             85.0              13.0   \n",
       "min                3.0             3.0              0.0               0.0   \n",
       "25%                3.0             3.0              0.0               0.0   \n",
       "50%                3.0             3.0              0.0               0.0   \n",
       "75%                3.0             3.0             45.0               1.0   \n",
       "max                3.0             3.0            935.0              93.0   \n",
       "\n",
       "       gb_overrun  revenue  income  \n",
       "count      2229.0   2229.0  2229.0  \n",
       "mean          3.0    740.0  1290.0  \n",
       "std           4.0    818.0   818.0  \n",
       "min           0.0      0.0   550.0  \n",
       "25%           0.0      0.0   550.0  \n",
       "50%           2.0    473.0  1023.0  \n",
       "75%           5.0   1200.0  1750.0  \n",
       "max          23.0   6220.0  6770.0  "
      ]
     },
     "execution_count": 66,
     "metadata": {},
     "output_type": "execute_result"
    }
   ],
   "source": [
    "smart_df = df.query(\"tariff == 'smart'\")\n",
    "smart_df.describe().round()"
   ]
  },
  {
   "cell_type": "markdown",
   "id": "851c8742",
   "metadata": {},
   "source": [
    "#### Анализ звонков"
   ]
  },
  {
   "cell_type": "code",
   "execution_count": 67,
   "id": "ab22928d",
   "metadata": {},
   "outputs": [
    {
     "data": {
      "text/plain": [
       "count    2229.0\n",
       "mean      418.0\n",
       "std       190.0\n",
       "min         0.0\n",
       "25%       282.0\n",
       "50%       422.0\n",
       "75%       545.0\n",
       "max      1435.0\n",
       "Name: month_calls_duration, dtype: float64"
      ]
     },
     "execution_count": 67,
     "metadata": {},
     "output_type": "execute_result"
    }
   ],
   "source": [
    "smart_df['month_calls_duration'].describe().round()"
   ]
  },
  {
   "cell_type": "code",
   "execution_count": 68,
   "id": "09adc743",
   "metadata": {},
   "outputs": [
    {
     "name": "stdout",
     "output_type": "stream",
     "text": [
      "Дисперсия:  36219.32\n",
      "Стандартное отклонение:  190.31\n",
      "Сренднее количество:  417.93\n"
     ]
    }
   ],
   "source": [
    "variance = np.var(smart_df['month_calls_duration'], ddof=1)\n",
    "print('Дисперсия: ', variance.round(2))\n",
    "print('Стандартное отклонение: ', np.sqrt(variance).round(2))\n",
    "print('Сренднее количество: ', smart_df['month_calls_duration'].mean().round(2))"
   ]
  },
  {
   "cell_type": "code",
   "execution_count": 69,
   "id": "0befebe6",
   "metadata": {},
   "outputs": [
    {
     "data": {
      "text/plain": [
       "Text(0.5, 0, 'Продолжительность звонков Smart')"
      ]
     },
     "execution_count": 69,
     "metadata": {},
     "output_type": "execute_result"
    },
    {
     "data": {
      "image/png": "[encoded data removed]",
      "text/plain": [
       "<Figure size 432x432 with 1 Axes>"
      ]
     },
     "metadata": {
      "needs_background": "light"
     },
     "output_type": "display_data"
    }
   ],
   "source": [
    "smart_df.boxplot('month_calls_duration', figsize=(6,6))\n",
    "plt.xlabel('Продолжительность звонков Smart')"
   ]
  },
  {
   "cell_type": "code",
   "execution_count": 70,
   "id": "048d7ee8",
   "metadata": {},
   "outputs": [],
   "source": [
    "np.warnings.filterwarnings('ignore', category=np.VisibleDeprecationWarning)"
   ]
  },
  {
   "cell_type": "code",
   "execution_count": 71,
   "id": "78bf40de",
   "metadata": {},
   "outputs": [
    {
     "data": {
      "text/plain": [
       "Text(0.5, 0, 'Динамика звонков по месяцам')"
      ]
     },
     "execution_count": 71,
     "metadata": {},
     "output_type": "execute_result"
    },
    {
     "data": {
      "image/png": "[encoded data removed]",
      "text/plain": [
       "<Figure size 720x720 with 1 Axes>"
      ]
     },
     "metadata": {
      "needs_background": "light"
     },
     "output_type": "display_data"
    }
   ],
   "source": [
    "smart_df.boxplot('month_calls_duration', by='month', figsize=(10,10))\n",
    "plt.xlabel('Динамика звонков по месяцам')"
   ]
  },
  {
   "cell_type": "code",
   "execution_count": 72,
   "id": "6b8d986c",
   "metadata": {},
   "outputs": [
    {
     "name": "stderr",
     "output_type": "stream",
     "text": [
      "C:\\Users\\Emachines\\anaconda3\\lib\\site-packages\\seaborn\\distributions.py:2557: FutureWarning: `distplot` is a deprecated function and will be removed in a future version. Please adapt your code to use either `displot` (a figure-level function with similar flexibility) or `histplot` (an axes-level function for histograms).\n",
      "  warnings.warn(msg, FutureWarning)\n"
     ]
    },
    {
     "data": {
      "text/plain": [
       "Text(0, 0.5, 'Частота')"
      ]
     },
     "execution_count": 72,
     "metadata": {},
     "output_type": "execute_result"
    },
    {
     "data": {
      "image/png": "[encoded data removed]",
      "text/plain": [
       "<Figure size 432x288 with 1 Axes>"
      ]
     },
     "metadata": {
      "needs_background": "light"
     },
     "output_type": "display_data"
    }
   ],
   "source": [
    "sns.distplot(smart_df['month_calls_duration'], \n",
    "             hist=True, bins=30, \n",
    "             color='g', hist_kws={'edgecolor':'g'}).set_title('Анализ звонков Smart')\n",
    "plt.xlabel('Минут в месяц')\n",
    "plt.ylabel('Частота')"
   ]
  },
  {
   "cell_type": "markdown",
   "id": "b9317eee",
   "metadata": {},
   "source": [
    "Краткий вывод:\n",
    "* Распределение нормальное;\n",
    "* Близкое расположение нормального и среднего значений;\n",
    "* Среднее количество минут приближается к тарифному лимиту и при этом среднее отклонение (190 мин.) составляет 38% от лимита (500 мин.) - абоненты не укладываются в лимит и приобретают дополнительные минуты."
   ]
  },
  {
   "cell_type": "code",
   "execution_count": 73,
   "id": "c669d849",
   "metadata": {},
   "outputs": [
    {
     "data": {
      "text/plain": [
       "0.09675931738420805"
      ]
     },
     "execution_count": 73,
     "metadata": {},
     "output_type": "execute_result"
    }
   ],
   "source": [
    "# Вычислим % отношение выручки от минут сверх тарифного плана к общей выручке\n",
    "(smart_df.query(\"minutes_overrun > 0\")['minutes_overrun'].sum() * 3) / smart_df['income'].sum()"
   ]
  },
  {
   "cell_type": "markdown",
   "id": "15221225",
   "metadata": {},
   "source": [
    "Выручка от минут сверх тарифного плана составляет почти 10% ко всей выручке по тарифу."
   ]
  },
  {
   "cell_type": "code",
   "execution_count": 74,
   "id": "10942c56",
   "metadata": {},
   "outputs": [
    {
     "data": {
      "text/plain": [
       "0.24963391655450876"
      ]
     },
     "execution_count": 74,
     "metadata": {},
     "output_type": "execute_result"
    }
   ],
   "source": [
    "# Посчитаем % отношение выручки от минут сверх тарифного плана к выручке по абон.плате (2229 абонетов по 550 руб.)\n",
    "(smart_df.query(\"minutes_overrun > 0\")['minutes_overrun'].sum() * 3) / (2229 * 500)"
   ]
  },
  {
   "cell_type": "markdown",
   "id": "fbdaecec",
   "metadata": {},
   "source": [
    "Выручка от минут сверх тарифного плана составляет почти 25% к выручке по абон.плате."
   ]
  },
  {
   "cell_type": "code",
   "execution_count": 75,
   "id": "3955ded4",
   "metadata": {},
   "outputs": [
    {
     "data": {
      "text/plain": [
       "754"
      ]
     },
     "execution_count": 75,
     "metadata": {},
     "output_type": "execute_result"
    }
   ],
   "source": [
    "# Посчитаем количество наблюдений с превышением количества минут по тарифу Smart\n",
    "smart_df.query(\"minutes_overrun > 0\")['minutes_overrun'].count()"
   ]
  },
  {
   "cell_type": "markdown",
   "id": "56e8aad1",
   "metadata": {},
   "source": [
    "754 наблюдения с превышением количества пакетных минут по тарифу 'Smart'."
   ]
  },
  {
   "cell_type": "markdown",
   "id": "8aaddbaf",
   "metadata": {},
   "source": [
    "Посмотрим, есть ли абоненты на Smart, которые использовали бы все 3000 минут на тарифе 'Ultra'."
   ]
  },
  {
   "cell_type": "code",
   "execution_count": 76,
   "id": "b3ee2bf1",
   "metadata": {},
   "outputs": [
    {
     "data": {
      "text/plain": [
       "0"
      ]
     },
     "execution_count": 76,
     "metadata": {},
     "output_type": "execute_result"
    }
   ],
   "source": [
    "smart_df[smart_df['month_calls_duration'] > 3000]['month_calls_duration'].count()"
   ]
  },
  {
   "cell_type": "markdown",
   "id": "cc07ee5e",
   "metadata": {},
   "source": [
    "Таких данных не обнаружено."
   ]
  },
  {
   "cell_type": "markdown",
   "id": "1f04ecba",
   "metadata": {},
   "source": [
    "#### Анализ интернет-трафика"
   ]
  },
  {
   "cell_type": "code",
   "execution_count": 77,
   "id": "80329990",
   "metadata": {},
   "outputs": [
    {
     "data": {
      "text/plain": [
       "count    2229.0\n",
       "mean       16.0\n",
       "std         6.0\n",
       "min         0.0\n",
       "25%        13.0\n",
       "50%        17.0\n",
       "75%        20.0\n",
       "max        38.0\n",
       "Name: gb_total_in_month, dtype: float64"
      ]
     },
     "execution_count": 77,
     "metadata": {},
     "output_type": "execute_result"
    }
   ],
   "source": [
    "smart_df['gb_total_in_month'].describe().round()"
   ]
  },
  {
   "cell_type": "code",
   "execution_count": 78,
   "id": "1787c722",
   "metadata": {},
   "outputs": [
    {
     "name": "stdout",
     "output_type": "stream",
     "text": [
      "Дисперсия:  33.02870517811158\n",
      "Стандартное отклонение:  5.747060568509052\n",
      "Среднее количество:  16.328847016599372\n"
     ]
    }
   ],
   "source": [
    "variance = np.var(smart_df['gb_total_in_month'], ddof=1)\n",
    "print('Дисперсия: ', variance)\n",
    "print('Стандартное отклонение: ', np.sqrt(variance))\n",
    "print('Среднее количество: ', smart_df['gb_total_in_month'].mean())"
   ]
  },
  {
   "cell_type": "code",
   "execution_count": 79,
   "id": "2b1f37b5",
   "metadata": {},
   "outputs": [
    {
     "data": {
      "text/plain": [
       "Text(0.5, 0, 'Объём трафика Smart')"
      ]
     },
     "execution_count": 79,
     "metadata": {},
     "output_type": "execute_result"
    },
    {
     "data": {
      "image/png": "[encoded data removed]",
      "text/plain": [
       "<Figure size 432x432 with 1 Axes>"
      ]
     },
     "metadata": {
      "needs_background": "light"
     },
     "output_type": "display_data"
    }
   ],
   "source": [
    "smart_df.boxplot('gb_total_in_month', figsize=(6,6))\n",
    "plt.xlabel('Объём трафика Smart')"
   ]
  },
  {
   "cell_type": "code",
   "execution_count": 80,
   "id": "a7168fb2",
   "metadata": {},
   "outputs": [
    {
     "data": {
      "text/plain": [
       "Text(0.5, 0, 'Динамика трафика по месяцам')"
      ]
     },
     "execution_count": 80,
     "metadata": {},
     "output_type": "execute_result"
    },
    {
     "data": {
      "image/png": "[encoded data removed]",
      "text/plain": [
       "<Figure size 720x720 with 1 Axes>"
      ]
     },
     "metadata": {
      "needs_background": "light"
     },
     "output_type": "display_data"
    }
   ],
   "source": [
    "smart_df.boxplot('gb_total_in_month', by='month', figsize=(10,10))\n",
    "plt.xlabel('Динамика трафика по месяцам')"
   ]
  },
  {
   "cell_type": "code",
   "execution_count": 81,
   "id": "5741bbdd",
   "metadata": {},
   "outputs": [
    {
     "name": "stderr",
     "output_type": "stream",
     "text": [
      "C:\\Users\\Emachines\\anaconda3\\lib\\site-packages\\seaborn\\distributions.py:2557: FutureWarning: `distplot` is a deprecated function and will be removed in a future version. Please adapt your code to use either `displot` (a figure-level function with similar flexibility) or `histplot` (an axes-level function for histograms).\n",
      "  warnings.warn(msg, FutureWarning)\n"
     ]
    },
    {
     "data": {
      "text/plain": [
       "Text(0.5, 0, 'Гб в месяц')"
      ]
     },
     "execution_count": 81,
     "metadata": {},
     "output_type": "execute_result"
    },
    {
     "data": {
      "image/png": "[encoded data removed]",
      "text/plain": [
       "<Figure size 432x288 with 1 Axes>"
      ]
     },
     "metadata": {
      "needs_background": "light"
     },
     "output_type": "display_data"
    }
   ],
   "source": [
    "sns.distplot(smart_df['gb_total_in_month'], \n",
    "             hist=True, bins=20,\n",
    "             color='g', hist_kws={'edgecolor':'g'}).set_title('Анализ интернет-трафика Smart')\n",
    "plt.xlabel('Гб в месяц')"
   ]
  },
  {
   "cell_type": "markdown",
   "id": "cd2dab8e",
   "metadata": {},
   "source": [
    "Краткий вывод:\n",
    "* Распределение нормальное — 15Гб входящих в пакетное предложение ниже среднего (16.37Гб);\n",
    "* Большая часть абонентов платит за доплнительные Гб;\n",
    "* Чем ниже среднего лимит, тем больше прибыли получает оператор сотовой связи «Мегалайн»."
   ]
  },
  {
   "cell_type": "code",
   "execution_count": 82,
   "id": "2a0dc8a8",
   "metadata": {},
   "outputs": [
    {
     "data": {
      "text/plain": [
       "6662"
      ]
     },
     "execution_count": 82,
     "metadata": {},
     "output_type": "execute_result"
    }
   ],
   "source": [
    "# Количество дополнительных gb\n",
    "smart_df.query('gb_overrun > 0')['gb_overrun'].sum()"
   ]
  },
  {
   "cell_type": "code",
   "execution_count": 83,
   "id": "158ba12c",
   "metadata": {},
   "outputs": [
    {
     "data": {
      "text/plain": [
       "0"
      ]
     },
     "execution_count": 83,
     "metadata": {},
     "output_type": "execute_result"
    }
   ],
   "source": [
    "# Количество тарифных gb\n",
    "smart_df.query('gb_overrun < 0')['gb_overrun'].sum()"
   ]
  },
  {
   "cell_type": "code",
   "execution_count": 84,
   "id": "4b9d6a16",
   "metadata": {},
   "outputs": [
    {
     "data": {
      "text/plain": [
       "46.34"
      ]
     },
     "execution_count": 84,
     "metadata": {},
     "output_type": "execute_result"
    }
   ],
   "source": [
    "(((smart_df.query('gb_overrun > 0')['gb_overrun'].sum() * 200) / smart_df['income'].sum()) * 100).round(2)"
   ]
  },
  {
   "cell_type": "markdown",
   "id": "6465360b",
   "metadata": {},
   "source": [
    "Выручка от дополнительно купленных Гб интернета составляет 46% от общей выручки по тарифу.\n",
    "Интересный результат."
   ]
  },
  {
   "cell_type": "code",
   "execution_count": 85,
   "id": "c7c23a4b",
   "metadata": {},
   "outputs": [
    {
     "data": {
      "text/plain": [
       "1.0868306211509442"
      ]
     },
     "execution_count": 85,
     "metadata": {},
     "output_type": "execute_result"
    }
   ],
   "source": [
    "(smart_df.query('gb_overrun > 0')['gb_overrun'].sum() * 200) / (2229 * 550)"
   ]
  },
  {
   "cell_type": "markdown",
   "id": "e2ba73c5",
   "metadata": {},
   "source": [
    "Выручка от дополнительно купленных Гб интернета больше выручки от тарифа по лимиту (2229 наблюдений * 550 руб./мес.) почти на 110%."
   ]
  },
  {
   "cell_type": "code",
   "execution_count": 86,
   "id": "197b4dbd",
   "metadata": {},
   "outputs": [
    {
     "data": {
      "text/plain": [
       "1304"
      ]
     },
     "execution_count": 86,
     "metadata": {},
     "output_type": "execute_result"
    }
   ],
   "source": [
    "smart_15 = smart_df.query('gb_overrun > 0')['gb_overrun'].count()\n",
    "smart_15"
   ]
  },
  {
   "cell_type": "markdown",
   "id": "57a81770",
   "metadata": {},
   "source": [
    "Лимит 15Гб был превышен 1304 раза."
   ]
  },
  {
   "cell_type": "code",
   "execution_count": 87,
   "id": "02b75efa",
   "metadata": {},
   "outputs": [
    {
     "data": {
      "text/plain": [
       "0.5850157021085689"
      ]
     },
     "execution_count": 87,
     "metadata": {},
     "output_type": "execute_result"
    }
   ],
   "source": [
    "smart_15 / 2229"
   ]
  },
  {
   "cell_type": "markdown",
   "id": "86c40d09",
   "metadata": {},
   "source": [
    "Почти в 59% наблюдений был превышен пакетный лимит 15Гб."
   ]
  },
  {
   "cell_type": "code",
   "execution_count": 88,
   "id": "5f2da6e0",
   "metadata": {},
   "outputs": [
    {
     "data": {
      "text/plain": [
       "18"
      ]
     },
     "execution_count": 88,
     "metadata": {},
     "output_type": "execute_result"
    }
   ],
   "source": [
    "smart_30 = smart_df.query('gb_total_in_month > 30')['gb_total_in_month'].count()\n",
    "smart_30"
   ]
  },
  {
   "cell_type": "markdown",
   "id": "639df1cf",
   "metadata": {},
   "source": [
    "Порог тарифа 'Ultra' 30 Гб был превышен абонентами тарифа 'Smart' 18 раз."
   ]
  },
  {
   "cell_type": "markdown",
   "id": "09c591e2",
   "metadata": {},
   "source": [
    "#### Анализ сообщений"
   ]
  },
  {
   "cell_type": "code",
   "execution_count": 89,
   "id": "07b2c48b",
   "metadata": {},
   "outputs": [
    {
     "data": {
      "text/plain": [
       "count    2229.0\n",
       "mean       33.0\n",
       "std        28.0\n",
       "min         0.0\n",
       "25%        10.0\n",
       "50%        28.0\n",
       "75%        51.0\n",
       "max       143.0\n",
       "Name: sms_total_in_month, dtype: float64"
      ]
     },
     "execution_count": 89,
     "metadata": {},
     "output_type": "execute_result"
    }
   ],
   "source": [
    "smart_df['sms_total_in_month'].describe().round()"
   ]
  },
  {
   "cell_type": "code",
   "execution_count": 90,
   "id": "3cc9e0e1",
   "metadata": {},
   "outputs": [
    {
     "name": "stdout",
     "output_type": "stream",
     "text": [
      "Дисперсия:  796.8129584480083\n",
      "Стандартное отклонение:  28.22787555676141\n",
      "Среднее количество:  33.384028712427096\n"
     ]
    }
   ],
   "source": [
    "variance = np.var(smart_df['sms_total_in_month'], ddof=1)\n",
    "print('Дисперсия: ', variance)\n",
    "print('Стандартное отклонение: ', np.sqrt(variance))\n",
    "print('Среднее количество: ', smart_df['sms_total_in_month'].mean())"
   ]
  },
  {
   "cell_type": "code",
   "execution_count": 91,
   "id": "89f2d646",
   "metadata": {},
   "outputs": [
    {
     "data": {
      "text/plain": [
       "Text(0.5, 0, 'Сообщения Smart')"
      ]
     },
     "execution_count": 91,
     "metadata": {},
     "output_type": "execute_result"
    },
    {
     "data": {
      "image/png": "[encoded data removed]",
      "text/plain": [
       "<Figure size 432x432 with 1 Axes>"
      ]
     },
     "metadata": {
      "needs_background": "light"
     },
     "output_type": "display_data"
    }
   ],
   "source": [
    "smart_df.boxplot('sms_total_in_month', figsize=(6,6))\n",
    "plt.xlabel('Сообщения Smart')"
   ]
  },
  {
   "cell_type": "code",
   "execution_count": 92,
   "id": "921cc773",
   "metadata": {},
   "outputs": [
    {
     "data": {
      "text/plain": [
       "Text(0.5, 0, 'Динамика sms по месяцам')"
      ]
     },
     "execution_count": 92,
     "metadata": {},
     "output_type": "execute_result"
    },
    {
     "data": {
      "image/png": "[encoded data removed]",
      "text/plain": [
       "<Figure size 720x720 with 1 Axes>"
      ]
     },
     "metadata": {
      "needs_background": "light"
     },
     "output_type": "display_data"
    }
   ],
   "source": [
    "smart_df.boxplot('sms_total_in_month', by='month', figsize=(10,10))\n",
    "plt.xlabel('Динамика sms по месяцам')"
   ]
  },
  {
   "cell_type": "code",
   "execution_count": 93,
   "id": "55cae2c1",
   "metadata": {},
   "outputs": [
    {
     "name": "stderr",
     "output_type": "stream",
     "text": [
      "C:\\Users\\Emachines\\anaconda3\\lib\\site-packages\\seaborn\\distributions.py:2557: FutureWarning: `distplot` is a deprecated function and will be removed in a future version. Please adapt your code to use either `displot` (a figure-level function with similar flexibility) or `histplot` (an axes-level function for histograms).\n",
      "  warnings.warn(msg, FutureWarning)\n"
     ]
    },
    {
     "data": {
      "text/plain": [
       "Text(0, 0.5, 'Частота')"
      ]
     },
     "execution_count": 93,
     "metadata": {},
     "output_type": "execute_result"
    },
    {
     "data": {
      "image/png": "[encoded data removed]",
      "text/plain": [
       "<Figure size 432x288 with 1 Axes>"
      ]
     },
     "metadata": {
      "needs_background": "light"
     },
     "output_type": "display_data"
    }
   ],
   "source": [
    "sns.distplot(smart_df['sms_total_in_month'],\n",
    "            hist=True, bins=20,\n",
    "            color='g', hist_kws={'edgecolor':'g'}).set_title('Анализ сообщений Smart')\n",
    "plt.xlabel('Количество сообщений в месяц')\n",
    "plt.ylabel('Частота')"
   ]
  },
  {
   "cell_type": "markdown",
   "id": "21ad8e54",
   "metadata": {},
   "source": [
    "Краткий вывод:\n",
    "\n",
    "* Распределение скошено вправо — 25% от всех месяцев использовали менее 10 сообщений;\n",
    "* А 75% абонентов - укладывались в пакетные 50 сообщений;\n",
    "* Только 25% отправляли дополнительные сообщения;\n",
    "* Среднее количество отправляемых сообщений 33 немного больше среднего по лимиту тарифа (т.е. 25 сообщений из 50)."
   ]
  },
  {
   "cell_type": "code",
   "execution_count": 94,
   "id": "ba2890f4",
   "metadata": {},
   "outputs": [
    {
     "data": {
      "text/plain": [
       "12928.0"
      ]
     },
     "execution_count": 94,
     "metadata": {},
     "output_type": "execute_result"
    }
   ],
   "source": [
    "# Количество дополнительных сообщений\n",
    "smart_df.query('messages_overrun > 0')['messages_overrun'].sum()"
   ]
  },
  {
   "cell_type": "code",
   "execution_count": 95,
   "id": "6f56031c",
   "metadata": {},
   "outputs": [
    {
     "data": {
      "text/plain": [
       "0.03163587421999266"
      ]
     },
     "execution_count": 95,
     "metadata": {},
     "output_type": "execute_result"
    }
   ],
   "source": [
    "# Выручка от дополнительных сообщений\n",
    "(smart_df.query('messages_overrun > 0')['messages_overrun'].sum() * 3) / (2229 * 550)"
   ]
  },
  {
   "cell_type": "markdown",
   "id": "82fed03d",
   "metadata": {},
   "source": [
    "Выручка от дополнительных сообщений составляет 3% к абонентской плате."
   ]
  },
  {
   "cell_type": "code",
   "execution_count": 96,
   "id": "9c9eb8b7",
   "metadata": {},
   "outputs": [
    {
     "data": {
      "text/plain": [
       "0.01348844019391024"
      ]
     },
     "execution_count": 96,
     "metadata": {},
     "output_type": "execute_result"
    }
   ],
   "source": [
    "(smart_df.query('messages_overrun > 0')['messages_overrun'].sum() * 3) / smart_df['income'].sum()"
   ]
  },
  {
   "cell_type": "markdown",
   "id": "50ed1b16",
   "metadata": {},
   "source": [
    "Выручка от дополнительных сообщений составляет всего 1,3% ко всей выручке по тарифу.\n",
    "\n",
    "Это вполне объяснимо, так как при использовании интернета потребность в SMS практически отпала."
   ]
  },
  {
   "cell_type": "markdown",
   "id": "47110239",
   "metadata": {},
   "source": [
    "### Анализ тарифа 'Ultra'"
   ]
  },
  {
   "cell_type": "code",
   "execution_count": 97,
   "id": "2d75bd42",
   "metadata": {},
   "outputs": [
    {
     "data": {
      "text/html": [
       "<div>\n",
       "<style scoped>\n",
       "    .dataframe tbody tr th:only-of-type {\n",
       "        vertical-align: middle;\n",
       "    }\n",
       "\n",
       "    .dataframe tbody tr th {\n",
       "        vertical-align: top;\n",
       "    }\n",
       "\n",
       "    .dataframe thead th {\n",
       "        text-align: right;\n",
       "    }\n",
       "</style>\n",
       "<table border=\"1\" class=\"dataframe\">\n",
       "  <thead>\n",
       "    <tr style=\"text-align: right;\">\n",
       "      <th></th>\n",
       "      <th>user_id</th>\n",
       "      <th>month</th>\n",
       "      <th>calls_total_in_month</th>\n",
       "      <th>month_calls_duration</th>\n",
       "      <th>sms_total_in_month</th>\n",
       "      <th>gb_total_in_month</th>\n",
       "      <th>age</th>\n",
       "      <th>messages_included</th>\n",
       "      <th>gb_per_month_included</th>\n",
       "      <th>minutes_included</th>\n",
       "      <th>rub_monthly_fee</th>\n",
       "      <th>rub_per_gb</th>\n",
       "      <th>rub_per_message</th>\n",
       "      <th>rub_per_minute</th>\n",
       "      <th>minutes_overrun</th>\n",
       "      <th>messages_overrun</th>\n",
       "      <th>gb_overrun</th>\n",
       "      <th>revenue</th>\n",
       "      <th>income</th>\n",
       "    </tr>\n",
       "  </thead>\n",
       "  <tbody>\n",
       "    <tr>\n",
       "      <th>count</th>\n",
       "      <td>985.0</td>\n",
       "      <td>985.0</td>\n",
       "      <td>985.0</td>\n",
       "      <td>985.0</td>\n",
       "      <td>985.0</td>\n",
       "      <td>985.0</td>\n",
       "      <td>985.0</td>\n",
       "      <td>985.0</td>\n",
       "      <td>985.0</td>\n",
       "      <td>985.0</td>\n",
       "      <td>985.0</td>\n",
       "      <td>985.0</td>\n",
       "      <td>985.0</td>\n",
       "      <td>985.0</td>\n",
       "      <td>985.0</td>\n",
       "      <td>985.0</td>\n",
       "      <td>985.0</td>\n",
       "      <td>985.0</td>\n",
       "      <td>985.0</td>\n",
       "    </tr>\n",
       "    <tr>\n",
       "      <th>mean</th>\n",
       "      <td>1263.0</td>\n",
       "      <td>8.0</td>\n",
       "      <td>73.0</td>\n",
       "      <td>527.0</td>\n",
       "      <td>49.0</td>\n",
       "      <td>19.0</td>\n",
       "      <td>47.0</td>\n",
       "      <td>1000.0</td>\n",
       "      <td>30.0</td>\n",
       "      <td>3000.0</td>\n",
       "      <td>1950.0</td>\n",
       "      <td>150.0</td>\n",
       "      <td>1.0</td>\n",
       "      <td>1.0</td>\n",
       "      <td>0.0</td>\n",
       "      <td>0.0</td>\n",
       "      <td>1.0</td>\n",
       "      <td>120.0</td>\n",
       "      <td>2070.0</td>\n",
       "    </tr>\n",
       "    <tr>\n",
       "      <th>std</th>\n",
       "      <td>141.0</td>\n",
       "      <td>3.0</td>\n",
       "      <td>44.0</td>\n",
       "      <td>318.0</td>\n",
       "      <td>48.0</td>\n",
       "      <td>10.0</td>\n",
       "      <td>17.0</td>\n",
       "      <td>0.0</td>\n",
       "      <td>0.0</td>\n",
       "      <td>0.0</td>\n",
       "      <td>0.0</td>\n",
       "      <td>0.0</td>\n",
       "      <td>0.0</td>\n",
       "      <td>0.0</td>\n",
       "      <td>0.0</td>\n",
       "      <td>0.0</td>\n",
       "      <td>3.0</td>\n",
       "      <td>376.0</td>\n",
       "      <td>376.0</td>\n",
       "    </tr>\n",
       "    <tr>\n",
       "      <th>min</th>\n",
       "      <td>1000.0</td>\n",
       "      <td>1.0</td>\n",
       "      <td>0.0</td>\n",
       "      <td>0.0</td>\n",
       "      <td>0.0</td>\n",
       "      <td>0.0</td>\n",
       "      <td>18.0</td>\n",
       "      <td>1000.0</td>\n",
       "      <td>30.0</td>\n",
       "      <td>3000.0</td>\n",
       "      <td>1950.0</td>\n",
       "      <td>150.0</td>\n",
       "      <td>1.0</td>\n",
       "      <td>1.0</td>\n",
       "      <td>0.0</td>\n",
       "      <td>0.0</td>\n",
       "      <td>0.0</td>\n",
       "      <td>0.0</td>\n",
       "      <td>1950.0</td>\n",
       "    </tr>\n",
       "    <tr>\n",
       "      <th>25%</th>\n",
       "      <td>1143.0</td>\n",
       "      <td>6.0</td>\n",
       "      <td>41.0</td>\n",
       "      <td>284.0</td>\n",
       "      <td>6.0</td>\n",
       "      <td>12.0</td>\n",
       "      <td>30.0</td>\n",
       "      <td>1000.0</td>\n",
       "      <td>30.0</td>\n",
       "      <td>3000.0</td>\n",
       "      <td>1950.0</td>\n",
       "      <td>150.0</td>\n",
       "      <td>1.0</td>\n",
       "      <td>1.0</td>\n",
       "      <td>0.0</td>\n",
       "      <td>0.0</td>\n",
       "      <td>0.0</td>\n",
       "      <td>0.0</td>\n",
       "      <td>1950.0</td>\n",
       "    </tr>\n",
       "    <tr>\n",
       "      <th>50%</th>\n",
       "      <td>1277.0</td>\n",
       "      <td>9.0</td>\n",
       "      <td>74.0</td>\n",
       "      <td>518.0</td>\n",
       "      <td>38.0</td>\n",
       "      <td>19.0</td>\n",
       "      <td>45.0</td>\n",
       "      <td>1000.0</td>\n",
       "      <td>30.0</td>\n",
       "      <td>3000.0</td>\n",
       "      <td>1950.0</td>\n",
       "      <td>150.0</td>\n",
       "      <td>1.0</td>\n",
       "      <td>1.0</td>\n",
       "      <td>0.0</td>\n",
       "      <td>0.0</td>\n",
       "      <td>0.0</td>\n",
       "      <td>0.0</td>\n",
       "      <td>1950.0</td>\n",
       "    </tr>\n",
       "    <tr>\n",
       "      <th>75%</th>\n",
       "      <td>1381.0</td>\n",
       "      <td>11.0</td>\n",
       "      <td>104.0</td>\n",
       "      <td>752.0</td>\n",
       "      <td>79.0</td>\n",
       "      <td>27.0</td>\n",
       "      <td>63.0</td>\n",
       "      <td>1000.0</td>\n",
       "      <td>30.0</td>\n",
       "      <td>3000.0</td>\n",
       "      <td>1950.0</td>\n",
       "      <td>150.0</td>\n",
       "      <td>1.0</td>\n",
       "      <td>1.0</td>\n",
       "      <td>0.0</td>\n",
       "      <td>0.0</td>\n",
       "      <td>0.0</td>\n",
       "      <td>0.0</td>\n",
       "      <td>1950.0</td>\n",
       "    </tr>\n",
       "    <tr>\n",
       "      <th>max</th>\n",
       "      <td>1495.0</td>\n",
       "      <td>12.0</td>\n",
       "      <td>244.0</td>\n",
       "      <td>1673.0</td>\n",
       "      <td>224.0</td>\n",
       "      <td>49.0</td>\n",
       "      <td>75.0</td>\n",
       "      <td>1000.0</td>\n",
       "      <td>30.0</td>\n",
       "      <td>3000.0</td>\n",
       "      <td>1950.0</td>\n",
       "      <td>150.0</td>\n",
       "      <td>1.0</td>\n",
       "      <td>1.0</td>\n",
       "      <td>0.0</td>\n",
       "      <td>0.0</td>\n",
       "      <td>19.0</td>\n",
       "      <td>2850.0</td>\n",
       "      <td>4800.0</td>\n",
       "    </tr>\n",
       "  </tbody>\n",
       "</table>\n",
       "</div>"
      ],
      "text/plain": [
       "       user_id  month  calls_total_in_month  month_calls_duration  \\\n",
       "count    985.0  985.0                 985.0                 985.0   \n",
       "mean    1263.0    8.0                  73.0                 527.0   \n",
       "std      141.0    3.0                  44.0                 318.0   \n",
       "min     1000.0    1.0                   0.0                   0.0   \n",
       "25%     1143.0    6.0                  41.0                 284.0   \n",
       "50%     1277.0    9.0                  74.0                 518.0   \n",
       "75%     1381.0   11.0                 104.0                 752.0   \n",
       "max     1495.0   12.0                 244.0                1673.0   \n",
       "\n",
       "       sms_total_in_month  gb_total_in_month    age  messages_included  \\\n",
       "count               985.0              985.0  985.0              985.0   \n",
       "mean                 49.0               19.0   47.0             1000.0   \n",
       "std                  48.0               10.0   17.0                0.0   \n",
       "min                   0.0                0.0   18.0             1000.0   \n",
       "25%                   6.0               12.0   30.0             1000.0   \n",
       "50%                  38.0               19.0   45.0             1000.0   \n",
       "75%                  79.0               27.0   63.0             1000.0   \n",
       "max                 224.0               49.0   75.0             1000.0   \n",
       "\n",
       "       gb_per_month_included  minutes_included  rub_monthly_fee  rub_per_gb  \\\n",
       "count                  985.0             985.0            985.0       985.0   \n",
       "mean                    30.0            3000.0           1950.0       150.0   \n",
       "std                      0.0               0.0              0.0         0.0   \n",
       "min                     30.0            3000.0           1950.0       150.0   \n",
       "25%                     30.0            3000.0           1950.0       150.0   \n",
       "50%                     30.0            3000.0           1950.0       150.0   \n",
       "75%                     30.0            3000.0           1950.0       150.0   \n",
       "max                     30.0            3000.0           1950.0       150.0   \n",
       "\n",
       "       rub_per_message  rub_per_minute  minutes_overrun  messages_overrun  \\\n",
       "count            985.0           985.0            985.0             985.0   \n",
       "mean               1.0             1.0              0.0               0.0   \n",
       "std                0.0             0.0              0.0               0.0   \n",
       "min                1.0             1.0              0.0               0.0   \n",
       "25%                1.0             1.0              0.0               0.0   \n",
       "50%                1.0             1.0              0.0               0.0   \n",
       "75%                1.0             1.0              0.0               0.0   \n",
       "max                1.0             1.0              0.0               0.0   \n",
       "\n",
       "       gb_overrun  revenue  income  \n",
       "count       985.0    985.0   985.0  \n",
       "mean          1.0    120.0  2070.0  \n",
       "std           3.0    376.0   376.0  \n",
       "min           0.0      0.0  1950.0  \n",
       "25%           0.0      0.0  1950.0  \n",
       "50%           0.0      0.0  1950.0  \n",
       "75%           0.0      0.0  1950.0  \n",
       "max          19.0   2850.0  4800.0  "
      ]
     },
     "execution_count": 97,
     "metadata": {},
     "output_type": "execute_result"
    }
   ],
   "source": [
    "ultra_df = df.query(\"tariff == 'ultra'\")\n",
    "ultra_df.describe().round()"
   ]
  },
  {
   "cell_type": "code",
   "execution_count": 98,
   "id": "cbfb04ee",
   "metadata": {},
   "outputs": [
    {
     "data": {
      "text/plain": [
       "<AxesSubplot:>"
      ]
     },
     "execution_count": 98,
     "metadata": {},
     "output_type": "execute_result"
    },
    {
     "data": {
      "image/png": "[encoded data removed]",
      "text/plain": [
       "<Figure size 432x432 with 1 Axes>"
      ]
     },
     "metadata": {
      "needs_background": "light"
     },
     "output_type": "display_data"
    }
   ],
   "source": [
    "ultra_df.boxplot('income', figsize=(6,6))"
   ]
  },
  {
   "cell_type": "code",
   "execution_count": 99,
   "id": "a5874cdc",
   "metadata": {},
   "outputs": [
    {
     "data": {
      "text/plain": [
       "134"
      ]
     },
     "execution_count": 99,
     "metadata": {},
     "output_type": "execute_result"
    }
   ],
   "source": [
    "# Сколько наблюдений превышают плату за тариф\n",
    "ultra_df.query(\"income > 1950\")['income'].count()"
   ]
  },
  {
   "cell_type": "code",
   "execution_count": 100,
   "id": "90abe5a3",
   "metadata": {},
   "outputs": [
    {
     "data": {
      "text/plain": [
       "13.604060913705585"
      ]
     },
     "execution_count": 100,
     "metadata": {},
     "output_type": "execute_result"
    }
   ],
   "source": [
    "# Сколько % наблюдений превышают плату за тариф\n",
    "ultra_df.query(\"income > 1950\")['income'].count() / 985 * 100"
   ]
  },
  {
   "cell_type": "code",
   "execution_count": 101,
   "id": "3256ead7",
   "metadata": {},
   "outputs": [
    {
     "data": {
      "text/plain": [
       "1950.0    851\n",
       "2250.0     21\n",
       "2400.0     18\n",
       "2550.0     13\n",
       "2100.0     12\n",
       "3000.0     10\n",
       "2700.0     10\n",
       "3150.0      9\n",
       "3750.0      9\n",
       "3300.0      9\n",
       "2850.0      7\n",
       "3900.0      6\n",
       "3450.0      4\n",
       "3600.0      2\n",
       "4200.0      1\n",
       "4800.0      1\n",
       "4050.0      1\n",
       "4650.0      1\n",
       "Name: income, dtype: int64"
      ]
     },
     "execution_count": 101,
     "metadata": {},
     "output_type": "execute_result"
    }
   ],
   "source": [
    "# Какие суммы платят те, кто выходят за рамки тарифа\n",
    "ultra_df['income'].value_counts()"
   ]
  },
  {
   "cell_type": "markdown",
   "id": "c7f50254",
   "metadata": {},
   "source": [
    "#### Анализ звонков"
   ]
  },
  {
   "cell_type": "code",
   "execution_count": 102,
   "id": "88c7cb89",
   "metadata": {},
   "outputs": [
    {
     "data": {
      "text/plain": [
       "count     985.0\n",
       "mean      527.0\n",
       "std       318.0\n",
       "min         0.0\n",
       "25%       284.0\n",
       "50%       518.0\n",
       "75%       752.0\n",
       "max      1673.0\n",
       "Name: month_calls_duration, dtype: float64"
      ]
     },
     "execution_count": 102,
     "metadata": {},
     "output_type": "execute_result"
    }
   ],
   "source": [
    "ultra_df['month_calls_duration'].describe().round()"
   ]
  },
  {
   "cell_type": "code",
   "execution_count": 103,
   "id": "2451aa4d",
   "metadata": {},
   "outputs": [
    {
     "name": "stdout",
     "output_type": "stream",
     "text": [
      "Дисперсия:  100873.63\n",
      "Стандартное отклонение:  317.61\n",
      "Сренднее количество:  526.62\n"
     ]
    }
   ],
   "source": [
    "variance = np.var(ultra_df['month_calls_duration'], ddof=1)\n",
    "print('Дисперсия: ', variance.round(2))\n",
    "print('Стандартное отклонение: ', np.sqrt(variance).round(2))\n",
    "print('Сренднее количество: ', ultra_df['month_calls_duration'].mean().round(2))"
   ]
  },
  {
   "cell_type": "code",
   "execution_count": 104,
   "id": "0338cc25",
   "metadata": {},
   "outputs": [
    {
     "data": {
      "text/plain": [
       "Text(0.5, 0, 'Продолжительность звонков Ultra')"
      ]
     },
     "execution_count": 104,
     "metadata": {},
     "output_type": "execute_result"
    },
    {
     "data": {
      "image/png": "[encoded data removed]",
      "text/plain": [
       "<Figure size 432x432 with 1 Axes>"
      ]
     },
     "metadata": {
      "needs_background": "light"
     },
     "output_type": "display_data"
    }
   ],
   "source": [
    "ultra_df.boxplot('month_calls_duration', figsize=(6,6))\n",
    "plt.xlabel('Продолжительность звонков Ultra')"
   ]
  },
  {
   "cell_type": "code",
   "execution_count": 105,
   "id": "d3fb4ea1",
   "metadata": {},
   "outputs": [
    {
     "data": {
      "text/plain": [
       "Text(0.5, 0, 'Продолжительность звонков Ultra')"
      ]
     },
     "execution_count": 105,
     "metadata": {},
     "output_type": "execute_result"
    },
    {
     "data": {
      "image/png": "[encoded data removed]",
      "text/plain": [
       "<Figure size 720x720 with 1 Axes>"
      ]
     },
     "metadata": {
      "needs_background": "light"
     },
     "output_type": "display_data"
    }
   ],
   "source": [
    "ultra_df.boxplot('month_calls_duration', by='month', figsize=(10,10))\n",
    "plt.xlabel('Продолжительность звонков Ultra')"
   ]
  },
  {
   "cell_type": "code",
   "execution_count": 106,
   "id": "d45a4133",
   "metadata": {},
   "outputs": [
    {
     "name": "stderr",
     "output_type": "stream",
     "text": [
      "C:\\Users\\Emachines\\anaconda3\\lib\\site-packages\\seaborn\\distributions.py:2557: FutureWarning: `distplot` is a deprecated function and will be removed in a future version. Please adapt your code to use either `displot` (a figure-level function with similar flexibility) or `histplot` (an axes-level function for histograms).\n",
      "  warnings.warn(msg, FutureWarning)\n"
     ]
    },
    {
     "data": {
      "text/plain": [
       "Text(0, 0.5, 'Частота')"
      ]
     },
     "execution_count": 106,
     "metadata": {},
     "output_type": "execute_result"
    },
    {
     "data": {
      "image/png": "[encoded data removed]",
      "text/plain": [
       "<Figure size 432x288 with 1 Axes>"
      ]
     },
     "metadata": {
      "needs_background": "light"
     },
     "output_type": "display_data"
    }
   ],
   "source": [
    "sns.distplot(ultra_df['month_calls_duration'],\n",
    "            hist=True, bins=30,\n",
    "            color='g', hist_kws={'edgecolor':'g'}).set_title('Анализ звонков Ultra')\n",
    "plt.xlabel('Минут в месяц')\n",
    "plt.ylabel('Частота')"
   ]
  },
  {
   "cell_type": "markdown",
   "id": "27fb5822",
   "metadata": {},
   "source": [
    "Краткий вывод:\n",
    "\n",
    "* Распределение чуть скошено влево, распределение умеренно ассиметричное;\n",
    "* Среднее значение и медиана лежат близко друг к другу;\n",
    "* Почти половина абонентов используют до 500 минут в месяц из максимально возможных 3000 минут;\n",
    "* Высока частота пользователей, которые минимально пользуются минутами;\n",
    "* Абонентов превышающих тарифный лимит по минутам не обнаружено, значит нет и дополнительной выручки."
   ]
  },
  {
   "cell_type": "markdown",
   "id": "1944cf59",
   "metadata": {},
   "source": [
    "#### Анализ интернет-трафика"
   ]
  },
  {
   "cell_type": "code",
   "execution_count": 107,
   "id": "44aa94da",
   "metadata": {},
   "outputs": [
    {
     "data": {
      "text/plain": [
       "count    985.0\n",
       "mean      19.0\n",
       "std       10.0\n",
       "min        0.0\n",
       "25%       12.0\n",
       "50%       19.0\n",
       "75%       27.0\n",
       "max       49.0\n",
       "Name: gb_total_in_month, dtype: float64"
      ]
     },
     "execution_count": 107,
     "metadata": {},
     "output_type": "execute_result"
    }
   ],
   "source": [
    "ultra_df['gb_total_in_month'].describe().round()"
   ]
  },
  {
   "cell_type": "code",
   "execution_count": 108,
   "id": "298dc7e5",
   "metadata": {},
   "outputs": [
    {
     "name": "stdout",
     "output_type": "stream",
     "text": [
      "Дисперсия:  97.09168626965472\n",
      "Стандартное отклонение:  9.8535113675103\n",
      "Сренднее количество:  19.494416243654822\n"
     ]
    }
   ],
   "source": [
    "variance = np.var(ultra_df['gb_total_in_month'], ddof=1)\n",
    "print('Дисперсия: ', variance)\n",
    "print('Стандартное отклонение: ', np.sqrt(variance))\n",
    "print('Сренднее количество: ', ultra_df['gb_total_in_month'].mean())"
   ]
  },
  {
   "cell_type": "code",
   "execution_count": 109,
   "id": "950d1df0",
   "metadata": {},
   "outputs": [
    {
     "data": {
      "text/plain": [
       "Text(0.5, 0, 'Объём трафика Ultra')"
      ]
     },
     "execution_count": 109,
     "metadata": {},
     "output_type": "execute_result"
    },
    {
     "data": {
      "image/png": "[encoded data removed]",
      "text/plain": [
       "<Figure size 432x432 with 1 Axes>"
      ]
     },
     "metadata": {
      "needs_background": "light"
     },
     "output_type": "display_data"
    }
   ],
   "source": [
    "ultra_df.boxplot('gb_total_in_month', figsize=(6,6))\n",
    "plt.xlabel('Объём трафика Ultra')"
   ]
  },
  {
   "cell_type": "code",
   "execution_count": 110,
   "id": "0ed16a88",
   "metadata": {},
   "outputs": [
    {
     "data": {
      "text/plain": [
       "Text(0.5, 0, 'Динамика трафика по месяцам')"
      ]
     },
     "execution_count": 110,
     "metadata": {},
     "output_type": "execute_result"
    },
    {
     "data": {
      "image/png": "[encoded data removed]",
      "text/plain": [
       "<Figure size 720x720 with 1 Axes>"
      ]
     },
     "metadata": {
      "needs_background": "light"
     },
     "output_type": "display_data"
    }
   ],
   "source": [
    "ultra_df.boxplot('gb_total_in_month', by='month', figsize=(10,10))\n",
    "plt.xlabel('Динамика трафика по месяцам')"
   ]
  },
  {
   "cell_type": "code",
   "execution_count": 111,
   "id": "bf5197b8",
   "metadata": {},
   "outputs": [
    {
     "name": "stderr",
     "output_type": "stream",
     "text": [
      "C:\\Users\\Emachines\\anaconda3\\lib\\site-packages\\seaborn\\distributions.py:2557: FutureWarning: `distplot` is a deprecated function and will be removed in a future version. Please adapt your code to use either `displot` (a figure-level function with similar flexibility) or `histplot` (an axes-level function for histograms).\n",
      "  warnings.warn(msg, FutureWarning)\n"
     ]
    },
    {
     "data": {
      "text/plain": [
       "Text(0.5, 0, 'Гб в месяц')"
      ]
     },
     "execution_count": 111,
     "metadata": {},
     "output_type": "execute_result"
    },
    {
     "data": {
      "image/png": "[encoded data removed]",
      "text/plain": [
       "<Figure size 432x288 with 1 Axes>"
      ]
     },
     "metadata": {
      "needs_background": "light"
     },
     "output_type": "display_data"
    }
   ],
   "source": [
    "sns.distplot(ultra_df['gb_total_in_month'],\n",
    "            hist=True, bins=20,\n",
    "            color='g', hist_kws={'edgecolor':'g'}).set_label('Анализ интернет-трафика Ultra')\n",
    "plt.xlabel('Гб в месяц')"
   ]
  },
  {
   "cell_type": "markdown",
   "id": "2b648729",
   "metadata": {},
   "source": [
    "Краткий вывод:\n",
    "\n",
    "* В тариф 'Ultra' включено 30 Гб интернет-трафика;\n",
    "* Распределение нормальное, т.к. интернетом пользуются полноценно, звонки и сообщения часто через приложения и соответственно при помощи интернета;\n",
    "* Среднее и медиана схожи и составлют приблизительно 19-20 Гб;\n",
    "* 75% абонентов укладываются в лимит (27 из 30 Гб)."
   ]
  },
  {
   "cell_type": "code",
   "execution_count": 112,
   "id": "b1eaedc1",
   "metadata": {},
   "outputs": [
    {
     "data": {
      "text/plain": [
       "789"
      ]
     },
     "execution_count": 112,
     "metadata": {},
     "output_type": "execute_result"
    }
   ],
   "source": [
    "# Количество дополнительных gb\n",
    "ultra_df.query(\"gb_overrun > 0\")['gb_overrun'].sum()"
   ]
  },
  {
   "cell_type": "code",
   "execution_count": 113,
   "id": "4ebefe0b",
   "metadata": {},
   "outputs": [
    {
     "data": {
      "text/plain": [
       "4.12"
      ]
     },
     "execution_count": 113,
     "metadata": {},
     "output_type": "execute_result"
    }
   ],
   "source": [
    "(((ultra_df.query('gb_overrun > 0')['gb_overrun'].sum() * 150) / smart_df['income'].sum()) * 100).round(2)"
   ]
  },
  {
   "cell_type": "code",
   "execution_count": 114,
   "id": "ba9ea847",
   "metadata": {},
   "outputs": [
    {
     "data": {
      "text/plain": [
       "6.16"
      ]
     },
     "execution_count": 114,
     "metadata": {},
     "output_type": "execute_result"
    }
   ],
   "source": [
    "((ultra_df.query('gb_overrun > 0')['gb_overrun'].sum() * 150) / ((985 * 1950)) * 100).round(2)"
   ]
  },
  {
   "cell_type": "markdown",
   "id": "414b8d79",
   "metadata": {},
   "source": [
    "Общее количество дополнительного трафика составляет 789 Гб, или 4.12% от общей выручки по тарифу. \n",
    "Выручка за дополнительные Гб на 6.16% больше выручки, чем по тарифу (985 наблюдений * 1950 руб./мес.)."
   ]
  },
  {
   "cell_type": "markdown",
   "id": "ea322a80",
   "metadata": {},
   "source": [
    "#### Анализ сообщений"
   ]
  },
  {
   "cell_type": "code",
   "execution_count": 115,
   "id": "9f54e370",
   "metadata": {},
   "outputs": [
    {
     "data": {
      "text/plain": [
       "count    985.0\n",
       "mean      49.0\n",
       "std       48.0\n",
       "min        0.0\n",
       "25%        6.0\n",
       "50%       38.0\n",
       "75%       79.0\n",
       "max      224.0\n",
       "Name: sms_total_in_month, dtype: float64"
      ]
     },
     "execution_count": 115,
     "metadata": {},
     "output_type": "execute_result"
    }
   ],
   "source": [
    "ultra_df['sms_total_in_month'].describe().round()"
   ]
  },
  {
   "cell_type": "code",
   "execution_count": 116,
   "id": "c4b65d08",
   "metadata": {},
   "outputs": [],
   "source": [
    "def round_up(number:float, digits:int):\n",
    "    return math.ceil(number * 10**digits) / 10**digits"
   ]
  },
  {
   "cell_type": "code",
   "execution_count": 117,
   "id": "df6eaf9d",
   "metadata": {},
   "outputs": [
    {
     "name": "stdout",
     "output_type": "stream",
     "text": [
      "Дисперсия:  2285.27\n",
      "Стандартное отклонение:  47.81\n",
      "Сренднее количество:  49.37\n"
     ]
    }
   ],
   "source": [
    "variance = np.var(ultra_df['sms_total_in_month'], ddof=1)\n",
    "print('Дисперсия: ', round_up(variance, 2))\n",
    "print('Стандартное отклонение: ', round_up(np.sqrt(variance), 2))\n",
    "print('Сренднее количество: ', round_up(ultra_df['sms_total_in_month'].mean(), 2))"
   ]
  },
  {
   "cell_type": "code",
   "execution_count": 118,
   "id": "544ed26a",
   "metadata": {},
   "outputs": [
    {
     "data": {
      "text/plain": [
       "Text(0.5, 0, 'Сообщения Ultra')"
      ]
     },
     "execution_count": 118,
     "metadata": {},
     "output_type": "execute_result"
    },
    {
     "data": {
      "image/png": "[encoded data removed]",
      "text/plain": [
       "<Figure size 432x432 with 1 Axes>"
      ]
     },
     "metadata": {
      "needs_background": "light"
     },
     "output_type": "display_data"
    }
   ],
   "source": [
    "ultra_df.boxplot('sms_total_in_month', figsize=(6,6))\n",
    "plt.xlabel('Сообщения Ultra')"
   ]
  },
  {
   "cell_type": "code",
   "execution_count": 119,
   "id": "84f6d94e",
   "metadata": {},
   "outputs": [
    {
     "data": {
      "text/plain": [
       "Text(0.5, 0, 'Динамика sms по месяцам')"
      ]
     },
     "execution_count": 119,
     "metadata": {},
     "output_type": "execute_result"
    },
    {
     "data": {
      "image/png": "[encoded data removed]",
      "text/plain": [
       "<Figure size 720x720 with 1 Axes>"
      ]
     },
     "metadata": {
      "needs_background": "light"
     },
     "output_type": "display_data"
    }
   ],
   "source": [
    "ultra_df.boxplot('sms_total_in_month', by='month', figsize=(10,10))\n",
    "plt.xlabel('Динамика sms по месяцам')"
   ]
  },
  {
   "cell_type": "code",
   "execution_count": 120,
   "id": "1b047867",
   "metadata": {},
   "outputs": [
    {
     "name": "stderr",
     "output_type": "stream",
     "text": [
      "C:\\Users\\Emachines\\anaconda3\\lib\\site-packages\\seaborn\\distributions.py:2557: FutureWarning: `distplot` is a deprecated function and will be removed in a future version. Please adapt your code to use either `displot` (a figure-level function with similar flexibility) or `histplot` (an axes-level function for histograms).\n",
      "  warnings.warn(msg, FutureWarning)\n"
     ]
    },
    {
     "data": {
      "text/plain": [
       "Text(0, 0.5, 'Частота')"
      ]
     },
     "execution_count": 120,
     "metadata": {},
     "output_type": "execute_result"
    },
    {
     "data": {
      "image/png": "[encoded data removed]",
      "text/plain": [
       "<Figure size 432x288 with 1 Axes>"
      ]
     },
     "metadata": {
      "needs_background": "light"
     },
     "output_type": "display_data"
    }
   ],
   "source": [
    "sns.distplot(ultra_df['sms_total_in_month'],\n",
    "            hist=True, bins=20,\n",
    "            color='g', hist_kws={'edgecolor':'g'}).set_title('Анализ сообщений Ultra')\n",
    "plt.xlabel('Количество сообщений в месяц')\n",
    "plt.ylabel('Частота')"
   ]
  },
  {
   "cell_type": "markdown",
   "id": "64a4dcfe",
   "metadata": {},
   "source": [
    "Краткий вывод:\n",
    "\n",
    "* Распределение имеет правостороннюю ассиметрию;\n",
    "* Лимит SMS сообщений в тарифе 'Ultra' составляет 1000 сообщений. Максимальное количество отправленных сообщений составляет 224 сообщения, что говорит о том, что они себя практически изжили. Таким образом, включать в пакет тарифа 'Ultra' 1000 SMS со стороны оператора довольно выгодно."
   ]
  },
  {
   "cell_type": "code",
   "execution_count": 121,
   "id": "093fa8c5",
   "metadata": {},
   "outputs": [
    {
     "name": "stdout",
     "output_type": "stream",
     "text": [
      "Уложились бы в лимит 50 SMS: 586\n"
     ]
    }
   ],
   "source": [
    "print('Уложились бы в лимит 50 SMS:', ultra_df.query('sms_total_in_month <= 50')['sms_total_in_month'].count())"
   ]
  },
  {
   "cell_type": "code",
   "execution_count": 122,
   "id": "389eef8d",
   "metadata": {},
   "outputs": [
    {
     "data": {
      "text/plain": [
       "59.49"
      ]
     },
     "execution_count": 122,
     "metadata": {},
     "output_type": "execute_result"
    }
   ],
   "source": [
    "(ultra_df.query('sms_total_in_month <= 50')['sms_total_in_month'].count() / 985 * 100).round(2)"
   ]
  },
  {
   "cell_type": "markdown",
   "id": "b7251d0e",
   "metadata": {},
   "source": [
    "Почти 60% абонентов тарифа 'Ultra' уложились бы в лимит 'Smart' (50 сообщений)."
   ]
  },
  {
   "cell_type": "markdown",
   "id": "b79a485a",
   "metadata": {},
   "source": [
    "#### Вывод"
   ]
  },
  {
   "cell_type": "markdown",
   "id": "b94eb054",
   "metadata": {},
   "source": [
    "В тариф 'Ultra' включено 3000 минут разговора, 1000 сообщений и 30 Гб интернет-трафика. Сумма абонентской платы составляет 1950 рублей.\n",
    "\n",
    "* Максимальное количество использованных минут разговора за месяц составило 1673 минут, отправленных сообщений — 224, что не превышает лимит;\n",
    "* Максимальный объем использованного интернет-трафика в месяц равен 49 Гб, причем в более чем 75% наблюдений лимит не превышался;\n",
    "* Превышение абонентской платы за тариф было только в 13% наблюдений."
   ]
  },
  {
   "cell_type": "code",
   "execution_count": 123,
   "id": "2f7e6e3d",
   "metadata": {},
   "outputs": [
    {
     "data": {
      "text/html": [
       "<style  type=\"text/css\" >\n",
       "</style><table id=\"T_f114b_\" ><thead>    <tr>        <th class=\"blank\" ></th>        <th class=\"index_name level0\" >tariff</th>        <th class=\"col_heading level0 col0\" >smart</th>        <th class=\"col_heading level0 col1\" >ultra</th>    </tr></thead><tbody>\n",
       "                <tr>\n",
       "                        <th id=\"T_f114b_level0_row0\" class=\"row_heading level0 row0\" rowspan=\"3\">mean</th>\n",
       "                        <th id=\"T_f114b_level1_row0\" class=\"row_heading level1 row0\" >gb_total_in_month</th>\n",
       "                        <td id=\"T_f114b_row0_col0\" class=\"data row0 col0\" >16.33</td>\n",
       "                        <td id=\"T_f114b_row0_col1\" class=\"data row0 col1\" >19.49</td>\n",
       "            </tr>\n",
       "            <tr>\n",
       "                                <th id=\"T_f114b_level1_row1\" class=\"row_heading level1 row1\" >month_calls_duration</th>\n",
       "                        <td id=\"T_f114b_row1_col0\" class=\"data row1 col0\" >417.93</td>\n",
       "                        <td id=\"T_f114b_row1_col1\" class=\"data row1 col1\" >526.62</td>\n",
       "            </tr>\n",
       "            <tr>\n",
       "                                <th id=\"T_f114b_level1_row2\" class=\"row_heading level1 row2\" >sms_total_in_month</th>\n",
       "                        <td id=\"T_f114b_row2_col0\" class=\"data row2 col0\" >33.38</td>\n",
       "                        <td id=\"T_f114b_row2_col1\" class=\"data row2 col1\" >49.36</td>\n",
       "            </tr>\n",
       "            <tr>\n",
       "                        <th id=\"T_f114b_level0_row3\" class=\"row_heading level0 row3\" rowspan=\"3\">std</th>\n",
       "                        <th id=\"T_f114b_level1_row3\" class=\"row_heading level1 row3\" >gb_total_in_month</th>\n",
       "                        <td id=\"T_f114b_row3_col0\" class=\"data row3 col0\" >5.75</td>\n",
       "                        <td id=\"T_f114b_row3_col1\" class=\"data row3 col1\" >9.85</td>\n",
       "            </tr>\n",
       "            <tr>\n",
       "                                <th id=\"T_f114b_level1_row4\" class=\"row_heading level1 row4\" >month_calls_duration</th>\n",
       "                        <td id=\"T_f114b_row4_col0\" class=\"data row4 col0\" >190.31</td>\n",
       "                        <td id=\"T_f114b_row4_col1\" class=\"data row4 col1\" >317.61</td>\n",
       "            </tr>\n",
       "            <tr>\n",
       "                                <th id=\"T_f114b_level1_row5\" class=\"row_heading level1 row5\" >sms_total_in_month</th>\n",
       "                        <td id=\"T_f114b_row5_col0\" class=\"data row5 col0\" >28.23</td>\n",
       "                        <td id=\"T_f114b_row5_col1\" class=\"data row5 col1\" >47.80</td>\n",
       "            </tr>\n",
       "            <tr>\n",
       "                        <th id=\"T_f114b_level0_row6\" class=\"row_heading level0 row6\" rowspan=\"3\">var</th>\n",
       "                        <th id=\"T_f114b_level1_row6\" class=\"row_heading level1 row6\" >gb_total_in_month</th>\n",
       "                        <td id=\"T_f114b_row6_col0\" class=\"data row6 col0\" >33.03</td>\n",
       "                        <td id=\"T_f114b_row6_col1\" class=\"data row6 col1\" >97.09</td>\n",
       "            </tr>\n",
       "            <tr>\n",
       "                                <th id=\"T_f114b_level1_row7\" class=\"row_heading level1 row7\" >month_calls_duration</th>\n",
       "                        <td id=\"T_f114b_row7_col0\" class=\"data row7 col0\" >36219.32</td>\n",
       "                        <td id=\"T_f114b_row7_col1\" class=\"data row7 col1\" >100873.63</td>\n",
       "            </tr>\n",
       "            <tr>\n",
       "                                <th id=\"T_f114b_level1_row8\" class=\"row_heading level1 row8\" >sms_total_in_month</th>\n",
       "                        <td id=\"T_f114b_row8_col0\" class=\"data row8 col0\" >796.81</td>\n",
       "                        <td id=\"T_f114b_row8_col1\" class=\"data row8 col1\" >2285.27</td>\n",
       "            </tr>\n",
       "    </tbody></table>"
      ],
      "text/plain": [
       "<pandas.io.formats.style.Styler at 0x11725fd0>"
      ]
     },
     "execution_count": 123,
     "metadata": {},
     "output_type": "execute_result"
    }
   ],
   "source": [
    "df.pivot_table(index='tariff', \n",
    "               values=['month_calls_duration', 'gb_total_in_month', 'sms_total_in_month'], \n",
    "               aggfunc=['mean', 'std', 'var']).T.style.format('{:.2f}')"
   ]
  },
  {
   "cell_type": "markdown",
   "id": "73a3b851",
   "metadata": {},
   "source": [
    "## Этап 4. Проверка гипотез"
   ]
  },
  {
   "cell_type": "markdown",
   "id": "5b0948ef",
   "metadata": {},
   "source": [
    "### Гипотеза 1. Средняя выручка пользователей тарифов «Ультра» и «Смарт» различаются"
   ]
  },
  {
   "cell_type": "markdown",
   "id": "76a7a324",
   "metadata": {},
   "source": [
    "Перед проверкой гипотез нужно избавиться от выбросов. Например, методом 3-х сигм. Выбросы влияют на распределение t-критерия."
   ]
  },
  {
   "cell_type": "code",
   "execution_count": 124,
   "id": "8880826e",
   "metadata": {},
   "outputs": [],
   "source": [
    "def del_outliers(df, column, graphic=0, x = 10, y = 10):\n",
    "    q1 = df[column].quantile(0.25)                 \n",
    "    q3 = df[column].quantile(0.75)\n",
    "    iqr = q3 - q1\n",
    "    iqr_test = (df[column] >= (q1 - 1.5 * iqr)) & (df[column] <= (q3 + 1.5 * iqr))\n",
    "    if graphic == 1:\n",
    "        return df.loc[iqr_test].boxplot([column], figsize=(x,y))\n",
    "    else:\n",
    "        return df.loc[iqr_test]"
   ]
  },
  {
   "cell_type": "code",
   "execution_count": 125,
   "id": "716dcbe7",
   "metadata": {},
   "outputs": [],
   "source": [
    "# Проверка правильности работы функции\n",
    "# del_outliers(df, 'income', graphic=1)\n",
    "# q1 = df['income'].quantile(0.25)                 \n",
    "# q3 = df['income'].quantile(0.75)\n",
    "# iqr = q3 - q1\n",
    "# df.loc[(df['income'] >= (q1 - 1.5 * iqr)) & (df['income'] <= (q3 + 1.5 * iqr))].boxplot(['income'], figsize=(10,10))"
   ]
  },
  {
   "cell_type": "code",
   "execution_count": 126,
   "id": "803f0adf",
   "metadata": {},
   "outputs": [],
   "source": [
    "moscow = del_outliers(df.query('city == \"Москва\"'), 'income', 0)\n",
    "moscow = moscow['income']\n",
    "\n",
    "other = del_outliers(df.query('city != \"Москва\"'), 'income', 0)\n",
    "other = other['income']"
   ]
  },
  {
   "cell_type": "code",
   "execution_count": 127,
   "id": "5a317656",
   "metadata": {},
   "outputs": [],
   "source": [
    "smart = del_outliers(df.query('tariff == \"smart\"'), 'income', 0)\n",
    "smart = smart['income']\n",
    "\n",
    "ultra = del_outliers(df.query('tariff == \"ultra\"'), 'income', 0)\n",
    "ultra = ultra['income']"
   ]
  },
  {
   "cell_type": "code",
   "execution_count": 128,
   "id": "40211894",
   "metadata": {},
   "outputs": [
    {
     "data": {
      "text/plain": [
       "count    2229.0\n",
       "mean     1290.0\n",
       "std       818.0\n",
       "min       550.0\n",
       "25%       550.0\n",
       "50%      1023.0\n",
       "75%      1750.0\n",
       "max      6770.0\n",
       "Name: income, dtype: float64"
      ]
     },
     "execution_count": 128,
     "metadata": {},
     "output_type": "execute_result"
    }
   ],
   "source": [
    "# Посмотрим выручку по тарифу 'smart' до удаления выбросов\n",
    "df.query('tariff == \"smart\"')['income'].describe().round()"
   ]
  },
  {
   "cell_type": "code",
   "execution_count": 129,
   "id": "7d14b7a8",
   "metadata": {},
   "outputs": [
    {
     "data": {
      "text/plain": [
       "count    2198.0\n",
       "mean     1246.0\n",
       "std       730.0\n",
       "min       550.0\n",
       "25%       550.0\n",
       "50%      1006.0\n",
       "75%      1750.0\n",
       "max      3550.0\n",
       "Name: income, dtype: float64"
      ]
     },
     "execution_count": 129,
     "metadata": {},
     "output_type": "execute_result"
    }
   ],
   "source": [
    "# Посмотрим выручку по тарифу 'smart' после удаления выбросов\n",
    "smart.describe().round()"
   ]
  },
  {
   "cell_type": "code",
   "execution_count": 130,
   "id": "e40db22f",
   "metadata": {},
   "outputs": [
    {
     "data": {
      "text/plain": [
       "count     985.0\n",
       "mean     2070.0\n",
       "std       376.0\n",
       "min      1950.0\n",
       "25%      1950.0\n",
       "50%      1950.0\n",
       "75%      1950.0\n",
       "max      4800.0\n",
       "Name: income, dtype: float64"
      ]
     },
     "execution_count": 130,
     "metadata": {},
     "output_type": "execute_result"
    }
   ],
   "source": [
    "# Посмотрим выручку по тарифу 'ultra' до удаления выбросов\n",
    "df.query('tariff == \"ultra\"')['income'].describe().round()"
   ]
  },
  {
   "cell_type": "code",
   "execution_count": 131,
   "id": "d65ae683",
   "metadata": {},
   "outputs": [
    {
     "data": {
      "text/plain": [
       "count     851.0\n",
       "mean     1950.0\n",
       "std         0.0\n",
       "min      1950.0\n",
       "25%      1950.0\n",
       "50%      1950.0\n",
       "75%      1950.0\n",
       "max      1950.0\n",
       "Name: income, dtype: float64"
      ]
     },
     "execution_count": 131,
     "metadata": {},
     "output_type": "execute_result"
    }
   ],
   "source": [
    "# Посмотрим выручку по тарифу 'ultra' после удаления выбросов\n",
    "ultra.describe().round()"
   ]
  },
  {
   "cell_type": "markdown",
   "id": "d96c824c",
   "metadata": {},
   "source": [
    "Средняя выручка по тарифам \"Смарт\" и \"Ультра\" до удаления выбросов равны 1290 руб. и 2070 руб соответственно.\\\n",
    "Средняя выручка по тарифам \"Смарт\" и \"Ультра\" после удаления выбросов равны 1246 руб. и 1950 руб соответственно."
   ]
  },
  {
   "cell_type": "markdown",
   "id": "10c5d725",
   "metadata": {},
   "source": [
    "**Сформулируем гипотезы:**\n",
    "\n",
    "H0: выручка пользователей тарифов «Ультра» и «Смарт» не различается. \\\n",
    "H1: выручка пользователей тарифов «Ультра» и «Смарт» различается.\n",
    "\n",
    "Используем метод scipy.stats.ttest_ind(array1, array2, equal_var = False). False, потому что дисперсии наших выборок отличаются. Критический уровень значимости 0.01. Пусть вероятность правильности вывода будет 99% и больше."
   ]
  },
  {
   "cell_type": "code",
   "execution_count": 132,
   "id": "0c4e4111",
   "metadata": {},
   "outputs": [
    {
     "name": "stdout",
     "output_type": "stream",
     "text": [
      "def del_outliers(df, column, graphic=0, x = 10, y = 10):\n",
      "    q1 = df[column].quantile(0.25)                 \n",
      "    q3 = df[column].quantile(0.75)\n",
      "    iqr = q3 - q1\n",
      "    iqr_test = (df[column] >= (q1 - 1.5 * iqr)) & (df[column] <= (q3 + 1.5 * iqr))\n",
      "    if graphic == 1:\n",
      "        return df.loc[iqr_test].boxplot([column], figsize=(x,y))\n",
      "    else:\n",
      "        return df.loc[iqr_test]\n",
      "\n"
     ]
    }
   ],
   "source": [
    "print(inspect.getsource(del_outliers))"
   ]
  },
  {
   "cell_type": "code",
   "execution_count": 133,
   "id": "d69edad3",
   "metadata": {},
   "outputs": [
    {
     "name": "stdout",
     "output_type": "stream",
     "text": [
      "p-значение: 4.2606313931076085e-250\n",
      "Отвергаем нулевую гипотезу.\n"
     ]
    }
   ],
   "source": [
    "# До удаления выбросов\n",
    "alpha = 0.01\n",
    "\n",
    "results = st.ttest_ind(df.query(\"tariff == 'smart'\")['income'], df.query(\"tariff == 'ultra'\")['income'], equal_var=False)\n",
    "print('p-значение:', results.pvalue)\n",
    "\n",
    "if results.pvalue < alpha:\n",
    "    print('Отвергаем нулевую гипотезу.')\n",
    "else:\n",
    "    print('Не получилось отвергнуть нулевую гипотезу.')"
   ]
  },
  {
   "cell_type": "markdown",
   "id": "8047d28b",
   "metadata": {},
   "source": [
    "Нулевой гипотезой была гипотеза о неравенстве средних наших выборок и очень маленькое p-value говорит нам о том, вероятность случайного совпадения средних наших выборок ничтожно мало. Нулевая гипотеза отвергается."
   ]
  },
  {
   "cell_type": "code",
   "execution_count": 134,
   "id": "4e5aea78",
   "metadata": {},
   "outputs": [
    {
     "name": "stdout",
     "output_type": "stream",
     "text": [
      "p-значение: 4.665521e-316\n",
      "Отвергаем нулевую гипотезу.\n"
     ]
    }
   ],
   "source": [
    "# До удаления выбросов\n",
    "alpha = 0.01\n",
    "\n",
    "results = st.ttest_ind(smart, ultra, equal_var=False)\n",
    "print('p-значение:', results.pvalue)\n",
    "\n",
    "if results.pvalue < alpha:\n",
    "    print('Отвергаем нулевую гипотезу.')\n",
    "else:\n",
    "    print('Не получилось отвергнуть нулевую гипотезу.')"
   ]
  },
  {
   "cell_type": "markdown",
   "id": "42806c2e",
   "metadata": {},
   "source": [
    "**Вывод по гипотезе 1:**\n",
    "\n",
    "Нулевой гипотезой была гипотеза о равенстве средних наших выборок и очень маленькое p-value означает, что вероятность случайного совпадения средних наших выборок ничтожно мало. Нулевая гипотеза отвергается.\n",
    "\n",
    "А значит альтернативная гипотеза о том, что средние наших выборок отличаются, не отвергается! \\\n",
    "Выручка между двумя тарифами отличается, но так как гипотеза двухсторонняя, то сама проверка не даёт нам понять в какую именно сторону оно отличается, и что приносит больше выручки.\\\n",
    "Но как мы уже выяснили ранее: средняя выручка по тарифам \"Ультра\" и \"Смарт\" равны 1290 руб. и 2070 руб соответственно."
   ]
  },
  {
   "cell_type": "markdown",
   "id": "7a50d10c",
   "metadata": {},
   "source": [
    "### Гипотеза 2. Средняя выручка пользователей из Москвы отличается от выручки пользователей из других регионов"
   ]
  },
  {
   "cell_type": "code",
   "execution_count": 135,
   "id": "244f7605",
   "metadata": {},
   "outputs": [
    {
     "name": "stdout",
     "output_type": "stream",
     "text": [
      "Уникальные значения названия города\n",
      "Москва             611\n",
      "Санкт-Петербург    270\n",
      "Новосибирск         98\n",
      "Уфа                 95\n",
      "Краснодар           86\n",
      "                  ... \n",
      "Нижневартовск        6\n",
      "Сургут               6\n",
      "Химки                5\n",
      "Кемерово             5\n",
      "Иваново              2\n",
      "Name: city, Length: 76, dtype: int64\n"
     ]
    }
   ],
   "source": [
    "print('Уникальные значения названия города')\n",
    "print(df['city'].value_counts())"
   ]
  },
  {
   "cell_type": "code",
   "execution_count": 136,
   "id": "22f64fad",
   "metadata": {},
   "outputs": [
    {
     "data": {
      "text/plain": [
       "count     611.0\n",
       "mean     1547.0\n",
       "std       752.0\n",
       "min       550.0\n",
       "25%       780.0\n",
       "50%      1750.0\n",
       "75%      1950.0\n",
       "max      5321.0\n",
       "Name: income, dtype: float64"
      ]
     },
     "execution_count": 136,
     "metadata": {},
     "output_type": "execute_result"
    }
   ],
   "source": [
    "# Посмотрим выручку в Москве до удаления выбросов\n",
    "df.query(\"city == 'Москва'\")['income'].describe().round()"
   ]
  },
  {
   "cell_type": "code",
   "execution_count": 137,
   "id": "b32f345a",
   "metadata": {},
   "outputs": [
    {
     "data": {
      "text/plain": [
       "count     606.0\n",
       "mean     1525.0\n",
       "std       713.0\n",
       "min       550.0\n",
       "25%       758.0\n",
       "50%      1750.0\n",
       "75%      1950.0\n",
       "max      3450.0\n",
       "Name: income, dtype: float64"
      ]
     },
     "execution_count": 137,
     "metadata": {},
     "output_type": "execute_result"
    }
   ],
   "source": [
    "# Посмотрим выручку в Москве после удаления выбросов\n",
    "moscow.describe().round()"
   ]
  },
  {
   "cell_type": "code",
   "execution_count": 138,
   "id": "cb0d7465",
   "metadata": {},
   "outputs": [
    {
     "data": {
      "text/plain": [
       "count    2603.0\n",
       "mean     1525.0\n",
       "std       809.0\n",
       "min       550.0\n",
       "25%       750.0\n",
       "50%      1583.0\n",
       "75%      1950.0\n",
       "max      6770.0\n",
       "Name: income, dtype: float64"
      ]
     },
     "execution_count": 138,
     "metadata": {},
     "output_type": "execute_result"
    }
   ],
   "source": [
    "# Посмотрим выручку по другим регионам до удаления выбросов\n",
    "df.query(\"city != 'Москва'\")['income'].describe().round()"
   ]
  },
  {
   "cell_type": "code",
   "execution_count": 139,
   "id": "8503db59",
   "metadata": {},
   "outputs": [
    {
     "data": {
      "text/plain": [
       "count    2572.0\n",
       "mean     1490.0\n",
       "std       743.0\n",
       "min       550.0\n",
       "25%       750.0\n",
       "50%      1552.0\n",
       "75%      1950.0\n",
       "max      3750.0\n",
       "Name: income, dtype: float64"
      ]
     },
     "execution_count": 139,
     "metadata": {},
     "output_type": "execute_result"
    }
   ],
   "source": [
    "# Посмотрим выручку по другим регионам после удаления выбросов\n",
    "other.describe().round()"
   ]
  },
  {
   "cell_type": "markdown",
   "id": "6829b093",
   "metadata": {},
   "source": [
    "Средняя выручка до удаления выбросов пользователей из Москвы и других городов равны 1547 руб. и 1525 руб соответственно. \\\n",
    "Средняя выручка после удаления выбросов пользователей из Москвы и других городов равны 1525 руб. и 1490 руб соответственно. \\\n",
    "Средние выручки практически действительно равны, есть лишь небольшое различие."
   ]
  },
  {
   "cell_type": "markdown",
   "id": "0d38da1a",
   "metadata": {},
   "source": [
    "**Сформулируем гипотезы:**\n",
    "\n",
    "H0: средняя выручка пользователей из Москвы не отличается от выручки пользователей из других регионов. \\\n",
    "H1: средняя выручка пользователей из Москвы отличается от выручки пользователей из других регионов."
   ]
  },
  {
   "cell_type": "code",
   "execution_count": 140,
   "id": "c00bb868",
   "metadata": {},
   "outputs": [
    {
     "name": "stdout",
     "output_type": "stream",
     "text": [
      "p-значение: 0.5257376663729298\n",
      "Не получилось отвергнуть нулевую гипотезу.\n"
     ]
    }
   ],
   "source": [
    "# До удаления выбросов\n",
    "alpha = 0.01\n",
    "\n",
    "results = st.ttest_ind(df.query(\"city == 'Москва'\")['income'], df.query(\"city != 'Москва'\")['income'], equal_var=False)\n",
    "print('p-значение:', results.pvalue)\n",
    "\n",
    "if results.pvalue < alpha:\n",
    "    print('Отвергаем нулевую гипотезу.')\n",
    "else:\n",
    "    print('Не получилось отвергнуть нулевую гипотезу.')"
   ]
  },
  {
   "cell_type": "code",
   "execution_count": 141,
   "id": "bd89d846",
   "metadata": {},
   "outputs": [
    {
     "name": "stdout",
     "output_type": "stream",
     "text": [
      "p-значение: 0.28193534711211565\n",
      "Не получилось отвергнуть нулевую гипотезу.\n"
     ]
    }
   ],
   "source": [
    "# До удаления выбросов\n",
    "alpha = 0.01\n",
    "\n",
    "results = st.ttest_ind(moscow, other, equal_var=False)\n",
    "print('p-значение:', results.pvalue)\n",
    "\n",
    "if results.pvalue < alpha:\n",
    "    print('Отвергаем нулевую гипотезу.')\n",
    "else:\n",
    "    print('Не получилось отвергнуть нулевую гипотезу.')"
   ]
  },
  {
   "cell_type": "markdown",
   "id": "a0d5ba44",
   "metadata": {},
   "source": [
    "Полученное нами p-value достаточно велик, а значит есть большая вероятность того, что отличие средних значений наших выборок случайно и мы не можем отвергнуть нулевую гипотезу, которая говорит нам о равенстве средних значений.\n",
    "\n",
    "Значит, нашу альтернативную гипотезу о различии средних мы отвергаем!"
   ]
  },
  {
   "cell_type": "markdown",
   "id": "61d5168c",
   "metadata": {},
   "source": [
    "## Этап 5. Результаты исследования"
   ]
  },
  {
   "cell_type": "markdown",
   "id": "c6bf574a",
   "metadata": {},
   "source": [
    "### Выводы"
   ]
  },
  {
   "cell_type": "markdown",
   "id": "3f37130d",
   "metadata": {},
   "source": [
    "* В ходе исследования тарифов «Смарт» и «Ультра» на выборке из 500 пользователей мы обработали несколько массивов данных. \\\n",
    "Из предоставленных нам таблиц мы определили все необходимые средние значения израсходованных минут, сообщений и мегабайтов интернет-трафика. Вычислили прибыль по каждому месяцу и посчитали по каждому из клиентов среднюю прибыль для компании. Далее разделили всех клиентов по тарифным группам и проверили правильность наших гипотез.\n",
    "\n",
    "\n",
    "* Самый популярным тарифом оказался «Смарт».\n",
    "\n",
    "\n",
    "* Средняя выручка по тарифам «Смарт» и «Ультра» равны 1290 руб. и 2070 руб соответственно.\n",
    "\n",
    "\n",
    "* Средние израсходованные количества звонков, сообщений и мегабайт интернет трафика не так сильно отличаются между тарифами, в то время как базовая стоимость тарифов отличается почти в 4 раза.\n",
    "\n",
    "\n",
    "* 75% абонентов «Смарт» не укладываются в лимит и платит за допольнительный трафик, чем приносит оператору порядка 46% выручки от тарифа. Средний ежемесячный платёж в два раза превышает абонентскую плату.\n",
    "\n",
    "\n",
    "* Более 25% абонентов «Смарт» используют дополнительные минуты и сообщения.\n",
    "\n",
    "\n",
    "* Максимальное количество в месяц сообщений минут на тарифе «Ультра» не превышает лимит и не приносит дополнительной выручки. У более чем 75% наблюдений лимит по интернет-трафику также не превышался. Только 13% наблюдений превышают абонентскую плату за тариф\n",
    "\n",
    "\n",
    "* Средние выручки Москвы и остальных регионов практически равны, имеется небольшое различие."
   ]
  },
  {
   "cell_type": "markdown",
   "id": "85a5b49b",
   "metadata": {},
   "source": [
    "### Рекомендации"
   ]
  },
  {
   "cell_type": "markdown",
   "id": "9ff4f05d",
   "metadata": {},
   "source": [
    "* Оператору можно порекомендовать скорректировать рекламный бюджет в пользу тарифа «Смарт».\\\n",
    "Он приносит больше выручки, за счёт того, что его абоненты переплачивают сверх лимита, в отличие от абонентов «Ультра», которые крайне редко выбирают свой лимит.\n",
    "\n",
    "\n",
    "* Также по абонентской плате тариф «Смарт» более привлекателен для абонентов, а значит может быть более популярным и будет приносить суммарно большую выручку.\\\n",
    "Для привлечения клиентов можно дополнительно уменьшить абонентскую плату на первые месяцы или добавить в этот тариф минуты и сообщения.\n",
    "\n",
    "\n",
    "* Но если учитывать, что тариф «Ультра» приносит выручку на 38% больше, чем «Смарт», то стоит оценить стоимость привлечения одного абонента по каждому тарифу. И исходя из сравнения стоимости привлечения делать более точные оценки."
   ]
  },
  {
   "cell_type": "markdown",
   "id": "8829b429",
   "metadata": {},
   "source": [
    "**Описание тарифов**\n",
    "\n",
    "**Тариф «Смарт»**\n",
    "\n",
    "1. Ежемесячная плата: 550 рублей\n",
    "2. Включено 500 минут разговора, 50 сообщений и 15 Гб интернет-трафика\n",
    "3. Стоимость услуг сверх тарифного пакета: 1. минута разговора: 3 рубля («Мегалайн» всегда округляет вверх значения минут и мегабайтов. Если пользователь проговорил всего 1 секунду, в тарифе засчитывается целая минута); 2. сообщение: 3 рубля; 3. 1 Гб интернет-трафика: 200 рублей.\n",
    "\n",
    "**Тариф «Ультра»**\n",
    "\n",
    "1. Ежемесячная плата: 1950 рублей\n",
    "2. Включено 3000 минут разговора, 1000 сообщений и 30 Гб интернет-трафика\n",
    "3. Стоимость услуг сверх тарифного пакета: 1. минута разговора: 1 рубль; 2. сообщение: 1 рубль; 3. 1 Гб интернет-трафика: 150 рублей.\n",
    "\n",
    "**Примечание:**\n",
    "\n",
    "«Мегалайн» всегда округляет секунды до минут, а мегабайты — до гигабайт. Каждый звонок округляется отдельно: даже если он длился всего 1 секунду, будет засчитан как 1 минута. Для веб-трафика отдельные сессии не считаются. Вместо этого общая сумма за месяц округляется в бо́льшую сторону. Если абонент использует 1025 мегабайт в этом месяце, с него возьмут плату за 2 гигабайта."
   ]
  },
  {
   "cell_type": "markdown",
   "id": "d2a0661e",
   "metadata": {},
   "source": [
    "### Описание данных"
   ]
  },
  {
   "cell_type": "markdown",
   "id": "cf7381fd",
   "metadata": {},
   "source": [
    "**Таблица users (информация о пользователях):**\n",
    "\n",
    "* user_id — уникальный идентификатор пользователя\n",
    "* first_name — имя пользователя\n",
    "* last_name — фамилия пользователя\n",
    "* age — возраст пользователя (годы)\n",
    "* reg_date — дата подключения тарифа (день, месяц, год)\n",
    "* churn_date — дата прекращения пользования тарифом (если значение пропущено, то тариф ещё действовал на момент выгрузки данных)\n",
    "* city — город проживания пользователя\n",
    "* tarif — название тарифного плана\n",
    "\n",
    "**Таблица calls (информация о звонках):**\n",
    "\n",
    "* id — уникальный номер звонка\n",
    "* call_date — дата звонка\n",
    "* duration — длительность звонка в минутах\n",
    "* user_id — идентификатор пользователя, сделавшего звонок\n",
    "\n",
    "\n",
    "**Таблица messages (информация о сообщениях):**\n",
    "\n",
    "* id — уникальный номер сообщения\n",
    "* message_date — дата сообщения\n",
    "* user_id — идентификатор пользователя, отправившего сообщение\n",
    "\n",
    "**Таблица internet (информация об интернет-сессиях):**\n",
    "\n",
    "* id — уникальный номер сессии\n",
    "* mb_used — объём потраченного за сессию интернет-трафика (в мегабайтах)\n",
    "* session_date — дата интернет-сессии\n",
    "* user_id — идентификатор пользователя\n",
    "\n",
    "**Таблица tariffs (информация о тарифах):**\n",
    "\n",
    "* tariff_name — название тарифа\n",
    "* rub_monthly_fee — ежемесячная абонентская плата в рублях\n",
    "* minutes_included — количество минут разговора в месяц, включённых в абонентскую плату\n",
    "* messages_included — количество сообщений в месяц, включённых в абонентскую плату\n",
    "* mb_per_month_included — объём интернет-трафика, включённого в абонентскую плату (в мегабайтах)\n",
    "* rub_per_minute — стоимость минуты разговора сверх тарифного пакета (например, если в тарифе 100 минут разговора в месяц, то со 101 минуты будет взиматься плата)\n",
    "* rub_per_message — стоимость отправки сообщения сверх тарифного пакета\n",
    "* rub_per_gb — стоимость дополнительного гигабайта интернет-трафика сверх тарифного пакета (1 гигабайт = 1024 мегабайта)"
   ]
  }
 ],
 "metadata": {
  "kernelspec": {
   "display_name": "Python 3",
   "language": "python",
   "name": "python3"
  },
  "language_info": {
   "codemirror_mode": {
    "name": "ipython",
    "version": 3
   },
   "file_extension": ".py",
   "mimetype": "text/x-python",
   "name": "python",
   "nbconvert_exporter": "python",
   "pygments_lexer": "ipython3",
   "version": "3.8.8"
  }
 },
 "nbformat": 4,
 "nbformat_minor": 5
}
