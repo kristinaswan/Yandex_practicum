{
 "cells": [
  {
   "cell_type": "markdown",
   "id": "3ac8cf36",
   "metadata": {},
   "source": [
    "# Исследование надёжности заёмщиков"
   ]
  },
  {
   "cell_type": "markdown",
   "id": "0831087a",
   "metadata": {},
   "source": [
    "Заказчик — кредитный отдел банка. Нужно разобраться, влияет ли семейное положение и количество детей клиента на факт погашения кредита в срок. Результаты исследования будут учтены при построении модели кредитного скоринга.\n",
    "\n",
    "**Цель исследования** — ответить на вопросы:\n",
    "\n",
    "1. Есть ли зависимость между наличием детей и возвратом кредита в срок?\n",
    "2. Есть ли зависимость между семейным положением и возвратом кредита в срок?\n",
    "3. Есть ли зависимость между уровнем дохода и возвратом кредита в срок?\n",
    "4. Как разные цели кредита влияют на его возврат в срок?\n",
    "\n",
    "**Ход исследования**\n",
    "\n",
    "Входные данные от банка — статистика о платёжеспособности клиентов — получены из файла data.csv. О качестве данных ничего не известно. Поэтому перед тем, как отвечать на вопрсы исследования и делать вывод, понадобится обзор данных.\n",
    "\n",
    "Проверим данные на ошибки и оценим их влияние на исследование. Затем, на этапе предобработки, поищем возможность исправить самые критичные ошибки данных.\n",
    "\n",
    "После ответа на поставленные в исследовании вопросы, сделаем общий вывод.\n",
    "\n",
    "Таким образом, исследование пройдёт в четыре этапа:\n",
    "\n",
    "1. Обзор данных;\n",
    "2. Предобработка данных;\n",
    "3. Ответы на вопросы исследования;\n",
    "4. Общий вывод."
   ]
  },
  {
   "cell_type": "markdown",
   "id": "3dd94507",
   "metadata": {},
   "source": [
    "## Этап 1. Обзор данных\n",
    "Составим первое представление о данных статистики о платежеспособности клиентов."
   ]
  },
  {
   "cell_type": "code",
   "execution_count": 1,
   "id": "98c2764e",
   "metadata": {},
   "outputs": [],
   "source": [
    "# Импортируем библиотеки\n",
    "import pandas as pd\n",
    "import numpy as np\n",
    "import pprint\n",
    "\n",
    "import matplotlib.pyplot as plt\n",
    "import seaborn as sns\n",
    "\n",
    "from pymystem3 import Mystem\n",
    "from collections import Counter"
   ]
  },
  {
   "cell_type": "code",
   "execution_count": 2,
   "id": "e85f58af",
   "metadata": {},
   "outputs": [],
   "source": [
    "# Прочитаем файл data.csv из папки и сохраним его в переменной df\n",
    "df = pd.read_csv(r\"C:\\Users\\data.csv\")"
   ]
  },
  {
   "cell_type": "code",
   "execution_count": 3,
   "id": "6fb6ded1",
   "metadata": {},
   "outputs": [
    {
     "data": {
      "text/html": [
       "<div>\n",
       "<style scoped>\n",
       "    .dataframe tbody tr th:only-of-type {\n",
       "        vertical-align: middle;\n",
       "    }\n",
       "\n",
       "    .dataframe tbody tr th {\n",
       "        vertical-align: top;\n",
       "    }\n",
       "\n",
       "    .dataframe thead th {\n",
       "        text-align: right;\n",
       "    }\n",
       "</style>\n",
       "<table border=\"1\" class=\"dataframe\">\n",
       "  <thead>\n",
       "    <tr style=\"text-align: right;\">\n",
       "      <th></th>\n",
       "      <th>children</th>\n",
       "      <th>days_employed</th>\n",
       "      <th>dob_years</th>\n",
       "      <th>education</th>\n",
       "      <th>education_id</th>\n",
       "      <th>family_status</th>\n",
       "      <th>family_status_id</th>\n",
       "      <th>gender</th>\n",
       "      <th>income_type</th>\n",
       "      <th>debt</th>\n",
       "      <th>total_income</th>\n",
       "      <th>purpose</th>\n",
       "    </tr>\n",
       "  </thead>\n",
       "  <tbody>\n",
       "    <tr>\n",
       "      <th>0</th>\n",
       "      <td>1</td>\n",
       "      <td>-8437.673028</td>\n",
       "      <td>42</td>\n",
       "      <td>высшее</td>\n",
       "      <td>0</td>\n",
       "      <td>женат / замужем</td>\n",
       "      <td>0</td>\n",
       "      <td>F</td>\n",
       "      <td>сотрудник</td>\n",
       "      <td>0</td>\n",
       "      <td>253875.639453</td>\n",
       "      <td>покупка жилья</td>\n",
       "    </tr>\n",
       "    <tr>\n",
       "      <th>1</th>\n",
       "      <td>1</td>\n",
       "      <td>-4024.803754</td>\n",
       "      <td>36</td>\n",
       "      <td>среднее</td>\n",
       "      <td>1</td>\n",
       "      <td>женат / замужем</td>\n",
       "      <td>0</td>\n",
       "      <td>F</td>\n",
       "      <td>сотрудник</td>\n",
       "      <td>0</td>\n",
       "      <td>112080.014102</td>\n",
       "      <td>приобретение автомобиля</td>\n",
       "    </tr>\n",
       "    <tr>\n",
       "      <th>2</th>\n",
       "      <td>0</td>\n",
       "      <td>-5623.422610</td>\n",
       "      <td>33</td>\n",
       "      <td>Среднее</td>\n",
       "      <td>1</td>\n",
       "      <td>женат / замужем</td>\n",
       "      <td>0</td>\n",
       "      <td>M</td>\n",
       "      <td>сотрудник</td>\n",
       "      <td>0</td>\n",
       "      <td>145885.952297</td>\n",
       "      <td>покупка жилья</td>\n",
       "    </tr>\n",
       "    <tr>\n",
       "      <th>3</th>\n",
       "      <td>3</td>\n",
       "      <td>-4124.747207</td>\n",
       "      <td>32</td>\n",
       "      <td>среднее</td>\n",
       "      <td>1</td>\n",
       "      <td>женат / замужем</td>\n",
       "      <td>0</td>\n",
       "      <td>M</td>\n",
       "      <td>сотрудник</td>\n",
       "      <td>0</td>\n",
       "      <td>267628.550329</td>\n",
       "      <td>дополнительное образование</td>\n",
       "    </tr>\n",
       "    <tr>\n",
       "      <th>4</th>\n",
       "      <td>0</td>\n",
       "      <td>340266.072047</td>\n",
       "      <td>53</td>\n",
       "      <td>среднее</td>\n",
       "      <td>1</td>\n",
       "      <td>гражданский брак</td>\n",
       "      <td>1</td>\n",
       "      <td>F</td>\n",
       "      <td>пенсионер</td>\n",
       "      <td>0</td>\n",
       "      <td>158616.077870</td>\n",
       "      <td>сыграть свадьбу</td>\n",
       "    </tr>\n",
       "    <tr>\n",
       "      <th>5</th>\n",
       "      <td>0</td>\n",
       "      <td>-926.185831</td>\n",
       "      <td>27</td>\n",
       "      <td>высшее</td>\n",
       "      <td>0</td>\n",
       "      <td>гражданский брак</td>\n",
       "      <td>1</td>\n",
       "      <td>M</td>\n",
       "      <td>компаньон</td>\n",
       "      <td>0</td>\n",
       "      <td>255763.565419</td>\n",
       "      <td>покупка жилья</td>\n",
       "    </tr>\n",
       "    <tr>\n",
       "      <th>6</th>\n",
       "      <td>0</td>\n",
       "      <td>-2879.202052</td>\n",
       "      <td>43</td>\n",
       "      <td>высшее</td>\n",
       "      <td>0</td>\n",
       "      <td>женат / замужем</td>\n",
       "      <td>0</td>\n",
       "      <td>F</td>\n",
       "      <td>компаньон</td>\n",
       "      <td>0</td>\n",
       "      <td>240525.971920</td>\n",
       "      <td>операции с жильем</td>\n",
       "    </tr>\n",
       "    <tr>\n",
       "      <th>7</th>\n",
       "      <td>0</td>\n",
       "      <td>-152.779569</td>\n",
       "      <td>50</td>\n",
       "      <td>СРЕДНЕЕ</td>\n",
       "      <td>1</td>\n",
       "      <td>женат / замужем</td>\n",
       "      <td>0</td>\n",
       "      <td>M</td>\n",
       "      <td>сотрудник</td>\n",
       "      <td>0</td>\n",
       "      <td>135823.934197</td>\n",
       "      <td>образование</td>\n",
       "    </tr>\n",
       "    <tr>\n",
       "      <th>8</th>\n",
       "      <td>2</td>\n",
       "      <td>-6929.865299</td>\n",
       "      <td>35</td>\n",
       "      <td>ВЫСШЕЕ</td>\n",
       "      <td>0</td>\n",
       "      <td>гражданский брак</td>\n",
       "      <td>1</td>\n",
       "      <td>F</td>\n",
       "      <td>сотрудник</td>\n",
       "      <td>0</td>\n",
       "      <td>95856.832424</td>\n",
       "      <td>на проведение свадьбы</td>\n",
       "    </tr>\n",
       "    <tr>\n",
       "      <th>9</th>\n",
       "      <td>0</td>\n",
       "      <td>-2188.756445</td>\n",
       "      <td>41</td>\n",
       "      <td>среднее</td>\n",
       "      <td>1</td>\n",
       "      <td>женат / замужем</td>\n",
       "      <td>0</td>\n",
       "      <td>M</td>\n",
       "      <td>сотрудник</td>\n",
       "      <td>0</td>\n",
       "      <td>144425.938277</td>\n",
       "      <td>покупка жилья для семьи</td>\n",
       "    </tr>\n",
       "  </tbody>\n",
       "</table>\n",
       "</div>"
      ],
      "text/plain": [
       "   children  days_employed  dob_years education  education_id  \\\n",
       "0         1   -8437.673028         42    высшее             0   \n",
       "1         1   -4024.803754         36   среднее             1   \n",
       "2         0   -5623.422610         33   Среднее             1   \n",
       "3         3   -4124.747207         32   среднее             1   \n",
       "4         0  340266.072047         53   среднее             1   \n",
       "5         0    -926.185831         27    высшее             0   \n",
       "6         0   -2879.202052         43    высшее             0   \n",
       "7         0    -152.779569         50   СРЕДНЕЕ             1   \n",
       "8         2   -6929.865299         35    ВЫСШЕЕ             0   \n",
       "9         0   -2188.756445         41   среднее             1   \n",
       "\n",
       "      family_status  family_status_id gender income_type  debt   total_income  \\\n",
       "0   женат / замужем                 0      F   сотрудник     0  253875.639453   \n",
       "1   женат / замужем                 0      F   сотрудник     0  112080.014102   \n",
       "2   женат / замужем                 0      M   сотрудник     0  145885.952297   \n",
       "3   женат / замужем                 0      M   сотрудник     0  267628.550329   \n",
       "4  гражданский брак                 1      F   пенсионер     0  158616.077870   \n",
       "5  гражданский брак                 1      M   компаньон     0  255763.565419   \n",
       "6   женат / замужем                 0      F   компаньон     0  240525.971920   \n",
       "7   женат / замужем                 0      M   сотрудник     0  135823.934197   \n",
       "8  гражданский брак                 1      F   сотрудник     0   95856.832424   \n",
       "9   женат / замужем                 0      M   сотрудник     0  144425.938277   \n",
       "\n",
       "                      purpose  \n",
       "0               покупка жилья  \n",
       "1     приобретение автомобиля  \n",
       "2               покупка жилья  \n",
       "3  дополнительное образование  \n",
       "4             сыграть свадьбу  \n",
       "5               покупка жилья  \n",
       "6           операции с жильем  \n",
       "7                 образование  \n",
       "8       на проведение свадьбы  \n",
       "9     покупка жилья для семьи  "
      ]
     },
     "execution_count": 3,
     "metadata": {},
     "output_type": "execute_result"
    }
   ],
   "source": [
    "# Выведем первые 10 строчек датафрейма\n",
    "df.head(10)"
   ]
  },
  {
   "cell_type": "code",
   "execution_count": 950,
   "id": "69a2727d",
   "metadata": {},
   "outputs": [
    {
     "name": "stdout",
     "output_type": "stream",
     "text": [
      "<class 'pandas.core.frame.DataFrame'>\n",
      "RangeIndex: 21525 entries, 0 to 21524\n",
      "Data columns (total 12 columns):\n",
      " #   Column            Non-Null Count  Dtype  \n",
      "---  ------            --------------  -----  \n",
      " 0   children          21525 non-null  int64  \n",
      " 1   days_employed     19351 non-null  float64\n",
      " 2   dob_years         21525 non-null  int64  \n",
      " 3   education         21525 non-null  object \n",
      " 4   education_id      21525 non-null  int64  \n",
      " 5   family_status     21525 non-null  object \n",
      " 6   family_status_id  21525 non-null  int64  \n",
      " 7   gender            21525 non-null  object \n",
      " 8   income_type       21525 non-null  object \n",
      " 9   debt              21525 non-null  int64  \n",
      " 10  total_income      19351 non-null  float64\n",
      " 11  purpose           21525 non-null  object \n",
      "dtypes: float64(2), int64(5), object(5)\n",
      "memory usage: 2.0+ MB\n"
     ]
    }
   ],
   "source": [
    "# Выведем основную информацию о датафрейме\n",
    "df.info()"
   ]
  },
  {
   "cell_type": "code",
   "execution_count": 951,
   "id": "a09a6e36",
   "metadata": {},
   "outputs": [
    {
     "data": {
      "text/html": [
       "<div>\n",
       "<style scoped>\n",
       "    .dataframe tbody tr th:only-of-type {\n",
       "        vertical-align: middle;\n",
       "    }\n",
       "\n",
       "    .dataframe tbody tr th {\n",
       "        vertical-align: top;\n",
       "    }\n",
       "\n",
       "    .dataframe thead th {\n",
       "        text-align: right;\n",
       "    }\n",
       "</style>\n",
       "<table border=\"1\" class=\"dataframe\">\n",
       "  <thead>\n",
       "    <tr style=\"text-align: right;\">\n",
       "      <th></th>\n",
       "      <th>children</th>\n",
       "      <th>days_employed</th>\n",
       "      <th>dob_years</th>\n",
       "      <th>education_id</th>\n",
       "      <th>family_status_id</th>\n",
       "      <th>debt</th>\n",
       "      <th>total_income</th>\n",
       "    </tr>\n",
       "  </thead>\n",
       "  <tbody>\n",
       "    <tr>\n",
       "      <th>count</th>\n",
       "      <td>21525.000000</td>\n",
       "      <td>19351.000000</td>\n",
       "      <td>21525.000000</td>\n",
       "      <td>21525.000000</td>\n",
       "      <td>21525.000000</td>\n",
       "      <td>21525.000000</td>\n",
       "      <td>1.935100e+04</td>\n",
       "    </tr>\n",
       "    <tr>\n",
       "      <th>mean</th>\n",
       "      <td>0.538908</td>\n",
       "      <td>63046.497661</td>\n",
       "      <td>43.293380</td>\n",
       "      <td>0.817236</td>\n",
       "      <td>0.972544</td>\n",
       "      <td>0.080883</td>\n",
       "      <td>1.674223e+05</td>\n",
       "    </tr>\n",
       "    <tr>\n",
       "      <th>std</th>\n",
       "      <td>1.381587</td>\n",
       "      <td>140827.311974</td>\n",
       "      <td>12.574584</td>\n",
       "      <td>0.548138</td>\n",
       "      <td>1.420324</td>\n",
       "      <td>0.272661</td>\n",
       "      <td>1.029716e+05</td>\n",
       "    </tr>\n",
       "    <tr>\n",
       "      <th>min</th>\n",
       "      <td>-1.000000</td>\n",
       "      <td>-18388.949901</td>\n",
       "      <td>0.000000</td>\n",
       "      <td>0.000000</td>\n",
       "      <td>0.000000</td>\n",
       "      <td>0.000000</td>\n",
       "      <td>2.066726e+04</td>\n",
       "    </tr>\n",
       "    <tr>\n",
       "      <th>25%</th>\n",
       "      <td>0.000000</td>\n",
       "      <td>-2747.423625</td>\n",
       "      <td>33.000000</td>\n",
       "      <td>1.000000</td>\n",
       "      <td>0.000000</td>\n",
       "      <td>0.000000</td>\n",
       "      <td>1.030532e+05</td>\n",
       "    </tr>\n",
       "    <tr>\n",
       "      <th>50%</th>\n",
       "      <td>0.000000</td>\n",
       "      <td>-1203.369529</td>\n",
       "      <td>42.000000</td>\n",
       "      <td>1.000000</td>\n",
       "      <td>0.000000</td>\n",
       "      <td>0.000000</td>\n",
       "      <td>1.450179e+05</td>\n",
       "    </tr>\n",
       "    <tr>\n",
       "      <th>75%</th>\n",
       "      <td>1.000000</td>\n",
       "      <td>-291.095954</td>\n",
       "      <td>53.000000</td>\n",
       "      <td>1.000000</td>\n",
       "      <td>1.000000</td>\n",
       "      <td>0.000000</td>\n",
       "      <td>2.034351e+05</td>\n",
       "    </tr>\n",
       "    <tr>\n",
       "      <th>max</th>\n",
       "      <td>20.000000</td>\n",
       "      <td>401755.400475</td>\n",
       "      <td>75.000000</td>\n",
       "      <td>4.000000</td>\n",
       "      <td>4.000000</td>\n",
       "      <td>1.000000</td>\n",
       "      <td>2.265604e+06</td>\n",
       "    </tr>\n",
       "  </tbody>\n",
       "</table>\n",
       "</div>"
      ],
      "text/plain": [
       "           children  days_employed     dob_years  education_id  \\\n",
       "count  21525.000000   19351.000000  21525.000000  21525.000000   \n",
       "mean       0.538908   63046.497661     43.293380      0.817236   \n",
       "std        1.381587  140827.311974     12.574584      0.548138   \n",
       "min       -1.000000  -18388.949901      0.000000      0.000000   \n",
       "25%        0.000000   -2747.423625     33.000000      1.000000   \n",
       "50%        0.000000   -1203.369529     42.000000      1.000000   \n",
       "75%        1.000000    -291.095954     53.000000      1.000000   \n",
       "max       20.000000  401755.400475     75.000000      4.000000   \n",
       "\n",
       "       family_status_id          debt  total_income  \n",
       "count      21525.000000  21525.000000  1.935100e+04  \n",
       "mean           0.972544      0.080883  1.674223e+05  \n",
       "std            1.420324      0.272661  1.029716e+05  \n",
       "min            0.000000      0.000000  2.066726e+04  \n",
       "25%            0.000000      0.000000  1.030532e+05  \n",
       "50%            0.000000      0.000000  1.450179e+05  \n",
       "75%            1.000000      0.000000  2.034351e+05  \n",
       "max            4.000000      1.000000  2.265604e+06  "
      ]
     },
     "execution_count": 951,
     "metadata": {},
     "output_type": "execute_result"
    }
   ],
   "source": [
    "# Посмотрим описательные статистики датасета\n",
    "df.describe()"
   ]
  },
  {
   "cell_type": "markdown",
   "id": "fa891761",
   "metadata": {},
   "source": [
    "Для наглядности работы со столбцами отобразим их название:\n",
    "* *children* — количество детей в семье\n",
    "* *days_employed* — общий трудовой стаж в днях\n",
    "* *dob_years* — возраст клиента в годах\n",
    "* *education* — уровень образования клиента\n",
    "* *education_id* — идентификатор уровня образования\n",
    "* *family_status* — семейное положение\n",
    "* *family_status_id* — идентификатор семейного положения\n",
    "* *gender* — пол клиента\n",
    "* *income_type* — тип занятости\n",
    "* *debt* — имел ли задолженность по возврату кредитов\n",
    "* *total_income* — ежемесячный доход\n",
    "* *purpose* — цель получения кредита"
   ]
  },
  {
   "cell_type": "markdown",
   "id": "12ca09e3",
   "metadata": {},
   "source": [
    "**Вывод**\n",
    "\n",
    "В данных видны следующие проблемы:\n",
    "* Отрицательные значения в колонках с количеством детей в семье и общим трудовым стажем в днях;\n",
    "* Пропущенные строки в колонках с общим трудовым стажем в днях и ежемесячным доходом;\n",
    "* Некорректные наименования колонок;\n",
    "* Некорректные типы данных - в колонках с общим трудовым стажем в днях и ежемесячным доходом присутствует плавающая точка;\n",
    "* Некорректный тип данных для анализа - данные в колонке с общим трудовым стажем в днях лучше перевести в года;\n",
    "* Прыгающий регистр букв в колонке с уровнем образования клиента;\n",
    "* Наличие дублирующих признаков - помимо самого уровня образования клиента и его семейного положения также имеются идентификаторы этих признаков;\n",
    "* Неизвестна единица измерения ежемесячного дохода;\n",
    "* Минимальное значение в колонке с возрастом клиента в годах - 0."
   ]
  },
  {
   "cell_type": "markdown",
   "id": "25b61395",
   "metadata": {},
   "source": [
    "## Этап 2. Предобработка данных"
   ]
  },
  {
   "cell_type": "markdown",
   "id": "fddfefa4",
   "metadata": {},
   "source": [
    "Покорректируем наименования колонок, поищем пропуски значений и дубликаты, исследуем данные по столбцам."
   ]
  },
  {
   "cell_type": "markdown",
   "id": "919ee08c",
   "metadata": {},
   "source": [
    "### Наименования колонок"
   ]
  },
  {
   "cell_type": "code",
   "execution_count": 952,
   "id": "de9d7363",
   "metadata": {},
   "outputs": [
    {
     "data": {
      "text/plain": [
       "['children',\n",
       " 'days_employed',\n",
       " 'dob_years',\n",
       " 'education',\n",
       " 'education_id',\n",
       " 'family_status',\n",
       " 'family_status_id',\n",
       " 'gender',\n",
       " 'income_type',\n",
       " 'debt',\n",
       " 'total_income',\n",
       " 'purpose']"
      ]
     },
     "execution_count": 952,
     "metadata": {},
     "output_type": "execute_result"
    }
   ],
   "source": [
    "# Выведем список с наименованиями колонок\n",
    "df.columns.tolist()"
   ]
  },
  {
   "cell_type": "code",
   "execution_count": 953,
   "id": "7fb07cb8",
   "metadata": {},
   "outputs": [],
   "source": [
    "# Переименуем столбцы\n",
    "cols = ['number_of_children',\n",
    "        'days_employed',\n",
    "        'client_age_in_years',\n",
    "        'education_level',\n",
    "        'education_level_id',\n",
    "        'family_status',\n",
    "        'family_status_id',\n",
    "        'gender',\n",
    "        'employment_type',\n",
    "        'credit_repayment_status',\n",
    "        'monthly_income',\n",
    "        'credit_purpose'\n",
    "       ]\n",
    "df.set_axis(cols, axis='columns', inplace=True)"
   ]
  },
  {
   "cell_type": "code",
   "execution_count": 954,
   "id": "7f128da5",
   "metadata": {},
   "outputs": [],
   "source": [
    "# Альтернативный способ переименования столбцов\n",
    "# df.columns = ['number_of_children',\n",
    "#         'days_employed',\n",
    "#         'client_age_in_years',\n",
    "#         'education_level',\n",
    "#         'education_level_id',\n",
    "#         'family_status',\n",
    "#         'family_status_id',\n",
    "#         'gender',\n",
    "#         'employment_type',\n",
    "#         'credit_repayment_status',\n",
    "#         'monthly_income',\n",
    "#         'credit_purpose'\n",
    "#        ]"
   ]
  },
  {
   "cell_type": "code",
   "execution_count": 955,
   "id": "6b0ea9ea",
   "metadata": {},
   "outputs": [
    {
     "data": {
      "text/plain": [
       "['number_of_children',\n",
       " 'days_employed',\n",
       " 'client_age_in_years',\n",
       " 'education_level',\n",
       " 'education_level_id',\n",
       " 'family_status',\n",
       " 'family_status_id',\n",
       " 'gender',\n",
       " 'employment_type',\n",
       " 'credit_repayment_status',\n",
       " 'monthly_income',\n",
       " 'credit_purpose']"
      ]
     },
     "execution_count": 955,
     "metadata": {},
     "output_type": "execute_result"
    }
   ],
   "source": [
    "# Убедимся, что столбцы переименованы\n",
    "df.columns.tolist()"
   ]
  },
  {
   "cell_type": "markdown",
   "id": "e3744e49",
   "metadata": {},
   "source": [
    "Для наглядности работы со столбцами отобразим их новые название:\n",
    "* *number_of_children* — количество детей в семье\n",
    "* *days_employed* — общий трудовой стаж в днях\n",
    "* *client_age_in_years* — возраст клиента в годах\n",
    "* *education_level* — уровень образования клиента\n",
    "* *education_level_id* — идентификатор уровня образования\n",
    "* *family_status* — семейное положение\n",
    "* *family_status_id* — идентификатор семейного положения\n",
    "* *gender* — пол клиента\n",
    "* *employment_type* — тип занятости\n",
    "* *credit_repayment_status* — имел ли задолженность по возврату кредитов\n",
    "* *monthly_income* — ежемесячный доход\n",
    "* *credit_purpose* — цель получения кредита"
   ]
  },
  {
   "cell_type": "markdown",
   "id": "0b6732fb",
   "metadata": {},
   "source": [
    "### Пропуски значений"
   ]
  },
  {
   "cell_type": "code",
   "execution_count": 956,
   "id": "d4a8e619",
   "metadata": {},
   "outputs": [
    {
     "data": {
      "text/plain": [
       "number_of_children            0\n",
       "days_employed              2174\n",
       "client_age_in_years           0\n",
       "education_level               0\n",
       "education_level_id            0\n",
       "family_status                 0\n",
       "family_status_id              0\n",
       "gender                        0\n",
       "employment_type               0\n",
       "credit_repayment_status       0\n",
       "monthly_income             2174\n",
       "credit_purpose                0\n",
       "dtype: int64"
      ]
     },
     "execution_count": 956,
     "metadata": {},
     "output_type": "execute_result"
    }
   ],
   "source": [
    "# Посчитаем, сколько в таблице пропущенных значений\n",
    "df.isna().sum()"
   ]
  },
  {
   "cell_type": "markdown",
   "id": "56aef1e2",
   "metadata": {},
   "source": [
    "Обзор недостающих данных показывает, что одинаковое количество пропущенных значений в колонках с общим трудовым стажем в днях и ежемесячным доходом.\n",
    "\n",
    "Исходя из этого, можем сделать предположение, что эти клиенты либо никогда не работали в силу своей молодости, либо работали неофициально, либо же просто была произведена некорректная выгрузка данных."
   ]
  },
  {
   "cell_type": "code",
   "execution_count": 957,
   "id": "d80b4654",
   "metadata": {},
   "outputs": [
    {
     "data": {
      "text/plain": [
       "сотрудник          1105\n",
       "компаньон           508\n",
       "пенсионер           413\n",
       "госслужащий         147\n",
       "предприниматель       1\n",
       "Name: employment_type, dtype: int64"
      ]
     },
     "execution_count": 957,
     "metadata": {},
     "output_type": "execute_result"
    }
   ],
   "source": [
    "# Уточним пропуски значений по типу занятости\n",
    "df[df['days_employed'].isna() == True]['employment_type'].value_counts()"
   ]
  },
  {
   "cell_type": "code",
   "execution_count": 958,
   "id": "065e1550",
   "metadata": {},
   "outputs": [],
   "source": [
    "# Заменим пропуски на нули\n",
    "# Подставлять средние или медианные значения некорректно так как это повысит шанс получения кредита, \n",
    "# качество данных при этом не увеличится\n",
    "df['days_employed'] = df['days_employed'].fillna(0)\n",
    "df['monthly_income'] = df['monthly_income'].fillna(0)"
   ]
  },
  {
   "cell_type": "code",
   "execution_count": 959,
   "id": "31423263",
   "metadata": {},
   "outputs": [
    {
     "data": {
      "text/plain": [
       "number_of_children         0\n",
       "days_employed              0\n",
       "client_age_in_years        0\n",
       "education_level            0\n",
       "education_level_id         0\n",
       "family_status              0\n",
       "family_status_id           0\n",
       "gender                     0\n",
       "employment_type            0\n",
       "credit_repayment_status    0\n",
       "monthly_income             0\n",
       "credit_purpose             0\n",
       "dtype: int64"
      ]
     },
     "execution_count": 959,
     "metadata": {},
     "output_type": "execute_result"
    }
   ],
   "source": [
    "# Убедимся, что в таблице не осталось пропусков. Для этого ещё раз посчитаем пропущенные значения\n",
    "df.isna().sum()"
   ]
  },
  {
   "cell_type": "markdown",
   "id": "b26b9e81",
   "metadata": {},
   "source": [
    "### Дубликаты"
   ]
  },
  {
   "cell_type": "code",
   "execution_count": 960,
   "id": "3cd75b84",
   "metadata": {},
   "outputs": [
    {
     "data": {
      "text/plain": [
       "54"
      ]
     },
     "execution_count": 960,
     "metadata": {},
     "output_type": "execute_result"
    }
   ],
   "source": [
    "# Посчитаем явные дубликаты в таблице\n",
    "df.duplicated().sum()"
   ]
  },
  {
   "cell_type": "code",
   "execution_count": 961,
   "id": "68ea96af",
   "metadata": {},
   "outputs": [],
   "source": [
    "# Удалим дубликаты и сбросим индекс\n",
    "df = df.drop_duplicates().reset_index(drop=True)"
   ]
  },
  {
   "cell_type": "code",
   "execution_count": 962,
   "id": "e9923993",
   "metadata": {},
   "outputs": [
    {
     "data": {
      "text/plain": [
       "0"
      ]
     },
     "execution_count": 962,
     "metadata": {},
     "output_type": "execute_result"
    }
   ],
   "source": [
    "# Убедимся, что в таблице не осталось дубликатов. Для этого ещё раз посчитаем все повторяющиеся значения\n",
    "df.duplicated().sum()"
   ]
  },
  {
   "cell_type": "code",
   "execution_count": 963,
   "id": "cfd61816",
   "metadata": {},
   "outputs": [
    {
     "data": {
      "text/html": [
       "<div>\n",
       "<style scoped>\n",
       "    .dataframe tbody tr th:only-of-type {\n",
       "        vertical-align: middle;\n",
       "    }\n",
       "\n",
       "    .dataframe tbody tr th {\n",
       "        vertical-align: top;\n",
       "    }\n",
       "\n",
       "    .dataframe thead th {\n",
       "        text-align: right;\n",
       "    }\n",
       "</style>\n",
       "<table border=\"1\" class=\"dataframe\">\n",
       "  <thead>\n",
       "    <tr style=\"text-align: right;\">\n",
       "      <th></th>\n",
       "      <th>number_of_children</th>\n",
       "      <th>days_employed</th>\n",
       "      <th>client_age_in_years</th>\n",
       "      <th>education_level</th>\n",
       "      <th>education_level_id</th>\n",
       "      <th>family_status</th>\n",
       "      <th>family_status_id</th>\n",
       "      <th>gender</th>\n",
       "      <th>employment_type</th>\n",
       "      <th>credit_repayment_status</th>\n",
       "      <th>monthly_income</th>\n",
       "      <th>credit_purpose</th>\n",
       "    </tr>\n",
       "  </thead>\n",
       "  <tbody>\n",
       "    <tr>\n",
       "      <th>0</th>\n",
       "      <td>1</td>\n",
       "      <td>-8437.673028</td>\n",
       "      <td>42</td>\n",
       "      <td>высшее</td>\n",
       "      <td>0</td>\n",
       "      <td>женат / замужем</td>\n",
       "      <td>0</td>\n",
       "      <td>F</td>\n",
       "      <td>сотрудник</td>\n",
       "      <td>0</td>\n",
       "      <td>253875.639453</td>\n",
       "      <td>покупка жилья</td>\n",
       "    </tr>\n",
       "    <tr>\n",
       "      <th>1</th>\n",
       "      <td>1</td>\n",
       "      <td>-4024.803754</td>\n",
       "      <td>36</td>\n",
       "      <td>среднее</td>\n",
       "      <td>1</td>\n",
       "      <td>женат / замужем</td>\n",
       "      <td>0</td>\n",
       "      <td>F</td>\n",
       "      <td>сотрудник</td>\n",
       "      <td>0</td>\n",
       "      <td>112080.014102</td>\n",
       "      <td>приобретение автомобиля</td>\n",
       "    </tr>\n",
       "    <tr>\n",
       "      <th>2</th>\n",
       "      <td>0</td>\n",
       "      <td>-5623.422610</td>\n",
       "      <td>33</td>\n",
       "      <td>Среднее</td>\n",
       "      <td>1</td>\n",
       "      <td>женат / замужем</td>\n",
       "      <td>0</td>\n",
       "      <td>M</td>\n",
       "      <td>сотрудник</td>\n",
       "      <td>0</td>\n",
       "      <td>145885.952297</td>\n",
       "      <td>покупка жилья</td>\n",
       "    </tr>\n",
       "    <tr>\n",
       "      <th>3</th>\n",
       "      <td>3</td>\n",
       "      <td>-4124.747207</td>\n",
       "      <td>32</td>\n",
       "      <td>среднее</td>\n",
       "      <td>1</td>\n",
       "      <td>женат / замужем</td>\n",
       "      <td>0</td>\n",
       "      <td>M</td>\n",
       "      <td>сотрудник</td>\n",
       "      <td>0</td>\n",
       "      <td>267628.550329</td>\n",
       "      <td>дополнительное образование</td>\n",
       "    </tr>\n",
       "    <tr>\n",
       "      <th>4</th>\n",
       "      <td>0</td>\n",
       "      <td>340266.072047</td>\n",
       "      <td>53</td>\n",
       "      <td>среднее</td>\n",
       "      <td>1</td>\n",
       "      <td>гражданский брак</td>\n",
       "      <td>1</td>\n",
       "      <td>F</td>\n",
       "      <td>пенсионер</td>\n",
       "      <td>0</td>\n",
       "      <td>158616.077870</td>\n",
       "      <td>сыграть свадьбу</td>\n",
       "    </tr>\n",
       "    <tr>\n",
       "      <th>5</th>\n",
       "      <td>0</td>\n",
       "      <td>-926.185831</td>\n",
       "      <td>27</td>\n",
       "      <td>высшее</td>\n",
       "      <td>0</td>\n",
       "      <td>гражданский брак</td>\n",
       "      <td>1</td>\n",
       "      <td>M</td>\n",
       "      <td>компаньон</td>\n",
       "      <td>0</td>\n",
       "      <td>255763.565419</td>\n",
       "      <td>покупка жилья</td>\n",
       "    </tr>\n",
       "    <tr>\n",
       "      <th>6</th>\n",
       "      <td>0</td>\n",
       "      <td>-2879.202052</td>\n",
       "      <td>43</td>\n",
       "      <td>высшее</td>\n",
       "      <td>0</td>\n",
       "      <td>женат / замужем</td>\n",
       "      <td>0</td>\n",
       "      <td>F</td>\n",
       "      <td>компаньон</td>\n",
       "      <td>0</td>\n",
       "      <td>240525.971920</td>\n",
       "      <td>операции с жильем</td>\n",
       "    </tr>\n",
       "    <tr>\n",
       "      <th>7</th>\n",
       "      <td>0</td>\n",
       "      <td>-152.779569</td>\n",
       "      <td>50</td>\n",
       "      <td>СРЕДНЕЕ</td>\n",
       "      <td>1</td>\n",
       "      <td>женат / замужем</td>\n",
       "      <td>0</td>\n",
       "      <td>M</td>\n",
       "      <td>сотрудник</td>\n",
       "      <td>0</td>\n",
       "      <td>135823.934197</td>\n",
       "      <td>образование</td>\n",
       "    </tr>\n",
       "    <tr>\n",
       "      <th>8</th>\n",
       "      <td>2</td>\n",
       "      <td>-6929.865299</td>\n",
       "      <td>35</td>\n",
       "      <td>ВЫСШЕЕ</td>\n",
       "      <td>0</td>\n",
       "      <td>гражданский брак</td>\n",
       "      <td>1</td>\n",
       "      <td>F</td>\n",
       "      <td>сотрудник</td>\n",
       "      <td>0</td>\n",
       "      <td>95856.832424</td>\n",
       "      <td>на проведение свадьбы</td>\n",
       "    </tr>\n",
       "    <tr>\n",
       "      <th>9</th>\n",
       "      <td>0</td>\n",
       "      <td>-2188.756445</td>\n",
       "      <td>41</td>\n",
       "      <td>среднее</td>\n",
       "      <td>1</td>\n",
       "      <td>женат / замужем</td>\n",
       "      <td>0</td>\n",
       "      <td>M</td>\n",
       "      <td>сотрудник</td>\n",
       "      <td>0</td>\n",
       "      <td>144425.938277</td>\n",
       "      <td>покупка жилья для семьи</td>\n",
       "    </tr>\n",
       "  </tbody>\n",
       "</table>\n",
       "</div>"
      ],
      "text/plain": [
       "   number_of_children  days_employed  client_age_in_years education_level  \\\n",
       "0                   1   -8437.673028                   42          высшее   \n",
       "1                   1   -4024.803754                   36         среднее   \n",
       "2                   0   -5623.422610                   33         Среднее   \n",
       "3                   3   -4124.747207                   32         среднее   \n",
       "4                   0  340266.072047                   53         среднее   \n",
       "5                   0    -926.185831                   27          высшее   \n",
       "6                   0   -2879.202052                   43          высшее   \n",
       "7                   0    -152.779569                   50         СРЕДНЕЕ   \n",
       "8                   2   -6929.865299                   35          ВЫСШЕЕ   \n",
       "9                   0   -2188.756445                   41         среднее   \n",
       "\n",
       "   education_level_id     family_status  family_status_id gender  \\\n",
       "0                   0   женат / замужем                 0      F   \n",
       "1                   1   женат / замужем                 0      F   \n",
       "2                   1   женат / замужем                 0      M   \n",
       "3                   1   женат / замужем                 0      M   \n",
       "4                   1  гражданский брак                 1      F   \n",
       "5                   0  гражданский брак                 1      M   \n",
       "6                   0   женат / замужем                 0      F   \n",
       "7                   1   женат / замужем                 0      M   \n",
       "8                   0  гражданский брак                 1      F   \n",
       "9                   1   женат / замужем                 0      M   \n",
       "\n",
       "  employment_type  credit_repayment_status  monthly_income  \\\n",
       "0       сотрудник                        0   253875.639453   \n",
       "1       сотрудник                        0   112080.014102   \n",
       "2       сотрудник                        0   145885.952297   \n",
       "3       сотрудник                        0   267628.550329   \n",
       "4       пенсионер                        0   158616.077870   \n",
       "5       компаньон                        0   255763.565419   \n",
       "6       компаньон                        0   240525.971920   \n",
       "7       сотрудник                        0   135823.934197   \n",
       "8       сотрудник                        0    95856.832424   \n",
       "9       сотрудник                        0   144425.938277   \n",
       "\n",
       "               credit_purpose  \n",
       "0               покупка жилья  \n",
       "1     приобретение автомобиля  \n",
       "2               покупка жилья  \n",
       "3  дополнительное образование  \n",
       "4             сыграть свадьбу  \n",
       "5               покупка жилья  \n",
       "6           операции с жильем  \n",
       "7                 образование  \n",
       "8       на проведение свадьбы  \n",
       "9     покупка жилья для семьи  "
      ]
     },
     "execution_count": 963,
     "metadata": {},
     "output_type": "execute_result"
    }
   ],
   "source": [
    "# Выведем первые десять строчек датафрейма\n",
    "df.head(10)"
   ]
  },
  {
   "cell_type": "markdown",
   "id": "25a7ecf5",
   "metadata": {},
   "source": [
    "### Исследование данных по столбцам"
   ]
  },
  {
   "cell_type": "markdown",
   "id": "7667cb78",
   "metadata": {},
   "source": [
    "#### Количество детей в семье клиента"
   ]
  },
  {
   "cell_type": "code",
   "execution_count": 964,
   "id": "898f37c7",
   "metadata": {},
   "outputs": [
    {
     "data": {
      "text/plain": [
       " 0     14107\n",
       " 1      4809\n",
       " 2      2052\n",
       " 3       330\n",
       " 20       76\n",
       "-1        47\n",
       " 4        41\n",
       " 5         9\n",
       "Name: number_of_children, dtype: int64"
      ]
     },
     "execution_count": 964,
     "metadata": {},
     "output_type": "execute_result"
    }
   ],
   "source": [
    "# Посмотрим на уникальные значения количества детей в семье, посчитаем количество таких строк\n",
    "df['number_of_children'].value_counts()"
   ]
  },
  {
   "cell_type": "code",
   "execution_count": 965,
   "id": "76c8de8d",
   "metadata": {},
   "outputs": [],
   "source": [
    "# Скорее всего значение -1 является ошибкой лишнего знака. Поэтому заменим значение -1 на 1\n",
    "df['number_of_children'] = df['number_of_children'].replace(-1, 1)"
   ]
  },
  {
   "cell_type": "code",
   "execution_count": 966,
   "id": "d27430f3",
   "metadata": {},
   "outputs": [
    {
     "data": {
      "text/plain": [
       "0     14107\n",
       "1      4856\n",
       "2      2052\n",
       "3       330\n",
       "20       76\n",
       "4        41\n",
       "5         9\n",
       "Name: number_of_children, dtype: int64"
      ]
     },
     "execution_count": 966,
     "metadata": {},
     "output_type": "execute_result"
    }
   ],
   "source": [
    "# Убедимся, что замена произведена правильно\n",
    "df['number_of_children'].value_counts()"
   ]
  },
  {
   "cell_type": "code",
   "execution_count": 967,
   "id": "31144879",
   "metadata": {},
   "outputs": [
    {
     "data": {
      "text/plain": [
       "client_age_in_years\n",
       "0     1\n",
       "21    1\n",
       "23    1\n",
       "24    1\n",
       "25    1\n",
       "26    1\n",
       "27    2\n",
       "29    2\n",
       "30    3\n",
       "31    2\n",
       "32    2\n",
       "33    2\n",
       "34    3\n",
       "35    2\n",
       "36    2\n",
       "37    4\n",
       "38    1\n",
       "39    1\n",
       "40    4\n",
       "41    2\n",
       "42    3\n",
       "43    2\n",
       "44    2\n",
       "45    3\n",
       "46    3\n",
       "48    1\n",
       "49    3\n",
       "50    3\n",
       "51    1\n",
       "52    1\n",
       "53    1\n",
       "54    1\n",
       "55    1\n",
       "56    5\n",
       "57    1\n",
       "59    2\n",
       "60    1\n",
       "61    1\n",
       "62    1\n",
       "64    1\n",
       "69    1\n",
       "Name: client_age_in_years, dtype: int64"
      ]
     },
     "execution_count": 967,
     "metadata": {},
     "output_type": "execute_result"
    }
   ],
   "source": [
    "# Чтобы убедиться корректна ли информация о 20 детях в семьях, произведем группировку данных по возрасту клиентов\n",
    "df[df['number_of_children'] == 20].groupby('client_age_in_years')['client_age_in_years'].count()"
   ]
  },
  {
   "cell_type": "code",
   "execution_count": 968,
   "id": "9db278ce",
   "metadata": {},
   "outputs": [],
   "source": [
    "# Если бы данные о 20 детях были характерны для людей за 40 лет, \n",
    "# можно было бы предположить, что для таких семей банк имеет специальные условия.\n",
    "# Так как разброс значений по возрасту клиентов слишком большой, очевидно, что в данных кроется обычная опечатка\n",
    "# Заменим значение 20 на 2\n",
    "df['number_of_children'] = df['number_of_children'].replace(20, 2)"
   ]
  },
  {
   "cell_type": "code",
   "execution_count": 969,
   "id": "3487b828",
   "metadata": {},
   "outputs": [
    {
     "data": {
      "text/plain": [
       "0    14107\n",
       "1     4856\n",
       "2     2128\n",
       "3      330\n",
       "4       41\n",
       "5        9\n",
       "Name: number_of_children, dtype: int64"
      ]
     },
     "execution_count": 969,
     "metadata": {},
     "output_type": "execute_result"
    }
   ],
   "source": [
    "# Убедимся, что замена произведена правильно\n",
    "df['number_of_children'].value_counts()"
   ]
  },
  {
   "cell_type": "markdown",
   "id": "e2831d87",
   "metadata": {},
   "source": [
    "#### Общий трудовой стаж клиента в днях"
   ]
  },
  {
   "cell_type": "code",
   "execution_count": 970,
   "id": "c75342dc",
   "metadata": {},
   "outputs": [
    {
     "data": {
      "text/plain": [
       "count     21471.000000\n",
       "mean      56821.423140\n",
       "std      135010.270744\n",
       "min      -18388.949901\n",
       "25%       -2522.536607\n",
       "50%        -989.271304\n",
       "75%           0.000000\n",
       "max      401755.400475\n",
       "Name: days_employed, dtype: float64"
      ]
     },
     "execution_count": 970,
     "metadata": {},
     "output_type": "execute_result"
    }
   ],
   "source": [
    "# Посмотрим на описательные статистики трудового стажа в днях\n",
    "df['days_employed'].describe()"
   ]
  },
  {
   "cell_type": "code",
   "execution_count": 971,
   "id": "e2e375aa",
   "metadata": {},
   "outputs": [],
   "source": [
    "# В данных имеются отрицательные значения, значения типа float (числа с плавающей точкой)\n",
    "# Максимальные значения не соответствуют здравому смыслу"
   ]
  },
  {
   "cell_type": "code",
   "execution_count": 972,
   "id": "329376e7",
   "metadata": {},
   "outputs": [],
   "source": [
    "# Преобразуем отрицательные значения через возврат абсолютного значения числа (то есть удалим отрицательный знак числа)\n",
    "df['days_employed'] = df['days_employed'].abs()"
   ]
  },
  {
   "cell_type": "code",
   "execution_count": 973,
   "id": "0668a729",
   "metadata": {},
   "outputs": [
    {
     "data": {
      "text/plain": [
       "count     21471.000000\n",
       "mean      60307.713617\n",
       "std      133489.355354\n",
       "min           0.000000\n",
       "25%         620.736110\n",
       "50%        1818.689386\n",
       "75%        4794.911909\n",
       "max      401755.400475\n",
       "Name: days_employed, dtype: float64"
      ]
     },
     "execution_count": 973,
     "metadata": {},
     "output_type": "execute_result"
    }
   ],
   "source": [
    "# Убедимся, что замена произведена правильно\n",
    "df['days_employed'].describe()"
   ]
  },
  {
   "cell_type": "code",
   "execution_count": 974,
   "id": "93410765",
   "metadata": {},
   "outputs": [
    {
     "data": {
      "text/plain": [
       "21535"
      ]
     },
     "execution_count": 974,
     "metadata": {},
     "output_type": "execute_result"
    }
   ],
   "source": [
    "# Так как максимальные значения трудового стажа в днях не соответствуют здравому смыслу,\n",
    "# для начала найдем самого возрастного человека в имеющихся данных.\n",
    "# Предположим клиенты работают с самого начала возможной трудовой деятельности в соответствии с трудовым кодексом\n",
    "max_days_employed = (df['client_age_in_years'].max() - 16) * 365\n",
    "# Получаем количество дней, свыше которых можно сделать замену\n",
    "max_days_employed"
   ]
  },
  {
   "cell_type": "code",
   "execution_count": 975,
   "id": "90eb551d",
   "metadata": {},
   "outputs": [
    {
     "data": {
      "text/plain": [
       "employment_type\n",
       "безработный        395302.838654\n",
       "в декрете            3296.759962\n",
       "госслужащий         15193.032201\n",
       "компаньон           17615.563266\n",
       "пенсионер          401755.400475\n",
       "предприниматель       520.848083\n",
       "сотрудник           18388.949901\n",
       "студент               578.751554\n",
       "Name: days_employed, dtype: float64"
      ]
     },
     "execution_count": 975,
     "metadata": {},
     "output_type": "execute_result"
    }
   ],
   "source": [
    "# Посмотрим встречаемость аномальных значений с общим трудовым стажем в днях по типу занятости\n",
    "df.groupby('employment_type')['days_employed'].max()"
   ]
  },
  {
   "cell_type": "code",
   "execution_count": 976,
   "id": "ef6cb0c9",
   "metadata": {},
   "outputs": [
    {
     "data": {
      "text/plain": [
       "16.044897769083878"
      ]
     },
     "execution_count": 976,
     "metadata": {},
     "output_type": "execute_result"
    }
   ],
   "source": [
    "# Посчитаем долю таких строк в столбце с общим трудовым стажем в днях\n",
    "df[df['days_employed'] > max_days_employed]['days_employed'].count() / df['days_employed'].count() * 100"
   ]
  },
  {
   "cell_type": "code",
   "execution_count": null,
   "id": "3cb83b2b",
   "metadata": {},
   "outputs": [],
   "source": [
    "# Так как данные о трудовом стаже не будут использованы в исследовании, оставим аномальные значения нетронутыми"
   ]
  },
  {
   "cell_type": "code",
   "execution_count": 977,
   "id": "2b969e7a",
   "metadata": {},
   "outputs": [],
   "source": [
    "# Преобразуем данные с общим трудовым стажем в днях в года\n",
    "df['years_employed'] = df['days_employed'] / 365"
   ]
  },
  {
   "cell_type": "code",
   "execution_count": 978,
   "id": "7129a239",
   "metadata": {},
   "outputs": [],
   "source": [
    "# Преобразуем данные с общим трудовым стажем в годах из значений типа float (числа с плавающей точкой) в integer (целые числа)\n",
    "df['years_employed'] = df['years_employed'].astype(int)"
   ]
  },
  {
   "cell_type": "code",
   "execution_count": 979,
   "id": "01aa0f85",
   "metadata": {},
   "outputs": [],
   "source": [
    "# Удалим столбец с общим трудовым стажем в днях\n",
    "del df['days_employed']"
   ]
  },
  {
   "cell_type": "markdown",
   "id": "a8675c99",
   "metadata": {},
   "source": [
    "#### Возраст клиента в годах"
   ]
  },
  {
   "cell_type": "code",
   "execution_count": 980,
   "id": "1b06aebc",
   "metadata": {},
   "outputs": [
    {
     "data": {
      "text/plain": [
       "count    21471.000000\n",
       "mean        43.279074\n",
       "std         12.574291\n",
       "min          0.000000\n",
       "25%         33.000000\n",
       "50%         42.000000\n",
       "75%         53.000000\n",
       "max         75.000000\n",
       "Name: client_age_in_years, dtype: float64"
      ]
     },
     "execution_count": 980,
     "metadata": {},
     "output_type": "execute_result"
    }
   ],
   "source": [
    "# Посмотрим на описательные статистики возраста клиента в годах\n",
    "df['client_age_in_years'].describe()"
   ]
  },
  {
   "cell_type": "code",
   "execution_count": 981,
   "id": "683e282a",
   "metadata": {},
   "outputs": [
    {
     "data": {
      "text/plain": [
       "101"
      ]
     },
     "execution_count": 981,
     "metadata": {},
     "output_type": "execute_result"
    }
   ],
   "source": [
    "# Посчитаем количество клиентов с указанным аномальным возрастом исходя из минимального возраста заемщика\n",
    "df[df['client_age_in_years'] < 18]['client_age_in_years'].count()"
   ]
  },
  {
   "cell_type": "code",
   "execution_count": 982,
   "id": "5c54fa2a",
   "metadata": {},
   "outputs": [
    {
     "data": {
      "text/plain": [
       "0"
      ]
     },
     "execution_count": 982,
     "metadata": {},
     "output_type": "execute_result"
    }
   ],
   "source": [
    "# Проверим на наличие возрастов в промежутке от нуля до 18 лет\n",
    "df.loc[(df['client_age_in_years'] != 0) & (df['client_age_in_years'] < 18), 'client_age_in_years'].count()"
   ]
  },
  {
   "cell_type": "code",
   "execution_count": 983,
   "id": "1da99d88",
   "metadata": {},
   "outputs": [],
   "source": [
    "# 101 строка содержит значение 0. Предположим, что таким образом были заполнены пропущенные данные\n",
    "# Заполним пропуски путем вычисления среднего возраста по каждому из типов занятости клиента\n",
    "for t in df['employment_type']:\n",
    "    mean_value = df.loc[df['employment_type'] == t, 'client_age_in_years'].mean()\n",
    "    df.loc[(df['employment_type'] == t) & (df['client_age_in_years'] == 0), 'client_age_in_years'] = mean_value"
   ]
  },
  {
   "cell_type": "code",
   "execution_count": 984,
   "id": "91bb4666",
   "metadata": {},
   "outputs": [
    {
     "data": {
      "text/plain": [
       "0"
      ]
     },
     "execution_count": 984,
     "metadata": {},
     "output_type": "execute_result"
    }
   ],
   "source": [
    "# Убедимся, что замена произведена правильно\n",
    "df.loc[df['client_age_in_years'] == 0, 'client_age_in_years'].count()"
   ]
  },
  {
   "cell_type": "code",
   "execution_count": 985,
   "id": "68e5789b",
   "metadata": {},
   "outputs": [
    {
     "data": {
      "text/plain": [
       "array([19.        , 20.        , 21.        , 22.        , 23.        ,\n",
       "       24.        , 25.        , 26.        , 27.        , 28.        ,\n",
       "       29.        , 30.        , 31.        , 32.        , 33.        ,\n",
       "       34.        , 35.        , 36.        , 37.        , 38.        ,\n",
       "       39.        , 39.69665354, 39.81002615, 40.        , 40.64722032,\n",
       "       41.        , 42.        , 43.        , 44.        , 45.        ,\n",
       "       46.        , 47.        , 48.        , 49.        , 50.        ,\n",
       "       51.        , 52.        , 53.        , 54.        , 55.        ,\n",
       "       56.        , 57.        , 58.        , 59.        , 59.05863956,\n",
       "       60.        , 61.        , 62.        , 63.        , 64.        ,\n",
       "       65.        , 66.        , 67.        , 68.        , 69.        ,\n",
       "       70.        , 71.        , 72.        , 73.        , 74.        ,\n",
       "       75.        ])"
      ]
     },
     "execution_count": 985,
     "metadata": {},
     "output_type": "execute_result"
    }
   ],
   "source": [
    "# Проверим уникальные значения возраста на целостность\n",
    "df['client_age_in_years'].sort_values(ascending=True).unique()"
   ]
  },
  {
   "cell_type": "code",
   "execution_count": 986,
   "id": "52d1ffcc",
   "metadata": {},
   "outputs": [],
   "source": [
    "# При заполнении данных мы использовали средние значения возраста по каждому из типов занятости\n",
    "# Таким образом образовались числа с плавающей точкой\n",
    "# Преобразуем данные с возрастом в годах из значений типа float (числа с плавающей точкой) в integer (целые числа)\n",
    "df['client_age_in_years'] = df['client_age_in_years'].astype(int)"
   ]
  },
  {
   "cell_type": "code",
   "execution_count": 987,
   "id": "676ca51b",
   "metadata": {},
   "outputs": [
    {
     "data": {
      "text/plain": [
       "array([19, 20, 21, 22, 23, 24, 25, 26, 27, 28, 29, 30, 31, 32, 33, 34, 35,\n",
       "       36, 37, 38, 39, 40, 41, 42, 43, 44, 45, 46, 47, 48, 49, 50, 51, 52,\n",
       "       53, 54, 55, 56, 57, 58, 59, 60, 61, 62, 63, 64, 65, 66, 67, 68, 69,\n",
       "       70, 71, 72, 73, 74, 75])"
      ]
     },
     "execution_count": 987,
     "metadata": {},
     "output_type": "execute_result"
    }
   ],
   "source": [
    "# Убедимся, что преобразование произведено правильно\n",
    "df['client_age_in_years'].sort_values(ascending=True).unique()"
   ]
  },
  {
   "cell_type": "markdown",
   "id": "851efb38",
   "metadata": {},
   "source": [
    "#### Уровень образования клиента"
   ]
  },
  {
   "cell_type": "code",
   "execution_count": 988,
   "id": "f82b97ce",
   "metadata": {},
   "outputs": [
    {
     "data": {
      "text/plain": [
       "среднее                13705\n",
       "высшее                  4710\n",
       "СРЕДНЕЕ                  772\n",
       "Среднее                  711\n",
       "неоконченное высшее      668\n",
       "ВЫСШЕЕ                   273\n",
       "Высшее                   268\n",
       "начальное                250\n",
       "Неоконченное высшее       47\n",
       "НЕОКОНЧЕННОЕ ВЫСШЕЕ       29\n",
       "НАЧАЛЬНОЕ                 17\n",
       "Начальное                 15\n",
       "ученая степень             4\n",
       "УЧЕНАЯ СТЕПЕНЬ             1\n",
       "Ученая степень             1\n",
       "Name: education_level, dtype: int64"
      ]
     },
     "execution_count": 988,
     "metadata": {},
     "output_type": "execute_result"
    }
   ],
   "source": [
    "# Посмотрим на уникальные значения уровня образования клиента, посчитаем количество таких строк\n",
    "df['education_level'].value_counts()"
   ]
  },
  {
   "cell_type": "code",
   "execution_count": 989,
   "id": "e71d892c",
   "metadata": {},
   "outputs": [
    {
     "data": {
      "text/plain": [
       "15"
      ]
     },
     "execution_count": 989,
     "metadata": {},
     "output_type": "execute_result"
    }
   ],
   "source": [
    "# Посчитаем само количество уникальных значений в столбце с уровнем образования клиента\n",
    "len(df['education_level'].unique())"
   ]
  },
  {
   "cell_type": "code",
   "execution_count": 990,
   "id": "94ce1af2",
   "metadata": {},
   "outputs": [
    {
     "data": {
      "text/plain": [
       "1    15188\n",
       "0     5251\n",
       "2      744\n",
       "3      282\n",
       "4        6\n",
       "Name: education_level_id, dtype: int64"
      ]
     },
     "execution_count": 990,
     "metadata": {},
     "output_type": "execute_result"
    }
   ],
   "source": [
    "# Посмотрим на уникальные значения идентификаторов уровня образования клиента, посчитаем количество таких строк\n",
    "df['education_level_id'].value_counts()"
   ]
  },
  {
   "cell_type": "code",
   "execution_count": 991,
   "id": "be3f23e3",
   "metadata": {},
   "outputs": [
    {
     "data": {
      "text/plain": [
       "5"
      ]
     },
     "execution_count": 991,
     "metadata": {},
     "output_type": "execute_result"
    }
   ],
   "source": [
    "# Посчитаем само количество уникальных значений в столбце с идентификаторами уровня образования клиента\n",
    "len(df['education_level_id'].unique())"
   ]
  },
  {
   "cell_type": "code",
   "execution_count": 992,
   "id": "7ef588ce",
   "metadata": {},
   "outputs": [],
   "source": [
    "# Приведем все строки в столбце с уровнем образования клиента к нижнему регистру\n",
    "df['education_level'] = df['education_level'].str.lower()"
   ]
  },
  {
   "cell_type": "code",
   "execution_count": 993,
   "id": "f6a9284a",
   "metadata": {},
   "outputs": [
    {
     "data": {
      "text/plain": [
       "среднее                15188\n",
       "высшее                  5251\n",
       "неоконченное высшее      744\n",
       "начальное                282\n",
       "ученая степень             6\n",
       "Name: education_level, dtype: int64"
      ]
     },
     "execution_count": 993,
     "metadata": {},
     "output_type": "execute_result"
    }
   ],
   "source": [
    "# Убедимся, что замена произведена правильно\n",
    "df['education_level'].value_counts()"
   ]
  },
  {
   "cell_type": "markdown",
   "id": "18516997",
   "metadata": {},
   "source": [
    "#### Семейное положение"
   ]
  },
  {
   "cell_type": "code",
   "execution_count": 996,
   "id": "a324cb5e",
   "metadata": {},
   "outputs": [
    {
     "data": {
      "text/plain": [
       "женат / замужем          12344\n",
       "гражданский брак          4163\n",
       "Не женат / не замужем     2810\n",
       "в разводе                 1195\n",
       "вдовец / вдова             959\n",
       "Name: family_status, dtype: int64"
      ]
     },
     "execution_count": 996,
     "metadata": {},
     "output_type": "execute_result"
    }
   ],
   "source": [
    "# Посмотрим на уникальные значения семейного положения клиента, посчитаем количество таких строк\n",
    "df['family_status'].value_counts()"
   ]
  },
  {
   "cell_type": "code",
   "execution_count": 997,
   "id": "6a7ca363",
   "metadata": {},
   "outputs": [],
   "source": [
    "# Приведем все строки в столбце с семейным положением клиента к нижнему регистру\n",
    "df['family_status'] = df['family_status'].str.lower()"
   ]
  },
  {
   "cell_type": "code",
   "execution_count": 998,
   "id": "f217a384",
   "metadata": {},
   "outputs": [
    {
     "data": {
      "text/plain": [
       "женат / замужем          12344\n",
       "гражданский брак          4163\n",
       "не женат / не замужем     2810\n",
       "в разводе                 1195\n",
       "вдовец / вдова             959\n",
       "Name: family_status, dtype: int64"
      ]
     },
     "execution_count": 998,
     "metadata": {},
     "output_type": "execute_result"
    }
   ],
   "source": [
    "# Убедимся, что замена произведена правильно\n",
    "df['family_status'].value_counts()"
   ]
  },
  {
   "cell_type": "markdown",
   "id": "974dfc5f",
   "metadata": {},
   "source": [
    "#### Пол клиента"
   ]
  },
  {
   "cell_type": "code",
   "execution_count": 999,
   "id": "ff339576",
   "metadata": {},
   "outputs": [
    {
     "data": {
      "text/plain": [
       "F      14189\n",
       "M       7281\n",
       "XNA        1\n",
       "Name: gender, dtype: int64"
      ]
     },
     "execution_count": 999,
     "metadata": {},
     "output_type": "execute_result"
    }
   ],
   "source": [
    "# Посмотрим на уникальные значения пола клиента, посчитаем количество таких строк\n",
    "df['gender'].value_counts()"
   ]
  },
  {
   "cell_type": "code",
   "execution_count": 1000,
   "id": "c3665199",
   "metadata": {},
   "outputs": [],
   "source": [
    "# Неясно значение 'XNA', которое встречается единожды"
   ]
  },
  {
   "cell_type": "markdown",
   "id": "1ea410c3",
   "metadata": {},
   "source": [
    "#### Тип занятости"
   ]
  },
  {
   "cell_type": "code",
   "execution_count": 1001,
   "id": "02a84dab",
   "metadata": {},
   "outputs": [
    {
     "data": {
      "text/plain": [
       "сотрудник          11091\n",
       "компаньон           5080\n",
       "пенсионер           3837\n",
       "госслужащий         1457\n",
       "предприниматель        2\n",
       "безработный            2\n",
       "в декрете              1\n",
       "студент                1\n",
       "Name: employment_type, dtype: int64"
      ]
     },
     "execution_count": 1001,
     "metadata": {},
     "output_type": "execute_result"
    }
   ],
   "source": [
    "# Посмотрим на уникальные значения типа занятости клиента, посчитаем количество таких строк\n",
    "df['employment_type'].value_counts()"
   ]
  },
  {
   "cell_type": "code",
   "execution_count": 1002,
   "id": "56163d0b",
   "metadata": {},
   "outputs": [],
   "source": [
    "# Каких-либо проблем в данном столбце не обнаружено"
   ]
  },
  {
   "cell_type": "markdown",
   "id": "a8dad9d7",
   "metadata": {},
   "source": [
    "#### Ежемесячный доход"
   ]
  },
  {
   "cell_type": "code",
   "execution_count": 1005,
   "id": "02c05221",
   "metadata": {},
   "outputs": [
    {
     "data": {
      "text/plain": [
       "count    2.147100e+04\n",
       "mean     1.508909e+05\n",
       "std      1.097754e+05\n",
       "min      0.000000e+00\n",
       "25%      8.894650e+04\n",
       "50%      1.357160e+05\n",
       "75%      1.957515e+05\n",
       "max      2.265604e+06\n",
       "Name: monthly_income, dtype: float64"
      ]
     },
     "execution_count": 1005,
     "metadata": {},
     "output_type": "execute_result"
    }
   ],
   "source": [
    "# Посмотрим на описательные статистики ежемесячного дохода\n",
    "df['monthly_income'].describe()"
   ]
  },
  {
   "cell_type": "code",
   "execution_count": 1006,
   "id": "92a0d6ff",
   "metadata": {},
   "outputs": [],
   "source": [
    "# Исходя из условий задачи точность валюты до шестого знака нам не нужна\n",
    "# Преобразуем данные в столбце с ежемесячным доходом из значений типа float (числа с плавающей точкой) в integer (целые числа)\n",
    "df['monthly_income'] = df['monthly_income'].astype(int)"
   ]
  },
  {
   "cell_type": "markdown",
   "id": "7255c6fe",
   "metadata": {},
   "source": [
    "#### Цель получения кредита"
   ]
  },
  {
   "cell_type": "code",
   "execution_count": 1007,
   "id": "eb449e69",
   "metadata": {},
   "outputs": [
    {
     "data": {
      "text/plain": [
       "['покупка жилья',\n",
       " 'приобретение автомобиля',\n",
       " 'дополнительное образование',\n",
       " 'сыграть свадьбу',\n",
       " 'операции с жильем',\n",
       " 'образование',\n",
       " 'на проведение свадьбы',\n",
       " 'покупка жилья для семьи',\n",
       " 'покупка недвижимости',\n",
       " 'покупка коммерческой недвижимости',\n",
       " 'покупка жилой недвижимости',\n",
       " 'строительство собственной недвижимости',\n",
       " 'недвижимость',\n",
       " 'строительство недвижимости',\n",
       " 'на покупку подержанного автомобиля',\n",
       " 'на покупку своего автомобиля',\n",
       " 'операции с коммерческой недвижимостью',\n",
       " 'строительство жилой недвижимости',\n",
       " 'жилье',\n",
       " 'операции со своей недвижимостью',\n",
       " 'автомобили',\n",
       " 'заняться образованием',\n",
       " 'сделка с подержанным автомобилем',\n",
       " 'получение образования',\n",
       " 'автомобиль',\n",
       " 'свадьба',\n",
       " 'получение дополнительного образования',\n",
       " 'покупка своего жилья',\n",
       " 'операции с недвижимостью',\n",
       " 'получение высшего образования',\n",
       " 'свой автомобиль',\n",
       " 'сделка с автомобилем',\n",
       " 'профильное образование',\n",
       " 'высшее образование',\n",
       " 'покупка жилья для сдачи',\n",
       " 'на покупку автомобиля',\n",
       " 'ремонт жилью',\n",
       " 'заняться высшим образованием']"
      ]
     },
     "execution_count": 1007,
     "metadata": {},
     "output_type": "execute_result"
    }
   ],
   "source": [
    "# Узнаем уникальные значения в столбце цели получения кредита\n",
    "unique_credit_purpose = df['credit_purpose'].unique().tolist()\n",
    "unique_credit_purpose"
   ]
  },
  {
   "cell_type": "code",
   "execution_count": 475,
   "id": "cc71e262",
   "metadata": {},
   "outputs": [
    {
     "name": "stdout",
     "output_type": "stream",
     "text": [
      "('покупка жилья; приобретение автомобиля; дополнительное образование; сыграть '\n",
      " 'свадьбу; операции с жильем; образование; на проведение свадьбы; покупка '\n",
      " 'жилья для семьи; покупка недвижимости; покупка коммерческой недвижимости; '\n",
      " 'покупка жилой недвижимости; строительство собственной недвижимости; '\n",
      " 'недвижимость; строительство недвижимости; на покупку подержанного '\n",
      " 'автомобиля; на покупку своего автомобиля; операции с коммерческой '\n",
      " 'недвижимостью; строительство жилой недвижимости; жилье; операции со своей '\n",
      " 'недвижимостью; автомобили; заняться образованием; сделка с подержанным '\n",
      " 'автомобилем; получение образования; автомобиль; свадьба; получение '\n",
      " 'дополнительного образования; покупка своего жилья; операции с недвижимостью; '\n",
      " 'получение высшего образования; свой автомобиль; сделка с автомобилем; '\n",
      " 'профильное образование; высшее образование; покупка жилья для сдачи; на '\n",
      " 'покупку автомобиля; ремонт жилью; заняться высшим образованием')\n"
     ]
    }
   ],
   "source": [
    "# Выведем список лемматизированных слов.\n",
    "m = Mystem()\n",
    "#pprint.pprint(unique_credit_purpose)\n",
    "string = '; '.join(unique_credit_purpose)\n",
    "pprint.pprint(string)"
   ]
  },
  {
   "cell_type": "code",
   "execution_count": 1013,
   "id": "292fae32",
   "metadata": {},
   "outputs": [
    {
     "name": "stdout",
     "output_type": "stream",
     "text": [
      "Counter({' ': 59,\n",
      "         '; ': 37,\n",
      "         'покупка': 10,\n",
      "         'недвижимость': 10,\n",
      "         'автомобиль': 9,\n",
      "         'образование': 9,\n",
      "         'жилье': 7,\n",
      "         'с': 5,\n",
      "         'операция': 4,\n",
      "         'на': 4,\n",
      "         'свой': 4,\n",
      "         'свадьба': 3,\n",
      "         'строительство': 3,\n",
      "         'получение': 3,\n",
      "         'высокий': 3,\n",
      "         'дополнительный': 2,\n",
      "         'для': 2,\n",
      "         'коммерческий': 2,\n",
      "         'жилой': 2,\n",
      "         'подержать': 2,\n",
      "         'заниматься': 2,\n",
      "         'сделка': 2,\n",
      "         'приобретение': 1,\n",
      "         'сыграть': 1,\n",
      "         'проведение': 1,\n",
      "         'семья': 1,\n",
      "         'собственный': 1,\n",
      "         'со': 1,\n",
      "         'профильный': 1,\n",
      "         'сдача': 1,\n",
      "         'ремонт': 1,\n",
      "         '\\n': 1})\n"
     ]
    }
   ],
   "source": [
    "# Посчитаем встречаемость значений в списке\n",
    "lemmas = m.lemmatize(string)\n",
    "pprint.pprint(Counter(lemmas))"
   ]
  },
  {
   "cell_type": "markdown",
   "id": "13d64720",
   "metadata": {},
   "source": [
    "Выделим цели кредита, указанные клиентами, вручную. Это:\n",
    "* автомобиль;\n",
    "* недвижимость;\n",
    "* образование;\n",
    "* свадьба."
   ]
  },
  {
   "cell_type": "markdown",
   "id": "128e8ca5",
   "metadata": {},
   "source": [
    "**Вывод**\n",
    "\n",
    "* Были подкорректированы наименования колонок, заполнены пропуски в значениях, удалены дубликаты и подробно исследованы данные по столбцам (в том числе выделены леммы);\n",
    "\n",
    "* В датасете остались некоторые явные некорректные значения, однако на дальнейший ход анализа они не повлияют."
   ]
  },
  {
   "cell_type": "markdown",
   "id": "b26d9c5e",
   "metadata": {},
   "source": [
    "* *Возможными причинами появления пропусков в исходных данных могли стать: неверный ввод данных, сокрытие информации, повреждение файла данных при сохранении или какие-либо технические проблемы.*"
   ]
  },
  {
   "cell_type": "markdown",
   "id": "cc661686",
   "metadata": {},
   "source": [
    "## Этап 3. Ответы на вопросы исследования"
   ]
  },
  {
   "cell_type": "markdown",
   "id": "9e1e72f8",
   "metadata": {},
   "source": [
    "1. Есть ли зависимость между наличием детей и возвратом кредита в срок?\n",
    "2. Есть ли зависимость между семейным положением и возвратом кредита в срок?\n",
    "3. Есть ли зависимость между уровнем дохода и возвратом кредита в срок?\n",
    "4. Как разные цели кредита влияют на его возврат в срок?"
   ]
  },
  {
   "cell_type": "markdown",
   "id": "20409d3e",
   "metadata": {},
   "source": [
    "### Категоризация данных"
   ]
  },
  {
   "cell_type": "markdown",
   "id": "4f1fc038",
   "metadata": {},
   "source": [
    "Проведем первоначальный исследовательский анализ данных.\n",
    "\n",
    "Начнем с построения общего графика корреляции имеющихся признаков.\n",
    "\n",
    "Для этого категоризируем ряд следующих признаков:\n",
    "* *number_of_children* — количество детей в семье;\n",
    "\n",
    "* *days_employed* — общий трудовой стаж в днях\n",
    "* *client_age_in_years* — возраст клиента в годах\n",
    "* *education_level* — уровень образования клиента\n",
    "* *education_level_id* — идентификатор уровня образования\n",
    "* *family_status* — семейное положение\n",
    "* *family_status_id* — идентификатор семейного положения\n",
    "* *gender* — пол клиента\n",
    "* *employment_type* — тип занятости\n",
    "* *credit_repayment_status* — имел ли задолженность по возврату кредитов\n",
    "* *monthly_income* — ежемесячный доход\n",
    "* *credit_purpose* — цель получения кредита"
   ]
  },
  {
   "cell_type": "markdown",
   "id": "cb444402",
   "metadata": {},
   "source": [
    "#### Количество детей в семье"
   ]
  },
  {
   "cell_type": "markdown",
   "id": "0b9e1cd3",
   "metadata": {},
   "source": [
    "*Создадим функцию, которая будет выводить категорию наличия детей:*\n",
    "\n",
    "* *нет детей* - если детей нет;\n",
    "* *есть дети* - если 1 или 2 ребенка;\n",
    "* *многодетный* - если 3 и более детей."
   ]
  },
  {
   "cell_type": "code",
   "execution_count": 1016,
   "id": "b2f62913",
   "metadata": {},
   "outputs": [],
   "source": [
    "# Создадим функцию категории наличия детей\n",
    "def children_category (number_of_children):\n",
    "    if 1 <= number_of_children <= 2:\n",
    "        return 'есть дети'\n",
    "    if number_of_children >= 3:\n",
    "        return 'многодетный'\n",
    "    return 'детей нет'"
   ]
  },
  {
   "cell_type": "code",
   "execution_count": 1017,
   "id": "0e8ebea6",
   "metadata": {},
   "outputs": [],
   "source": [
    "# Создадим столбец с категорией наличия детей\n",
    "df['children_rank'] = df['number_of_children'].apply(children_category)"
   ]
  },
  {
   "cell_type": "code",
   "execution_count": 1043,
   "id": "e1602db5",
   "metadata": {},
   "outputs": [
    {
     "data": {
      "text/html": [
       "<div>\n",
       "<style scoped>\n",
       "    .dataframe tbody tr th:only-of-type {\n",
       "        vertical-align: middle;\n",
       "    }\n",
       "\n",
       "    .dataframe tbody tr th {\n",
       "        vertical-align: top;\n",
       "    }\n",
       "\n",
       "    .dataframe thead th {\n",
       "        text-align: right;\n",
       "    }\n",
       "</style>\n",
       "<table border=\"1\" class=\"dataframe\">\n",
       "  <thead>\n",
       "    <tr style=\"text-align: right;\">\n",
       "      <th></th>\n",
       "      <th>number_of_children</th>\n",
       "      <th>client_age_in_years</th>\n",
       "      <th>education_level</th>\n",
       "      <th>education_level_id</th>\n",
       "      <th>family_status</th>\n",
       "      <th>family_status_id</th>\n",
       "      <th>gender</th>\n",
       "      <th>employment_type</th>\n",
       "      <th>credit_repayment_status</th>\n",
       "      <th>monthly_income</th>\n",
       "      <th>credit_purpose</th>\n",
       "      <th>years_employed</th>\n",
       "      <th>children_rank</th>\n",
       "    </tr>\n",
       "  </thead>\n",
       "  <tbody>\n",
       "    <tr>\n",
       "      <th>0</th>\n",
       "      <td>1</td>\n",
       "      <td>42</td>\n",
       "      <td>высшее</td>\n",
       "      <td>0</td>\n",
       "      <td>женат / замужем</td>\n",
       "      <td>0</td>\n",
       "      <td>F</td>\n",
       "      <td>сотрудник</td>\n",
       "      <td>0</td>\n",
       "      <td>253875</td>\n",
       "      <td>покупка жилья</td>\n",
       "      <td>23</td>\n",
       "      <td>есть дети</td>\n",
       "    </tr>\n",
       "    <tr>\n",
       "      <th>1</th>\n",
       "      <td>1</td>\n",
       "      <td>36</td>\n",
       "      <td>среднее</td>\n",
       "      <td>1</td>\n",
       "      <td>женат / замужем</td>\n",
       "      <td>0</td>\n",
       "      <td>F</td>\n",
       "      <td>сотрудник</td>\n",
       "      <td>0</td>\n",
       "      <td>112080</td>\n",
       "      <td>приобретение автомобиля</td>\n",
       "      <td>11</td>\n",
       "      <td>есть дети</td>\n",
       "    </tr>\n",
       "    <tr>\n",
       "      <th>2</th>\n",
       "      <td>0</td>\n",
       "      <td>33</td>\n",
       "      <td>среднее</td>\n",
       "      <td>1</td>\n",
       "      <td>женат / замужем</td>\n",
       "      <td>0</td>\n",
       "      <td>M</td>\n",
       "      <td>сотрудник</td>\n",
       "      <td>0</td>\n",
       "      <td>145885</td>\n",
       "      <td>покупка жилья</td>\n",
       "      <td>15</td>\n",
       "      <td>детей нет</td>\n",
       "    </tr>\n",
       "    <tr>\n",
       "      <th>3</th>\n",
       "      <td>3</td>\n",
       "      <td>32</td>\n",
       "      <td>среднее</td>\n",
       "      <td>1</td>\n",
       "      <td>женат / замужем</td>\n",
       "      <td>0</td>\n",
       "      <td>M</td>\n",
       "      <td>сотрудник</td>\n",
       "      <td>0</td>\n",
       "      <td>267628</td>\n",
       "      <td>дополнительное образование</td>\n",
       "      <td>11</td>\n",
       "      <td>многодетный</td>\n",
       "    </tr>\n",
       "    <tr>\n",
       "      <th>4</th>\n",
       "      <td>0</td>\n",
       "      <td>53</td>\n",
       "      <td>среднее</td>\n",
       "      <td>1</td>\n",
       "      <td>гражданский брак</td>\n",
       "      <td>1</td>\n",
       "      <td>F</td>\n",
       "      <td>пенсионер</td>\n",
       "      <td>0</td>\n",
       "      <td>158616</td>\n",
       "      <td>сыграть свадьбу</td>\n",
       "      <td>932</td>\n",
       "      <td>детей нет</td>\n",
       "    </tr>\n",
       "  </tbody>\n",
       "</table>\n",
       "</div>"
      ],
      "text/plain": [
       "   number_of_children  client_age_in_years education_level  \\\n",
       "0                   1                   42          высшее   \n",
       "1                   1                   36         среднее   \n",
       "2                   0                   33         среднее   \n",
       "3                   3                   32         среднее   \n",
       "4                   0                   53         среднее   \n",
       "\n",
       "   education_level_id     family_status  family_status_id gender  \\\n",
       "0                   0   женат / замужем                 0      F   \n",
       "1                   1   женат / замужем                 0      F   \n",
       "2                   1   женат / замужем                 0      M   \n",
       "3                   1   женат / замужем                 0      M   \n",
       "4                   1  гражданский брак                 1      F   \n",
       "\n",
       "  employment_type  credit_repayment_status  monthly_income  \\\n",
       "0       сотрудник                        0          253875   \n",
       "1       сотрудник                        0          112080   \n",
       "2       сотрудник                        0          145885   \n",
       "3       сотрудник                        0          267628   \n",
       "4       пенсионер                        0          158616   \n",
       "\n",
       "               credit_purpose  years_employed children_rank  \n",
       "0               покупка жилья              23     есть дети  \n",
       "1     приобретение автомобиля              11     есть дети  \n",
       "2               покупка жилья              15     детей нет  \n",
       "3  дополнительное образование              11   многодетный  \n",
       "4             сыграть свадьбу             932     детей нет  "
      ]
     },
     "execution_count": 1043,
     "metadata": {},
     "output_type": "execute_result"
    }
   ],
   "source": [
    "# Проверим правильность выполнения функции\n",
    "df.head(5)"
   ]
  },
  {
   "cell_type": "markdown",
   "id": "ee7d8f70",
   "metadata": {},
   "source": [
    "#### Уровень ежемесячного дохода"
   ]
  },
  {
   "cell_type": "markdown",
   "id": "717de842",
   "metadata": {},
   "source": [
    "*Создадим функцию, которая будет выводить категорию уровня ежемесячного дохода:*\n",
    "\n",
    "* *менее 30000* - E;\n",
    "* *30001 - 50000* - D;\n",
    "* *50001 - 200000* - C;\n",
    "* *200001 - 1000000* - B;\n",
    "* *более 1000001* - A."
   ]
  },
  {
   "cell_type": "code",
   "execution_count": 1057,
   "id": "f83146c9",
   "metadata": {},
   "outputs": [],
   "source": [
    "# Создадим функцию категоризации уровня ежемесячного дохода клиента\n",
    "def categorize_monthly_income (monthly_income):\n",
    "    try:\n",
    "        if monthly_income <= 30000:\n",
    "            return 'E'\n",
    "        elif 30001 <= monthly_income <= 50000:\n",
    "            return 'D'\n",
    "        elif 50001 <= monthly_income <= 200000:\n",
    "            return 'C'\n",
    "        elif 200001 <= monthly_income <= 1000000:\n",
    "            return 'B'\n",
    "        elif monthly_income >= 1000001:\n",
    "            return 'A'\n",
    "    except:\n",
    "        pass"
   ]
  },
  {
   "cell_type": "code",
   "execution_count": 1058,
   "id": "c6f62801",
   "metadata": {},
   "outputs": [],
   "source": [
    "# Создадим столбец с категорией ежемесячного дохода клиента\n",
    "df['monthly_income_category'] = df['monthly_income'].apply(categorize_monthly_income)"
   ]
  },
  {
   "cell_type": "code",
   "execution_count": 1059,
   "id": "f49449ae",
   "metadata": {},
   "outputs": [
    {
     "data": {
      "text/html": [
       "<div>\n",
       "<style scoped>\n",
       "    .dataframe tbody tr th:only-of-type {\n",
       "        vertical-align: middle;\n",
       "    }\n",
       "\n",
       "    .dataframe tbody tr th {\n",
       "        vertical-align: top;\n",
       "    }\n",
       "\n",
       "    .dataframe thead th {\n",
       "        text-align: right;\n",
       "    }\n",
       "</style>\n",
       "<table border=\"1\" class=\"dataframe\">\n",
       "  <thead>\n",
       "    <tr style=\"text-align: right;\">\n",
       "      <th></th>\n",
       "      <th>number_of_children</th>\n",
       "      <th>client_age_in_years</th>\n",
       "      <th>education_level</th>\n",
       "      <th>education_level_id</th>\n",
       "      <th>family_status</th>\n",
       "      <th>family_status_id</th>\n",
       "      <th>gender</th>\n",
       "      <th>employment_type</th>\n",
       "      <th>credit_repayment_status</th>\n",
       "      <th>monthly_income</th>\n",
       "      <th>credit_purpose</th>\n",
       "      <th>years_employed</th>\n",
       "      <th>children_rank</th>\n",
       "      <th>monthly_income_category</th>\n",
       "    </tr>\n",
       "  </thead>\n",
       "  <tbody>\n",
       "    <tr>\n",
       "      <th>0</th>\n",
       "      <td>1</td>\n",
       "      <td>42</td>\n",
       "      <td>высшее</td>\n",
       "      <td>0</td>\n",
       "      <td>женат / замужем</td>\n",
       "      <td>0</td>\n",
       "      <td>F</td>\n",
       "      <td>сотрудник</td>\n",
       "      <td>0</td>\n",
       "      <td>253875</td>\n",
       "      <td>покупка жилья</td>\n",
       "      <td>23</td>\n",
       "      <td>есть дети</td>\n",
       "      <td>B</td>\n",
       "    </tr>\n",
       "    <tr>\n",
       "      <th>1</th>\n",
       "      <td>1</td>\n",
       "      <td>36</td>\n",
       "      <td>среднее</td>\n",
       "      <td>1</td>\n",
       "      <td>женат / замужем</td>\n",
       "      <td>0</td>\n",
       "      <td>F</td>\n",
       "      <td>сотрудник</td>\n",
       "      <td>0</td>\n",
       "      <td>112080</td>\n",
       "      <td>приобретение автомобиля</td>\n",
       "      <td>11</td>\n",
       "      <td>есть дети</td>\n",
       "      <td>C</td>\n",
       "    </tr>\n",
       "    <tr>\n",
       "      <th>2</th>\n",
       "      <td>0</td>\n",
       "      <td>33</td>\n",
       "      <td>среднее</td>\n",
       "      <td>1</td>\n",
       "      <td>женат / замужем</td>\n",
       "      <td>0</td>\n",
       "      <td>M</td>\n",
       "      <td>сотрудник</td>\n",
       "      <td>0</td>\n",
       "      <td>145885</td>\n",
       "      <td>покупка жилья</td>\n",
       "      <td>15</td>\n",
       "      <td>детей нет</td>\n",
       "      <td>C</td>\n",
       "    </tr>\n",
       "    <tr>\n",
       "      <th>3</th>\n",
       "      <td>3</td>\n",
       "      <td>32</td>\n",
       "      <td>среднее</td>\n",
       "      <td>1</td>\n",
       "      <td>женат / замужем</td>\n",
       "      <td>0</td>\n",
       "      <td>M</td>\n",
       "      <td>сотрудник</td>\n",
       "      <td>0</td>\n",
       "      <td>267628</td>\n",
       "      <td>дополнительное образование</td>\n",
       "      <td>11</td>\n",
       "      <td>многодетный</td>\n",
       "      <td>B</td>\n",
       "    </tr>\n",
       "    <tr>\n",
       "      <th>4</th>\n",
       "      <td>0</td>\n",
       "      <td>53</td>\n",
       "      <td>среднее</td>\n",
       "      <td>1</td>\n",
       "      <td>гражданский брак</td>\n",
       "      <td>1</td>\n",
       "      <td>F</td>\n",
       "      <td>пенсионер</td>\n",
       "      <td>0</td>\n",
       "      <td>158616</td>\n",
       "      <td>сыграть свадьбу</td>\n",
       "      <td>932</td>\n",
       "      <td>детей нет</td>\n",
       "      <td>C</td>\n",
       "    </tr>\n",
       "  </tbody>\n",
       "</table>\n",
       "</div>"
      ],
      "text/plain": [
       "   number_of_children  client_age_in_years education_level  \\\n",
       "0                   1                   42          высшее   \n",
       "1                   1                   36         среднее   \n",
       "2                   0                   33         среднее   \n",
       "3                   3                   32         среднее   \n",
       "4                   0                   53         среднее   \n",
       "\n",
       "   education_level_id     family_status  family_status_id gender  \\\n",
       "0                   0   женат / замужем                 0      F   \n",
       "1                   1   женат / замужем                 0      F   \n",
       "2                   1   женат / замужем                 0      M   \n",
       "3                   1   женат / замужем                 0      M   \n",
       "4                   1  гражданский брак                 1      F   \n",
       "\n",
       "  employment_type  credit_repayment_status  monthly_income  \\\n",
       "0       сотрудник                        0          253875   \n",
       "1       сотрудник                        0          112080   \n",
       "2       сотрудник                        0          145885   \n",
       "3       сотрудник                        0          267628   \n",
       "4       пенсионер                        0          158616   \n",
       "\n",
       "               credit_purpose  years_employed children_rank  \\\n",
       "0               покупка жилья              23     есть дети   \n",
       "1     приобретение автомобиля              11     есть дети   \n",
       "2               покупка жилья              15     детей нет   \n",
       "3  дополнительное образование              11   многодетный   \n",
       "4             сыграть свадьбу             932     детей нет   \n",
       "\n",
       "  monthly_income_category  \n",
       "0                       B  \n",
       "1                       C  \n",
       "2                       C  \n",
       "3                       B  \n",
       "4                       C  "
      ]
     },
     "execution_count": 1059,
     "metadata": {},
     "output_type": "execute_result"
    }
   ],
   "source": [
    "# Проверим правильность выполнения функции\n",
    "df.head(5)"
   ]
  },
  {
   "cell_type": "markdown",
   "id": "a9da3493",
   "metadata": {},
   "source": [
    "#### Цель получения кредита"
   ]
  },
  {
   "cell_type": "markdown",
   "id": "d0e3fd88",
   "metadata": {},
   "source": [
    "*Создадим функцию, которая будет выводить категорию цели кредита:*\n",
    "\n",
    "* автомобиль;\n",
    "* недвижимость;\n",
    "* образование;\n",
    "* свадьба"
   ]
  },
  {
   "cell_type": "code",
   "execution_count": 1191,
   "id": "413ba68c",
   "metadata": {},
   "outputs": [],
   "source": [
    "# Создадим функцию категоризации цели кредита\n",
    "def categorize_credit_purpose (credit_purpose):\n",
    "    try:\n",
    "        if 'автом' in credit_purpose:\n",
    "            return 'автомобиль'\n",
    "        elif 'недвиж' in credit_purpose or 'жил' in credit_purpose:\n",
    "            return 'недвижимость'\n",
    "        elif 'образ' in credit_purpose:\n",
    "            return 'образование'\n",
    "        elif 'свад' in credit_purpose:\n",
    "            return 'свадьба'\n",
    "    except:\n",
    "        return 'без категории'"
   ]
  },
  {
   "cell_type": "code",
   "execution_count": 1192,
   "id": "2325e630",
   "metadata": {},
   "outputs": [],
   "source": [
    "# Создадим столбец с категорией цели кредита\n",
    "df['credit_purpose_category'] = df['credit_purpose'].apply(categorize_credit_purpose)"
   ]
  },
  {
   "cell_type": "code",
   "execution_count": 1193,
   "id": "6b2f0f8c",
   "metadata": {},
   "outputs": [
    {
     "data": {
      "text/html": [
       "<div>\n",
       "<style scoped>\n",
       "    .dataframe tbody tr th:only-of-type {\n",
       "        vertical-align: middle;\n",
       "    }\n",
       "\n",
       "    .dataframe tbody tr th {\n",
       "        vertical-align: top;\n",
       "    }\n",
       "\n",
       "    .dataframe thead th {\n",
       "        text-align: right;\n",
       "    }\n",
       "</style>\n",
       "<table border=\"1\" class=\"dataframe\">\n",
       "  <thead>\n",
       "    <tr style=\"text-align: right;\">\n",
       "      <th></th>\n",
       "      <th>number_of_children</th>\n",
       "      <th>client_age_in_years</th>\n",
       "      <th>education_level</th>\n",
       "      <th>education_level_id</th>\n",
       "      <th>family_status</th>\n",
       "      <th>family_status_id</th>\n",
       "      <th>gender</th>\n",
       "      <th>employment_type</th>\n",
       "      <th>credit_repayment_status</th>\n",
       "      <th>monthly_income</th>\n",
       "      <th>credit_purpose</th>\n",
       "      <th>years_employed</th>\n",
       "      <th>children_rank</th>\n",
       "      <th>monthly_income_category</th>\n",
       "      <th>credit_purpose_category</th>\n",
       "    </tr>\n",
       "  </thead>\n",
       "  <tbody>\n",
       "    <tr>\n",
       "      <th>0</th>\n",
       "      <td>1</td>\n",
       "      <td>42</td>\n",
       "      <td>высшее</td>\n",
       "      <td>0</td>\n",
       "      <td>женат / замужем</td>\n",
       "      <td>0</td>\n",
       "      <td>F</td>\n",
       "      <td>сотрудник</td>\n",
       "      <td>0</td>\n",
       "      <td>253875</td>\n",
       "      <td>покупка жилья</td>\n",
       "      <td>23</td>\n",
       "      <td>есть дети</td>\n",
       "      <td>B</td>\n",
       "      <td>недвижимость</td>\n",
       "    </tr>\n",
       "    <tr>\n",
       "      <th>1</th>\n",
       "      <td>1</td>\n",
       "      <td>36</td>\n",
       "      <td>среднее</td>\n",
       "      <td>1</td>\n",
       "      <td>женат / замужем</td>\n",
       "      <td>0</td>\n",
       "      <td>F</td>\n",
       "      <td>сотрудник</td>\n",
       "      <td>0</td>\n",
       "      <td>112080</td>\n",
       "      <td>приобретение автомобиля</td>\n",
       "      <td>11</td>\n",
       "      <td>есть дети</td>\n",
       "      <td>C</td>\n",
       "      <td>автомобиль</td>\n",
       "    </tr>\n",
       "    <tr>\n",
       "      <th>2</th>\n",
       "      <td>0</td>\n",
       "      <td>33</td>\n",
       "      <td>среднее</td>\n",
       "      <td>1</td>\n",
       "      <td>женат / замужем</td>\n",
       "      <td>0</td>\n",
       "      <td>M</td>\n",
       "      <td>сотрудник</td>\n",
       "      <td>0</td>\n",
       "      <td>145885</td>\n",
       "      <td>покупка жилья</td>\n",
       "      <td>15</td>\n",
       "      <td>детей нет</td>\n",
       "      <td>C</td>\n",
       "      <td>недвижимость</td>\n",
       "    </tr>\n",
       "    <tr>\n",
       "      <th>3</th>\n",
       "      <td>3</td>\n",
       "      <td>32</td>\n",
       "      <td>среднее</td>\n",
       "      <td>1</td>\n",
       "      <td>женат / замужем</td>\n",
       "      <td>0</td>\n",
       "      <td>M</td>\n",
       "      <td>сотрудник</td>\n",
       "      <td>0</td>\n",
       "      <td>267628</td>\n",
       "      <td>дополнительное образование</td>\n",
       "      <td>11</td>\n",
       "      <td>многодетный</td>\n",
       "      <td>B</td>\n",
       "      <td>образование</td>\n",
       "    </tr>\n",
       "    <tr>\n",
       "      <th>4</th>\n",
       "      <td>0</td>\n",
       "      <td>53</td>\n",
       "      <td>среднее</td>\n",
       "      <td>1</td>\n",
       "      <td>гражданский брак</td>\n",
       "      <td>1</td>\n",
       "      <td>F</td>\n",
       "      <td>пенсионер</td>\n",
       "      <td>0</td>\n",
       "      <td>158616</td>\n",
       "      <td>сыграть свадьбу</td>\n",
       "      <td>932</td>\n",
       "      <td>детей нет</td>\n",
       "      <td>C</td>\n",
       "      <td>свадьба</td>\n",
       "    </tr>\n",
       "    <tr>\n",
       "      <th>5</th>\n",
       "      <td>0</td>\n",
       "      <td>27</td>\n",
       "      <td>высшее</td>\n",
       "      <td>0</td>\n",
       "      <td>гражданский брак</td>\n",
       "      <td>1</td>\n",
       "      <td>M</td>\n",
       "      <td>компаньон</td>\n",
       "      <td>0</td>\n",
       "      <td>255763</td>\n",
       "      <td>покупка жилья</td>\n",
       "      <td>2</td>\n",
       "      <td>детей нет</td>\n",
       "      <td>B</td>\n",
       "      <td>недвижимость</td>\n",
       "    </tr>\n",
       "    <tr>\n",
       "      <th>6</th>\n",
       "      <td>0</td>\n",
       "      <td>43</td>\n",
       "      <td>высшее</td>\n",
       "      <td>0</td>\n",
       "      <td>женат / замужем</td>\n",
       "      <td>0</td>\n",
       "      <td>F</td>\n",
       "      <td>компаньон</td>\n",
       "      <td>0</td>\n",
       "      <td>240525</td>\n",
       "      <td>операции с жильем</td>\n",
       "      <td>7</td>\n",
       "      <td>детей нет</td>\n",
       "      <td>B</td>\n",
       "      <td>недвижимость</td>\n",
       "    </tr>\n",
       "    <tr>\n",
       "      <th>7</th>\n",
       "      <td>0</td>\n",
       "      <td>50</td>\n",
       "      <td>среднее</td>\n",
       "      <td>1</td>\n",
       "      <td>женат / замужем</td>\n",
       "      <td>0</td>\n",
       "      <td>M</td>\n",
       "      <td>сотрудник</td>\n",
       "      <td>0</td>\n",
       "      <td>135823</td>\n",
       "      <td>образование</td>\n",
       "      <td>0</td>\n",
       "      <td>детей нет</td>\n",
       "      <td>C</td>\n",
       "      <td>образование</td>\n",
       "    </tr>\n",
       "    <tr>\n",
       "      <th>8</th>\n",
       "      <td>2</td>\n",
       "      <td>35</td>\n",
       "      <td>высшее</td>\n",
       "      <td>0</td>\n",
       "      <td>гражданский брак</td>\n",
       "      <td>1</td>\n",
       "      <td>F</td>\n",
       "      <td>сотрудник</td>\n",
       "      <td>0</td>\n",
       "      <td>95856</td>\n",
       "      <td>на проведение свадьбы</td>\n",
       "      <td>18</td>\n",
       "      <td>есть дети</td>\n",
       "      <td>C</td>\n",
       "      <td>свадьба</td>\n",
       "    </tr>\n",
       "    <tr>\n",
       "      <th>9</th>\n",
       "      <td>0</td>\n",
       "      <td>41</td>\n",
       "      <td>среднее</td>\n",
       "      <td>1</td>\n",
       "      <td>женат / замужем</td>\n",
       "      <td>0</td>\n",
       "      <td>M</td>\n",
       "      <td>сотрудник</td>\n",
       "      <td>0</td>\n",
       "      <td>144425</td>\n",
       "      <td>покупка жилья для семьи</td>\n",
       "      <td>5</td>\n",
       "      <td>детей нет</td>\n",
       "      <td>C</td>\n",
       "      <td>недвижимость</td>\n",
       "    </tr>\n",
       "  </tbody>\n",
       "</table>\n",
       "</div>"
      ],
      "text/plain": [
       "   number_of_children  client_age_in_years education_level  \\\n",
       "0                   1                   42          высшее   \n",
       "1                   1                   36         среднее   \n",
       "2                   0                   33         среднее   \n",
       "3                   3                   32         среднее   \n",
       "4                   0                   53         среднее   \n",
       "5                   0                   27          высшее   \n",
       "6                   0                   43          высшее   \n",
       "7                   0                   50         среднее   \n",
       "8                   2                   35          высшее   \n",
       "9                   0                   41         среднее   \n",
       "\n",
       "   education_level_id     family_status  family_status_id gender  \\\n",
       "0                   0   женат / замужем                 0      F   \n",
       "1                   1   женат / замужем                 0      F   \n",
       "2                   1   женат / замужем                 0      M   \n",
       "3                   1   женат / замужем                 0      M   \n",
       "4                   1  гражданский брак                 1      F   \n",
       "5                   0  гражданский брак                 1      M   \n",
       "6                   0   женат / замужем                 0      F   \n",
       "7                   1   женат / замужем                 0      M   \n",
       "8                   0  гражданский брак                 1      F   \n",
       "9                   1   женат / замужем                 0      M   \n",
       "\n",
       "  employment_type  credit_repayment_status  monthly_income  \\\n",
       "0       сотрудник                        0          253875   \n",
       "1       сотрудник                        0          112080   \n",
       "2       сотрудник                        0          145885   \n",
       "3       сотрудник                        0          267628   \n",
       "4       пенсионер                        0          158616   \n",
       "5       компаньон                        0          255763   \n",
       "6       компаньон                        0          240525   \n",
       "7       сотрудник                        0          135823   \n",
       "8       сотрудник                        0           95856   \n",
       "9       сотрудник                        0          144425   \n",
       "\n",
       "               credit_purpose  years_employed children_rank  \\\n",
       "0               покупка жилья              23     есть дети   \n",
       "1     приобретение автомобиля              11     есть дети   \n",
       "2               покупка жилья              15     детей нет   \n",
       "3  дополнительное образование              11   многодетный   \n",
       "4             сыграть свадьбу             932     детей нет   \n",
       "5               покупка жилья               2     детей нет   \n",
       "6           операции с жильем               7     детей нет   \n",
       "7                 образование               0     детей нет   \n",
       "8       на проведение свадьбы              18     есть дети   \n",
       "9     покупка жилья для семьи               5     детей нет   \n",
       "\n",
       "  monthly_income_category credit_purpose_category  \n",
       "0                       B            недвижимость  \n",
       "1                       C              автомобиль  \n",
       "2                       C            недвижимость  \n",
       "3                       B             образование  \n",
       "4                       C                 свадьба  \n",
       "5                       B            недвижимость  \n",
       "6                       B            недвижимость  \n",
       "7                       C             образование  \n",
       "8                       C                 свадьба  \n",
       "9                       C            недвижимость  "
      ]
     },
     "execution_count": 1193,
     "metadata": {},
     "output_type": "execute_result"
    }
   ],
   "source": [
    "# Проверим правильность выполнения функции\n",
    "df.head(10)"
   ]
  },
  {
   "cell_type": "code",
   "execution_count": 1194,
   "id": "c155bbaa",
   "metadata": {},
   "outputs": [
    {
     "name": "stdout",
     "output_type": "stream",
     "text": [
      "['приобретение автомобиля' 'на покупку подержанного автомобиля'\n",
      " 'на покупку своего автомобиля' 'автомобили'\n",
      " 'сделка с подержанным автомобилем' 'автомобиль' 'свой автомобиль'\n",
      " 'сделка с автомобилем' 'на покупку автомобиля']\n",
      "['покупка жилья' 'операции с жильем' 'покупка жилья для семьи'\n",
      " 'покупка недвижимости' 'покупка коммерческой недвижимости'\n",
      " 'покупка жилой недвижимости' 'строительство собственной недвижимости'\n",
      " 'недвижимость' 'строительство недвижимости'\n",
      " 'операции с коммерческой недвижимостью'\n",
      " 'строительство жилой недвижимости' 'жилье'\n",
      " 'операции со своей недвижимостью' 'покупка своего жилья'\n",
      " 'операции с недвижимостью' 'покупка жилья для сдачи' 'ремонт жилью']\n",
      "['дополнительное образование' 'образование' 'заняться образованием'\n",
      " 'получение образования' 'получение дополнительного образования'\n",
      " 'получение высшего образования' 'профильное образование'\n",
      " 'высшее образование' 'заняться высшим образованием']\n",
      "['сыграть свадьбу' 'на проведение свадьбы' 'свадьба']\n",
      "[]\n"
     ]
    }
   ],
   "source": [
    "# Проверим правильность выполнения функции по категориям\n",
    "print(df.loc[df['credit_purpose_category'] == 'автомобиль', 'credit_purpose'].unique())\n",
    "print(df.loc[df['credit_purpose_category'] == 'недвижимость', 'credit_purpose'].unique())\n",
    "print(df.loc[df['credit_purpose_category'] == 'образование', 'credit_purpose'].unique())\n",
    "print(df.loc[df['credit_purpose_category'] == 'свадьба', 'credit_purpose'].unique())\n",
    "print(df.loc[df['credit_purpose_category'] == None, 'credit_purpose'].unique())"
   ]
  },
  {
   "cell_type": "code",
   "execution_count": 1199,
   "id": "e68a9057",
   "metadata": {},
   "outputs": [
    {
     "data": {
      "text/plain": [
       "True"
      ]
     },
     "execution_count": 1199,
     "metadata": {},
     "output_type": "execute_result"
    }
   ],
   "source": [
    "# Убедимся, что все ячейки целей кредита заполнены \n",
    "# Сравним длину столбца с категорией цели и всей длиной таблицы\n",
    "len(df[df['credit_purpose_category'].isin(['автомобиль', 'недвижимость', 'образование', 'свадьба'])]) == len(df)"
   ]
  },
  {
   "cell_type": "code",
   "execution_count": 1203,
   "id": "2b0b173a",
   "metadata": {},
   "outputs": [
    {
     "data": {
      "text/html": [
       "<div>\n",
       "<style scoped>\n",
       "    .dataframe tbody tr th:only-of-type {\n",
       "        vertical-align: middle;\n",
       "    }\n",
       "\n",
       "    .dataframe tbody tr th {\n",
       "        vertical-align: top;\n",
       "    }\n",
       "\n",
       "    .dataframe thead th {\n",
       "        text-align: right;\n",
       "    }\n",
       "</style>\n",
       "<table border=\"1\" class=\"dataframe\">\n",
       "  <thead>\n",
       "    <tr style=\"text-align: right;\">\n",
       "      <th></th>\n",
       "      <th>number_of_children</th>\n",
       "      <th>client_age_in_years</th>\n",
       "      <th>education_level</th>\n",
       "      <th>education_level_id</th>\n",
       "      <th>family_status</th>\n",
       "      <th>family_status_id</th>\n",
       "      <th>gender</th>\n",
       "      <th>employment_type</th>\n",
       "      <th>credit_repayment_status</th>\n",
       "      <th>monthly_income</th>\n",
       "      <th>credit_purpose</th>\n",
       "      <th>years_employed</th>\n",
       "      <th>children_rank</th>\n",
       "      <th>monthly_income_category</th>\n",
       "      <th>credit_purpose_category</th>\n",
       "    </tr>\n",
       "  </thead>\n",
       "  <tbody>\n",
       "    <tr>\n",
       "      <th>0</th>\n",
       "      <td>1</td>\n",
       "      <td>42</td>\n",
       "      <td>высшее</td>\n",
       "      <td>0</td>\n",
       "      <td>женат / замужем</td>\n",
       "      <td>0</td>\n",
       "      <td>F</td>\n",
       "      <td>сотрудник</td>\n",
       "      <td>0</td>\n",
       "      <td>253875</td>\n",
       "      <td>покупка жилья</td>\n",
       "      <td>23</td>\n",
       "      <td>есть дети</td>\n",
       "      <td>B</td>\n",
       "      <td>недвижимость</td>\n",
       "    </tr>\n",
       "    <tr>\n",
       "      <th>1</th>\n",
       "      <td>1</td>\n",
       "      <td>36</td>\n",
       "      <td>среднее</td>\n",
       "      <td>1</td>\n",
       "      <td>женат / замужем</td>\n",
       "      <td>0</td>\n",
       "      <td>F</td>\n",
       "      <td>сотрудник</td>\n",
       "      <td>0</td>\n",
       "      <td>112080</td>\n",
       "      <td>приобретение автомобиля</td>\n",
       "      <td>11</td>\n",
       "      <td>есть дети</td>\n",
       "      <td>C</td>\n",
       "      <td>автомобиль</td>\n",
       "    </tr>\n",
       "    <tr>\n",
       "      <th>2</th>\n",
       "      <td>0</td>\n",
       "      <td>33</td>\n",
       "      <td>среднее</td>\n",
       "      <td>1</td>\n",
       "      <td>женат / замужем</td>\n",
       "      <td>0</td>\n",
       "      <td>M</td>\n",
       "      <td>сотрудник</td>\n",
       "      <td>0</td>\n",
       "      <td>145885</td>\n",
       "      <td>покупка жилья</td>\n",
       "      <td>15</td>\n",
       "      <td>детей нет</td>\n",
       "      <td>C</td>\n",
       "      <td>недвижимость</td>\n",
       "    </tr>\n",
       "    <tr>\n",
       "      <th>3</th>\n",
       "      <td>3</td>\n",
       "      <td>32</td>\n",
       "      <td>среднее</td>\n",
       "      <td>1</td>\n",
       "      <td>женат / замужем</td>\n",
       "      <td>0</td>\n",
       "      <td>M</td>\n",
       "      <td>сотрудник</td>\n",
       "      <td>0</td>\n",
       "      <td>267628</td>\n",
       "      <td>дополнительное образование</td>\n",
       "      <td>11</td>\n",
       "      <td>многодетный</td>\n",
       "      <td>B</td>\n",
       "      <td>образование</td>\n",
       "    </tr>\n",
       "    <tr>\n",
       "      <th>4</th>\n",
       "      <td>0</td>\n",
       "      <td>53</td>\n",
       "      <td>среднее</td>\n",
       "      <td>1</td>\n",
       "      <td>гражданский брак</td>\n",
       "      <td>1</td>\n",
       "      <td>F</td>\n",
       "      <td>пенсионер</td>\n",
       "      <td>0</td>\n",
       "      <td>158616</td>\n",
       "      <td>сыграть свадьбу</td>\n",
       "      <td>932</td>\n",
       "      <td>детей нет</td>\n",
       "      <td>C</td>\n",
       "      <td>свадьба</td>\n",
       "    </tr>\n",
       "  </tbody>\n",
       "</table>\n",
       "</div>"
      ],
      "text/plain": [
       "   number_of_children  client_age_in_years education_level  \\\n",
       "0                   1                   42          высшее   \n",
       "1                   1                   36         среднее   \n",
       "2                   0                   33         среднее   \n",
       "3                   3                   32         среднее   \n",
       "4                   0                   53         среднее   \n",
       "\n",
       "   education_level_id     family_status  family_status_id gender  \\\n",
       "0                   0   женат / замужем                 0      F   \n",
       "1                   1   женат / замужем                 0      F   \n",
       "2                   1   женат / замужем                 0      M   \n",
       "3                   1   женат / замужем                 0      M   \n",
       "4                   1  гражданский брак                 1      F   \n",
       "\n",
       "  employment_type  credit_repayment_status  monthly_income  \\\n",
       "0       сотрудник                        0          253875   \n",
       "1       сотрудник                        0          112080   \n",
       "2       сотрудник                        0          145885   \n",
       "3       сотрудник                        0          267628   \n",
       "4       пенсионер                        0          158616   \n",
       "\n",
       "               credit_purpose  years_employed children_rank  \\\n",
       "0               покупка жилья              23     есть дети   \n",
       "1     приобретение автомобиля              11     есть дети   \n",
       "2               покупка жилья              15     детей нет   \n",
       "3  дополнительное образование              11   многодетный   \n",
       "4             сыграть свадьбу             932     детей нет   \n",
       "\n",
       "  monthly_income_category credit_purpose_category  \n",
       "0                       B            недвижимость  \n",
       "1                       C              автомобиль  \n",
       "2                       C            недвижимость  \n",
       "3                       B             образование  \n",
       "4                       C                 свадьба  "
      ]
     },
     "execution_count": 1203,
     "metadata": {},
     "output_type": "execute_result"
    }
   ],
   "source": [
    "df.head()"
   ]
  },
  {
   "cell_type": "markdown",
   "id": "f8f470d4",
   "metadata": {},
   "source": [
    "### Матрица корреляции"
   ]
  },
  {
   "cell_type": "code",
   "execution_count": null,
   "id": "58ff1d51",
   "metadata": {},
   "outputs": [],
   "source": [
    "# Проведем первоначальный исследовательский анализ данных. Для этого построим общую матрицу корреляции"
   ]
  },
  {
   "cell_type": "code",
   "execution_count": 1347,
   "id": "cc2da323",
   "metadata": {},
   "outputs": [],
   "source": [
    "# Создадим копию таблицы для кодировки\n",
    "df_encode = df.copy()"
   ]
  },
  {
   "cell_type": "code",
   "execution_count": 1348,
   "id": "cbdcebc8",
   "metadata": {},
   "outputs": [
    {
     "name": "stdout",
     "output_type": "stream",
     "text": [
      "{'education_level': {'ученая степень': 1, 'высшее': 2, 'неоконченное высшее': 3, 'среднее': 4, 'начальное': 5}}\n"
     ]
    }
   ],
   "source": [
    "# Закодируем колонку с уровнем образования\n",
    "education_level_encode = {'education_level':{'ученая степень': 1, 'высшее': 2, 'неоконченное высшее': 3,\n",
    "                          'среднее': 4, 'начальное': 5}}\n",
    "print(education_level_encode)\n",
    "\n",
    "df_encode.replace(education_level_encode, inplace=True)"
   ]
  },
  {
   "cell_type": "code",
   "execution_count": 1349,
   "id": "e31696b1",
   "metadata": {},
   "outputs": [
    {
     "name": "stdout",
     "output_type": "stream",
     "text": [
      "{'family_status': {'в разводе': 1, 'вдовец / вдова': 2, 'гражданский брак': 3, 'женат / замужем': 4, 'не женат / не замужем': 5}}\n"
     ]
    }
   ],
   "source": [
    "# Закодируем колонку с семейным положением клиента\n",
    "labels = df_encode['family_status'].astype('category').cat.categories.tolist() \n",
    "# Как результат список ['в разводе', 'вдовец / вдова', 'гражданский брак', 'женат / замужем', 'не женат / не замужем']\n",
    "\n",
    "family_status_encode = {'family_status' : {key:value for key, value in zip(labels, list(range(1, len(labels)+1)))}}\n",
    "print(family_status_encode)\n",
    "\n",
    "df_encode.replace(family_status_encode, inplace=True)"
   ]
  },
  {
   "cell_type": "code",
   "execution_count": 1350,
   "id": "363936ea",
   "metadata": {},
   "outputs": [
    {
     "name": "stdout",
     "output_type": "stream",
     "text": [
      "{'employment_type': {'безработный': 1, 'в декрете': 2, 'госслужащий': 3, 'компаньон': 4, 'пенсионер': 5, 'предприниматель': 6, 'сотрудник': 7, 'студент': 8}}\n"
     ]
    }
   ],
   "source": [
    "# Закодируем колонку с типом занятости\n",
    "labels = df_encode['employment_type'].astype('category').cat.categories.tolist()\n",
    "# Как результат список ['безработный', 'в декрете', 'госслужащий', 'компаньон', 'пенсионер', 'предприниматель', 'сотрудник', 'студент']\n",
    "\n",
    "employment_type_encode = {'employment_type' : {key:value for key, value in zip(labels, list(range(1, len(labels)+1)))}}\n",
    "print(employment_type_encode)\n",
    "\n",
    "df_encode.replace(employment_type_encode, inplace=True)"
   ]
  },
  {
   "cell_type": "code",
   "execution_count": 1351,
   "id": "7a975d01",
   "metadata": {},
   "outputs": [
    {
     "name": "stdout",
     "output_type": "stream",
     "text": [
      "{'credit_purpose_category': {'автомобиль': 1, 'недвижимость': 2, 'образование': 3, 'свадьба': 4}}\n"
     ]
    }
   ],
   "source": [
    "# Закодируем колонку с целью получения кредита\n",
    "labels = df_encode['credit_purpose_category'].astype('category').cat.categories.tolist() \n",
    "# Как результат список ['автомобиль', 'недвижимость', 'образование', 'свадьба']\n",
    "\n",
    "purpose_encode = {'credit_purpose_category' : {key:value for key, value in zip(labels, list(range(1, len(labels)+1)))}}\n",
    "print(purpose_encode)\n",
    "\n",
    "df_encode.replace(purpose_encode, inplace =True)"
   ]
  },
  {
   "cell_type": "code",
   "execution_count": 1353,
   "id": "29d10326",
   "metadata": {},
   "outputs": [
    {
     "name": "stdout",
     "output_type": "stream",
     "text": [
      "{'gender': {'F': 1, 'M': 2, 'XNA': 3}}\n"
     ]
    }
   ],
   "source": [
    "# Закодируем колонку с полом клиента\n",
    "labels = df_encode['gender'].astype('category').cat.categories.tolist()\n",
    "# Как результат список ['F', 'M', 'XNA']\n",
    "\n",
    "gender_encode = {'gender' : {key:value for key, value in zip(labels, list(range(1, len(labels)+1)))}}\n",
    "print(gender_encode)\n",
    "\n",
    "df_encode.replace(gender_encode, inplace =True)"
   ]
  },
  {
   "cell_type": "code",
   "execution_count": 1354,
   "id": "f34a695a",
   "metadata": {},
   "outputs": [],
   "source": [
    "# Удалим лишние столбцы\n",
    "del df_encode['children_rank']\n",
    "del df_encode['credit_purpose']\n",
    "del df_encode['monthly_income_category']"
   ]
  },
  {
   "cell_type": "code",
   "execution_count": 1355,
   "id": "18dd6ddd",
   "metadata": {},
   "outputs": [],
   "source": [
    "# Расставим столбцы в порядке соответствующим исходным данным\n",
    "df_encode = df_encode[['number_of_children', 'years_employed', 'client_age_in_years', 'education_level', 'education_level_id',\n",
    "                     'family_status', 'family_status_id', 'gender', 'employment_type', 'credit_repayment_status', \n",
    "                     'monthly_income', 'credit_purpose_category']]"
   ]
  },
  {
   "cell_type": "code",
   "execution_count": 1357,
   "id": "266a10bf",
   "metadata": {},
   "outputs": [
    {
     "data": {
      "text/html": [
       "<div>\n",
       "<style scoped>\n",
       "    .dataframe tbody tr th:only-of-type {\n",
       "        vertical-align: middle;\n",
       "    }\n",
       "\n",
       "    .dataframe tbody tr th {\n",
       "        vertical-align: top;\n",
       "    }\n",
       "\n",
       "    .dataframe thead th {\n",
       "        text-align: right;\n",
       "    }\n",
       "</style>\n",
       "<table border=\"1\" class=\"dataframe\">\n",
       "  <thead>\n",
       "    <tr style=\"text-align: right;\">\n",
       "      <th></th>\n",
       "      <th>number_of_children</th>\n",
       "      <th>years_employed</th>\n",
       "      <th>client_age_in_years</th>\n",
       "      <th>education_level</th>\n",
       "      <th>education_level_id</th>\n",
       "      <th>family_status</th>\n",
       "      <th>family_status_id</th>\n",
       "      <th>gender</th>\n",
       "      <th>employment_type</th>\n",
       "      <th>credit_repayment_status</th>\n",
       "      <th>monthly_income</th>\n",
       "      <th>credit_purpose_category</th>\n",
       "    </tr>\n",
       "  </thead>\n",
       "  <tbody>\n",
       "    <tr>\n",
       "      <th>0</th>\n",
       "      <td>1</td>\n",
       "      <td>23</td>\n",
       "      <td>42</td>\n",
       "      <td>2</td>\n",
       "      <td>0</td>\n",
       "      <td>4</td>\n",
       "      <td>0</td>\n",
       "      <td>1</td>\n",
       "      <td>7</td>\n",
       "      <td>0</td>\n",
       "      <td>253875</td>\n",
       "      <td>2</td>\n",
       "    </tr>\n",
       "    <tr>\n",
       "      <th>1</th>\n",
       "      <td>1</td>\n",
       "      <td>11</td>\n",
       "      <td>36</td>\n",
       "      <td>4</td>\n",
       "      <td>1</td>\n",
       "      <td>4</td>\n",
       "      <td>0</td>\n",
       "      <td>1</td>\n",
       "      <td>7</td>\n",
       "      <td>0</td>\n",
       "      <td>112080</td>\n",
       "      <td>1</td>\n",
       "    </tr>\n",
       "    <tr>\n",
       "      <th>2</th>\n",
       "      <td>0</td>\n",
       "      <td>15</td>\n",
       "      <td>33</td>\n",
       "      <td>4</td>\n",
       "      <td>1</td>\n",
       "      <td>4</td>\n",
       "      <td>0</td>\n",
       "      <td>2</td>\n",
       "      <td>7</td>\n",
       "      <td>0</td>\n",
       "      <td>145885</td>\n",
       "      <td>2</td>\n",
       "    </tr>\n",
       "    <tr>\n",
       "      <th>3</th>\n",
       "      <td>3</td>\n",
       "      <td>11</td>\n",
       "      <td>32</td>\n",
       "      <td>4</td>\n",
       "      <td>1</td>\n",
       "      <td>4</td>\n",
       "      <td>0</td>\n",
       "      <td>2</td>\n",
       "      <td>7</td>\n",
       "      <td>0</td>\n",
       "      <td>267628</td>\n",
       "      <td>3</td>\n",
       "    </tr>\n",
       "    <tr>\n",
       "      <th>4</th>\n",
       "      <td>0</td>\n",
       "      <td>932</td>\n",
       "      <td>53</td>\n",
       "      <td>4</td>\n",
       "      <td>1</td>\n",
       "      <td>3</td>\n",
       "      <td>1</td>\n",
       "      <td>1</td>\n",
       "      <td>5</td>\n",
       "      <td>0</td>\n",
       "      <td>158616</td>\n",
       "      <td>4</td>\n",
       "    </tr>\n",
       "  </tbody>\n",
       "</table>\n",
       "</div>"
      ],
      "text/plain": [
       "   number_of_children  years_employed  client_age_in_years  education_level  \\\n",
       "0                   1              23                   42                2   \n",
       "1                   1              11                   36                4   \n",
       "2                   0              15                   33                4   \n",
       "3                   3              11                   32                4   \n",
       "4                   0             932                   53                4   \n",
       "\n",
       "   education_level_id  family_status  family_status_id  gender  \\\n",
       "0                   0              4                 0       1   \n",
       "1                   1              4                 0       1   \n",
       "2                   1              4                 0       2   \n",
       "3                   1              4                 0       2   \n",
       "4                   1              3                 1       1   \n",
       "\n",
       "   employment_type  credit_repayment_status  monthly_income  \\\n",
       "0                7                        0          253875   \n",
       "1                7                        0          112080   \n",
       "2                7                        0          145885   \n",
       "3                7                        0          267628   \n",
       "4                5                        0          158616   \n",
       "\n",
       "   credit_purpose_category  \n",
       "0                        2  \n",
       "1                        1  \n",
       "2                        2  \n",
       "3                        3  \n",
       "4                        4  "
      ]
     },
     "execution_count": 1357,
     "metadata": {},
     "output_type": "execute_result"
    }
   ],
   "source": [
    "# Проверим получившиеся данные\n",
    "df_encode.head()"
   ]
  },
  {
   "cell_type": "code",
   "execution_count": 1364,
   "id": "a8a3f5aa",
   "metadata": {},
   "outputs": [],
   "source": [
    "# Установим размер хитмэпа по умолчанию\n",
    "from IPython.core.pylabtools import figsize\n",
    "figsize(10, 8)"
   ]
  },
  {
   "cell_type": "code",
   "execution_count": 1365,
   "id": "78e543f9",
   "metadata": {},
   "outputs": [
    {
     "data": {
      "text/plain": [
       "<AxesSubplot:>"
      ]
     },
     "execution_count": 1365,
     "metadata": {},
     "output_type": "execute_result"
    },
    {
     "data": {
      "image/png": "[encoded data removed]",
      "text/plain": [
       "<Figure size 720x576 with 2 Axes>"
      ]
     },
     "metadata": {},
     "output_type": "display_data"
    }
   ],
   "source": [
    "# Построим хитмэп корреляций\n",
    "import seaborn as sns\n",
    "sns.heatmap(df_encode.corr(), annot = True, fmt='.1g')"
   ]
  },
  {
   "cell_type": "markdown",
   "id": "88fe8eab",
   "metadata": {},
   "source": [
    "**Вывод**\n",
    "\n",
    "* Сама по себе корреляция не показывает причинно-следственные связи, она лишь дает общее представление о взаимной зависимости признаков;\n",
    "* Чтобы выяснить более точные взаимосвязи интересующих нас признаков, построим ряд сводных таблиц."
   ]
  },
  {
   "cell_type": "markdown",
   "id": "5f14aacd",
   "metadata": {},
   "source": [
    "### Зависимость между наличием детей и возвратом кредита в срок"
   ]
  },
  {
   "cell_type": "code",
   "execution_count": 1019,
   "id": "c073231b",
   "metadata": {},
   "outputs": [
    {
     "data": {
      "text/html": [
       "<div>\n",
       "<style scoped>\n",
       "    .dataframe tbody tr th:only-of-type {\n",
       "        vertical-align: middle;\n",
       "    }\n",
       "\n",
       "    .dataframe tbody tr th {\n",
       "        vertical-align: top;\n",
       "    }\n",
       "\n",
       "    .dataframe thead th {\n",
       "        text-align: right;\n",
       "    }\n",
       "</style>\n",
       "<table border=\"1\" class=\"dataframe\">\n",
       "  <thead>\n",
       "    <tr style=\"text-align: right;\">\n",
       "      <th>credit_repayment_status</th>\n",
       "      <th>0</th>\n",
       "      <th>1</th>\n",
       "    </tr>\n",
       "    <tr>\n",
       "      <th>children_rank</th>\n",
       "      <th></th>\n",
       "      <th></th>\n",
       "    </tr>\n",
       "  </thead>\n",
       "  <tbody>\n",
       "    <tr>\n",
       "      <th>детей нет</th>\n",
       "      <td>13044</td>\n",
       "      <td>1063</td>\n",
       "    </tr>\n",
       "    <tr>\n",
       "      <th>есть дети</th>\n",
       "      <td>6337</td>\n",
       "      <td>647</td>\n",
       "    </tr>\n",
       "    <tr>\n",
       "      <th>многодетный</th>\n",
       "      <td>349</td>\n",
       "      <td>31</td>\n",
       "    </tr>\n",
       "  </tbody>\n",
       "</table>\n",
       "</div>"
      ],
      "text/plain": [
       "credit_repayment_status      0     1\n",
       "children_rank                       \n",
       "детей нет                13044  1063\n",
       "есть дети                 6337   647\n",
       "многодетный                349    31"
      ]
     },
     "execution_count": 1019,
     "metadata": {},
     "output_type": "execute_result"
    }
   ],
   "source": [
    "# Создадим сводную таблицу\n",
    "children_debt = df.pivot_table(index='children_rank', columns='credit_repayment_status', values='gender', aggfunc='count')\n",
    "children_debt"
   ]
  },
  {
   "cell_type": "code",
   "execution_count": 1020,
   "id": "daedd337",
   "metadata": {},
   "outputs": [
    {
     "data": {
      "text/html": [
       "<div>\n",
       "<style scoped>\n",
       "    .dataframe tbody tr th:only-of-type {\n",
       "        vertical-align: middle;\n",
       "    }\n",
       "\n",
       "    .dataframe tbody tr th {\n",
       "        vertical-align: top;\n",
       "    }\n",
       "\n",
       "    .dataframe thead th {\n",
       "        text-align: right;\n",
       "    }\n",
       "</style>\n",
       "<table border=\"1\" class=\"dataframe\">\n",
       "  <thead>\n",
       "    <tr style=\"text-align: right;\">\n",
       "      <th></th>\n",
       "      <th>no_debt</th>\n",
       "      <th>debt</th>\n",
       "    </tr>\n",
       "    <tr>\n",
       "      <th>children_rank</th>\n",
       "      <th></th>\n",
       "      <th></th>\n",
       "    </tr>\n",
       "  </thead>\n",
       "  <tbody>\n",
       "    <tr>\n",
       "      <th>детей нет</th>\n",
       "      <td>13044</td>\n",
       "      <td>1063</td>\n",
       "    </tr>\n",
       "    <tr>\n",
       "      <th>есть дети</th>\n",
       "      <td>6337</td>\n",
       "      <td>647</td>\n",
       "    </tr>\n",
       "    <tr>\n",
       "      <th>многодетный</th>\n",
       "      <td>349</td>\n",
       "      <td>31</td>\n",
       "    </tr>\n",
       "  </tbody>\n",
       "</table>\n",
       "</div>"
      ],
      "text/plain": [
       "               no_debt  debt\n",
       "children_rank               \n",
       "детей нет        13044  1063\n",
       "есть дети         6337   647\n",
       "многодетный        349    31"
      ]
     },
     "execution_count": 1020,
     "metadata": {},
     "output_type": "execute_result"
    }
   ],
   "source": [
    "# Переименуем столбцы\n",
    "children_debt.columns = ['no_debt', 'debt']\n",
    "children_debt"
   ]
  },
  {
   "cell_type": "code",
   "execution_count": 1037,
   "id": "637f7018",
   "metadata": {},
   "outputs": [
    {
     "data": {
      "text/html": [
       "<div>\n",
       "<style scoped>\n",
       "    .dataframe tbody tr th:only-of-type {\n",
       "        vertical-align: middle;\n",
       "    }\n",
       "\n",
       "    .dataframe tbody tr th {\n",
       "        vertical-align: top;\n",
       "    }\n",
       "\n",
       "    .dataframe thead th {\n",
       "        text-align: right;\n",
       "    }\n",
       "</style>\n",
       "<table border=\"1\" class=\"dataframe\">\n",
       "  <thead>\n",
       "    <tr style=\"text-align: right;\">\n",
       "      <th></th>\n",
       "      <th>no_debt</th>\n",
       "      <th>debt</th>\n",
       "      <th>share_of_debtors</th>\n",
       "    </tr>\n",
       "    <tr>\n",
       "      <th>children_rank</th>\n",
       "      <th></th>\n",
       "      <th></th>\n",
       "      <th></th>\n",
       "    </tr>\n",
       "  </thead>\n",
       "  <tbody>\n",
       "    <tr>\n",
       "      <th>детей нет</th>\n",
       "      <td>13044</td>\n",
       "      <td>1063</td>\n",
       "      <td>0.075353</td>\n",
       "    </tr>\n",
       "    <tr>\n",
       "      <th>есть дети</th>\n",
       "      <td>6337</td>\n",
       "      <td>647</td>\n",
       "      <td>0.092640</td>\n",
       "    </tr>\n",
       "    <tr>\n",
       "      <th>многодетный</th>\n",
       "      <td>349</td>\n",
       "      <td>31</td>\n",
       "      <td>0.081579</td>\n",
       "    </tr>\n",
       "  </tbody>\n",
       "</table>\n",
       "</div>"
      ],
      "text/plain": [
       "               no_debt  debt  share_of_debtors\n",
       "children_rank                                 \n",
       "детей нет        13044  1063          0.075353\n",
       "есть дети         6337   647          0.092640\n",
       "многодетный        349    31          0.081579"
      ]
     },
     "execution_count": 1037,
     "metadata": {},
     "output_type": "execute_result"
    }
   ],
   "source": [
    "# Посчитаем долю должников\n",
    "children_debt['share_of_debtors'] = children_debt['debt'] / (children_debt['no_debt'] + children_debt['debt'])\n",
    "children_debt"
   ]
  },
  {
   "cell_type": "code",
   "execution_count": 1038,
   "id": "4326ccc8",
   "metadata": {},
   "outputs": [
    {
     "data": {
      "text/html": [
       "<div>\n",
       "<style scoped>\n",
       "    .dataframe tbody tr th:only-of-type {\n",
       "        vertical-align: middle;\n",
       "    }\n",
       "\n",
       "    .dataframe tbody tr th {\n",
       "        vertical-align: top;\n",
       "    }\n",
       "\n",
       "    .dataframe thead th {\n",
       "        text-align: right;\n",
       "    }\n",
       "</style>\n",
       "<table border=\"1\" class=\"dataframe\">\n",
       "  <thead>\n",
       "    <tr style=\"text-align: right;\">\n",
       "      <th></th>\n",
       "      <th>no_debt</th>\n",
       "      <th>debt</th>\n",
       "      <th>share_of_debtors</th>\n",
       "    </tr>\n",
       "    <tr>\n",
       "      <th>children_rank</th>\n",
       "      <th></th>\n",
       "      <th></th>\n",
       "      <th></th>\n",
       "    </tr>\n",
       "  </thead>\n",
       "  <tbody>\n",
       "    <tr>\n",
       "      <th>детей нет</th>\n",
       "      <td>13044</td>\n",
       "      <td>1063</td>\n",
       "      <td>7.5%</td>\n",
       "    </tr>\n",
       "    <tr>\n",
       "      <th>есть дети</th>\n",
       "      <td>6337</td>\n",
       "      <td>647</td>\n",
       "      <td>9.3%</td>\n",
       "    </tr>\n",
       "    <tr>\n",
       "      <th>многодетный</th>\n",
       "      <td>349</td>\n",
       "      <td>31</td>\n",
       "      <td>8.2%</td>\n",
       "    </tr>\n",
       "  </tbody>\n",
       "</table>\n",
       "</div>"
      ],
      "text/plain": [
       "               no_debt  debt share_of_debtors\n",
       "children_rank                                \n",
       "детей нет        13044  1063             7.5%\n",
       "есть дети         6337   647             9.3%\n",
       "многодетный        349    31             8.2%"
      ]
     },
     "execution_count": 1038,
     "metadata": {},
     "output_type": "execute_result"
    }
   ],
   "source": [
    "# Преобразуем значения в столбце c долей должников в проценты\n",
    "children_debt['share_of_debtors'] = children_debt['share_of_debtors'].map('{:.1%}'.format)\n",
    "children_debt"
   ]
  },
  {
   "cell_type": "code",
   "execution_count": 1040,
   "id": "f291044f",
   "metadata": {},
   "outputs": [
    {
     "data": {
      "text/html": [
       "<div>\n",
       "<style scoped>\n",
       "    .dataframe tbody tr th:only-of-type {\n",
       "        vertical-align: middle;\n",
       "    }\n",
       "\n",
       "    .dataframe tbody tr th {\n",
       "        vertical-align: top;\n",
       "    }\n",
       "\n",
       "    .dataframe thead th {\n",
       "        text-align: right;\n",
       "    }\n",
       "</style>\n",
       "<table border=\"1\" class=\"dataframe\">\n",
       "  <thead>\n",
       "    <tr style=\"text-align: right;\">\n",
       "      <th></th>\n",
       "      <th>no_debt</th>\n",
       "      <th>debt</th>\n",
       "      <th>share_of_debtors</th>\n",
       "    </tr>\n",
       "    <tr>\n",
       "      <th>children_rank</th>\n",
       "      <th></th>\n",
       "      <th></th>\n",
       "      <th></th>\n",
       "    </tr>\n",
       "  </thead>\n",
       "  <tbody>\n",
       "    <tr>\n",
       "      <th>есть дети</th>\n",
       "      <td>6337</td>\n",
       "      <td>647</td>\n",
       "      <td>9.3%</td>\n",
       "    </tr>\n",
       "    <tr>\n",
       "      <th>многодетный</th>\n",
       "      <td>349</td>\n",
       "      <td>31</td>\n",
       "      <td>8.2%</td>\n",
       "    </tr>\n",
       "    <tr>\n",
       "      <th>детей нет</th>\n",
       "      <td>13044</td>\n",
       "      <td>1063</td>\n",
       "      <td>7.5%</td>\n",
       "    </tr>\n",
       "  </tbody>\n",
       "</table>\n",
       "</div>"
      ],
      "text/plain": [
       "               no_debt  debt share_of_debtors\n",
       "children_rank                                \n",
       "есть дети         6337   647             9.3%\n",
       "многодетный        349    31             8.2%\n",
       "детей нет        13044  1063             7.5%"
      ]
     },
     "execution_count": 1040,
     "metadata": {},
     "output_type": "execute_result"
    }
   ],
   "source": [
    "# Отсортируем значения по убыванию доли должников\n",
    "children_debt.sort_values(by='share_of_debtors', ascending=False)"
   ]
  },
  {
   "cell_type": "markdown",
   "id": "3f08f019",
   "metadata": {},
   "source": [
    "**Вывод**\n",
    "\n",
    "* Наличие детей затрудняет погашение кредита в срок (9,3%). Вероятно, это связано с каким-либо дополнительными на них расходами;\n",
    "\n",
    "* В сравнении многодетные клиенты имеют более низкий процент задолженности (8,2%), что может быть связано либо с каким-то льготными программами, либо имеет место недостаточное количество данных для данной категории;\n",
    "\n",
    "* Клиенты без детей имеют наименьший процент задолженности (7,5%)."
   ]
  },
  {
   "cell_type": "markdown",
   "id": "b6c3ff68",
   "metadata": {},
   "source": [
    "### Зависимость между семейным положением и возвратом кредита в срок?"
   ]
  },
  {
   "cell_type": "code",
   "execution_count": 1024,
   "id": "4e5f65d8",
   "metadata": {},
   "outputs": [
    {
     "data": {
      "text/html": [
       "<div>\n",
       "<style scoped>\n",
       "    .dataframe tbody tr th:only-of-type {\n",
       "        vertical-align: middle;\n",
       "    }\n",
       "\n",
       "    .dataframe tbody tr th {\n",
       "        vertical-align: top;\n",
       "    }\n",
       "\n",
       "    .dataframe thead th {\n",
       "        text-align: right;\n",
       "    }\n",
       "</style>\n",
       "<table border=\"1\" class=\"dataframe\">\n",
       "  <thead>\n",
       "    <tr style=\"text-align: right;\">\n",
       "      <th>credit_repayment_status</th>\n",
       "      <th>0</th>\n",
       "      <th>1</th>\n",
       "    </tr>\n",
       "    <tr>\n",
       "      <th>family_status</th>\n",
       "      <th></th>\n",
       "      <th></th>\n",
       "    </tr>\n",
       "  </thead>\n",
       "  <tbody>\n",
       "    <tr>\n",
       "      <th>в разводе</th>\n",
       "      <td>1110</td>\n",
       "      <td>85</td>\n",
       "    </tr>\n",
       "    <tr>\n",
       "      <th>вдовец / вдова</th>\n",
       "      <td>896</td>\n",
       "      <td>63</td>\n",
       "    </tr>\n",
       "    <tr>\n",
       "      <th>гражданский брак</th>\n",
       "      <td>3775</td>\n",
       "      <td>388</td>\n",
       "    </tr>\n",
       "    <tr>\n",
       "      <th>женат / замужем</th>\n",
       "      <td>11413</td>\n",
       "      <td>931</td>\n",
       "    </tr>\n",
       "    <tr>\n",
       "      <th>не женат / не замужем</th>\n",
       "      <td>2536</td>\n",
       "      <td>274</td>\n",
       "    </tr>\n",
       "  </tbody>\n",
       "</table>\n",
       "</div>"
      ],
      "text/plain": [
       "credit_repayment_status      0    1\n",
       "family_status                      \n",
       "в разводе                 1110   85\n",
       "вдовец / вдова             896   63\n",
       "гражданский брак          3775  388\n",
       "женат / замужем          11413  931\n",
       "не женат / не замужем     2536  274"
      ]
     },
     "execution_count": 1024,
     "metadata": {},
     "output_type": "execute_result"
    }
   ],
   "source": [
    "# Создадим сводную таблицу\n",
    "family_status_debt = df.pivot_table(index='family_status', columns='credit_repayment_status', values='gender', aggfunc='count')\n",
    "family_status_debt"
   ]
  },
  {
   "cell_type": "code",
   "execution_count": 1025,
   "id": "9aaabd49",
   "metadata": {},
   "outputs": [
    {
     "data": {
      "text/html": [
       "<div>\n",
       "<style scoped>\n",
       "    .dataframe tbody tr th:only-of-type {\n",
       "        vertical-align: middle;\n",
       "    }\n",
       "\n",
       "    .dataframe tbody tr th {\n",
       "        vertical-align: top;\n",
       "    }\n",
       "\n",
       "    .dataframe thead th {\n",
       "        text-align: right;\n",
       "    }\n",
       "</style>\n",
       "<table border=\"1\" class=\"dataframe\">\n",
       "  <thead>\n",
       "    <tr style=\"text-align: right;\">\n",
       "      <th></th>\n",
       "      <th>no_debt</th>\n",
       "      <th>debt</th>\n",
       "    </tr>\n",
       "    <tr>\n",
       "      <th>family_status</th>\n",
       "      <th></th>\n",
       "      <th></th>\n",
       "    </tr>\n",
       "  </thead>\n",
       "  <tbody>\n",
       "    <tr>\n",
       "      <th>в разводе</th>\n",
       "      <td>1110</td>\n",
       "      <td>85</td>\n",
       "    </tr>\n",
       "    <tr>\n",
       "      <th>вдовец / вдова</th>\n",
       "      <td>896</td>\n",
       "      <td>63</td>\n",
       "    </tr>\n",
       "    <tr>\n",
       "      <th>гражданский брак</th>\n",
       "      <td>3775</td>\n",
       "      <td>388</td>\n",
       "    </tr>\n",
       "    <tr>\n",
       "      <th>женат / замужем</th>\n",
       "      <td>11413</td>\n",
       "      <td>931</td>\n",
       "    </tr>\n",
       "    <tr>\n",
       "      <th>не женат / не замужем</th>\n",
       "      <td>2536</td>\n",
       "      <td>274</td>\n",
       "    </tr>\n",
       "  </tbody>\n",
       "</table>\n",
       "</div>"
      ],
      "text/plain": [
       "                       no_debt  debt\n",
       "family_status                       \n",
       "в разводе                 1110    85\n",
       "вдовец / вдова             896    63\n",
       "гражданский брак          3775   388\n",
       "женат / замужем          11413   931\n",
       "не женат / не замужем     2536   274"
      ]
     },
     "execution_count": 1025,
     "metadata": {},
     "output_type": "execute_result"
    }
   ],
   "source": [
    "# Переименуем столбцы\n",
    "family_status_debt.columns = ['no_debt', 'debt']\n",
    "family_status_debt"
   ]
  },
  {
   "cell_type": "code",
   "execution_count": 1033,
   "id": "711afb7a",
   "metadata": {},
   "outputs": [
    {
     "data": {
      "text/html": [
       "<div>\n",
       "<style scoped>\n",
       "    .dataframe tbody tr th:only-of-type {\n",
       "        vertical-align: middle;\n",
       "    }\n",
       "\n",
       "    .dataframe tbody tr th {\n",
       "        vertical-align: top;\n",
       "    }\n",
       "\n",
       "    .dataframe thead th {\n",
       "        text-align: right;\n",
       "    }\n",
       "</style>\n",
       "<table border=\"1\" class=\"dataframe\">\n",
       "  <thead>\n",
       "    <tr style=\"text-align: right;\">\n",
       "      <th></th>\n",
       "      <th>no_debt</th>\n",
       "      <th>debt</th>\n",
       "      <th>share_of_debtors</th>\n",
       "    </tr>\n",
       "    <tr>\n",
       "      <th>family_status</th>\n",
       "      <th></th>\n",
       "      <th></th>\n",
       "      <th></th>\n",
       "    </tr>\n",
       "  </thead>\n",
       "  <tbody>\n",
       "    <tr>\n",
       "      <th>в разводе</th>\n",
       "      <td>1110</td>\n",
       "      <td>85</td>\n",
       "      <td>0.071130</td>\n",
       "    </tr>\n",
       "    <tr>\n",
       "      <th>вдовец / вдова</th>\n",
       "      <td>896</td>\n",
       "      <td>63</td>\n",
       "      <td>0.065693</td>\n",
       "    </tr>\n",
       "    <tr>\n",
       "      <th>гражданский брак</th>\n",
       "      <td>3775</td>\n",
       "      <td>388</td>\n",
       "      <td>0.093202</td>\n",
       "    </tr>\n",
       "    <tr>\n",
       "      <th>женат / замужем</th>\n",
       "      <td>11413</td>\n",
       "      <td>931</td>\n",
       "      <td>0.075421</td>\n",
       "    </tr>\n",
       "    <tr>\n",
       "      <th>не женат / не замужем</th>\n",
       "      <td>2536</td>\n",
       "      <td>274</td>\n",
       "      <td>0.097509</td>\n",
       "    </tr>\n",
       "  </tbody>\n",
       "</table>\n",
       "</div>"
      ],
      "text/plain": [
       "                       no_debt  debt  share_of_debtors\n",
       "family_status                                         \n",
       "в разводе                 1110    85          0.071130\n",
       "вдовец / вдова             896    63          0.065693\n",
       "гражданский брак          3775   388          0.093202\n",
       "женат / замужем          11413   931          0.075421\n",
       "не женат / не замужем     2536   274          0.097509"
      ]
     },
     "execution_count": 1033,
     "metadata": {},
     "output_type": "execute_result"
    }
   ],
   "source": [
    "# Посчитаем долю должников\n",
    "family_status_debt['share_of_debtors'] = family_status_debt['debt'] / (family_status_debt['no_debt'] + family_status_debt['debt'])\n",
    "family_status_debt"
   ]
  },
  {
   "cell_type": "code",
   "execution_count": 1034,
   "id": "f14df9c8",
   "metadata": {},
   "outputs": [],
   "source": [
    "# Преобразуем значения в столбце c долей должников в проценты\n",
    "family_status_debt['share_of_debtors'] = family_status_debt['share_of_debtors'].map('{:.1%}'.format)"
   ]
  },
  {
   "cell_type": "code",
   "execution_count": 1041,
   "id": "b230a90c",
   "metadata": {},
   "outputs": [
    {
     "data": {
      "text/html": [
       "<div>\n",
       "<style scoped>\n",
       "    .dataframe tbody tr th:only-of-type {\n",
       "        vertical-align: middle;\n",
       "    }\n",
       "\n",
       "    .dataframe tbody tr th {\n",
       "        vertical-align: top;\n",
       "    }\n",
       "\n",
       "    .dataframe thead th {\n",
       "        text-align: right;\n",
       "    }\n",
       "</style>\n",
       "<table border=\"1\" class=\"dataframe\">\n",
       "  <thead>\n",
       "    <tr style=\"text-align: right;\">\n",
       "      <th></th>\n",
       "      <th>no_debt</th>\n",
       "      <th>debt</th>\n",
       "      <th>share_of_debtors</th>\n",
       "    </tr>\n",
       "    <tr>\n",
       "      <th>family_status</th>\n",
       "      <th></th>\n",
       "      <th></th>\n",
       "      <th></th>\n",
       "    </tr>\n",
       "  </thead>\n",
       "  <tbody>\n",
       "    <tr>\n",
       "      <th>не женат / не замужем</th>\n",
       "      <td>2536</td>\n",
       "      <td>274</td>\n",
       "      <td>9.8%</td>\n",
       "    </tr>\n",
       "    <tr>\n",
       "      <th>гражданский брак</th>\n",
       "      <td>3775</td>\n",
       "      <td>388</td>\n",
       "      <td>9.3%</td>\n",
       "    </tr>\n",
       "    <tr>\n",
       "      <th>женат / замужем</th>\n",
       "      <td>11413</td>\n",
       "      <td>931</td>\n",
       "      <td>7.5%</td>\n",
       "    </tr>\n",
       "    <tr>\n",
       "      <th>в разводе</th>\n",
       "      <td>1110</td>\n",
       "      <td>85</td>\n",
       "      <td>7.1%</td>\n",
       "    </tr>\n",
       "    <tr>\n",
       "      <th>вдовец / вдова</th>\n",
       "      <td>896</td>\n",
       "      <td>63</td>\n",
       "      <td>6.6%</td>\n",
       "    </tr>\n",
       "  </tbody>\n",
       "</table>\n",
       "</div>"
      ],
      "text/plain": [
       "                       no_debt  debt share_of_debtors\n",
       "family_status                                        \n",
       "не женат / не замужем     2536   274             9.8%\n",
       "гражданский брак          3775   388             9.3%\n",
       "женат / замужем          11413   931             7.5%\n",
       "в разводе                 1110    85             7.1%\n",
       "вдовец / вдова             896    63             6.6%"
      ]
     },
     "execution_count": 1041,
     "metadata": {},
     "output_type": "execute_result"
    }
   ],
   "source": [
    "# Отсортируем значения по убыванию доли должников\n",
    "family_status_debt.sort_values(by='share_of_debtors', ascending=False)"
   ]
  },
  {
   "cell_type": "markdown",
   "id": "201e3be6",
   "metadata": {},
   "source": [
    "**Вывод**\n",
    "\n",
    "* Уровень доли должников выше среди клиентов не состоящих в официальном браке (9,8% и 9,3%). Это может быть связано с отсутствием общих накоплений в паре и наличием свободы действий;\n",
    "* Более низкий уровень должников среди замужних пар и тех, кто пребывает в разводе; \n",
    "* Самый низкий уровень среди должников наблюдается среди категории вдова / вдовец (6,6%). Возможно, что на этот показатель влияет наличие имеющегося у них наследства."
   ]
  },
  {
   "cell_type": "markdown",
   "id": "98f6f2a1",
   "metadata": {},
   "source": [
    "### Зависимость между уровнем дохода и возвратом кредита в срок"
   ]
  },
  {
   "cell_type": "code",
   "execution_count": 1060,
   "id": "36544020",
   "metadata": {},
   "outputs": [
    {
     "data": {
      "text/html": [
       "<div>\n",
       "<style scoped>\n",
       "    .dataframe tbody tr th:only-of-type {\n",
       "        vertical-align: middle;\n",
       "    }\n",
       "\n",
       "    .dataframe tbody tr th {\n",
       "        vertical-align: top;\n",
       "    }\n",
       "\n",
       "    .dataframe thead th {\n",
       "        text-align: right;\n",
       "    }\n",
       "</style>\n",
       "<table border=\"1\" class=\"dataframe\">\n",
       "  <thead>\n",
       "    <tr style=\"text-align: right;\">\n",
       "      <th>credit_repayment_status</th>\n",
       "      <th>0</th>\n",
       "      <th>1</th>\n",
       "    </tr>\n",
       "    <tr>\n",
       "      <th>monthly_income_category</th>\n",
       "      <th></th>\n",
       "      <th></th>\n",
       "    </tr>\n",
       "  </thead>\n",
       "  <tbody>\n",
       "    <tr>\n",
       "      <th>A</th>\n",
       "      <td>23</td>\n",
       "      <td>2</td>\n",
       "    </tr>\n",
       "    <tr>\n",
       "      <th>B</th>\n",
       "      <td>4685</td>\n",
       "      <td>356</td>\n",
       "    </tr>\n",
       "    <tr>\n",
       "      <th>C</th>\n",
       "      <td>12723</td>\n",
       "      <td>1190</td>\n",
       "    </tr>\n",
       "    <tr>\n",
       "      <th>D</th>\n",
       "      <td>329</td>\n",
       "      <td>21</td>\n",
       "    </tr>\n",
       "    <tr>\n",
       "      <th>E</th>\n",
       "      <td>1970</td>\n",
       "      <td>172</td>\n",
       "    </tr>\n",
       "  </tbody>\n",
       "</table>\n",
       "</div>"
      ],
      "text/plain": [
       "credit_repayment_status      0     1\n",
       "monthly_income_category             \n",
       "A                           23     2\n",
       "B                         4685   356\n",
       "C                        12723  1190\n",
       "D                          329    21\n",
       "E                         1970   172"
      ]
     },
     "execution_count": 1060,
     "metadata": {},
     "output_type": "execute_result"
    }
   ],
   "source": [
    "# Создадим сводную таблицу\n",
    "monthly_income_debt = df.pivot_table(index='monthly_income_category', columns='credit_repayment_status', values='gender', aggfunc='count')\n",
    "monthly_income_debt"
   ]
  },
  {
   "cell_type": "code",
   "execution_count": 1061,
   "id": "bbed567b",
   "metadata": {},
   "outputs": [
    {
     "data": {
      "text/html": [
       "<div>\n",
       "<style scoped>\n",
       "    .dataframe tbody tr th:only-of-type {\n",
       "        vertical-align: middle;\n",
       "    }\n",
       "\n",
       "    .dataframe tbody tr th {\n",
       "        vertical-align: top;\n",
       "    }\n",
       "\n",
       "    .dataframe thead th {\n",
       "        text-align: right;\n",
       "    }\n",
       "</style>\n",
       "<table border=\"1\" class=\"dataframe\">\n",
       "  <thead>\n",
       "    <tr style=\"text-align: right;\">\n",
       "      <th></th>\n",
       "      <th>no_debt</th>\n",
       "      <th>debt</th>\n",
       "    </tr>\n",
       "    <tr>\n",
       "      <th>monthly_income_category</th>\n",
       "      <th></th>\n",
       "      <th></th>\n",
       "    </tr>\n",
       "  </thead>\n",
       "  <tbody>\n",
       "    <tr>\n",
       "      <th>A</th>\n",
       "      <td>23</td>\n",
       "      <td>2</td>\n",
       "    </tr>\n",
       "    <tr>\n",
       "      <th>B</th>\n",
       "      <td>4685</td>\n",
       "      <td>356</td>\n",
       "    </tr>\n",
       "    <tr>\n",
       "      <th>C</th>\n",
       "      <td>12723</td>\n",
       "      <td>1190</td>\n",
       "    </tr>\n",
       "    <tr>\n",
       "      <th>D</th>\n",
       "      <td>329</td>\n",
       "      <td>21</td>\n",
       "    </tr>\n",
       "    <tr>\n",
       "      <th>E</th>\n",
       "      <td>1970</td>\n",
       "      <td>172</td>\n",
       "    </tr>\n",
       "  </tbody>\n",
       "</table>\n",
       "</div>"
      ],
      "text/plain": [
       "                         no_debt  debt\n",
       "monthly_income_category               \n",
       "A                             23     2\n",
       "B                           4685   356\n",
       "C                          12723  1190\n",
       "D                            329    21\n",
       "E                           1970   172"
      ]
     },
     "execution_count": 1061,
     "metadata": {},
     "output_type": "execute_result"
    }
   ],
   "source": [
    "# Переименуем столбцы\n",
    "monthly_income_debt.columns = ['no_debt', 'debt']\n",
    "monthly_income_debt"
   ]
  },
  {
   "cell_type": "code",
   "execution_count": 1062,
   "id": "8935d3e9",
   "metadata": {},
   "outputs": [
    {
     "data": {
      "text/html": [
       "<div>\n",
       "<style scoped>\n",
       "    .dataframe tbody tr th:only-of-type {\n",
       "        vertical-align: middle;\n",
       "    }\n",
       "\n",
       "    .dataframe tbody tr th {\n",
       "        vertical-align: top;\n",
       "    }\n",
       "\n",
       "    .dataframe thead th {\n",
       "        text-align: right;\n",
       "    }\n",
       "</style>\n",
       "<table border=\"1\" class=\"dataframe\">\n",
       "  <thead>\n",
       "    <tr style=\"text-align: right;\">\n",
       "      <th></th>\n",
       "      <th>no_debt</th>\n",
       "      <th>debt</th>\n",
       "      <th>share_of_debtors</th>\n",
       "    </tr>\n",
       "    <tr>\n",
       "      <th>monthly_income_category</th>\n",
       "      <th></th>\n",
       "      <th></th>\n",
       "      <th></th>\n",
       "    </tr>\n",
       "  </thead>\n",
       "  <tbody>\n",
       "    <tr>\n",
       "      <th>A</th>\n",
       "      <td>23</td>\n",
       "      <td>2</td>\n",
       "      <td>0.080000</td>\n",
       "    </tr>\n",
       "    <tr>\n",
       "      <th>B</th>\n",
       "      <td>4685</td>\n",
       "      <td>356</td>\n",
       "      <td>0.070621</td>\n",
       "    </tr>\n",
       "    <tr>\n",
       "      <th>C</th>\n",
       "      <td>12723</td>\n",
       "      <td>1190</td>\n",
       "      <td>0.085532</td>\n",
       "    </tr>\n",
       "    <tr>\n",
       "      <th>D</th>\n",
       "      <td>329</td>\n",
       "      <td>21</td>\n",
       "      <td>0.060000</td>\n",
       "    </tr>\n",
       "    <tr>\n",
       "      <th>E</th>\n",
       "      <td>1970</td>\n",
       "      <td>172</td>\n",
       "      <td>0.080299</td>\n",
       "    </tr>\n",
       "  </tbody>\n",
       "</table>\n",
       "</div>"
      ],
      "text/plain": [
       "                         no_debt  debt  share_of_debtors\n",
       "monthly_income_category                                 \n",
       "A                             23     2          0.080000\n",
       "B                           4685   356          0.070621\n",
       "C                          12723  1190          0.085532\n",
       "D                            329    21          0.060000\n",
       "E                           1970   172          0.080299"
      ]
     },
     "execution_count": 1062,
     "metadata": {},
     "output_type": "execute_result"
    }
   ],
   "source": [
    "# Посчитаем долю должников\n",
    "monthly_income_debt['share_of_debtors'] = monthly_income_debt['debt'] / (monthly_income_debt['no_debt'] + monthly_income_debt['debt'])\n",
    "monthly_income_debt"
   ]
  },
  {
   "cell_type": "code",
   "execution_count": 1063,
   "id": "f97397e8",
   "metadata": {},
   "outputs": [],
   "source": [
    "# Преобразуем значения в столбце c долей должников в проценты\n",
    "monthly_income_debt['share_of_debtors'] = monthly_income_debt['share_of_debtors'].map('{:.1%}'.format)"
   ]
  },
  {
   "cell_type": "code",
   "execution_count": 1064,
   "id": "e1076fc4",
   "metadata": {},
   "outputs": [
    {
     "data": {
      "text/html": [
       "<div>\n",
       "<style scoped>\n",
       "    .dataframe tbody tr th:only-of-type {\n",
       "        vertical-align: middle;\n",
       "    }\n",
       "\n",
       "    .dataframe tbody tr th {\n",
       "        vertical-align: top;\n",
       "    }\n",
       "\n",
       "    .dataframe thead th {\n",
       "        text-align: right;\n",
       "    }\n",
       "</style>\n",
       "<table border=\"1\" class=\"dataframe\">\n",
       "  <thead>\n",
       "    <tr style=\"text-align: right;\">\n",
       "      <th></th>\n",
       "      <th>no_debt</th>\n",
       "      <th>debt</th>\n",
       "      <th>share_of_debtors</th>\n",
       "    </tr>\n",
       "    <tr>\n",
       "      <th>monthly_income_category</th>\n",
       "      <th></th>\n",
       "      <th></th>\n",
       "      <th></th>\n",
       "    </tr>\n",
       "  </thead>\n",
       "  <tbody>\n",
       "    <tr>\n",
       "      <th>C</th>\n",
       "      <td>12723</td>\n",
       "      <td>1190</td>\n",
       "      <td>8.6%</td>\n",
       "    </tr>\n",
       "    <tr>\n",
       "      <th>A</th>\n",
       "      <td>23</td>\n",
       "      <td>2</td>\n",
       "      <td>8.0%</td>\n",
       "    </tr>\n",
       "    <tr>\n",
       "      <th>E</th>\n",
       "      <td>1970</td>\n",
       "      <td>172</td>\n",
       "      <td>8.0%</td>\n",
       "    </tr>\n",
       "    <tr>\n",
       "      <th>B</th>\n",
       "      <td>4685</td>\n",
       "      <td>356</td>\n",
       "      <td>7.1%</td>\n",
       "    </tr>\n",
       "    <tr>\n",
       "      <th>D</th>\n",
       "      <td>329</td>\n",
       "      <td>21</td>\n",
       "      <td>6.0%</td>\n",
       "    </tr>\n",
       "  </tbody>\n",
       "</table>\n",
       "</div>"
      ],
      "text/plain": [
       "                         no_debt  debt share_of_debtors\n",
       "monthly_income_category                                \n",
       "C                          12723  1190             8.6%\n",
       "A                             23     2             8.0%\n",
       "E                           1970   172             8.0%\n",
       "B                           4685   356             7.1%\n",
       "D                            329    21             6.0%"
      ]
     },
     "execution_count": 1064,
     "metadata": {},
     "output_type": "execute_result"
    }
   ],
   "source": [
    "# Отсортируем значения по убыванию доли должников\n",
    "monthly_income_debt.sort_values(by='share_of_debtors', ascending=False)"
   ]
  },
  {
   "cell_type": "markdown",
   "id": "c633faf0",
   "metadata": {},
   "source": [
    "**Вывод**\n",
    "\n",
    "* Данные категорий A и D брать в расчет не будем ввиду их небольшой выборки;\n",
    "* Поэтому, исходя из оставшихся данных (категории C, E и B), наибольшая вероятность стать должником есть у лиц попадающих в категорию С (от 50001 до 200000 единиц (8,6%)). А самай низкая - у лиц, попадающих в категорию B (c доходом от 200001 до 1000000 единиц (7,1%))."
   ]
  },
  {
   "cell_type": "markdown",
   "id": "f512b2b1",
   "metadata": {},
   "source": [
    "### Влияние разных целей кредита на его возврат в срок"
   ]
  },
  {
   "cell_type": "code",
   "execution_count": 1071,
   "id": "7e7d75df",
   "metadata": {},
   "outputs": [
    {
     "data": {
      "text/html": [
       "<div>\n",
       "<style scoped>\n",
       "    .dataframe tbody tr th:only-of-type {\n",
       "        vertical-align: middle;\n",
       "    }\n",
       "\n",
       "    .dataframe tbody tr th {\n",
       "        vertical-align: top;\n",
       "    }\n",
       "\n",
       "    .dataframe thead th {\n",
       "        text-align: right;\n",
       "    }\n",
       "</style>\n",
       "<table border=\"1\" class=\"dataframe\">\n",
       "  <thead>\n",
       "    <tr style=\"text-align: right;\">\n",
       "      <th>credit_repayment_status</th>\n",
       "      <th>0</th>\n",
       "      <th>1</th>\n",
       "    </tr>\n",
       "    <tr>\n",
       "      <th>credit_purpose_category</th>\n",
       "      <th></th>\n",
       "      <th></th>\n",
       "    </tr>\n",
       "  </thead>\n",
       "  <tbody>\n",
       "    <tr>\n",
       "      <th>автомобиль</th>\n",
       "      <td>3905</td>\n",
       "      <td>403</td>\n",
       "    </tr>\n",
       "    <tr>\n",
       "      <th>недвижимость</th>\n",
       "      <td>5879</td>\n",
       "      <td>474</td>\n",
       "    </tr>\n",
       "    <tr>\n",
       "      <th>образование</th>\n",
       "      <td>3644</td>\n",
       "      <td>370</td>\n",
       "    </tr>\n",
       "    <tr>\n",
       "      <th>свадьба</th>\n",
       "      <td>2149</td>\n",
       "      <td>186</td>\n",
       "    </tr>\n",
       "  </tbody>\n",
       "</table>\n",
       "</div>"
      ],
      "text/plain": [
       "credit_repayment_status     0    1\n",
       "credit_purpose_category           \n",
       "автомобиль               3905  403\n",
       "недвижимость             5879  474\n",
       "образование              3644  370\n",
       "свадьба                  2149  186"
      ]
     },
     "execution_count": 1071,
     "metadata": {},
     "output_type": "execute_result"
    }
   ],
   "source": [
    "# Создадим сводную таблицу\n",
    "credit_purpose_debt = df.pivot_table(index='credit_purpose_category', columns='credit_repayment_status', values='gender', aggfunc='count')\n",
    "credit_purpose_debt"
   ]
  },
  {
   "cell_type": "code",
   "execution_count": 1073,
   "id": "2e4b4636",
   "metadata": {},
   "outputs": [
    {
     "data": {
      "text/html": [
       "<div>\n",
       "<style scoped>\n",
       "    .dataframe tbody tr th:only-of-type {\n",
       "        vertical-align: middle;\n",
       "    }\n",
       "\n",
       "    .dataframe tbody tr th {\n",
       "        vertical-align: top;\n",
       "    }\n",
       "\n",
       "    .dataframe thead th {\n",
       "        text-align: right;\n",
       "    }\n",
       "</style>\n",
       "<table border=\"1\" class=\"dataframe\">\n",
       "  <thead>\n",
       "    <tr style=\"text-align: right;\">\n",
       "      <th></th>\n",
       "      <th>no_debt</th>\n",
       "      <th>debt</th>\n",
       "    </tr>\n",
       "    <tr>\n",
       "      <th>credit_purpose_category</th>\n",
       "      <th></th>\n",
       "      <th></th>\n",
       "    </tr>\n",
       "  </thead>\n",
       "  <tbody>\n",
       "    <tr>\n",
       "      <th>автомобиль</th>\n",
       "      <td>3905</td>\n",
       "      <td>403</td>\n",
       "    </tr>\n",
       "    <tr>\n",
       "      <th>недвижимость</th>\n",
       "      <td>5879</td>\n",
       "      <td>474</td>\n",
       "    </tr>\n",
       "    <tr>\n",
       "      <th>образование</th>\n",
       "      <td>3644</td>\n",
       "      <td>370</td>\n",
       "    </tr>\n",
       "    <tr>\n",
       "      <th>свадьба</th>\n",
       "      <td>2149</td>\n",
       "      <td>186</td>\n",
       "    </tr>\n",
       "  </tbody>\n",
       "</table>\n",
       "</div>"
      ],
      "text/plain": [
       "                         no_debt  debt\n",
       "credit_purpose_category               \n",
       "автомобиль                  3905   403\n",
       "недвижимость                5879   474\n",
       "образование                 3644   370\n",
       "свадьба                     2149   186"
      ]
     },
     "execution_count": 1073,
     "metadata": {},
     "output_type": "execute_result"
    }
   ],
   "source": [
    "# Переименуем столбцы\n",
    "credit_purpose_debt.columns = ['no_debt', 'debt']\n",
    "credit_purpose_debt"
   ]
  },
  {
   "cell_type": "code",
   "execution_count": 1074,
   "id": "4433c85a",
   "metadata": {},
   "outputs": [
    {
     "data": {
      "text/html": [
       "<div>\n",
       "<style scoped>\n",
       "    .dataframe tbody tr th:only-of-type {\n",
       "        vertical-align: middle;\n",
       "    }\n",
       "\n",
       "    .dataframe tbody tr th {\n",
       "        vertical-align: top;\n",
       "    }\n",
       "\n",
       "    .dataframe thead th {\n",
       "        text-align: right;\n",
       "    }\n",
       "</style>\n",
       "<table border=\"1\" class=\"dataframe\">\n",
       "  <thead>\n",
       "    <tr style=\"text-align: right;\">\n",
       "      <th></th>\n",
       "      <th>no_debt</th>\n",
       "      <th>debt</th>\n",
       "      <th>share_of_debtors</th>\n",
       "    </tr>\n",
       "    <tr>\n",
       "      <th>credit_purpose_category</th>\n",
       "      <th></th>\n",
       "      <th></th>\n",
       "      <th></th>\n",
       "    </tr>\n",
       "  </thead>\n",
       "  <tbody>\n",
       "    <tr>\n",
       "      <th>автомобиль</th>\n",
       "      <td>3905</td>\n",
       "      <td>403</td>\n",
       "      <td>0.093547</td>\n",
       "    </tr>\n",
       "    <tr>\n",
       "      <th>недвижимость</th>\n",
       "      <td>5879</td>\n",
       "      <td>474</td>\n",
       "      <td>0.074610</td>\n",
       "    </tr>\n",
       "    <tr>\n",
       "      <th>образование</th>\n",
       "      <td>3644</td>\n",
       "      <td>370</td>\n",
       "      <td>0.092177</td>\n",
       "    </tr>\n",
       "    <tr>\n",
       "      <th>свадьба</th>\n",
       "      <td>2149</td>\n",
       "      <td>186</td>\n",
       "      <td>0.079657</td>\n",
       "    </tr>\n",
       "  </tbody>\n",
       "</table>\n",
       "</div>"
      ],
      "text/plain": [
       "                         no_debt  debt  share_of_debtors\n",
       "credit_purpose_category                                 \n",
       "автомобиль                  3905   403          0.093547\n",
       "недвижимость                5879   474          0.074610\n",
       "образование                 3644   370          0.092177\n",
       "свадьба                     2149   186          0.079657"
      ]
     },
     "execution_count": 1074,
     "metadata": {},
     "output_type": "execute_result"
    }
   ],
   "source": [
    "# Посчитаем долю должников\n",
    "credit_purpose_debt['share_of_debtors'] = credit_purpose_debt['debt'] / (credit_purpose_debt['no_debt'] + credit_purpose_debt['debt'])\n",
    "credit_purpose_debt"
   ]
  },
  {
   "cell_type": "code",
   "execution_count": 1075,
   "id": "f0ec10c2",
   "metadata": {},
   "outputs": [
    {
     "data": {
      "text/html": [
       "<div>\n",
       "<style scoped>\n",
       "    .dataframe tbody tr th:only-of-type {\n",
       "        vertical-align: middle;\n",
       "    }\n",
       "\n",
       "    .dataframe tbody tr th {\n",
       "        vertical-align: top;\n",
       "    }\n",
       "\n",
       "    .dataframe thead th {\n",
       "        text-align: right;\n",
       "    }\n",
       "</style>\n",
       "<table border=\"1\" class=\"dataframe\">\n",
       "  <thead>\n",
       "    <tr style=\"text-align: right;\">\n",
       "      <th></th>\n",
       "      <th>no_debt</th>\n",
       "      <th>debt</th>\n",
       "      <th>share_of_debtors</th>\n",
       "    </tr>\n",
       "    <tr>\n",
       "      <th>credit_purpose_category</th>\n",
       "      <th></th>\n",
       "      <th></th>\n",
       "      <th></th>\n",
       "    </tr>\n",
       "  </thead>\n",
       "  <tbody>\n",
       "    <tr>\n",
       "      <th>автомобиль</th>\n",
       "      <td>3905</td>\n",
       "      <td>403</td>\n",
       "      <td>9.4%</td>\n",
       "    </tr>\n",
       "    <tr>\n",
       "      <th>недвижимость</th>\n",
       "      <td>5879</td>\n",
       "      <td>474</td>\n",
       "      <td>7.5%</td>\n",
       "    </tr>\n",
       "    <tr>\n",
       "      <th>образование</th>\n",
       "      <td>3644</td>\n",
       "      <td>370</td>\n",
       "      <td>9.2%</td>\n",
       "    </tr>\n",
       "    <tr>\n",
       "      <th>свадьба</th>\n",
       "      <td>2149</td>\n",
       "      <td>186</td>\n",
       "      <td>8.0%</td>\n",
       "    </tr>\n",
       "  </tbody>\n",
       "</table>\n",
       "</div>"
      ],
      "text/plain": [
       "                         no_debt  debt share_of_debtors\n",
       "credit_purpose_category                                \n",
       "автомобиль                  3905   403             9.4%\n",
       "недвижимость                5879   474             7.5%\n",
       "образование                 3644   370             9.2%\n",
       "свадьба                     2149   186             8.0%"
      ]
     },
     "execution_count": 1075,
     "metadata": {},
     "output_type": "execute_result"
    }
   ],
   "source": [
    "# Преобразуем значения в столбце c долей должников в проценты\n",
    "credit_purpose_debt['share_of_debtors'] = credit_purpose_debt['share_of_debtors'].map('{:.1%}'.format)\n",
    "credit_purpose_debt"
   ]
  },
  {
   "cell_type": "code",
   "execution_count": 1076,
   "id": "8e162eb9",
   "metadata": {},
   "outputs": [
    {
     "data": {
      "text/html": [
       "<div>\n",
       "<style scoped>\n",
       "    .dataframe tbody tr th:only-of-type {\n",
       "        vertical-align: middle;\n",
       "    }\n",
       "\n",
       "    .dataframe tbody tr th {\n",
       "        vertical-align: top;\n",
       "    }\n",
       "\n",
       "    .dataframe thead th {\n",
       "        text-align: right;\n",
       "    }\n",
       "</style>\n",
       "<table border=\"1\" class=\"dataframe\">\n",
       "  <thead>\n",
       "    <tr style=\"text-align: right;\">\n",
       "      <th></th>\n",
       "      <th>no_debt</th>\n",
       "      <th>debt</th>\n",
       "      <th>share_of_debtors</th>\n",
       "    </tr>\n",
       "    <tr>\n",
       "      <th>credit_purpose_category</th>\n",
       "      <th></th>\n",
       "      <th></th>\n",
       "      <th></th>\n",
       "    </tr>\n",
       "  </thead>\n",
       "  <tbody>\n",
       "    <tr>\n",
       "      <th>автомобиль</th>\n",
       "      <td>3905</td>\n",
       "      <td>403</td>\n",
       "      <td>9.4%</td>\n",
       "    </tr>\n",
       "    <tr>\n",
       "      <th>образование</th>\n",
       "      <td>3644</td>\n",
       "      <td>370</td>\n",
       "      <td>9.2%</td>\n",
       "    </tr>\n",
       "    <tr>\n",
       "      <th>свадьба</th>\n",
       "      <td>2149</td>\n",
       "      <td>186</td>\n",
       "      <td>8.0%</td>\n",
       "    </tr>\n",
       "    <tr>\n",
       "      <th>недвижимость</th>\n",
       "      <td>5879</td>\n",
       "      <td>474</td>\n",
       "      <td>7.5%</td>\n",
       "    </tr>\n",
       "  </tbody>\n",
       "</table>\n",
       "</div>"
      ],
      "text/plain": [
       "                         no_debt  debt share_of_debtors\n",
       "credit_purpose_category                                \n",
       "автомобиль                  3905   403             9.4%\n",
       "образование                 3644   370             9.2%\n",
       "свадьба                     2149   186             8.0%\n",
       "недвижимость                5879   474             7.5%"
      ]
     },
     "execution_count": 1076,
     "metadata": {},
     "output_type": "execute_result"
    }
   ],
   "source": [
    "# Отсортируем значения по убыванию доли должников\n",
    "credit_purpose_debt.sort_values(by='share_of_debtors', ascending=False)"
   ]
  },
  {
   "cell_type": "markdown",
   "id": "d8a04d2a",
   "metadata": {},
   "source": [
    "**Вывод**\n",
    "\n",
    "* Наибольшая доля вероятности стать должником у клиентов цель кредита которых автомобиль и получение образования (9,4% и 9,2% соответственно);\n",
    "* Наименьшее количество должников наблюдается среди тех, кто берет кредит на недвижимость. Это может быть связно с большей долей ответственности пр покупке физического недвижимого имущества."
   ]
  },
  {
   "cell_type": "markdown",
   "id": "fafebe70",
   "metadata": {},
   "source": [
    "## Общий вывод"
   ]
  },
  {
   "cell_type": "markdown",
   "id": "4862e10b",
   "metadata": {},
   "source": [
    "* Наличие детей увеличивает риск задолженности;\n",
    "* Холостые люди и люди, состоящие в гражданском браке, склонны к большему риску стать должниками;\n",
    "* Лица с доходами от 50001 до 200000 единиц склонны к большему риску стать должниками;\n",
    "* Клиенты, цели которых является покупка автомобиля и получение образования, склонны к большему риску стать должниками."
   ]
  }
 ],
 "metadata": {
  "kernelspec": {
   "display_name": "Python 3",
   "language": "python",
   "name": "python3"
  },
  "language_info": {
   "codemirror_mode": {
    "name": "ipython",
    "version": 3
   },
   "file_extension": ".py",
   "mimetype": "text/x-python",
   "name": "python",
   "nbconvert_exporter": "python",
   "pygments_lexer": "ipython3",
   "version": "3.8.8"
  }
 },
 "nbformat": 4,
 "nbformat_minor": 5
}
